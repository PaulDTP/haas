{
  "nbformat": 4,
  "nbformat_minor": 5,
  "metadata": {
    "colab": {
      "name": "Haas_Modules_Deliverable.ipynb",
      "provenance": [],
      "collapsed_sections": []
    },
    "kernelspec": {
      "name": "python3",
      "display_name": "Python 3.8.2 64-bit"
    },
    "language_info": {
      "codemirror_mode": {
        "name": "ipython",
        "version": 3
      },
      "file_extension": ".py",
      "mimetype": "text/x-python",
      "name": "python",
      "nbconvert_exporter": "python",
      "pygments_lexer": "ipython3",
      "version": "3.8.2"
    },
    "interpreter": {
      "hash": "31f2aee4e71d21fbe5cf8b01ff0e069b9275f58929596ceb00d14d90e3e16cd6"
    }
  },
  "cells": [
    {
      "cell_type": "markdown",
      "metadata": {
        "id": "5e541ddb-7c28-41fc-bfcc-6264b26f2428"
      },
      "source": [
        "## Haas x Modules Teaming (SU21)\n",
        " Last Updated: 06/20/2021\n",
        " \n",
        " *Edited By: Alex Cui, Carlos Calderon, Jacob Yim, Paul Terrell-Perica*\n",
        "\n",
        "### Objectives of this Notebook\n",
        "\n",
        "- Show existing data format as well as the joined data (joined both numerically and textually)\n",
        "- Illustrate data with simple visualizations\n",
        "- Introduce and contextualize Voila, a dashboarding package\n",
        "- ..."
      ],
      "id": "5e541ddb-7c28-41fc-bfcc-6264b26f2428"
    },
    {
      "cell_type": "markdown",
      "metadata": {
        "id": "bb265a5a-f457-4e9e-affe-26fe3b6864d6"
      },
      "source": [
        "### I. Raw Data\n",
        "- Import the raw excel data file of survey responses and modify/join it\n",
        "- Split data into 2 categories: numerical and textual data"
      ],
      "id": "bb265a5a-f457-4e9e-affe-26fe3b6864d6"
    },
    {
      "cell_type": "code",
      "metadata": {
        "id": "06fbda41-4937-4ca1-bf29-c78a94b70eff"
      },
      "source": [
        "import pandas as pd\n",
        "import numpy as np\n",
        "import matplotlib.pyplot as plt\n",
        "import re"
      ],
      "id": "06fbda41-4937-4ca1-bf29-c78a94b70eff",
      "execution_count": 2,
      "outputs": []
    },
    {
      "cell_type": "code",
      "metadata": {
        "colab": {
          "base_uri": "https://localhost:8080/",
          "height": 323
        },
        "id": "bf5c4c6a-39d7-48c8-8857-cd6a2f86b7c4",
        "outputId": "1ad4c337-d443-4486-cc25-dddafeb117c5"
      },
      "source": [
        "uncleaned_data = pd.read_excel(\"Share EOS Spring 2021 ANALYSIS.xlsx\", engine = \"openpyxl\", skiprows = [1,2])"
      ],
      "id": "bf5c4c6a-39d7-48c8-8857-cd6a2f86b7c4",
      "execution_count": 3,
      "outputs": []
    },
    {
      "cell_type": "code",
      "metadata": {
        "id": "5a46be49-7b04-44ac-a930-766b56508915"
      },
      "source": [
        "uncleaned_data.columns"
      ],
      "id": "5a46be49-7b04-44ac-a930-766b56508915",
      "execution_count": 4,
      "outputs": [
        {
          "output_type": "execute_result",
          "data": {
            "text/plain": [
              "Index(['StartDate', 'EndDate', 'Status', 'IPAddress', 'Progress',\n",
              "       'Duration (in seconds)', 'Finished', 'RecordedDate', 'ResponseId',\n",
              "       'Student Name', 'ExternalReference', 'LocationLatitude',\n",
              "       'LocationLongitude', 'DistributionChannel', 'UserLanguage', 'Q29_1',\n",
              "       'Q29_2', 'Q29_3', 'Q31', 'Q33_1', 'Q33_2', 'Q33_3', 'Q20_1', 'Q20_2',\n",
              "       'Q20_3', 'Q20_4', 'Q20_5', 'Q20_6', 'Q35', 'Q37', 'Q7', 'Q9', 'Q11',\n",
              "       'Q16_1', 'Q16_2', 'Q16_3', 'Q16_4', 'Q16_6', 'Q16_7', 'Q21_1', 'Q21_2',\n",
              "       'Q21_3', 'Q21_4', 'Q21_6', 'Q21_7', 'Q15_1', 'Q15_2', 'Q15_3', 'Q15_4',\n",
              "       'Q15_5', 'Q15_6', 'Q16_1.1', 'Q16_2.1', 'Q16_3.1', 'Q16_4.1', 'Q16_5',\n",
              "       'Q16_6.1', 'Q17_1', 'Q17_2', 'Q17_3', 'Q17_4', 'Q17_5', 'Q17_6',\n",
              "       'Q30_1', 'Q30_2', 'Q30_3', 'Q30_4', 'Q30_5', 'Q30_6'],\n",
              "      dtype='object')"
            ]
          },
          "metadata": {},
          "execution_count": 4
        }
      ]
    },
    {
      "cell_type": "code",
      "metadata": {
        "id": "54c4aed8-0215-400d-b0ac-b3a74e09b12c"
      },
      "source": [
        "#Sample row of uncleaned data\n",
        "uncleaned_data.iloc[0]"
      ],
      "id": "54c4aed8-0215-400d-b0ac-b3a74e09b12c",
      "execution_count": 5,
      "outputs": [
        {
          "output_type": "execute_result",
          "data": {
            "text/plain": [
              "StartDate    2021-05-06 11:32:53\n",
              "EndDate      2021-05-06 11:51:40\n",
              "Status                         0\n",
              "IPAddress         165.227.11.194\n",
              "Progress                     100\n",
              "                    ...         \n",
              "Q30_2                        2.0\n",
              "Q30_3                        2.0\n",
              "Q30_4                        2.0\n",
              "Q30_5                        NaN\n",
              "Q30_6                        NaN\n",
              "Name: 0, Length: 69, dtype: object"
            ]
          },
          "metadata": {},
          "execution_count": 5
        }
      ]
    },
    {
      "cell_type": "code",
      "metadata": {
        "id": "339a5cf7-bc5c-4b77-98a6-bdd83804209c"
      },
      "source": [
        "#Columns to keep (identifiers)\n",
        "\n",
        "uncleaned_data[['Finished', 'ResponseId', 'Student Name']]"
      ],
      "id": "339a5cf7-bc5c-4b77-98a6-bdd83804209c",
      "execution_count": 6,
      "outputs": [
        {
          "output_type": "execute_result",
          "data": {
            "text/plain": [
              "    Finished         ResponseId Student Name\n",
              "0          1  R_ZlwqGK7oRXFuk2B            F\n",
              "1          1  R_3EBj9T7Yvk5B9p8            I\n",
              "2          1  R_3kzGFidBS7a7uMY           BP\n",
              "3          1  R_2PaPevsJwcfXqWL            E\n",
              "4          1  R_T5xAPMwjZYMFWLL            J\n",
              "..       ...                ...          ...\n",
              "70         1  R_2QrrksrmMx96cHQ           AC\n",
              "71         1  R_1eEvSPjO8lrr4qL            D\n",
              "72         1  R_1LcsPArzQiMPFtv            X\n",
              "73         1  R_3NwhKneVbRULZdP           BO\n",
              "74         1  R_CZVS5VAsYw4TRtf           AH\n",
              "\n",
              "[75 rows x 3 columns]"
            ],
            "text/html": "<div>\n<style scoped>\n    .dataframe tbody tr th:only-of-type {\n        vertical-align: middle;\n    }\n\n    .dataframe tbody tr th {\n        vertical-align: top;\n    }\n\n    .dataframe thead th {\n        text-align: right;\n    }\n</style>\n<table border=\"1\" class=\"dataframe\">\n  <thead>\n    <tr style=\"text-align: right;\">\n      <th></th>\n      <th>Finished</th>\n      <th>ResponseId</th>\n      <th>Student Name</th>\n    </tr>\n  </thead>\n  <tbody>\n    <tr>\n      <th>0</th>\n      <td>1</td>\n      <td>R_ZlwqGK7oRXFuk2B</td>\n      <td>F</td>\n    </tr>\n    <tr>\n      <th>1</th>\n      <td>1</td>\n      <td>R_3EBj9T7Yvk5B9p8</td>\n      <td>I</td>\n    </tr>\n    <tr>\n      <th>2</th>\n      <td>1</td>\n      <td>R_3kzGFidBS7a7uMY</td>\n      <td>BP</td>\n    </tr>\n    <tr>\n      <th>3</th>\n      <td>1</td>\n      <td>R_2PaPevsJwcfXqWL</td>\n      <td>E</td>\n    </tr>\n    <tr>\n      <th>4</th>\n      <td>1</td>\n      <td>R_T5xAPMwjZYMFWLL</td>\n      <td>J</td>\n    </tr>\n    <tr>\n      <th>...</th>\n      <td>...</td>\n      <td>...</td>\n      <td>...</td>\n    </tr>\n    <tr>\n      <th>70</th>\n      <td>1</td>\n      <td>R_2QrrksrmMx96cHQ</td>\n      <td>AC</td>\n    </tr>\n    <tr>\n      <th>71</th>\n      <td>1</td>\n      <td>R_1eEvSPjO8lrr4qL</td>\n      <td>D</td>\n    </tr>\n    <tr>\n      <th>72</th>\n      <td>1</td>\n      <td>R_1LcsPArzQiMPFtv</td>\n      <td>X</td>\n    </tr>\n    <tr>\n      <th>73</th>\n      <td>1</td>\n      <td>R_3NwhKneVbRULZdP</td>\n      <td>BO</td>\n    </tr>\n    <tr>\n      <th>74</th>\n      <td>1</td>\n      <td>R_CZVS5VAsYw4TRtf</td>\n      <td>AH</td>\n    </tr>\n  </tbody>\n</table>\n<p>75 rows × 3 columns</p>\n</div>"
          },
          "metadata": {},
          "execution_count": 6
        }
      ]
    },
    {
      "cell_type": "code",
      "metadata": {
        "id": "e6ef6490-bde8-4a0e-880b-4ec97e99fe6c"
      },
      "source": [
        "#Columns to keep (questions)\n",
        "\n",
        "uncleaned_data[['Q29_1',\n",
        "       'Q29_2', 'Q29_3', 'Q31', 'Q33_1', 'Q33_2', 'Q33_3', 'Q20_1', 'Q20_2',\n",
        "       'Q20_3', 'Q20_4', 'Q20_5', 'Q20_6', 'Q35', 'Q37', 'Q7', 'Q9', 'Q11',\n",
        "       'Q16_1', 'Q16_2', 'Q16_3', 'Q16_4', 'Q16_6', 'Q16_7', 'Q21_1', 'Q21_2',\n",
        "       'Q21_3', 'Q21_4', 'Q21_6', 'Q21_7', 'Q15_1', 'Q15_2', 'Q15_3', 'Q15_4',\n",
        "       'Q15_5', 'Q15_6', 'Q16_1.1', 'Q16_2.1', 'Q16_3.1', 'Q16_4.1', 'Q16_5',\n",
        "       'Q16_6.1', 'Q17_1', 'Q17_2', 'Q17_3', 'Q17_4', 'Q17_5', 'Q17_6',\n",
        "       'Q30_1', 'Q30_2', 'Q30_3', 'Q30_4', 'Q30_5', 'Q30_6']]"
      ],
      "id": "e6ef6490-bde8-4a0e-880b-4ec97e99fe6c",
      "execution_count": 7,
      "outputs": [
        {
          "output_type": "execute_result",
          "data": {
            "text/plain": [
              "    Q29_1  Q29_2  Q29_3                                                Q31  \\\n",
              "0     2.0    NaN    2.0  Making sure we could get as much functionality...   \n",
              "1     1.0    1.0    1.0  To improve the design of our project based on ...   \n",
              "2     1.0    1.0    1.0  Our team's shared goal was to fully demonstrat...   \n",
              "3     1.0    1.0    1.0  To create an amazing device of helping consume...   \n",
              "4     1.0    2.0    1.0  Finish putting together a great final project ...   \n",
              "..    ...    ...    ...                                                ...   \n",
              "70    2.0    3.0    3.0                                                NaN   \n",
              "71    1.0    1.0    1.0                          Having a complete project   \n",
              "72    2.0    2.0    2.0          Do you best to make the best team project   \n",
              "73    2.0    3.0    2.0                             Complete the Project/    \n",
              "74    2.0    2.0    2.0                                                NaN   \n",
              "\n",
              "    Q33_1  Q33_2  Q33_3  Q20_1  Q20_2  Q20_3  ...  Q17_3  Q17_4  Q17_5 Q17_6  \\\n",
              "0       3      5      3   19.0   29.0   26.0  ...    2.0    2.0    NaN   NaN   \n",
              "1       1      1      1   22.0   26.0   26.0  ...    1.0    1.0    NaN   NaN   \n",
              "2       1      2      1   20.0   20.0   30.0  ...    1.0    1.0    NaN   NaN   \n",
              "3       1      3      1   23.0   31.0   23.0  ...    1.0    1.0    NaN   NaN   \n",
              "4       2      2      1   20.0   20.0   30.0  ...    1.0    1.0    NaN   NaN   \n",
              "..    ...    ...    ...    ...    ...    ...  ...    ...    ...    ...   ...   \n",
              "70      2      3      1   17.0   20.0   16.0  ...    3.0    3.0    4.0   3.0   \n",
              "71      1      1      1   25.0   25.0   25.0  ...    1.0    1.0    NaN   NaN   \n",
              "72      2      2      2   95.0  100.0   90.0  ...    2.0    1.0    2.0   1.0   \n",
              "73      3      3      2    0.3    NaN    0.4  ...    2.0    2.0    2.0   2.0   \n",
              "74      2      2      2   26.0   26.0   26.0  ...    2.0    2.0    NaN   NaN   \n",
              "\n",
              "   Q30_1 Q30_2 Q30_3 Q30_4 Q30_5 Q30_6  \n",
              "0    1.0   2.0   2.0   2.0   NaN   NaN  \n",
              "1    1.0   1.0   1.0   1.0   NaN   NaN  \n",
              "2    1.0   1.0   1.0   1.0   NaN   NaN  \n",
              "3    1.0   1.0   1.0   1.0   NaN   NaN  \n",
              "4    1.0   1.0   1.0   1.0   NaN   NaN  \n",
              "..   ...   ...   ...   ...   ...   ...  \n",
              "70   1.0   1.0   1.0   1.0   4.0   1.0  \n",
              "71   1.0   1.0   1.0   1.0   NaN   NaN  \n",
              "72   1.0   1.0   1.0   1.0   1.0   1.0  \n",
              "73   2.0   2.0   2.0   2.0   2.0   2.0  \n",
              "74   2.0   2.0   2.0   2.0   NaN   NaN  \n",
              "\n",
              "[75 rows x 54 columns]"
            ],
            "text/html": "<div>\n<style scoped>\n    .dataframe tbody tr th:only-of-type {\n        vertical-align: middle;\n    }\n\n    .dataframe tbody tr th {\n        vertical-align: top;\n    }\n\n    .dataframe thead th {\n        text-align: right;\n    }\n</style>\n<table border=\"1\" class=\"dataframe\">\n  <thead>\n    <tr style=\"text-align: right;\">\n      <th></th>\n      <th>Q29_1</th>\n      <th>Q29_2</th>\n      <th>Q29_3</th>\n      <th>Q31</th>\n      <th>Q33_1</th>\n      <th>Q33_2</th>\n      <th>Q33_3</th>\n      <th>Q20_1</th>\n      <th>Q20_2</th>\n      <th>Q20_3</th>\n      <th>...</th>\n      <th>Q17_3</th>\n      <th>Q17_4</th>\n      <th>Q17_5</th>\n      <th>Q17_6</th>\n      <th>Q30_1</th>\n      <th>Q30_2</th>\n      <th>Q30_3</th>\n      <th>Q30_4</th>\n      <th>Q30_5</th>\n      <th>Q30_6</th>\n    </tr>\n  </thead>\n  <tbody>\n    <tr>\n      <th>0</th>\n      <td>2.0</td>\n      <td>NaN</td>\n      <td>2.0</td>\n      <td>Making sure we could get as much functionality...</td>\n      <td>3</td>\n      <td>5</td>\n      <td>3</td>\n      <td>19.0</td>\n      <td>29.0</td>\n      <td>26.0</td>\n      <td>...</td>\n      <td>2.0</td>\n      <td>2.0</td>\n      <td>NaN</td>\n      <td>NaN</td>\n      <td>1.0</td>\n      <td>2.0</td>\n      <td>2.0</td>\n      <td>2.0</td>\n      <td>NaN</td>\n      <td>NaN</td>\n    </tr>\n    <tr>\n      <th>1</th>\n      <td>1.0</td>\n      <td>1.0</td>\n      <td>1.0</td>\n      <td>To improve the design of our project based on ...</td>\n      <td>1</td>\n      <td>1</td>\n      <td>1</td>\n      <td>22.0</td>\n      <td>26.0</td>\n      <td>26.0</td>\n      <td>...</td>\n      <td>1.0</td>\n      <td>1.0</td>\n      <td>NaN</td>\n      <td>NaN</td>\n      <td>1.0</td>\n      <td>1.0</td>\n      <td>1.0</td>\n      <td>1.0</td>\n      <td>NaN</td>\n      <td>NaN</td>\n    </tr>\n    <tr>\n      <th>2</th>\n      <td>1.0</td>\n      <td>1.0</td>\n      <td>1.0</td>\n      <td>Our team's shared goal was to fully demonstrat...</td>\n      <td>1</td>\n      <td>2</td>\n      <td>1</td>\n      <td>20.0</td>\n      <td>20.0</td>\n      <td>30.0</td>\n      <td>...</td>\n      <td>1.0</td>\n      <td>1.0</td>\n      <td>NaN</td>\n      <td>NaN</td>\n      <td>1.0</td>\n      <td>1.0</td>\n      <td>1.0</td>\n      <td>1.0</td>\n      <td>NaN</td>\n      <td>NaN</td>\n    </tr>\n    <tr>\n      <th>3</th>\n      <td>1.0</td>\n      <td>1.0</td>\n      <td>1.0</td>\n      <td>To create an amazing device of helping consume...</td>\n      <td>1</td>\n      <td>3</td>\n      <td>1</td>\n      <td>23.0</td>\n      <td>31.0</td>\n      <td>23.0</td>\n      <td>...</td>\n      <td>1.0</td>\n      <td>1.0</td>\n      <td>NaN</td>\n      <td>NaN</td>\n      <td>1.0</td>\n      <td>1.0</td>\n      <td>1.0</td>\n      <td>1.0</td>\n      <td>NaN</td>\n      <td>NaN</td>\n    </tr>\n    <tr>\n      <th>4</th>\n      <td>1.0</td>\n      <td>2.0</td>\n      <td>1.0</td>\n      <td>Finish putting together a great final project ...</td>\n      <td>2</td>\n      <td>2</td>\n      <td>1</td>\n      <td>20.0</td>\n      <td>20.0</td>\n      <td>30.0</td>\n      <td>...</td>\n      <td>1.0</td>\n      <td>1.0</td>\n      <td>NaN</td>\n      <td>NaN</td>\n      <td>1.0</td>\n      <td>1.0</td>\n      <td>1.0</td>\n      <td>1.0</td>\n      <td>NaN</td>\n      <td>NaN</td>\n    </tr>\n    <tr>\n      <th>...</th>\n      <td>...</td>\n      <td>...</td>\n      <td>...</td>\n      <td>...</td>\n      <td>...</td>\n      <td>...</td>\n      <td>...</td>\n      <td>...</td>\n      <td>...</td>\n      <td>...</td>\n      <td>...</td>\n      <td>...</td>\n      <td>...</td>\n      <td>...</td>\n      <td>...</td>\n      <td>...</td>\n      <td>...</td>\n      <td>...</td>\n      <td>...</td>\n      <td>...</td>\n      <td>...</td>\n    </tr>\n    <tr>\n      <th>70</th>\n      <td>2.0</td>\n      <td>3.0</td>\n      <td>3.0</td>\n      <td>NaN</td>\n      <td>2</td>\n      <td>3</td>\n      <td>1</td>\n      <td>17.0</td>\n      <td>20.0</td>\n      <td>16.0</td>\n      <td>...</td>\n      <td>3.0</td>\n      <td>3.0</td>\n      <td>4.0</td>\n      <td>3.0</td>\n      <td>1.0</td>\n      <td>1.0</td>\n      <td>1.0</td>\n      <td>1.0</td>\n      <td>4.0</td>\n      <td>1.0</td>\n    </tr>\n    <tr>\n      <th>71</th>\n      <td>1.0</td>\n      <td>1.0</td>\n      <td>1.0</td>\n      <td>Having a complete project</td>\n      <td>1</td>\n      <td>1</td>\n      <td>1</td>\n      <td>25.0</td>\n      <td>25.0</td>\n      <td>25.0</td>\n      <td>...</td>\n      <td>1.0</td>\n      <td>1.0</td>\n      <td>NaN</td>\n      <td>NaN</td>\n      <td>1.0</td>\n      <td>1.0</td>\n      <td>1.0</td>\n      <td>1.0</td>\n      <td>NaN</td>\n      <td>NaN</td>\n    </tr>\n    <tr>\n      <th>72</th>\n      <td>2.0</td>\n      <td>2.0</td>\n      <td>2.0</td>\n      <td>Do you best to make the best team project</td>\n      <td>2</td>\n      <td>2</td>\n      <td>2</td>\n      <td>95.0</td>\n      <td>100.0</td>\n      <td>90.0</td>\n      <td>...</td>\n      <td>2.0</td>\n      <td>1.0</td>\n      <td>2.0</td>\n      <td>1.0</td>\n      <td>1.0</td>\n      <td>1.0</td>\n      <td>1.0</td>\n      <td>1.0</td>\n      <td>1.0</td>\n      <td>1.0</td>\n    </tr>\n    <tr>\n      <th>73</th>\n      <td>2.0</td>\n      <td>3.0</td>\n      <td>2.0</td>\n      <td>Complete the Project/</td>\n      <td>3</td>\n      <td>3</td>\n      <td>2</td>\n      <td>0.3</td>\n      <td>NaN</td>\n      <td>0.4</td>\n      <td>...</td>\n      <td>2.0</td>\n      <td>2.0</td>\n      <td>2.0</td>\n      <td>2.0</td>\n      <td>2.0</td>\n      <td>2.0</td>\n      <td>2.0</td>\n      <td>2.0</td>\n      <td>2.0</td>\n      <td>2.0</td>\n    </tr>\n    <tr>\n      <th>74</th>\n      <td>2.0</td>\n      <td>2.0</td>\n      <td>2.0</td>\n      <td>NaN</td>\n      <td>2</td>\n      <td>2</td>\n      <td>2</td>\n      <td>26.0</td>\n      <td>26.0</td>\n      <td>26.0</td>\n      <td>...</td>\n      <td>2.0</td>\n      <td>2.0</td>\n      <td>NaN</td>\n      <td>NaN</td>\n      <td>2.0</td>\n      <td>2.0</td>\n      <td>2.0</td>\n      <td>2.0</td>\n      <td>NaN</td>\n      <td>NaN</td>\n    </tr>\n  </tbody>\n</table>\n<p>75 rows × 54 columns</p>\n</div>"
          },
          "metadata": {},
          "execution_count": 7
        }
      ]
    },
    {
      "cell_type": "markdown",
      "metadata": {
        "id": "7dae101e-b3c1-4a34-b1e4-33602ae763c6"
      },
      "source": [
        "#### A. Joined Data"
      ],
      "id": "7dae101e-b3c1-4a34-b1e4-33602ae763c6"
    },
    {
      "cell_type": "markdown",
      "metadata": {
        "id": "07dfdaeb-4b88-4ad9-8acc-7462e24119c4"
      },
      "source": [
        "##### 1. Textual Data"
      ],
      "id": "07dfdaeb-4b88-4ad9-8acc-7462e24119c4"
    },
    {
      "cell_type": "code",
      "metadata": {
        "id": "83298e8a-b8d5-4914-8322-d3edf2d0f8af"
      },
      "source": [
        "textual_data = pd.read_csv(\"textual_join.csv\")"
      ],
      "id": "83298e8a-b8d5-4914-8322-d3edf2d0f8af",
      "execution_count": 8,
      "outputs": []
    },
    {
      "cell_type": "code",
      "metadata": {
        "id": "d0996357-1e07-4278-8c28-c797f9244805"
      },
      "source": [
        "textual_data = textual_data.drop(\"Unnamed: 0\", axis=1)\n",
        "textual_data[\"ResponseId\"] = uncleaned_data[\"ResponseId\"]"
      ],
      "id": "d0996357-1e07-4278-8c28-c797f9244805",
      "execution_count": 9,
      "outputs": []
    },
    {
      "cell_type": "code",
      "metadata": {
        "id": "edee5a0f-a87a-474a-b538-641785cbfa42"
      },
      "source": [
        "textual_data.head(5)"
      ],
      "id": "edee5a0f-a87a-474a-b538-641785cbfa42",
      "execution_count": 10,
      "outputs": [
        {
          "output_type": "execute_result",
          "data": {
            "text/plain": [
              "  Student Name  TeamNumber  TeammateNumber     StartDate       EndDate  \\\n",
              "0            A           1               1  5/6/21 11:27  5/7/21 21:31   \n",
              "1            B           1               2  5/5/21 13:22  5/7/21 19:25   \n",
              "2            C           1               3  5/7/21 14:37  5/7/21 15:04   \n",
              "3            D           1               4  5/5/21 22:23  5/5/21 22:28   \n",
              "4            E           2               1  5/5/21 10:04  5/5/21 10:18   \n",
              "\n",
              "   Status       IPAddress  Progress  Duration (in seconds)  Finished  ...  \\\n",
              "0       0   98.248.146.50       100                 122647         1  ...   \n",
              "1       0  35.129.104.235       100                 194529         1  ...   \n",
              "2       0   172.58.95.104       100                   1650         1  ...   \n",
              "3       0   136.152.143.2       100                    342         1  ...   \n",
              "4       0    68.96.86.135       100                    845         1  ...   \n",
              "\n",
              "                                               Q16_3  \\\n",
              "0                                      encouragement   \n",
              "1  3D CAD Modeling. Give a sense of humor in the ...   \n",
              "2  Design, Protoyping, Troubleshooting and Suppor...   \n",
              "3                       CAD and design/ prototyping    \n",
              "4  Great skills to have to piece project together...   \n",
              "\n",
              "                                               Q16_4  Q16_6  Q16_7  \\\n",
              "0                                 expertise with CAD    NaN    NaN   \n",
              "1  3D CAD Modeling. Give a sense of humor in the ...    NaN    NaN   \n",
              "2        CAD work, Concept generation, Video editing    NaN    NaN   \n",
              "3                                     CAD and design    NaN    NaN   \n",
              "4  Good humor to keep the people happy + putting ...    NaN    NaN   \n",
              "\n",
              "                                               Q21_1  \\\n",
              "0                                      communicating   \n",
              "1  Do not have a specific recommendation. Keep up...   \n",
              "2  Be more vocal about working collaboratively an...   \n",
              "3                                      Speak up more   \n",
              "4                              stop procrastinating    \n",
              "\n",
              "                                               Q21_2  \\\n",
              "0                                   speaking up more   \n",
              "1             Have more confidence and stress less.    \n",
              "2  Consider taking on assignments that are outsid...   \n",
              "3                                      Speak up more   \n",
              "4                          nothing mans be too clean   \n",
              "\n",
              "                                               Q21_3  \\\n",
              "0                                          listening   \n",
              "1  Stress less and don't worry to a great extent....   \n",
              "2       Be more patient and trustin of my teammates.   \n",
              "3                                Relax and eat chips   \n",
              "4                          nothing mans be too clean   \n",
              "\n",
              "                                               Q21_4 Q21_6 Q21_7  \n",
              "0                                      communicating   NaN   NaN  \n",
              "1  Do not have a specific recommendation. Keep up...   NaN   NaN  \n",
              "2  More proactive and vocal about pursuing one as...   NaN   NaN  \n",
              "3                                      Research more   NaN   NaN  \n",
              "4                          nothing mans be too clean   NaN   NaN  \n",
              "\n",
              "[5 rows x 35 columns]"
            ],
            "text/html": "<div>\n<style scoped>\n    .dataframe tbody tr th:only-of-type {\n        vertical-align: middle;\n    }\n\n    .dataframe tbody tr th {\n        vertical-align: top;\n    }\n\n    .dataframe thead th {\n        text-align: right;\n    }\n</style>\n<table border=\"1\" class=\"dataframe\">\n  <thead>\n    <tr style=\"text-align: right;\">\n      <th></th>\n      <th>Student Name</th>\n      <th>TeamNumber</th>\n      <th>TeammateNumber</th>\n      <th>StartDate</th>\n      <th>EndDate</th>\n      <th>Status</th>\n      <th>IPAddress</th>\n      <th>Progress</th>\n      <th>Duration (in seconds)</th>\n      <th>Finished</th>\n      <th>...</th>\n      <th>Q16_3</th>\n      <th>Q16_4</th>\n      <th>Q16_6</th>\n      <th>Q16_7</th>\n      <th>Q21_1</th>\n      <th>Q21_2</th>\n      <th>Q21_3</th>\n      <th>Q21_4</th>\n      <th>Q21_6</th>\n      <th>Q21_7</th>\n    </tr>\n  </thead>\n  <tbody>\n    <tr>\n      <th>0</th>\n      <td>A</td>\n      <td>1</td>\n      <td>1</td>\n      <td>5/6/21 11:27</td>\n      <td>5/7/21 21:31</td>\n      <td>0</td>\n      <td>98.248.146.50</td>\n      <td>100</td>\n      <td>122647</td>\n      <td>1</td>\n      <td>...</td>\n      <td>encouragement</td>\n      <td>expertise with CAD</td>\n      <td>NaN</td>\n      <td>NaN</td>\n      <td>communicating</td>\n      <td>speaking up more</td>\n      <td>listening</td>\n      <td>communicating</td>\n      <td>NaN</td>\n      <td>NaN</td>\n    </tr>\n    <tr>\n      <th>1</th>\n      <td>B</td>\n      <td>1</td>\n      <td>2</td>\n      <td>5/5/21 13:22</td>\n      <td>5/7/21 19:25</td>\n      <td>0</td>\n      <td>35.129.104.235</td>\n      <td>100</td>\n      <td>194529</td>\n      <td>1</td>\n      <td>...</td>\n      <td>3D CAD Modeling. Give a sense of humor in the ...</td>\n      <td>3D CAD Modeling. Give a sense of humor in the ...</td>\n      <td>NaN</td>\n      <td>NaN</td>\n      <td>Do not have a specific recommendation. Keep up...</td>\n      <td>Have more confidence and stress less.</td>\n      <td>Stress less and don't worry to a great extent....</td>\n      <td>Do not have a specific recommendation. Keep up...</td>\n      <td>NaN</td>\n      <td>NaN</td>\n    </tr>\n    <tr>\n      <th>2</th>\n      <td>C</td>\n      <td>1</td>\n      <td>3</td>\n      <td>5/7/21 14:37</td>\n      <td>5/7/21 15:04</td>\n      <td>0</td>\n      <td>172.58.95.104</td>\n      <td>100</td>\n      <td>1650</td>\n      <td>1</td>\n      <td>...</td>\n      <td>Design, Protoyping, Troubleshooting and Suppor...</td>\n      <td>CAD work, Concept generation, Video editing</td>\n      <td>NaN</td>\n      <td>NaN</td>\n      <td>Be more vocal about working collaboratively an...</td>\n      <td>Consider taking on assignments that are outsid...</td>\n      <td>Be more patient and trustin of my teammates.</td>\n      <td>More proactive and vocal about pursuing one as...</td>\n      <td>NaN</td>\n      <td>NaN</td>\n    </tr>\n    <tr>\n      <th>3</th>\n      <td>D</td>\n      <td>1</td>\n      <td>4</td>\n      <td>5/5/21 22:23</td>\n      <td>5/5/21 22:28</td>\n      <td>0</td>\n      <td>136.152.143.2</td>\n      <td>100</td>\n      <td>342</td>\n      <td>1</td>\n      <td>...</td>\n      <td>CAD and design/ prototyping</td>\n      <td>CAD and design</td>\n      <td>NaN</td>\n      <td>NaN</td>\n      <td>Speak up more</td>\n      <td>Speak up more</td>\n      <td>Relax and eat chips</td>\n      <td>Research more</td>\n      <td>NaN</td>\n      <td>NaN</td>\n    </tr>\n    <tr>\n      <th>4</th>\n      <td>E</td>\n      <td>2</td>\n      <td>1</td>\n      <td>5/5/21 10:04</td>\n      <td>5/5/21 10:18</td>\n      <td>0</td>\n      <td>68.96.86.135</td>\n      <td>100</td>\n      <td>845</td>\n      <td>1</td>\n      <td>...</td>\n      <td>Great skills to have to piece project together...</td>\n      <td>Good humor to keep the people happy + putting ...</td>\n      <td>NaN</td>\n      <td>NaN</td>\n      <td>stop procrastinating</td>\n      <td>nothing mans be too clean</td>\n      <td>nothing mans be too clean</td>\n      <td>nothing mans be too clean</td>\n      <td>NaN</td>\n      <td>NaN</td>\n    </tr>\n  </tbody>\n</table>\n<p>5 rows × 35 columns</p>\n</div>"
          },
          "metadata": {},
          "execution_count": 10
        }
      ]
    },
    {
      "cell_type": "markdown",
      "metadata": {
        "id": "be11f6cf-190b-46bd-992c-409563088360"
      },
      "source": [
        "##### 2. Numerical Data"
      ],
      "id": "be11f6cf-190b-46bd-992c-409563088360"
    },
    {
      "cell_type": "code",
      "metadata": {
        "id": "009d9518-1efd-4e61-86f5-c9ee0e6c0b02"
      },
      "source": [
        "numerical_data = pd.read_csv(\"numerical_join.csv\")"
      ],
      "id": "009d9518-1efd-4e61-86f5-c9ee0e6c0b02",
      "execution_count": 11,
      "outputs": []
    },
    {
      "cell_type": "code",
      "metadata": {
        "id": "556e5cd8-6a67-45d4-9e50-5dead4a6acdf"
      },
      "source": [
        "numerical_data = numerical_data.drop(\"Unnamed: 0\", axis=1)\n",
        "numerical_data[\"ResponseId\"] = uncleaned_data[\"ResponseId\"]"
      ],
      "id": "556e5cd8-6a67-45d4-9e50-5dead4a6acdf",
      "execution_count": 12,
      "outputs": []
    },
    {
      "cell_type": "code",
      "metadata": {
        "id": "70da32bc-29ef-43ea-8f41-99193beec401"
      },
      "source": [
        "numerical_data"
      ],
      "id": "70da32bc-29ef-43ea-8f41-99193beec401",
      "execution_count": 13,
      "outputs": [
        {
          "output_type": "execute_result",
          "data": {
            "text/plain": [
              "   Student Name  TeamNumber  TeammateNumber  Q29_1  Q29_2  Q29_3  Q33_1  \\\n",
              "0             A           1               1    1.0    1.0    1.0    1.0   \n",
              "1             B           1               2    1.0    1.0    1.0    1.0   \n",
              "2             C           1               3    3.0    3.0    3.0    3.0   \n",
              "3             D           1               4    1.0    1.0    1.0    1.0   \n",
              "4             E           2               1    1.0    1.0    1.0    1.0   \n",
              "..          ...         ...             ...    ...    ...    ...    ...   \n",
              "70           BX          21               2    1.0    1.0    1.0    1.0   \n",
              "71           BZ          21               4    1.0    1.0    1.0    1.0   \n",
              "72           CA          22               1    2.0    2.0    2.0    3.0   \n",
              "73           CD          22               3    2.0    2.0    2.0    2.0   \n",
              "74           CC          22               4    2.0    3.0    3.0    2.0   \n",
              "\n",
              "    Q33_2  Q33_3  Q20_1  ...  Q17_4  Q17_5  Q17_6  Q30_1  Q30_2  Q30_3  Q30_4  \\\n",
              "0     1.0    1.0   25.0  ...    1.0    NaN    NaN    1.0    1.0    1.0    1.0   \n",
              "1     1.0    1.0   25.0  ...    1.0    NaN    NaN    1.0    1.0    1.0    1.0   \n",
              "2     3.0    1.0   25.0  ...    1.0    NaN    NaN    1.0    1.0    1.0    1.0   \n",
              "3     1.0    1.0   25.0  ...    1.0    NaN    NaN    1.0    1.0    1.0    1.0   \n",
              "4     3.0    1.0   23.0  ...    1.0    NaN    NaN    1.0    1.0    1.0    1.0   \n",
              "..    ...    ...    ...  ...    ...    ...    ...    ...    ...    ...    ...   \n",
              "70    2.0    1.0   34.0  ...    2.0    NaN    NaN    2.0    1.0    4.0    1.0   \n",
              "71    2.0    1.0   40.0  ...    1.0    NaN    NaN    1.0    1.0    6.0    1.0   \n",
              "72    3.0    2.0   25.0  ...    2.0    NaN    NaN    2.0    2.0    2.0    2.0   \n",
              "73    2.0    2.0   25.0  ...    2.0    NaN    NaN    1.0    1.0    1.0    2.0   \n",
              "74    2.0    2.0   30.0  ...    2.0    NaN    NaN    2.0    2.0    3.0    2.0   \n",
              "\n",
              "    Q30_5  Q30_6         ResponseId  \n",
              "0     NaN    NaN  R_ZlwqGK7oRXFuk2B  \n",
              "1     NaN    NaN  R_3EBj9T7Yvk5B9p8  \n",
              "2     NaN    NaN  R_3kzGFidBS7a7uMY  \n",
              "3     NaN    NaN  R_2PaPevsJwcfXqWL  \n",
              "4     NaN    NaN  R_T5xAPMwjZYMFWLL  \n",
              "..    ...    ...                ...  \n",
              "70    NaN    NaN  R_2QrrksrmMx96cHQ  \n",
              "71    NaN    NaN  R_1eEvSPjO8lrr4qL  \n",
              "72    NaN    NaN  R_1LcsPArzQiMPFtv  \n",
              "73    2.0    NaN  R_3NwhKneVbRULZdP  \n",
              "74    NaN    NaN  R_CZVS5VAsYw4TRtf  \n",
              "\n",
              "[75 rows x 40 columns]"
            ],
            "text/html": "<div>\n<style scoped>\n    .dataframe tbody tr th:only-of-type {\n        vertical-align: middle;\n    }\n\n    .dataframe tbody tr th {\n        vertical-align: top;\n    }\n\n    .dataframe thead th {\n        text-align: right;\n    }\n</style>\n<table border=\"1\" class=\"dataframe\">\n  <thead>\n    <tr style=\"text-align: right;\">\n      <th></th>\n      <th>Student Name</th>\n      <th>TeamNumber</th>\n      <th>TeammateNumber</th>\n      <th>Q29_1</th>\n      <th>Q29_2</th>\n      <th>Q29_3</th>\n      <th>Q33_1</th>\n      <th>Q33_2</th>\n      <th>Q33_3</th>\n      <th>Q20_1</th>\n      <th>...</th>\n      <th>Q17_4</th>\n      <th>Q17_5</th>\n      <th>Q17_6</th>\n      <th>Q30_1</th>\n      <th>Q30_2</th>\n      <th>Q30_3</th>\n      <th>Q30_4</th>\n      <th>Q30_5</th>\n      <th>Q30_6</th>\n      <th>ResponseId</th>\n    </tr>\n  </thead>\n  <tbody>\n    <tr>\n      <th>0</th>\n      <td>A</td>\n      <td>1</td>\n      <td>1</td>\n      <td>1.0</td>\n      <td>1.0</td>\n      <td>1.0</td>\n      <td>1.0</td>\n      <td>1.0</td>\n      <td>1.0</td>\n      <td>25.0</td>\n      <td>...</td>\n      <td>1.0</td>\n      <td>NaN</td>\n      <td>NaN</td>\n      <td>1.0</td>\n      <td>1.0</td>\n      <td>1.0</td>\n      <td>1.0</td>\n      <td>NaN</td>\n      <td>NaN</td>\n      <td>R_ZlwqGK7oRXFuk2B</td>\n    </tr>\n    <tr>\n      <th>1</th>\n      <td>B</td>\n      <td>1</td>\n      <td>2</td>\n      <td>1.0</td>\n      <td>1.0</td>\n      <td>1.0</td>\n      <td>1.0</td>\n      <td>1.0</td>\n      <td>1.0</td>\n      <td>25.0</td>\n      <td>...</td>\n      <td>1.0</td>\n      <td>NaN</td>\n      <td>NaN</td>\n      <td>1.0</td>\n      <td>1.0</td>\n      <td>1.0</td>\n      <td>1.0</td>\n      <td>NaN</td>\n      <td>NaN</td>\n      <td>R_3EBj9T7Yvk5B9p8</td>\n    </tr>\n    <tr>\n      <th>2</th>\n      <td>C</td>\n      <td>1</td>\n      <td>3</td>\n      <td>3.0</td>\n      <td>3.0</td>\n      <td>3.0</td>\n      <td>3.0</td>\n      <td>3.0</td>\n      <td>1.0</td>\n      <td>25.0</td>\n      <td>...</td>\n      <td>1.0</td>\n      <td>NaN</td>\n      <td>NaN</td>\n      <td>1.0</td>\n      <td>1.0</td>\n      <td>1.0</td>\n      <td>1.0</td>\n      <td>NaN</td>\n      <td>NaN</td>\n      <td>R_3kzGFidBS7a7uMY</td>\n    </tr>\n    <tr>\n      <th>3</th>\n      <td>D</td>\n      <td>1</td>\n      <td>4</td>\n      <td>1.0</td>\n      <td>1.0</td>\n      <td>1.0</td>\n      <td>1.0</td>\n      <td>1.0</td>\n      <td>1.0</td>\n      <td>25.0</td>\n      <td>...</td>\n      <td>1.0</td>\n      <td>NaN</td>\n      <td>NaN</td>\n      <td>1.0</td>\n      <td>1.0</td>\n      <td>1.0</td>\n      <td>1.0</td>\n      <td>NaN</td>\n      <td>NaN</td>\n      <td>R_2PaPevsJwcfXqWL</td>\n    </tr>\n    <tr>\n      <th>4</th>\n      <td>E</td>\n      <td>2</td>\n      <td>1</td>\n      <td>1.0</td>\n      <td>1.0</td>\n      <td>1.0</td>\n      <td>1.0</td>\n      <td>3.0</td>\n      <td>1.0</td>\n      <td>23.0</td>\n      <td>...</td>\n      <td>1.0</td>\n      <td>NaN</td>\n      <td>NaN</td>\n      <td>1.0</td>\n      <td>1.0</td>\n      <td>1.0</td>\n      <td>1.0</td>\n      <td>NaN</td>\n      <td>NaN</td>\n      <td>R_T5xAPMwjZYMFWLL</td>\n    </tr>\n    <tr>\n      <th>...</th>\n      <td>...</td>\n      <td>...</td>\n      <td>...</td>\n      <td>...</td>\n      <td>...</td>\n      <td>...</td>\n      <td>...</td>\n      <td>...</td>\n      <td>...</td>\n      <td>...</td>\n      <td>...</td>\n      <td>...</td>\n      <td>...</td>\n      <td>...</td>\n      <td>...</td>\n      <td>...</td>\n      <td>...</td>\n      <td>...</td>\n      <td>...</td>\n      <td>...</td>\n      <td>...</td>\n    </tr>\n    <tr>\n      <th>70</th>\n      <td>BX</td>\n      <td>21</td>\n      <td>2</td>\n      <td>1.0</td>\n      <td>1.0</td>\n      <td>1.0</td>\n      <td>1.0</td>\n      <td>2.0</td>\n      <td>1.0</td>\n      <td>34.0</td>\n      <td>...</td>\n      <td>2.0</td>\n      <td>NaN</td>\n      <td>NaN</td>\n      <td>2.0</td>\n      <td>1.0</td>\n      <td>4.0</td>\n      <td>1.0</td>\n      <td>NaN</td>\n      <td>NaN</td>\n      <td>R_2QrrksrmMx96cHQ</td>\n    </tr>\n    <tr>\n      <th>71</th>\n      <td>BZ</td>\n      <td>21</td>\n      <td>4</td>\n      <td>1.0</td>\n      <td>1.0</td>\n      <td>1.0</td>\n      <td>1.0</td>\n      <td>2.0</td>\n      <td>1.0</td>\n      <td>40.0</td>\n      <td>...</td>\n      <td>1.0</td>\n      <td>NaN</td>\n      <td>NaN</td>\n      <td>1.0</td>\n      <td>1.0</td>\n      <td>6.0</td>\n      <td>1.0</td>\n      <td>NaN</td>\n      <td>NaN</td>\n      <td>R_1eEvSPjO8lrr4qL</td>\n    </tr>\n    <tr>\n      <th>72</th>\n      <td>CA</td>\n      <td>22</td>\n      <td>1</td>\n      <td>2.0</td>\n      <td>2.0</td>\n      <td>2.0</td>\n      <td>3.0</td>\n      <td>3.0</td>\n      <td>2.0</td>\n      <td>25.0</td>\n      <td>...</td>\n      <td>2.0</td>\n      <td>NaN</td>\n      <td>NaN</td>\n      <td>2.0</td>\n      <td>2.0</td>\n      <td>2.0</td>\n      <td>2.0</td>\n      <td>NaN</td>\n      <td>NaN</td>\n      <td>R_1LcsPArzQiMPFtv</td>\n    </tr>\n    <tr>\n      <th>73</th>\n      <td>CD</td>\n      <td>22</td>\n      <td>3</td>\n      <td>2.0</td>\n      <td>2.0</td>\n      <td>2.0</td>\n      <td>2.0</td>\n      <td>2.0</td>\n      <td>2.0</td>\n      <td>25.0</td>\n      <td>...</td>\n      <td>2.0</td>\n      <td>NaN</td>\n      <td>NaN</td>\n      <td>1.0</td>\n      <td>1.0</td>\n      <td>1.0</td>\n      <td>2.0</td>\n      <td>2.0</td>\n      <td>NaN</td>\n      <td>R_3NwhKneVbRULZdP</td>\n    </tr>\n    <tr>\n      <th>74</th>\n      <td>CC</td>\n      <td>22</td>\n      <td>4</td>\n      <td>2.0</td>\n      <td>3.0</td>\n      <td>3.0</td>\n      <td>2.0</td>\n      <td>2.0</td>\n      <td>2.0</td>\n      <td>30.0</td>\n      <td>...</td>\n      <td>2.0</td>\n      <td>NaN</td>\n      <td>NaN</td>\n      <td>2.0</td>\n      <td>2.0</td>\n      <td>3.0</td>\n      <td>2.0</td>\n      <td>NaN</td>\n      <td>NaN</td>\n      <td>R_CZVS5VAsYw4TRtf</td>\n    </tr>\n  </tbody>\n</table>\n<p>75 rows × 40 columns</p>\n</div>"
          },
          "metadata": {},
          "execution_count": 13
        }
      ]
    },
    {
      "cell_type": "markdown",
      "metadata": {
        "id": "eb184ecd-7f76-4e4b-9b79-dff8b2142cf6"
      },
      "source": [
        "### II. EDA"
      ],
      "id": "eb184ecd-7f76-4e4b-9b79-dff8b2142cf6"
    },
    {
      "source": [
        "**As a reminder, here are the questions and corresponding question IDs**\n",
        "\n",
        "|Question ID| Question| Scale | Category | \n",
        "|--|---|---|---|\n",
        "| Q29_1| Our team was clear about the shared goal for our work together| 1 = strongly agree; 7 = strongly disagree| Goals|\n",
        "|Q29_2 | We each knew about one another’s individual goals for our work together|1 = strongly agree; 7 = strongly disagree | Goals| \n",
        "|Q29_3 | I feel supported by my teammates in the pursuit of my individual goals for this project|1 = strongly agree; 7 = strongly disagree | Goals| \n",
        "|Q31 |In 1-2 sentences, please state what you believe was your team's shared goal in the closing stage of your work together. | *Qualitative* | Goals|\n",
        "|Q33_1 |We had good communication amongst ourselves |1 = strongly agree; 7 = strongly disagree | Processes|\n",
        "|Q33_2 |We fairly distributed work amongst ourselves | 1 = strongly agree; 7 = strongly disagree| Processes |\n",
        "|Q33_3 |  I was clear about the role(s) I played on my team|1 = strongly agree; 7 = strongly disagree | Processes |\n",
        "|Q20_1 |Please allocate a total of 100 points among your team's members, including yourself, for their overall contribution to the team's efforts on your design challenge (including work, communication, problem solving, etc.). **Teammate 1**  |1-100 | Processes |\n",
        "|Q20_2 |Please allocate a total of 100 points among your team's members, including yourself, for their overall contribution to the team's efforts on your design challenge (including work, communication, problem solving, etc.). **Teammate 2**  |1-100 | Processes |\n",
        "|Q20_3 |Please allocate a total of 100 points among your team's members, including yourself, for their overall contribution to the team's efforts on your design challenge (including work, communication, problem solving, etc.). **Teammate 3**  |1-100 | Processes |\n",
        "|Q20_4 |Please allocate a total of 100 points among your team's members, including yourself, for their overall contribution to the team's efforts on your design challenge (including work, communication, problem solving, etc.). **Teammate 4**  |1-100 | Processes |\n",
        "|Q20_5 |Please allocate a total of 100 points among your team's members, including yourself, for their overall contribution to the team's efforts on your design challenge (including work, communication, problem solving, etc.). **Teammate 5**  |1-100 | Processes |\n",
        "|Q20_6 |Please allocate a total of 100 points among your team's members, including yourself, for their overall contribution to the team's efforts on your design challenge (including work, communication, problem solving, etc.). **Teammate 6**  |1-100 | Processes |\n",
        "|Q35 |Name one concrete and specific thing that your team did well that you will recommend to the next team that you work on. | *Qualitative* | Processes |\n",
        "|Q37 |Name one concrete and specific thing that you would have your team do differently next time you launch a new team effort. | *Qualitative* | Processes |\n",
        "|Q7 |Envision yourself as the best team leader or member you could be.  What would you STOP doing? | *Qualitative* | Individual Engagement |\n",
        "|Q9 |Envision yourself as the best team leader or member you could be.  What would you KEEP doing? | *Qualitative* | Individual Engagement |\n",
        "|Q11 |Envision yourself as the best team leader or member you could be.  What would you START doing? |*Qualitative* | Individual Engagement |\n",
        "|Q16_1 |For each of your teammates listed below, write one line that describes their primary contribution to the team's work together. **Teammate 1** | *Qualitative* | Individual Engagement |\n",
        "|Q16_2 |For each of your teammates listed below, write one line that describes their primary contribution to the team's work together. **Teammate 2** | *Qualitative* | Individual Engagement |\n",
        "|Q16_3 |For each of your teammates listed below, write one line that describes their primary contribution to the team's work together. **Teammate 3** | *Qualitative* | Individual Engagement |\n",
        "|Q16_4 |For each of your teammates listed below, write one line that describes their primary contribution to the team's work together. **Teammate 4** | *Qualitative* | Individual Engagement |\n",
        "|Q16_5 |For each of your teammates listed below, write one line that describes their primary contribution to the team's work together. **Teammate 5** | *Qualitative* | Individual Engagement |\n",
        "|Q16_6 |For each of your teammates listed below, write one line that describes their primary contribution to the team's work together. **Teammate 6** | *Qualitative* | Individual Engagement |\n",
        "|Q21_1 |For each of your teammates listed below, write one line that describes something you might like to see them do differently in the future. **Teammate 1** | *Qualitative* | Individual Engagement|\n",
        "|Q21_2 |For each of your teammates listed below, write one line that describes something you might like to see them do differently in the future. **Teammate 2** | *Qualitative* | Individual Engagement|\n",
        "|Q21_3 |For each of your teammates listed below, write one line that describes something you might like to see them do differently in the future. **Teammate 3** | *Qualitative* | Individual Engagement|\n",
        "|Q21_4 |For each of your teammates listed below, write one line that describes something you might like to see them do differently in the future. **Teammate 4** | *Qualitative* | Individual Engagement|\n",
        "|Q21_5 |For each of your teammates listed below, write one line that describes something you might like to see them do differently in the future. **Teammate 5** | *Qualitative* | Individual Engagement|\n",
        "|Q21_6 |For each of your teammates listed below, write one line that describes something you might like to see them do differently in the future. **Teammate 6** | *Qualitative* | Individual Engagement|\n",
        "|Q15_1 |For each, please indicate the extent to which you agree with each of the statements for yourself and your teammates: Takes initiative to help the team problem solve. **Teammate 1** | *Qualitative* | Individual Engagement |\n",
        "|Q15_2 |For each, please indicate the extent to which you agree with each of the statements for yourself and your teammates: Takes initiative to help the team problem solve.  **Teammate 2** | *Qualitative* | Individual Engagement |\n",
        "|Q15_3 |For each, please indicate the extent to which you agree with each of the statements for yourself and your teammates: Takes initiative to help the team problem solve.  **Teammate 3** | *Qualitative* | Individual Engagement |\n",
        "|Q15_4 |For each, please indicate the extent to which you agree with each of the statements for yourself and your teammates: Takes initiative to help the team problem solve.  **Teammate 4** | *Qualitative* | Individual Engagement |\n",
        "|Q15_5 |For each, please indicate the extent to which you agree with each of the statements for yourself and your teammates: Takes initiative to help the team problem solve.  **Teammate 5** | *Qualitative* | Individual Engagement |\n",
        "|Q15_6 |For each, please indicate the extent to which you agree with each of the statements for yourself and your teammates: Takes initiative to help the team problem solve.  **Teammate 6** | *Qualitative* | Individual Engagement |\n",
        "|Q16_1 |Communicates openly and effectively with others. **Teammate 1** |1 = strongly agree; 7 = strongly disagree  | Individual Engagement |\n",
        "|Q16_2 |Communicates openly and effectively with others. **Teammate 2** |1 = strongly agree; 7 = strongly disagree  | Individual Engagement |\n",
        "|Q16_3 |Communicates openly and effectively with others. **Teammate 3** |1 = strongly agree; 7 = strongly disagree  | Individual Engagement |\n",
        "|Q16_4 |Communicates openly and effectively with others. **Teammate 4** |1 = strongly agree; 7 = strongly disagree  | Individual Engagement |\n",
        "|Q16_5 |Communicates openly and effectively with others. **Teammate 5** |1 = strongly agree; 7 = strongly disagree  | Individual Engagement |\n",
        "|Q16_6 |Communicates openly and effectively with others. **Teammate 6** |1 = strongly agree; 7 = strongly disagree  | Individual Engagement |\n",
        "|Q17_1 |Contributes expertise and effort in team activities. **Teammate 1** |1 = strongly agree; 7 = strongly disagree  | Individual Engagement |\n",
        "|Q17_2 |Contributes expertise and effort in team activities. **Teammate 2** |1 = strongly agree; 7 = strongly disagree  | Individual Engagement |\n",
        "|Q17_3 |Contributes expertise and effort in team activities. **Teammate 3** |1 = strongly agree; 7 = strongly disagree  | Individual Engagement |\n",
        "|Q17_4 |Contributes expertise and effort in team activities. **Teammate 4** |1 = strongly agree; 7 = strongly disagree  | Individual Engagement |\n",
        "|Q17_5 |Contributes expertise and effort in team activities.**Teammate 5** |1 = strongly agree; 7 = strongly disagree  | Individual Engagement |\n",
        "|Q17_6 |Contributes expertise and effort in team activities. **Teammate 6** |1 = strongly agree; 7 = strongly disagree  | Individual Engagement |\n",
        "|Q30_1 |Respects and values other team members to bring out the best in each other. **Teammate 1** |1 = strongly agree; 7 = strongly disagree  | Individual Engagement |\n",
        "|Q30_2 |Respects and values other team members to bring out the best in each other.**Teammate 2** |1 = strongly agree; 7 = strongly disagree  | Individual Engagement |\n",
        "|Q30_3 |Respects and values other team members to bring out the best in each other. **Teammate 3** |1 = strongly agree; 7 = strongly disagree  | Individual Engagement |\n",
        "|Q30_4 |Respects and values other team members to bring out the best in each other. **Teammate 4** |1 = strongly agree; 7 = strongly disagree  | Individual Engagement |\n",
        "|Q30_5 |Respects and values other team members to bring out the best in each other. **Teammate 5** |1 = strongly agree; 7 = strongly disagree  | Individual Engagement |\n",
        "|Q30_6 |Respects and values other team members to bring out the best in each other. **Teammate 6** |1 = strongly agree; 7 = strongly disagree  | Individual Engagement |"
      ],
      "cell_type": "markdown",
      "metadata": {
        "id": "23f5c50f-ad4c-4279-ab57-e58dfcb65dd6"
      }
    },
    {
      "cell_type": "code",
      "metadata": {
        "id": "9370bc2c-213f-4bc2-9230-8b36b50b96c8"
      },
      "source": [
        "numerical_data"
      ],
      "id": "9370bc2c-213f-4bc2-9230-8b36b50b96c8",
      "execution_count": 14,
      "outputs": [
        {
          "output_type": "execute_result",
          "data": {
            "text/plain": [
              "   Student Name  TeamNumber  TeammateNumber  Q29_1  Q29_2  Q29_3  Q33_1  \\\n",
              "0             A           1               1    1.0    1.0    1.0    1.0   \n",
              "1             B           1               2    1.0    1.0    1.0    1.0   \n",
              "2             C           1               3    3.0    3.0    3.0    3.0   \n",
              "3             D           1               4    1.0    1.0    1.0    1.0   \n",
              "4             E           2               1    1.0    1.0    1.0    1.0   \n",
              "..          ...         ...             ...    ...    ...    ...    ...   \n",
              "70           BX          21               2    1.0    1.0    1.0    1.0   \n",
              "71           BZ          21               4    1.0    1.0    1.0    1.0   \n",
              "72           CA          22               1    2.0    2.0    2.0    3.0   \n",
              "73           CD          22               3    2.0    2.0    2.0    2.0   \n",
              "74           CC          22               4    2.0    3.0    3.0    2.0   \n",
              "\n",
              "    Q33_2  Q33_3  Q20_1  ...  Q17_4  Q17_5  Q17_6  Q30_1  Q30_2  Q30_3  Q30_4  \\\n",
              "0     1.0    1.0   25.0  ...    1.0    NaN    NaN    1.0    1.0    1.0    1.0   \n",
              "1     1.0    1.0   25.0  ...    1.0    NaN    NaN    1.0    1.0    1.0    1.0   \n",
              "2     3.0    1.0   25.0  ...    1.0    NaN    NaN    1.0    1.0    1.0    1.0   \n",
              "3     1.0    1.0   25.0  ...    1.0    NaN    NaN    1.0    1.0    1.0    1.0   \n",
              "4     3.0    1.0   23.0  ...    1.0    NaN    NaN    1.0    1.0    1.0    1.0   \n",
              "..    ...    ...    ...  ...    ...    ...    ...    ...    ...    ...    ...   \n",
              "70    2.0    1.0   34.0  ...    2.0    NaN    NaN    2.0    1.0    4.0    1.0   \n",
              "71    2.0    1.0   40.0  ...    1.0    NaN    NaN    1.0    1.0    6.0    1.0   \n",
              "72    3.0    2.0   25.0  ...    2.0    NaN    NaN    2.0    2.0    2.0    2.0   \n",
              "73    2.0    2.0   25.0  ...    2.0    NaN    NaN    1.0    1.0    1.0    2.0   \n",
              "74    2.0    2.0   30.0  ...    2.0    NaN    NaN    2.0    2.0    3.0    2.0   \n",
              "\n",
              "    Q30_5  Q30_6         ResponseId  \n",
              "0     NaN    NaN  R_ZlwqGK7oRXFuk2B  \n",
              "1     NaN    NaN  R_3EBj9T7Yvk5B9p8  \n",
              "2     NaN    NaN  R_3kzGFidBS7a7uMY  \n",
              "3     NaN    NaN  R_2PaPevsJwcfXqWL  \n",
              "4     NaN    NaN  R_T5xAPMwjZYMFWLL  \n",
              "..    ...    ...                ...  \n",
              "70    NaN    NaN  R_2QrrksrmMx96cHQ  \n",
              "71    NaN    NaN  R_1eEvSPjO8lrr4qL  \n",
              "72    NaN    NaN  R_1LcsPArzQiMPFtv  \n",
              "73    2.0    NaN  R_3NwhKneVbRULZdP  \n",
              "74    NaN    NaN  R_CZVS5VAsYw4TRtf  \n",
              "\n",
              "[75 rows x 40 columns]"
            ],
            "text/html": "<div>\n<style scoped>\n    .dataframe tbody tr th:only-of-type {\n        vertical-align: middle;\n    }\n\n    .dataframe tbody tr th {\n        vertical-align: top;\n    }\n\n    .dataframe thead th {\n        text-align: right;\n    }\n</style>\n<table border=\"1\" class=\"dataframe\">\n  <thead>\n    <tr style=\"text-align: right;\">\n      <th></th>\n      <th>Student Name</th>\n      <th>TeamNumber</th>\n      <th>TeammateNumber</th>\n      <th>Q29_1</th>\n      <th>Q29_2</th>\n      <th>Q29_3</th>\n      <th>Q33_1</th>\n      <th>Q33_2</th>\n      <th>Q33_3</th>\n      <th>Q20_1</th>\n      <th>...</th>\n      <th>Q17_4</th>\n      <th>Q17_5</th>\n      <th>Q17_6</th>\n      <th>Q30_1</th>\n      <th>Q30_2</th>\n      <th>Q30_3</th>\n      <th>Q30_4</th>\n      <th>Q30_5</th>\n      <th>Q30_6</th>\n      <th>ResponseId</th>\n    </tr>\n  </thead>\n  <tbody>\n    <tr>\n      <th>0</th>\n      <td>A</td>\n      <td>1</td>\n      <td>1</td>\n      <td>1.0</td>\n      <td>1.0</td>\n      <td>1.0</td>\n      <td>1.0</td>\n      <td>1.0</td>\n      <td>1.0</td>\n      <td>25.0</td>\n      <td>...</td>\n      <td>1.0</td>\n      <td>NaN</td>\n      <td>NaN</td>\n      <td>1.0</td>\n      <td>1.0</td>\n      <td>1.0</td>\n      <td>1.0</td>\n      <td>NaN</td>\n      <td>NaN</td>\n      <td>R_ZlwqGK7oRXFuk2B</td>\n    </tr>\n    <tr>\n      <th>1</th>\n      <td>B</td>\n      <td>1</td>\n      <td>2</td>\n      <td>1.0</td>\n      <td>1.0</td>\n      <td>1.0</td>\n      <td>1.0</td>\n      <td>1.0</td>\n      <td>1.0</td>\n      <td>25.0</td>\n      <td>...</td>\n      <td>1.0</td>\n      <td>NaN</td>\n      <td>NaN</td>\n      <td>1.0</td>\n      <td>1.0</td>\n      <td>1.0</td>\n      <td>1.0</td>\n      <td>NaN</td>\n      <td>NaN</td>\n      <td>R_3EBj9T7Yvk5B9p8</td>\n    </tr>\n    <tr>\n      <th>2</th>\n      <td>C</td>\n      <td>1</td>\n      <td>3</td>\n      <td>3.0</td>\n      <td>3.0</td>\n      <td>3.0</td>\n      <td>3.0</td>\n      <td>3.0</td>\n      <td>1.0</td>\n      <td>25.0</td>\n      <td>...</td>\n      <td>1.0</td>\n      <td>NaN</td>\n      <td>NaN</td>\n      <td>1.0</td>\n      <td>1.0</td>\n      <td>1.0</td>\n      <td>1.0</td>\n      <td>NaN</td>\n      <td>NaN</td>\n      <td>R_3kzGFidBS7a7uMY</td>\n    </tr>\n    <tr>\n      <th>3</th>\n      <td>D</td>\n      <td>1</td>\n      <td>4</td>\n      <td>1.0</td>\n      <td>1.0</td>\n      <td>1.0</td>\n      <td>1.0</td>\n      <td>1.0</td>\n      <td>1.0</td>\n      <td>25.0</td>\n      <td>...</td>\n      <td>1.0</td>\n      <td>NaN</td>\n      <td>NaN</td>\n      <td>1.0</td>\n      <td>1.0</td>\n      <td>1.0</td>\n      <td>1.0</td>\n      <td>NaN</td>\n      <td>NaN</td>\n      <td>R_2PaPevsJwcfXqWL</td>\n    </tr>\n    <tr>\n      <th>4</th>\n      <td>E</td>\n      <td>2</td>\n      <td>1</td>\n      <td>1.0</td>\n      <td>1.0</td>\n      <td>1.0</td>\n      <td>1.0</td>\n      <td>3.0</td>\n      <td>1.0</td>\n      <td>23.0</td>\n      <td>...</td>\n      <td>1.0</td>\n      <td>NaN</td>\n      <td>NaN</td>\n      <td>1.0</td>\n      <td>1.0</td>\n      <td>1.0</td>\n      <td>1.0</td>\n      <td>NaN</td>\n      <td>NaN</td>\n      <td>R_T5xAPMwjZYMFWLL</td>\n    </tr>\n    <tr>\n      <th>...</th>\n      <td>...</td>\n      <td>...</td>\n      <td>...</td>\n      <td>...</td>\n      <td>...</td>\n      <td>...</td>\n      <td>...</td>\n      <td>...</td>\n      <td>...</td>\n      <td>...</td>\n      <td>...</td>\n      <td>...</td>\n      <td>...</td>\n      <td>...</td>\n      <td>...</td>\n      <td>...</td>\n      <td>...</td>\n      <td>...</td>\n      <td>...</td>\n      <td>...</td>\n      <td>...</td>\n    </tr>\n    <tr>\n      <th>70</th>\n      <td>BX</td>\n      <td>21</td>\n      <td>2</td>\n      <td>1.0</td>\n      <td>1.0</td>\n      <td>1.0</td>\n      <td>1.0</td>\n      <td>2.0</td>\n      <td>1.0</td>\n      <td>34.0</td>\n      <td>...</td>\n      <td>2.0</td>\n      <td>NaN</td>\n      <td>NaN</td>\n      <td>2.0</td>\n      <td>1.0</td>\n      <td>4.0</td>\n      <td>1.0</td>\n      <td>NaN</td>\n      <td>NaN</td>\n      <td>R_2QrrksrmMx96cHQ</td>\n    </tr>\n    <tr>\n      <th>71</th>\n      <td>BZ</td>\n      <td>21</td>\n      <td>4</td>\n      <td>1.0</td>\n      <td>1.0</td>\n      <td>1.0</td>\n      <td>1.0</td>\n      <td>2.0</td>\n      <td>1.0</td>\n      <td>40.0</td>\n      <td>...</td>\n      <td>1.0</td>\n      <td>NaN</td>\n      <td>NaN</td>\n      <td>1.0</td>\n      <td>1.0</td>\n      <td>6.0</td>\n      <td>1.0</td>\n      <td>NaN</td>\n      <td>NaN</td>\n      <td>R_1eEvSPjO8lrr4qL</td>\n    </tr>\n    <tr>\n      <th>72</th>\n      <td>CA</td>\n      <td>22</td>\n      <td>1</td>\n      <td>2.0</td>\n      <td>2.0</td>\n      <td>2.0</td>\n      <td>3.0</td>\n      <td>3.0</td>\n      <td>2.0</td>\n      <td>25.0</td>\n      <td>...</td>\n      <td>2.0</td>\n      <td>NaN</td>\n      <td>NaN</td>\n      <td>2.0</td>\n      <td>2.0</td>\n      <td>2.0</td>\n      <td>2.0</td>\n      <td>NaN</td>\n      <td>NaN</td>\n      <td>R_1LcsPArzQiMPFtv</td>\n    </tr>\n    <tr>\n      <th>73</th>\n      <td>CD</td>\n      <td>22</td>\n      <td>3</td>\n      <td>2.0</td>\n      <td>2.0</td>\n      <td>2.0</td>\n      <td>2.0</td>\n      <td>2.0</td>\n      <td>2.0</td>\n      <td>25.0</td>\n      <td>...</td>\n      <td>2.0</td>\n      <td>NaN</td>\n      <td>NaN</td>\n      <td>1.0</td>\n      <td>1.0</td>\n      <td>1.0</td>\n      <td>2.0</td>\n      <td>2.0</td>\n      <td>NaN</td>\n      <td>R_3NwhKneVbRULZdP</td>\n    </tr>\n    <tr>\n      <th>74</th>\n      <td>CC</td>\n      <td>22</td>\n      <td>4</td>\n      <td>2.0</td>\n      <td>3.0</td>\n      <td>3.0</td>\n      <td>2.0</td>\n      <td>2.0</td>\n      <td>2.0</td>\n      <td>30.0</td>\n      <td>...</td>\n      <td>2.0</td>\n      <td>NaN</td>\n      <td>NaN</td>\n      <td>2.0</td>\n      <td>2.0</td>\n      <td>3.0</td>\n      <td>2.0</td>\n      <td>NaN</td>\n      <td>NaN</td>\n      <td>R_CZVS5VAsYw4TRtf</td>\n    </tr>\n  </tbody>\n</table>\n<p>75 rows × 40 columns</p>\n</div>"
          },
          "metadata": {},
          "execution_count": 14
        }
      ]
    },
    {
      "cell_type": "code",
      "metadata": {
        "id": "17fd2249-9dc0-42b7-a091-e272f0130660"
      },
      "source": [
        "# A function that takes in a dataframe and returns a list of columns that contain only questions\n",
        "\n",
        "def questionFinder(df):\n",
        "    allColumnNames = list(df.columns)\n",
        "    # Dependent that column names are 'Q' followed by a number, then any combination of alphanumeric characters \n",
        "    pattern = r'Q[0-9, _, .]+'\n",
        "    matches = [(re.findall(pattern, columnName)) for columnName in allColumnNames]\n",
        "    listOfQuestions = [element for sublist in matches for element in sublist]\n",
        "    return listOfQuestions"
      ],
      "id": "17fd2249-9dc0-42b7-a091-e272f0130660",
      "execution_count": 15,
      "outputs": []
    },
    {
      "cell_type": "code",
      "metadata": {
        "id": "7853f530-dd08-4562-902b-a76d0a906408"
      },
      "source": [
        "#Test to see if it works on numerical_data\n",
        "numerical_data[questionFinder(numerical_data)]"
      ],
      "id": "7853f530-dd08-4562-902b-a76d0a906408",
      "execution_count": 16,
      "outputs": [
        {
          "output_type": "execute_result",
          "data": {
            "text/plain": [
              "    Q29_1  Q29_2  Q29_3  Q33_1  Q33_2  Q33_3  Q20_1  Q20_2  Q20_3  Q20_4  ...  \\\n",
              "0     1.0    1.0    1.0    1.0    1.0    1.0   25.0   25.0   25.0   25.0  ...   \n",
              "1     1.0    1.0    1.0    1.0    1.0    1.0   25.0   25.0   25.0   25.0  ...   \n",
              "2     3.0    3.0    3.0    3.0    3.0    1.0   25.0   25.0   25.0   25.0  ...   \n",
              "3     1.0    1.0    1.0    1.0    1.0    1.0   25.0   25.0   25.0   25.0  ...   \n",
              "4     1.0    1.0    1.0    1.0    3.0    1.0   23.0   31.0   23.0   23.0  ...   \n",
              "..    ...    ...    ...    ...    ...    ...    ...    ...    ...    ...  ...   \n",
              "70    1.0    1.0    1.0    1.0    2.0    1.0   34.0   33.0    0.0   33.0  ...   \n",
              "71    1.0    1.0    1.0    1.0    2.0    1.0   40.0   25.0   10.0   25.0  ...   \n",
              "72    2.0    2.0    2.0    3.0    3.0    2.0   25.0   25.0   25.0   25.0  ...   \n",
              "73    2.0    2.0    2.0    2.0    2.0    2.0   25.0   25.0   25.0   25.0  ...   \n",
              "74    2.0    3.0    3.0    2.0    2.0    2.0   30.0   20.0   30.0   20.0  ...   \n",
              "\n",
              "    Q17_3  Q17_4  Q17_5  Q17_6  Q30_1  Q30_2  Q30_3  Q30_4  Q30_5  Q30_6  \n",
              "0     1.0    1.0    NaN    NaN    1.0    1.0    1.0    1.0    NaN    NaN  \n",
              "1     1.0    1.0    NaN    NaN    1.0    1.0    1.0    1.0    NaN    NaN  \n",
              "2     1.0    1.0    NaN    NaN    1.0    1.0    1.0    1.0    NaN    NaN  \n",
              "3     1.0    1.0    NaN    NaN    1.0    1.0    1.0    1.0    NaN    NaN  \n",
              "4     1.0    1.0    NaN    NaN    1.0    1.0    1.0    1.0    NaN    NaN  \n",
              "..    ...    ...    ...    ...    ...    ...    ...    ...    ...    ...  \n",
              "70    4.0    2.0    NaN    NaN    2.0    1.0    4.0    1.0    NaN    NaN  \n",
              "71    6.0    1.0    NaN    NaN    1.0    1.0    6.0    1.0    NaN    NaN  \n",
              "72    2.0    2.0    NaN    NaN    2.0    2.0    2.0    2.0    NaN    NaN  \n",
              "73    2.0    2.0    NaN    NaN    1.0    1.0    1.0    2.0    2.0    NaN  \n",
              "74    2.0    2.0    NaN    NaN    2.0    2.0    3.0    2.0    NaN    NaN  \n",
              "\n",
              "[75 rows x 36 columns]"
            ],
            "text/html": "<div>\n<style scoped>\n    .dataframe tbody tr th:only-of-type {\n        vertical-align: middle;\n    }\n\n    .dataframe tbody tr th {\n        vertical-align: top;\n    }\n\n    .dataframe thead th {\n        text-align: right;\n    }\n</style>\n<table border=\"1\" class=\"dataframe\">\n  <thead>\n    <tr style=\"text-align: right;\">\n      <th></th>\n      <th>Q29_1</th>\n      <th>Q29_2</th>\n      <th>Q29_3</th>\n      <th>Q33_1</th>\n      <th>Q33_2</th>\n      <th>Q33_3</th>\n      <th>Q20_1</th>\n      <th>Q20_2</th>\n      <th>Q20_3</th>\n      <th>Q20_4</th>\n      <th>...</th>\n      <th>Q17_3</th>\n      <th>Q17_4</th>\n      <th>Q17_5</th>\n      <th>Q17_6</th>\n      <th>Q30_1</th>\n      <th>Q30_2</th>\n      <th>Q30_3</th>\n      <th>Q30_4</th>\n      <th>Q30_5</th>\n      <th>Q30_6</th>\n    </tr>\n  </thead>\n  <tbody>\n    <tr>\n      <th>0</th>\n      <td>1.0</td>\n      <td>1.0</td>\n      <td>1.0</td>\n      <td>1.0</td>\n      <td>1.0</td>\n      <td>1.0</td>\n      <td>25.0</td>\n      <td>25.0</td>\n      <td>25.0</td>\n      <td>25.0</td>\n      <td>...</td>\n      <td>1.0</td>\n      <td>1.0</td>\n      <td>NaN</td>\n      <td>NaN</td>\n      <td>1.0</td>\n      <td>1.0</td>\n      <td>1.0</td>\n      <td>1.0</td>\n      <td>NaN</td>\n      <td>NaN</td>\n    </tr>\n    <tr>\n      <th>1</th>\n      <td>1.0</td>\n      <td>1.0</td>\n      <td>1.0</td>\n      <td>1.0</td>\n      <td>1.0</td>\n      <td>1.0</td>\n      <td>25.0</td>\n      <td>25.0</td>\n      <td>25.0</td>\n      <td>25.0</td>\n      <td>...</td>\n      <td>1.0</td>\n      <td>1.0</td>\n      <td>NaN</td>\n      <td>NaN</td>\n      <td>1.0</td>\n      <td>1.0</td>\n      <td>1.0</td>\n      <td>1.0</td>\n      <td>NaN</td>\n      <td>NaN</td>\n    </tr>\n    <tr>\n      <th>2</th>\n      <td>3.0</td>\n      <td>3.0</td>\n      <td>3.0</td>\n      <td>3.0</td>\n      <td>3.0</td>\n      <td>1.0</td>\n      <td>25.0</td>\n      <td>25.0</td>\n      <td>25.0</td>\n      <td>25.0</td>\n      <td>...</td>\n      <td>1.0</td>\n      <td>1.0</td>\n      <td>NaN</td>\n      <td>NaN</td>\n      <td>1.0</td>\n      <td>1.0</td>\n      <td>1.0</td>\n      <td>1.0</td>\n      <td>NaN</td>\n      <td>NaN</td>\n    </tr>\n    <tr>\n      <th>3</th>\n      <td>1.0</td>\n      <td>1.0</td>\n      <td>1.0</td>\n      <td>1.0</td>\n      <td>1.0</td>\n      <td>1.0</td>\n      <td>25.0</td>\n      <td>25.0</td>\n      <td>25.0</td>\n      <td>25.0</td>\n      <td>...</td>\n      <td>1.0</td>\n      <td>1.0</td>\n      <td>NaN</td>\n      <td>NaN</td>\n      <td>1.0</td>\n      <td>1.0</td>\n      <td>1.0</td>\n      <td>1.0</td>\n      <td>NaN</td>\n      <td>NaN</td>\n    </tr>\n    <tr>\n      <th>4</th>\n      <td>1.0</td>\n      <td>1.0</td>\n      <td>1.0</td>\n      <td>1.0</td>\n      <td>3.0</td>\n      <td>1.0</td>\n      <td>23.0</td>\n      <td>31.0</td>\n      <td>23.0</td>\n      <td>23.0</td>\n      <td>...</td>\n      <td>1.0</td>\n      <td>1.0</td>\n      <td>NaN</td>\n      <td>NaN</td>\n      <td>1.0</td>\n      <td>1.0</td>\n      <td>1.0</td>\n      <td>1.0</td>\n      <td>NaN</td>\n      <td>NaN</td>\n    </tr>\n    <tr>\n      <th>...</th>\n      <td>...</td>\n      <td>...</td>\n      <td>...</td>\n      <td>...</td>\n      <td>...</td>\n      <td>...</td>\n      <td>...</td>\n      <td>...</td>\n      <td>...</td>\n      <td>...</td>\n      <td>...</td>\n      <td>...</td>\n      <td>...</td>\n      <td>...</td>\n      <td>...</td>\n      <td>...</td>\n      <td>...</td>\n      <td>...</td>\n      <td>...</td>\n      <td>...</td>\n      <td>...</td>\n    </tr>\n    <tr>\n      <th>70</th>\n      <td>1.0</td>\n      <td>1.0</td>\n      <td>1.0</td>\n      <td>1.0</td>\n      <td>2.0</td>\n      <td>1.0</td>\n      <td>34.0</td>\n      <td>33.0</td>\n      <td>0.0</td>\n      <td>33.0</td>\n      <td>...</td>\n      <td>4.0</td>\n      <td>2.0</td>\n      <td>NaN</td>\n      <td>NaN</td>\n      <td>2.0</td>\n      <td>1.0</td>\n      <td>4.0</td>\n      <td>1.0</td>\n      <td>NaN</td>\n      <td>NaN</td>\n    </tr>\n    <tr>\n      <th>71</th>\n      <td>1.0</td>\n      <td>1.0</td>\n      <td>1.0</td>\n      <td>1.0</td>\n      <td>2.0</td>\n      <td>1.0</td>\n      <td>40.0</td>\n      <td>25.0</td>\n      <td>10.0</td>\n      <td>25.0</td>\n      <td>...</td>\n      <td>6.0</td>\n      <td>1.0</td>\n      <td>NaN</td>\n      <td>NaN</td>\n      <td>1.0</td>\n      <td>1.0</td>\n      <td>6.0</td>\n      <td>1.0</td>\n      <td>NaN</td>\n      <td>NaN</td>\n    </tr>\n    <tr>\n      <th>72</th>\n      <td>2.0</td>\n      <td>2.0</td>\n      <td>2.0</td>\n      <td>3.0</td>\n      <td>3.0</td>\n      <td>2.0</td>\n      <td>25.0</td>\n      <td>25.0</td>\n      <td>25.0</td>\n      <td>25.0</td>\n      <td>...</td>\n      <td>2.0</td>\n      <td>2.0</td>\n      <td>NaN</td>\n      <td>NaN</td>\n      <td>2.0</td>\n      <td>2.0</td>\n      <td>2.0</td>\n      <td>2.0</td>\n      <td>NaN</td>\n      <td>NaN</td>\n    </tr>\n    <tr>\n      <th>73</th>\n      <td>2.0</td>\n      <td>2.0</td>\n      <td>2.0</td>\n      <td>2.0</td>\n      <td>2.0</td>\n      <td>2.0</td>\n      <td>25.0</td>\n      <td>25.0</td>\n      <td>25.0</td>\n      <td>25.0</td>\n      <td>...</td>\n      <td>2.0</td>\n      <td>2.0</td>\n      <td>NaN</td>\n      <td>NaN</td>\n      <td>1.0</td>\n      <td>1.0</td>\n      <td>1.0</td>\n      <td>2.0</td>\n      <td>2.0</td>\n      <td>NaN</td>\n    </tr>\n    <tr>\n      <th>74</th>\n      <td>2.0</td>\n      <td>3.0</td>\n      <td>3.0</td>\n      <td>2.0</td>\n      <td>2.0</td>\n      <td>2.0</td>\n      <td>30.0</td>\n      <td>20.0</td>\n      <td>30.0</td>\n      <td>20.0</td>\n      <td>...</td>\n      <td>2.0</td>\n      <td>2.0</td>\n      <td>NaN</td>\n      <td>NaN</td>\n      <td>2.0</td>\n      <td>2.0</td>\n      <td>3.0</td>\n      <td>2.0</td>\n      <td>NaN</td>\n      <td>NaN</td>\n    </tr>\n  </tbody>\n</table>\n<p>75 rows × 36 columns</p>\n</div>"
          },
          "metadata": {},
          "execution_count": 16
        }
      ]
    },
    {
      "cell_type": "code",
      "metadata": {
        "id": "4d4d2308-b630-494f-8e0d-551bec22ae7b"
      },
      "source": [
        "numerical_data.iloc[0][\"Q29_1\"]"
      ],
      "id": "4d4d2308-b630-494f-8e0d-551bec22ae7b",
      "execution_count": 17,
      "outputs": [
        {
          "output_type": "execute_result",
          "data": {
            "text/plain": [
              "1.0"
            ]
          },
          "metadata": {},
          "execution_count": 17
        }
      ]
    },
    {
      "cell_type": "code",
      "metadata": {
        "id": "a646e24d-8e9d-4d9c-9a95-fe41d79b7395"
      },
      "source": [
        "# A function that takes in a dataframe and calculates individual averages as well as team averages, adding them each as columns \n",
        "# meaning that each row will have up to an additional 2 columns per question\n",
        "\n",
        "def calculateAverages(df):\n",
        "    \n",
        "    #Subset dataframe to needed columns (questions + teammate number + student name)\n",
        "    listOfQuestions = questionFinder(df)\n",
        "    fullList = listOfQuestions.extend([\"TeammateNumber\", \"Student Name\"])\n",
        "    newDf = df[listOfQuestions]\n",
        "    \n",
        "    #Calculate dem averages i guess\n",
        "    for i in range(len(newDf)):\n",
        "        studentNumber = newDf.iloc[i][\"TeammateNumber\"]\n",
        "        #for question in listOfQuestions:\n",
        "            #for teammate in newDf[\"TeammateNumber\"]\n",
        "            #if \"_\" in question:\n",
        "                #if int(question[-1]) == studentNumber:\n",
        "                    #Create a new column with student's individual response\n",
        "            #Else, compute the average across the remainder of the team so long as the response is 0 or the teammate number didnt reset\n",
        "    \n",
        "    return newDf\n",
        "    "
      ],
      "id": "a646e24d-8e9d-4d9c-9a95-fe41d79b7395",
      "execution_count": 18,
      "outputs": []
    },
    {
      "cell_type": "code",
      "metadata": {
        "id": "eb3dd1c3-548e-47da-919a-1335127b8e49",
        "scrolled": true
      },
      "source": [
        "calculateAverages(numerical_data)"
      ],
      "id": "eb3dd1c3-548e-47da-919a-1335127b8e49",
      "execution_count": 19,
      "outputs": [
        {
          "output_type": "execute_result",
          "data": {
            "text/plain": [
              "    Q29_1  Q29_2  Q29_3  Q33_1  Q33_2  Q33_3  Q20_1  Q20_2  Q20_3  Q20_4  ...  \\\n",
              "0     1.0    1.0    1.0    1.0    1.0    1.0   25.0   25.0   25.0   25.0  ...   \n",
              "1     1.0    1.0    1.0    1.0    1.0    1.0   25.0   25.0   25.0   25.0  ...   \n",
              "2     3.0    3.0    3.0    3.0    3.0    1.0   25.0   25.0   25.0   25.0  ...   \n",
              "3     1.0    1.0    1.0    1.0    1.0    1.0   25.0   25.0   25.0   25.0  ...   \n",
              "4     1.0    1.0    1.0    1.0    3.0    1.0   23.0   31.0   23.0   23.0  ...   \n",
              "..    ...    ...    ...    ...    ...    ...    ...    ...    ...    ...  ...   \n",
              "70    1.0    1.0    1.0    1.0    2.0    1.0   34.0   33.0    0.0   33.0  ...   \n",
              "71    1.0    1.0    1.0    1.0    2.0    1.0   40.0   25.0   10.0   25.0  ...   \n",
              "72    2.0    2.0    2.0    3.0    3.0    2.0   25.0   25.0   25.0   25.0  ...   \n",
              "73    2.0    2.0    2.0    2.0    2.0    2.0   25.0   25.0   25.0   25.0  ...   \n",
              "74    2.0    3.0    3.0    2.0    2.0    2.0   30.0   20.0   30.0   20.0  ...   \n",
              "\n",
              "    Q17_5  Q17_6  Q30_1  Q30_2  Q30_3  Q30_4  Q30_5  Q30_6  TeammateNumber  \\\n",
              "0     NaN    NaN    1.0    1.0    1.0    1.0    NaN    NaN               1   \n",
              "1     NaN    NaN    1.0    1.0    1.0    1.0    NaN    NaN               2   \n",
              "2     NaN    NaN    1.0    1.0    1.0    1.0    NaN    NaN               3   \n",
              "3     NaN    NaN    1.0    1.0    1.0    1.0    NaN    NaN               4   \n",
              "4     NaN    NaN    1.0    1.0    1.0    1.0    NaN    NaN               1   \n",
              "..    ...    ...    ...    ...    ...    ...    ...    ...             ...   \n",
              "70    NaN    NaN    2.0    1.0    4.0    1.0    NaN    NaN               2   \n",
              "71    NaN    NaN    1.0    1.0    6.0    1.0    NaN    NaN               4   \n",
              "72    NaN    NaN    2.0    2.0    2.0    2.0    NaN    NaN               1   \n",
              "73    NaN    NaN    1.0    1.0    1.0    2.0    2.0    NaN               3   \n",
              "74    NaN    NaN    2.0    2.0    3.0    2.0    NaN    NaN               4   \n",
              "\n",
              "    Student Name  \n",
              "0              A  \n",
              "1              B  \n",
              "2              C  \n",
              "3              D  \n",
              "4              E  \n",
              "..           ...  \n",
              "70            BX  \n",
              "71            BZ  \n",
              "72            CA  \n",
              "73            CD  \n",
              "74            CC  \n",
              "\n",
              "[75 rows x 38 columns]"
            ],
            "text/html": "<div>\n<style scoped>\n    .dataframe tbody tr th:only-of-type {\n        vertical-align: middle;\n    }\n\n    .dataframe tbody tr th {\n        vertical-align: top;\n    }\n\n    .dataframe thead th {\n        text-align: right;\n    }\n</style>\n<table border=\"1\" class=\"dataframe\">\n  <thead>\n    <tr style=\"text-align: right;\">\n      <th></th>\n      <th>Q29_1</th>\n      <th>Q29_2</th>\n      <th>Q29_3</th>\n      <th>Q33_1</th>\n      <th>Q33_2</th>\n      <th>Q33_3</th>\n      <th>Q20_1</th>\n      <th>Q20_2</th>\n      <th>Q20_3</th>\n      <th>Q20_4</th>\n      <th>...</th>\n      <th>Q17_5</th>\n      <th>Q17_6</th>\n      <th>Q30_1</th>\n      <th>Q30_2</th>\n      <th>Q30_3</th>\n      <th>Q30_4</th>\n      <th>Q30_5</th>\n      <th>Q30_6</th>\n      <th>TeammateNumber</th>\n      <th>Student Name</th>\n    </tr>\n  </thead>\n  <tbody>\n    <tr>\n      <th>0</th>\n      <td>1.0</td>\n      <td>1.0</td>\n      <td>1.0</td>\n      <td>1.0</td>\n      <td>1.0</td>\n      <td>1.0</td>\n      <td>25.0</td>\n      <td>25.0</td>\n      <td>25.0</td>\n      <td>25.0</td>\n      <td>...</td>\n      <td>NaN</td>\n      <td>NaN</td>\n      <td>1.0</td>\n      <td>1.0</td>\n      <td>1.0</td>\n      <td>1.0</td>\n      <td>NaN</td>\n      <td>NaN</td>\n      <td>1</td>\n      <td>A</td>\n    </tr>\n    <tr>\n      <th>1</th>\n      <td>1.0</td>\n      <td>1.0</td>\n      <td>1.0</td>\n      <td>1.0</td>\n      <td>1.0</td>\n      <td>1.0</td>\n      <td>25.0</td>\n      <td>25.0</td>\n      <td>25.0</td>\n      <td>25.0</td>\n      <td>...</td>\n      <td>NaN</td>\n      <td>NaN</td>\n      <td>1.0</td>\n      <td>1.0</td>\n      <td>1.0</td>\n      <td>1.0</td>\n      <td>NaN</td>\n      <td>NaN</td>\n      <td>2</td>\n      <td>B</td>\n    </tr>\n    <tr>\n      <th>2</th>\n      <td>3.0</td>\n      <td>3.0</td>\n      <td>3.0</td>\n      <td>3.0</td>\n      <td>3.0</td>\n      <td>1.0</td>\n      <td>25.0</td>\n      <td>25.0</td>\n      <td>25.0</td>\n      <td>25.0</td>\n      <td>...</td>\n      <td>NaN</td>\n      <td>NaN</td>\n      <td>1.0</td>\n      <td>1.0</td>\n      <td>1.0</td>\n      <td>1.0</td>\n      <td>NaN</td>\n      <td>NaN</td>\n      <td>3</td>\n      <td>C</td>\n    </tr>\n    <tr>\n      <th>3</th>\n      <td>1.0</td>\n      <td>1.0</td>\n      <td>1.0</td>\n      <td>1.0</td>\n      <td>1.0</td>\n      <td>1.0</td>\n      <td>25.0</td>\n      <td>25.0</td>\n      <td>25.0</td>\n      <td>25.0</td>\n      <td>...</td>\n      <td>NaN</td>\n      <td>NaN</td>\n      <td>1.0</td>\n      <td>1.0</td>\n      <td>1.0</td>\n      <td>1.0</td>\n      <td>NaN</td>\n      <td>NaN</td>\n      <td>4</td>\n      <td>D</td>\n    </tr>\n    <tr>\n      <th>4</th>\n      <td>1.0</td>\n      <td>1.0</td>\n      <td>1.0</td>\n      <td>1.0</td>\n      <td>3.0</td>\n      <td>1.0</td>\n      <td>23.0</td>\n      <td>31.0</td>\n      <td>23.0</td>\n      <td>23.0</td>\n      <td>...</td>\n      <td>NaN</td>\n      <td>NaN</td>\n      <td>1.0</td>\n      <td>1.0</td>\n      <td>1.0</td>\n      <td>1.0</td>\n      <td>NaN</td>\n      <td>NaN</td>\n      <td>1</td>\n      <td>E</td>\n    </tr>\n    <tr>\n      <th>...</th>\n      <td>...</td>\n      <td>...</td>\n      <td>...</td>\n      <td>...</td>\n      <td>...</td>\n      <td>...</td>\n      <td>...</td>\n      <td>...</td>\n      <td>...</td>\n      <td>...</td>\n      <td>...</td>\n      <td>...</td>\n      <td>...</td>\n      <td>...</td>\n      <td>...</td>\n      <td>...</td>\n      <td>...</td>\n      <td>...</td>\n      <td>...</td>\n      <td>...</td>\n      <td>...</td>\n    </tr>\n    <tr>\n      <th>70</th>\n      <td>1.0</td>\n      <td>1.0</td>\n      <td>1.0</td>\n      <td>1.0</td>\n      <td>2.0</td>\n      <td>1.0</td>\n      <td>34.0</td>\n      <td>33.0</td>\n      <td>0.0</td>\n      <td>33.0</td>\n      <td>...</td>\n      <td>NaN</td>\n      <td>NaN</td>\n      <td>2.0</td>\n      <td>1.0</td>\n      <td>4.0</td>\n      <td>1.0</td>\n      <td>NaN</td>\n      <td>NaN</td>\n      <td>2</td>\n      <td>BX</td>\n    </tr>\n    <tr>\n      <th>71</th>\n      <td>1.0</td>\n      <td>1.0</td>\n      <td>1.0</td>\n      <td>1.0</td>\n      <td>2.0</td>\n      <td>1.0</td>\n      <td>40.0</td>\n      <td>25.0</td>\n      <td>10.0</td>\n      <td>25.0</td>\n      <td>...</td>\n      <td>NaN</td>\n      <td>NaN</td>\n      <td>1.0</td>\n      <td>1.0</td>\n      <td>6.0</td>\n      <td>1.0</td>\n      <td>NaN</td>\n      <td>NaN</td>\n      <td>4</td>\n      <td>BZ</td>\n    </tr>\n    <tr>\n      <th>72</th>\n      <td>2.0</td>\n      <td>2.0</td>\n      <td>2.0</td>\n      <td>3.0</td>\n      <td>3.0</td>\n      <td>2.0</td>\n      <td>25.0</td>\n      <td>25.0</td>\n      <td>25.0</td>\n      <td>25.0</td>\n      <td>...</td>\n      <td>NaN</td>\n      <td>NaN</td>\n      <td>2.0</td>\n      <td>2.0</td>\n      <td>2.0</td>\n      <td>2.0</td>\n      <td>NaN</td>\n      <td>NaN</td>\n      <td>1</td>\n      <td>CA</td>\n    </tr>\n    <tr>\n      <th>73</th>\n      <td>2.0</td>\n      <td>2.0</td>\n      <td>2.0</td>\n      <td>2.0</td>\n      <td>2.0</td>\n      <td>2.0</td>\n      <td>25.0</td>\n      <td>25.0</td>\n      <td>25.0</td>\n      <td>25.0</td>\n      <td>...</td>\n      <td>NaN</td>\n      <td>NaN</td>\n      <td>1.0</td>\n      <td>1.0</td>\n      <td>1.0</td>\n      <td>2.0</td>\n      <td>2.0</td>\n      <td>NaN</td>\n      <td>3</td>\n      <td>CD</td>\n    </tr>\n    <tr>\n      <th>74</th>\n      <td>2.0</td>\n      <td>3.0</td>\n      <td>3.0</td>\n      <td>2.0</td>\n      <td>2.0</td>\n      <td>2.0</td>\n      <td>30.0</td>\n      <td>20.0</td>\n      <td>30.0</td>\n      <td>20.0</td>\n      <td>...</td>\n      <td>NaN</td>\n      <td>NaN</td>\n      <td>2.0</td>\n      <td>2.0</td>\n      <td>3.0</td>\n      <td>2.0</td>\n      <td>NaN</td>\n      <td>NaN</td>\n      <td>4</td>\n      <td>CC</td>\n    </tr>\n  </tbody>\n</table>\n<p>75 rows × 38 columns</p>\n</div>"
          },
          "metadata": {},
          "execution_count": 19
        }
      ]
    },
    {
      "cell_type": "code",
      "metadata": {
        "id": "91c74820"
      },
      "source": [
        "numerical_questions = [\"Q29_1\", \"Q29_2\", \"Q29_3\", \"Q33_1\", \"Q33_2\", \"Q33_3\", \"Q20_1\", \"Q20_2\", \"Q20_3\",\n",
        "                       \"Q20_4\", \"Q20_5\", \"Q20_6\", \"Q15_1\", \"Q15_2\", \"Q15_3\", \"Q15_4\", \"Q15_5\", \"Q15_6\",\n",
        "                       \"Q16_1.1\", \"Q16_2.1\", \"Q16_3.1\", \"Q16_4.1\", \"Q16_5\", \"Q16_6.1\", \"Q17_1\", \"Q17_2\", \n",
        "                       \"Q17_3\", \"Q17_4\", \"Q17_5\", \"Q17_6\", \"Q30_1\", \"Q30_2\", \"Q30_3\", \"Q30_4\", \"Q30_5\", \n",
        "                       \"Q30_6\"]"
      ],
      "id": "91c74820",
      "execution_count": 20,
      "outputs": []
    },
    {
      "cell_type": "code",
      "metadata": {
        "id": "4f882689"
      },
      "source": [
        "def calculate_team_averages(df):\n",
        "    # Creates a DataFrame with the averages per team for each question\n",
        "    return df.groupby(\"TeamNumber\").agg(np.nanmean)[numerical_questions]"
      ],
      "id": "4f882689",
      "execution_count": 21,
      "outputs": []
    },
    {
      "cell_type": "code",
      "metadata": {
        "scrolled": true,
        "id": "03abc248"
      },
      "source": [
        "calculate_team_averages(numerical_data)"
      ],
      "id": "03abc248",
      "execution_count": 22,
      "outputs": [
        {
          "output_type": "execute_result",
          "data": {
            "text/plain": [
              "               Q29_1     Q29_2     Q29_3     Q33_1     Q33_2     Q33_3  \\\n",
              "TeamNumber                                                               \n",
              "1           1.500000  1.500000  1.500000  1.500000  1.500000  1.000000   \n",
              "2           1.250000  1.000000  1.250000  1.750000  2.750000  1.500000   \n",
              "3           1.250000  1.500000  1.250000  1.750000  1.750000  1.500000   \n",
              "4           1.500000  1.500000  1.250000  2.000000  2.000000  1.500000   \n",
              "5           1.000000  1.000000  1.000000  1.000000  1.666667  1.000000   \n",
              "6           2.000000  2.750000  2.500000  2.250000  5.500000  1.750000   \n",
              "7           2.166667  2.666667  3.500000  3.333333  3.666667  2.166667   \n",
              "8           1.000000  1.000000  1.000000  1.000000  1.000000  1.000000   \n",
              "9           1.666667  1.666667  1.666667  1.750000  2.250000  1.750000   \n",
              "10          1.666667  2.666667  2.333333  1.000000  1.666667  1.333333   \n",
              "11          1.500000  1.000000  1.000000  1.250000  1.250000  1.000000   \n",
              "13          2.666667  2.666667  2.333333  2.666667  2.333333  2.333333   \n",
              "14          1.000000  1.000000  1.000000  1.333333  1.333333  1.000000   \n",
              "15          3.500000  3.000000  4.500000  4.000000  4.000000  2.000000   \n",
              "16          1.750000  2.250000  4.250000  4.000000  3.750000  2.500000   \n",
              "17          1.666667  1.666667  2.000000  1.666667  2.666667  2.000000   \n",
              "18          1.666667  2.000000  1.666667  2.000000  2.000000  1.666667   \n",
              "19          1.500000  1.750000  1.250000  1.250000  2.500000  2.000000   \n",
              "20          1.333333  1.500000  1.500000  1.333333  1.333333  1.333333   \n",
              "21          1.000000  1.000000  1.000000  1.000000  2.000000  1.000000   \n",
              "22          2.000000  2.333333  2.333333  2.333333  2.333333  2.000000   \n",
              "\n",
              "                Q20_1      Q20_2      Q20_3      Q20_4  ...     Q17_3  \\\n",
              "TeamNumber                                              ...             \n",
              "1           25.000000  25.000000  25.000000  25.000000  ...  1.000000   \n",
              "2           23.000000  27.500000  24.750000  24.750000  ...  1.250000   \n",
              "3           19.250000  25.250000  27.750000  27.750000  ...  1.500000   \n",
              "4           24.125000  25.250000  23.375000  27.250000  ...  1.750000   \n",
              "5           34.333333  33.666667  32.000000        NaN  ...  1.000000   \n",
              "6           31.000000  23.250000  10.750000  35.000000  ...  5.750000   \n",
              "7           28.500000  36.833333  26.333333  29.166667  ...  3.333333   \n",
              "8           25.000000  25.000000  25.000000  25.000000  ...  1.000000   \n",
              "9           26.000000  25.750000  21.500000  26.750000  ...  2.000000   \n",
              "10          24.333333  26.000000  25.333333  24.333333  ...  1.666667   \n",
              "11          24.500000  24.500000  22.000000  29.000000  ...  1.000000   \n",
              "13          30.000000  22.666667  24.666667  22.666667  ...  1.333333   \n",
              "14          31.777777  31.777777  36.444443        NaN  ...  1.000000   \n",
              "15          25.000000  52.500000  22.500000        NaN  ...  3.000000   \n",
              "16          28.750000  30.000000  18.750000  22.500000  ...  4.250000   \n",
              "17          30.000000  35.000000   0.000000  35.000000  ...  5.500000   \n",
              "18          27.500000  25.000000  32.500000  27.500000  ...  2.000000   \n",
              "19          19.250000  20.750000  28.750000  31.250000  ...  1.250000   \n",
              "20          28.766667  35.433333  35.766667        NaN  ...  1.333333   \n",
              "21          41.333333  27.666667   3.333333  27.666667  ...  4.666667   \n",
              "22          26.666667  23.333333  26.666667  23.333333  ...  2.000000   \n",
              "\n",
              "               Q17_4  Q17_5     Q17_6     Q30_1     Q30_2     Q30_3     Q30_4  \\\n",
              "TeamNumber                                                                      \n",
              "1           1.000000    NaN       NaN  1.000000  1.000000  1.000000  1.000000   \n",
              "2           1.250000    NaN       NaN  1.000000  1.250000  1.250000  1.250000   \n",
              "3           1.250000    NaN       NaN  1.500000  1.250000  1.500000  1.250000   \n",
              "4           1.000000    NaN       NaN  1.250000  1.250000  1.250000  1.500000   \n",
              "5                NaN    NaN       NaN  1.000000  1.000000  1.000000  1.000000   \n",
              "6           1.000000    NaN       NaN  1.750000  1.750000  2.500000  1.500000   \n",
              "7           2.500000    3.5  2.166667  2.666667  2.000000  2.666667  2.666667   \n",
              "8           1.000000    NaN       NaN  1.000000  1.000000  1.000000  1.000000   \n",
              "9           1.500000    NaN       NaN  1.250000  1.250000  1.250000  1.250000   \n",
              "10          1.666667    2.0  2.000000  1.666667  2.000000  1.666667  2.000000   \n",
              "11          1.000000    NaN       NaN  1.000000  1.000000  1.000000  1.000000   \n",
              "13          2.333333    1.0  1.000000  1.333333  1.333333  1.333333  1.333333   \n",
              "14          4.000000    4.0  4.000000  1.000000  1.000000  1.000000  4.000000   \n",
              "15               NaN    NaN       NaN  3.000000  2.500000  3.000000       NaN   \n",
              "16          3.250000    NaN       NaN  3.750000  3.250000  3.250000  2.750000   \n",
              "17          1.333333    NaN       NaN  1.666667  1.333333  5.500000  1.333333   \n",
              "18          2.000000    2.0  2.000000  2.000000  2.000000  2.000000  2.000000   \n",
              "19          1.250000    NaN       NaN  1.250000  1.250000  1.250000  1.250000   \n",
              "20               NaN    NaN       NaN  1.333333  1.333333  1.333333       NaN   \n",
              "21          1.666667    NaN       NaN  1.666667  1.333333  4.666667  1.333333   \n",
              "22          2.000000    NaN       NaN  1.666667  1.666667  2.000000  2.000000   \n",
              "\n",
              "            Q30_5  Q30_6  \n",
              "TeamNumber                \n",
              "1             NaN    NaN  \n",
              "2             NaN    NaN  \n",
              "3             NaN    NaN  \n",
              "4             NaN    NaN  \n",
              "5             1.0    NaN  \n",
              "6             NaN    NaN  \n",
              "7             3.5    2.5  \n",
              "8             NaN    NaN  \n",
              "9             NaN    NaN  \n",
              "10            NaN    NaN  \n",
              "11            NaN    NaN  \n",
              "13            NaN    NaN  \n",
              "14            4.0    4.0  \n",
              "15            NaN    NaN  \n",
              "16            NaN    NaN  \n",
              "17            NaN    NaN  \n",
              "18            2.0    2.0  \n",
              "19            NaN    NaN  \n",
              "20            NaN    NaN  \n",
              "21            NaN    NaN  \n",
              "22            2.0    NaN  \n",
              "\n",
              "[21 rows x 36 columns]"
            ],
            "text/html": "<div>\n<style scoped>\n    .dataframe tbody tr th:only-of-type {\n        vertical-align: middle;\n    }\n\n    .dataframe tbody tr th {\n        vertical-align: top;\n    }\n\n    .dataframe thead th {\n        text-align: right;\n    }\n</style>\n<table border=\"1\" class=\"dataframe\">\n  <thead>\n    <tr style=\"text-align: right;\">\n      <th></th>\n      <th>Q29_1</th>\n      <th>Q29_2</th>\n      <th>Q29_3</th>\n      <th>Q33_1</th>\n      <th>Q33_2</th>\n      <th>Q33_3</th>\n      <th>Q20_1</th>\n      <th>Q20_2</th>\n      <th>Q20_3</th>\n      <th>Q20_4</th>\n      <th>...</th>\n      <th>Q17_3</th>\n      <th>Q17_4</th>\n      <th>Q17_5</th>\n      <th>Q17_6</th>\n      <th>Q30_1</th>\n      <th>Q30_2</th>\n      <th>Q30_3</th>\n      <th>Q30_4</th>\n      <th>Q30_5</th>\n      <th>Q30_6</th>\n    </tr>\n    <tr>\n      <th>TeamNumber</th>\n      <th></th>\n      <th></th>\n      <th></th>\n      <th></th>\n      <th></th>\n      <th></th>\n      <th></th>\n      <th></th>\n      <th></th>\n      <th></th>\n      <th></th>\n      <th></th>\n      <th></th>\n      <th></th>\n      <th></th>\n      <th></th>\n      <th></th>\n      <th></th>\n      <th></th>\n      <th></th>\n      <th></th>\n    </tr>\n  </thead>\n  <tbody>\n    <tr>\n      <th>1</th>\n      <td>1.500000</td>\n      <td>1.500000</td>\n      <td>1.500000</td>\n      <td>1.500000</td>\n      <td>1.500000</td>\n      <td>1.000000</td>\n      <td>25.000000</td>\n      <td>25.000000</td>\n      <td>25.000000</td>\n      <td>25.000000</td>\n      <td>...</td>\n      <td>1.000000</td>\n      <td>1.000000</td>\n      <td>NaN</td>\n      <td>NaN</td>\n      <td>1.000000</td>\n      <td>1.000000</td>\n      <td>1.000000</td>\n      <td>1.000000</td>\n      <td>NaN</td>\n      <td>NaN</td>\n    </tr>\n    <tr>\n      <th>2</th>\n      <td>1.250000</td>\n      <td>1.000000</td>\n      <td>1.250000</td>\n      <td>1.750000</td>\n      <td>2.750000</td>\n      <td>1.500000</td>\n      <td>23.000000</td>\n      <td>27.500000</td>\n      <td>24.750000</td>\n      <td>24.750000</td>\n      <td>...</td>\n      <td>1.250000</td>\n      <td>1.250000</td>\n      <td>NaN</td>\n      <td>NaN</td>\n      <td>1.000000</td>\n      <td>1.250000</td>\n      <td>1.250000</td>\n      <td>1.250000</td>\n      <td>NaN</td>\n      <td>NaN</td>\n    </tr>\n    <tr>\n      <th>3</th>\n      <td>1.250000</td>\n      <td>1.500000</td>\n      <td>1.250000</td>\n      <td>1.750000</td>\n      <td>1.750000</td>\n      <td>1.500000</td>\n      <td>19.250000</td>\n      <td>25.250000</td>\n      <td>27.750000</td>\n      <td>27.750000</td>\n      <td>...</td>\n      <td>1.500000</td>\n      <td>1.250000</td>\n      <td>NaN</td>\n      <td>NaN</td>\n      <td>1.500000</td>\n      <td>1.250000</td>\n      <td>1.500000</td>\n      <td>1.250000</td>\n      <td>NaN</td>\n      <td>NaN</td>\n    </tr>\n    <tr>\n      <th>4</th>\n      <td>1.500000</td>\n      <td>1.500000</td>\n      <td>1.250000</td>\n      <td>2.000000</td>\n      <td>2.000000</td>\n      <td>1.500000</td>\n      <td>24.125000</td>\n      <td>25.250000</td>\n      <td>23.375000</td>\n      <td>27.250000</td>\n      <td>...</td>\n      <td>1.750000</td>\n      <td>1.000000</td>\n      <td>NaN</td>\n      <td>NaN</td>\n      <td>1.250000</td>\n      <td>1.250000</td>\n      <td>1.250000</td>\n      <td>1.500000</td>\n      <td>NaN</td>\n      <td>NaN</td>\n    </tr>\n    <tr>\n      <th>5</th>\n      <td>1.000000</td>\n      <td>1.000000</td>\n      <td>1.000000</td>\n      <td>1.000000</td>\n      <td>1.666667</td>\n      <td>1.000000</td>\n      <td>34.333333</td>\n      <td>33.666667</td>\n      <td>32.000000</td>\n      <td>NaN</td>\n      <td>...</td>\n      <td>1.000000</td>\n      <td>NaN</td>\n      <td>NaN</td>\n      <td>NaN</td>\n      <td>1.000000</td>\n      <td>1.000000</td>\n      <td>1.000000</td>\n      <td>1.000000</td>\n      <td>1.0</td>\n      <td>NaN</td>\n    </tr>\n    <tr>\n      <th>6</th>\n      <td>2.000000</td>\n      <td>2.750000</td>\n      <td>2.500000</td>\n      <td>2.250000</td>\n      <td>5.500000</td>\n      <td>1.750000</td>\n      <td>31.000000</td>\n      <td>23.250000</td>\n      <td>10.750000</td>\n      <td>35.000000</td>\n      <td>...</td>\n      <td>5.750000</td>\n      <td>1.000000</td>\n      <td>NaN</td>\n      <td>NaN</td>\n      <td>1.750000</td>\n      <td>1.750000</td>\n      <td>2.500000</td>\n      <td>1.500000</td>\n      <td>NaN</td>\n      <td>NaN</td>\n    </tr>\n    <tr>\n      <th>7</th>\n      <td>2.166667</td>\n      <td>2.666667</td>\n      <td>3.500000</td>\n      <td>3.333333</td>\n      <td>3.666667</td>\n      <td>2.166667</td>\n      <td>28.500000</td>\n      <td>36.833333</td>\n      <td>26.333333</td>\n      <td>29.166667</td>\n      <td>...</td>\n      <td>3.333333</td>\n      <td>2.500000</td>\n      <td>3.5</td>\n      <td>2.166667</td>\n      <td>2.666667</td>\n      <td>2.000000</td>\n      <td>2.666667</td>\n      <td>2.666667</td>\n      <td>3.5</td>\n      <td>2.5</td>\n    </tr>\n    <tr>\n      <th>8</th>\n      <td>1.000000</td>\n      <td>1.000000</td>\n      <td>1.000000</td>\n      <td>1.000000</td>\n      <td>1.000000</td>\n      <td>1.000000</td>\n      <td>25.000000</td>\n      <td>25.000000</td>\n      <td>25.000000</td>\n      <td>25.000000</td>\n      <td>...</td>\n      <td>1.000000</td>\n      <td>1.000000</td>\n      <td>NaN</td>\n      <td>NaN</td>\n      <td>1.000000</td>\n      <td>1.000000</td>\n      <td>1.000000</td>\n      <td>1.000000</td>\n      <td>NaN</td>\n      <td>NaN</td>\n    </tr>\n    <tr>\n      <th>9</th>\n      <td>1.666667</td>\n      <td>1.666667</td>\n      <td>1.666667</td>\n      <td>1.750000</td>\n      <td>2.250000</td>\n      <td>1.750000</td>\n      <td>26.000000</td>\n      <td>25.750000</td>\n      <td>21.500000</td>\n      <td>26.750000</td>\n      <td>...</td>\n      <td>2.000000</td>\n      <td>1.500000</td>\n      <td>NaN</td>\n      <td>NaN</td>\n      <td>1.250000</td>\n      <td>1.250000</td>\n      <td>1.250000</td>\n      <td>1.250000</td>\n      <td>NaN</td>\n      <td>NaN</td>\n    </tr>\n    <tr>\n      <th>10</th>\n      <td>1.666667</td>\n      <td>2.666667</td>\n      <td>2.333333</td>\n      <td>1.000000</td>\n      <td>1.666667</td>\n      <td>1.333333</td>\n      <td>24.333333</td>\n      <td>26.000000</td>\n      <td>25.333333</td>\n      <td>24.333333</td>\n      <td>...</td>\n      <td>1.666667</td>\n      <td>1.666667</td>\n      <td>2.0</td>\n      <td>2.000000</td>\n      <td>1.666667</td>\n      <td>2.000000</td>\n      <td>1.666667</td>\n      <td>2.000000</td>\n      <td>NaN</td>\n      <td>NaN</td>\n    </tr>\n    <tr>\n      <th>11</th>\n      <td>1.500000</td>\n      <td>1.000000</td>\n      <td>1.000000</td>\n      <td>1.250000</td>\n      <td>1.250000</td>\n      <td>1.000000</td>\n      <td>24.500000</td>\n      <td>24.500000</td>\n      <td>22.000000</td>\n      <td>29.000000</td>\n      <td>...</td>\n      <td>1.000000</td>\n      <td>1.000000</td>\n      <td>NaN</td>\n      <td>NaN</td>\n      <td>1.000000</td>\n      <td>1.000000</td>\n      <td>1.000000</td>\n      <td>1.000000</td>\n      <td>NaN</td>\n      <td>NaN</td>\n    </tr>\n    <tr>\n      <th>13</th>\n      <td>2.666667</td>\n      <td>2.666667</td>\n      <td>2.333333</td>\n      <td>2.666667</td>\n      <td>2.333333</td>\n      <td>2.333333</td>\n      <td>30.000000</td>\n      <td>22.666667</td>\n      <td>24.666667</td>\n      <td>22.666667</td>\n      <td>...</td>\n      <td>1.333333</td>\n      <td>2.333333</td>\n      <td>1.0</td>\n      <td>1.000000</td>\n      <td>1.333333</td>\n      <td>1.333333</td>\n      <td>1.333333</td>\n      <td>1.333333</td>\n      <td>NaN</td>\n      <td>NaN</td>\n    </tr>\n    <tr>\n      <th>14</th>\n      <td>1.000000</td>\n      <td>1.000000</td>\n      <td>1.000000</td>\n      <td>1.333333</td>\n      <td>1.333333</td>\n      <td>1.000000</td>\n      <td>31.777777</td>\n      <td>31.777777</td>\n      <td>36.444443</td>\n      <td>NaN</td>\n      <td>...</td>\n      <td>1.000000</td>\n      <td>4.000000</td>\n      <td>4.0</td>\n      <td>4.000000</td>\n      <td>1.000000</td>\n      <td>1.000000</td>\n      <td>1.000000</td>\n      <td>4.000000</td>\n      <td>4.0</td>\n      <td>4.0</td>\n    </tr>\n    <tr>\n      <th>15</th>\n      <td>3.500000</td>\n      <td>3.000000</td>\n      <td>4.500000</td>\n      <td>4.000000</td>\n      <td>4.000000</td>\n      <td>2.000000</td>\n      <td>25.000000</td>\n      <td>52.500000</td>\n      <td>22.500000</td>\n      <td>NaN</td>\n      <td>...</td>\n      <td>3.000000</td>\n      <td>NaN</td>\n      <td>NaN</td>\n      <td>NaN</td>\n      <td>3.000000</td>\n      <td>2.500000</td>\n      <td>3.000000</td>\n      <td>NaN</td>\n      <td>NaN</td>\n      <td>NaN</td>\n    </tr>\n    <tr>\n      <th>16</th>\n      <td>1.750000</td>\n      <td>2.250000</td>\n      <td>4.250000</td>\n      <td>4.000000</td>\n      <td>3.750000</td>\n      <td>2.500000</td>\n      <td>28.750000</td>\n      <td>30.000000</td>\n      <td>18.750000</td>\n      <td>22.500000</td>\n      <td>...</td>\n      <td>4.250000</td>\n      <td>3.250000</td>\n      <td>NaN</td>\n      <td>NaN</td>\n      <td>3.750000</td>\n      <td>3.250000</td>\n      <td>3.250000</td>\n      <td>2.750000</td>\n      <td>NaN</td>\n      <td>NaN</td>\n    </tr>\n    <tr>\n      <th>17</th>\n      <td>1.666667</td>\n      <td>1.666667</td>\n      <td>2.000000</td>\n      <td>1.666667</td>\n      <td>2.666667</td>\n      <td>2.000000</td>\n      <td>30.000000</td>\n      <td>35.000000</td>\n      <td>0.000000</td>\n      <td>35.000000</td>\n      <td>...</td>\n      <td>5.500000</td>\n      <td>1.333333</td>\n      <td>NaN</td>\n      <td>NaN</td>\n      <td>1.666667</td>\n      <td>1.333333</td>\n      <td>5.500000</td>\n      <td>1.333333</td>\n      <td>NaN</td>\n      <td>NaN</td>\n    </tr>\n    <tr>\n      <th>18</th>\n      <td>1.666667</td>\n      <td>2.000000</td>\n      <td>1.666667</td>\n      <td>2.000000</td>\n      <td>2.000000</td>\n      <td>1.666667</td>\n      <td>27.500000</td>\n      <td>25.000000</td>\n      <td>32.500000</td>\n      <td>27.500000</td>\n      <td>...</td>\n      <td>2.000000</td>\n      <td>2.000000</td>\n      <td>2.0</td>\n      <td>2.000000</td>\n      <td>2.000000</td>\n      <td>2.000000</td>\n      <td>2.000000</td>\n      <td>2.000000</td>\n      <td>2.0</td>\n      <td>2.0</td>\n    </tr>\n    <tr>\n      <th>19</th>\n      <td>1.500000</td>\n      <td>1.750000</td>\n      <td>1.250000</td>\n      <td>1.250000</td>\n      <td>2.500000</td>\n      <td>2.000000</td>\n      <td>19.250000</td>\n      <td>20.750000</td>\n      <td>28.750000</td>\n      <td>31.250000</td>\n      <td>...</td>\n      <td>1.250000</td>\n      <td>1.250000</td>\n      <td>NaN</td>\n      <td>NaN</td>\n      <td>1.250000</td>\n      <td>1.250000</td>\n      <td>1.250000</td>\n      <td>1.250000</td>\n      <td>NaN</td>\n      <td>NaN</td>\n    </tr>\n    <tr>\n      <th>20</th>\n      <td>1.333333</td>\n      <td>1.500000</td>\n      <td>1.500000</td>\n      <td>1.333333</td>\n      <td>1.333333</td>\n      <td>1.333333</td>\n      <td>28.766667</td>\n      <td>35.433333</td>\n      <td>35.766667</td>\n      <td>NaN</td>\n      <td>...</td>\n      <td>1.333333</td>\n      <td>NaN</td>\n      <td>NaN</td>\n      <td>NaN</td>\n      <td>1.333333</td>\n      <td>1.333333</td>\n      <td>1.333333</td>\n      <td>NaN</td>\n      <td>NaN</td>\n      <td>NaN</td>\n    </tr>\n    <tr>\n      <th>21</th>\n      <td>1.000000</td>\n      <td>1.000000</td>\n      <td>1.000000</td>\n      <td>1.000000</td>\n      <td>2.000000</td>\n      <td>1.000000</td>\n      <td>41.333333</td>\n      <td>27.666667</td>\n      <td>3.333333</td>\n      <td>27.666667</td>\n      <td>...</td>\n      <td>4.666667</td>\n      <td>1.666667</td>\n      <td>NaN</td>\n      <td>NaN</td>\n      <td>1.666667</td>\n      <td>1.333333</td>\n      <td>4.666667</td>\n      <td>1.333333</td>\n      <td>NaN</td>\n      <td>NaN</td>\n    </tr>\n    <tr>\n      <th>22</th>\n      <td>2.000000</td>\n      <td>2.333333</td>\n      <td>2.333333</td>\n      <td>2.333333</td>\n      <td>2.333333</td>\n      <td>2.000000</td>\n      <td>26.666667</td>\n      <td>23.333333</td>\n      <td>26.666667</td>\n      <td>23.333333</td>\n      <td>...</td>\n      <td>2.000000</td>\n      <td>2.000000</td>\n      <td>NaN</td>\n      <td>NaN</td>\n      <td>1.666667</td>\n      <td>1.666667</td>\n      <td>2.000000</td>\n      <td>2.000000</td>\n      <td>2.0</td>\n      <td>NaN</td>\n    </tr>\n  </tbody>\n</table>\n<p>21 rows × 36 columns</p>\n</div>"
          },
          "metadata": {},
          "execution_count": 22
        }
      ]
    },
    {
      "cell_type": "code",
      "metadata": {
        "id": "3854cc14-5bed-4190-b9cd-a02321bbb1e6"
      },
      "source": [
        "def get_team_data(team_number):\n",
        "    # Returns new dataframe containing only TEAM_NUMBER's data\n",
        "    return numerical_data[numerical_data['TeamNumber'] == team_number]\n",
        "\n",
        "def get_team_average(team_number, teammate_number, question):\n",
        "    # Gets TEAM_NUMBER's average on the specified question\n",
        "    temp_df = get_team_data(team_number)\n",
        "    return np.nanmean(temp_df[question])\n",
        "\n",
        "def get_teammates_average(team_number, teammate_number, question):\n",
        "    # Gets TEAM_NUMBER's average on the specified question\n",
        "    # omits data from current student given by TEAMMATE_NUMBER \n",
        "    temp_df = get_team_data(team_number)\n",
        "    \n",
        "    temp_df = temp_df[temp_df['TeammateNumber'] != teammate_number]\n",
        "    \n",
        "    return np.nanmean(temp_df[question])\n",
        "\n",
        "\n",
        "def get_student_answer(team_number, teammate_number, question):\n",
        "    # Returns the current student's response for the specified question\n",
        "    temp_df = get_team_data(team_number)\n",
        "    \n",
        "    temp_df = temp_df[temp_df['TeammateNumber'] == teammate_number]\n",
        "    \n",
        "    return float(temp_df[question])\n",
        "\n",
        "\n",
        "def get_class_average(question):\n",
        "    # Returns the class average for QUESTION\n",
        "    return np.mean(numerical_data[question])"
      ],
      "id": "3854cc14-5bed-4190-b9cd-a02321bbb1e6",
      "execution_count": 23,
      "outputs": []
    },
    {
      "cell_type": "code",
      "metadata": {
        "id": "41a58b9c"
      },
      "source": [
        "statistics = {\"Question\": [],\n",
        "              \"Your answer\":[],\n",
        "              \"Teammates' average\":[],\n",
        "              \"Team average\":[],\n",
        "              \"Class average\":[]}\n",
        "\n",
        "team_number = int(input(\"What team are you? \"))\n",
        "student_number = int(input(\"What is your teammate number? \"))\n",
        "\n",
        "for question in numerical_questions:\n",
        "    statistics[\"Question\"].append(question)\n",
        "    answer = get_student_answer(team_number, student_number, question)\n",
        "    teammates_avg = get_teammates_average(team_number, student_number, question)\n",
        "    team_avg = get_team_average(team_number, student_number, question)\n",
        "    class_avg = get_class_average(question)\n",
        "    statistics[\"Your answer\"].append(answer)\n",
        "    statistics[\"Teammates' average\"].append(teammates_avg)\n",
        "    statistics[\"Team average\"].append(team_avg)\n",
        "    statistics[\"Class average\"].append(class_avg)\n",
        "\n",
        "pd.DataFrame(statistics)"
      ],
      "id": "41a58b9c",
      "execution_count": 24,
      "outputs": [
        {
          "output_type": "stream",
          "name": "stderr",
          "text": [
            "<ipython-input-23-2bea8f206181>:17: RuntimeWarning: Mean of empty slice\n  return np.nanmean(temp_df[question])\n<ipython-input-23-2bea8f206181>:8: RuntimeWarning: Mean of empty slice\n  return np.nanmean(temp_df[question])\n<ipython-input-23-2bea8f206181>:17: RuntimeWarning: Mean of empty slice\n  return np.nanmean(temp_df[question])\n<ipython-input-23-2bea8f206181>:8: RuntimeWarning: Mean of empty slice\n  return np.nanmean(temp_df[question])\n<ipython-input-23-2bea8f206181>:17: RuntimeWarning: Mean of empty slice\n  return np.nanmean(temp_df[question])\n<ipython-input-23-2bea8f206181>:17: RuntimeWarning: Mean of empty slice\n  return np.nanmean(temp_df[question])\n<ipython-input-23-2bea8f206181>:17: RuntimeWarning: Mean of empty slice\n  return np.nanmean(temp_df[question])\n<ipython-input-23-2bea8f206181>:8: RuntimeWarning: Mean of empty slice\n  return np.nanmean(temp_df[question])\n<ipython-input-23-2bea8f206181>:17: RuntimeWarning: Mean of empty slice\n  return np.nanmean(temp_df[question])\n<ipython-input-23-2bea8f206181>:8: RuntimeWarning: Mean of empty slice\n  return np.nanmean(temp_df[question])\n<ipython-input-23-2bea8f206181>:17: RuntimeWarning: Mean of empty slice\n  return np.nanmean(temp_df[question])\n<ipython-input-23-2bea8f206181>:8: RuntimeWarning: Mean of empty slice\n  return np.nanmean(temp_df[question])\n<ipython-input-23-2bea8f206181>:17: RuntimeWarning: Mean of empty slice\n  return np.nanmean(temp_df[question])\n<ipython-input-23-2bea8f206181>:8: RuntimeWarning: Mean of empty slice\n  return np.nanmean(temp_df[question])\n<ipython-input-23-2bea8f206181>:17: RuntimeWarning: Mean of empty slice\n  return np.nanmean(temp_df[question])\n<ipython-input-23-2bea8f206181>:8: RuntimeWarning: Mean of empty slice\n  return np.nanmean(temp_df[question])\n<ipython-input-23-2bea8f206181>:17: RuntimeWarning: Mean of empty slice\n  return np.nanmean(temp_df[question])\n<ipython-input-23-2bea8f206181>:8: RuntimeWarning: Mean of empty slice\n  return np.nanmean(temp_df[question])\n"
          ]
        },
        {
          "output_type": "execute_result",
          "data": {
            "text/plain": [
              "   Question  Your answer  Teammates' average  Team average  Class average\n",
              "0     Q29_1          1.0            1.333333          1.25       1.621622\n",
              "1     Q29_2          2.0            1.333333          1.50       1.791667\n",
              "2     Q29_3          1.0            1.333333          1.25       1.917808\n",
              "3     Q33_1          2.0            1.666667          1.75       1.933333\n",
              "4     Q33_2          2.0            1.666667          1.75       2.386667\n",
              "5     Q33_3          1.0            1.666667          1.50       1.600000\n",
              "6     Q20_1         20.0           19.000000         19.25      27.042342\n",
              "7     Q20_2         20.0           27.000000         25.25      28.310046\n",
              "8     Q20_3         30.0           27.000000         27.75      23.714155\n",
              "9     Q20_4         30.0           27.000000         27.75      27.396825\n",
              "10    Q20_5          NaN                 NaN           NaN      23.833333\n",
              "11    Q20_6          NaN                 NaN           NaN      30.333333\n",
              "12    Q15_1          1.0            2.666667          2.25       1.824324\n",
              "13    Q15_2          1.0            1.666667          1.50       1.513514\n",
              "14    Q15_3          1.0            1.333333          1.25       2.328767\n",
              "15    Q15_4          1.0            1.333333          1.25       1.738462\n",
              "16    Q15_5          1.0                 NaN          1.00       2.923077\n",
              "17    Q15_6          1.0                 NaN          1.00       2.166667\n",
              "18  Q16_1.1          2.0            3.333333          3.00       1.783784\n",
              "19  Q16_2.1          1.0            1.666667          1.50       1.567568\n",
              "20  Q16_3.1          1.0            1.666667          1.50       2.287671\n",
              "21  Q16_4.1          1.0            1.333333          1.25       1.703125\n",
              "22    Q16_5          NaN                 NaN           NaN       3.100000\n",
              "23  Q16_6.1          NaN                 NaN           NaN       2.555556\n",
              "24    Q17_1          2.0            3.000000          2.75       1.743243\n",
              "25    Q17_2          2.0            2.000000          2.00       1.472973\n",
              "26    Q17_3          1.0            1.666667          1.50       2.232877\n",
              "27    Q17_4          1.0            1.333333          1.25       1.625000\n",
              "28    Q17_5          NaN                 NaN           NaN       3.000000\n",
              "29    Q17_6          NaN                 NaN           NaN       2.200000\n",
              "30    Q30_1          1.0            1.666667          1.50       1.608108\n",
              "31    Q30_2          1.0            1.333333          1.25       1.500000\n",
              "32    Q30_3          1.0            1.666667          1.50       1.876712\n",
              "33    Q30_4          1.0            1.333333          1.25       1.600000\n",
              "34    Q30_5          NaN                 NaN           NaN       3.000000\n",
              "35    Q30_6          NaN                 NaN           NaN       2.625000"
            ],
            "text/html": "<div>\n<style scoped>\n    .dataframe tbody tr th:only-of-type {\n        vertical-align: middle;\n    }\n\n    .dataframe tbody tr th {\n        vertical-align: top;\n    }\n\n    .dataframe thead th {\n        text-align: right;\n    }\n</style>\n<table border=\"1\" class=\"dataframe\">\n  <thead>\n    <tr style=\"text-align: right;\">\n      <th></th>\n      <th>Question</th>\n      <th>Your answer</th>\n      <th>Teammates' average</th>\n      <th>Team average</th>\n      <th>Class average</th>\n    </tr>\n  </thead>\n  <tbody>\n    <tr>\n      <th>0</th>\n      <td>Q29_1</td>\n      <td>1.0</td>\n      <td>1.333333</td>\n      <td>1.25</td>\n      <td>1.621622</td>\n    </tr>\n    <tr>\n      <th>1</th>\n      <td>Q29_2</td>\n      <td>2.0</td>\n      <td>1.333333</td>\n      <td>1.50</td>\n      <td>1.791667</td>\n    </tr>\n    <tr>\n      <th>2</th>\n      <td>Q29_3</td>\n      <td>1.0</td>\n      <td>1.333333</td>\n      <td>1.25</td>\n      <td>1.917808</td>\n    </tr>\n    <tr>\n      <th>3</th>\n      <td>Q33_1</td>\n      <td>2.0</td>\n      <td>1.666667</td>\n      <td>1.75</td>\n      <td>1.933333</td>\n    </tr>\n    <tr>\n      <th>4</th>\n      <td>Q33_2</td>\n      <td>2.0</td>\n      <td>1.666667</td>\n      <td>1.75</td>\n      <td>2.386667</td>\n    </tr>\n    <tr>\n      <th>5</th>\n      <td>Q33_3</td>\n      <td>1.0</td>\n      <td>1.666667</td>\n      <td>1.50</td>\n      <td>1.600000</td>\n    </tr>\n    <tr>\n      <th>6</th>\n      <td>Q20_1</td>\n      <td>20.0</td>\n      <td>19.000000</td>\n      <td>19.25</td>\n      <td>27.042342</td>\n    </tr>\n    <tr>\n      <th>7</th>\n      <td>Q20_2</td>\n      <td>20.0</td>\n      <td>27.000000</td>\n      <td>25.25</td>\n      <td>28.310046</td>\n    </tr>\n    <tr>\n      <th>8</th>\n      <td>Q20_3</td>\n      <td>30.0</td>\n      <td>27.000000</td>\n      <td>27.75</td>\n      <td>23.714155</td>\n    </tr>\n    <tr>\n      <th>9</th>\n      <td>Q20_4</td>\n      <td>30.0</td>\n      <td>27.000000</td>\n      <td>27.75</td>\n      <td>27.396825</td>\n    </tr>\n    <tr>\n      <th>10</th>\n      <td>Q20_5</td>\n      <td>NaN</td>\n      <td>NaN</td>\n      <td>NaN</td>\n      <td>23.833333</td>\n    </tr>\n    <tr>\n      <th>11</th>\n      <td>Q20_6</td>\n      <td>NaN</td>\n      <td>NaN</td>\n      <td>NaN</td>\n      <td>30.333333</td>\n    </tr>\n    <tr>\n      <th>12</th>\n      <td>Q15_1</td>\n      <td>1.0</td>\n      <td>2.666667</td>\n      <td>2.25</td>\n      <td>1.824324</td>\n    </tr>\n    <tr>\n      <th>13</th>\n      <td>Q15_2</td>\n      <td>1.0</td>\n      <td>1.666667</td>\n      <td>1.50</td>\n      <td>1.513514</td>\n    </tr>\n    <tr>\n      <th>14</th>\n      <td>Q15_3</td>\n      <td>1.0</td>\n      <td>1.333333</td>\n      <td>1.25</td>\n      <td>2.328767</td>\n    </tr>\n    <tr>\n      <th>15</th>\n      <td>Q15_4</td>\n      <td>1.0</td>\n      <td>1.333333</td>\n      <td>1.25</td>\n      <td>1.738462</td>\n    </tr>\n    <tr>\n      <th>16</th>\n      <td>Q15_5</td>\n      <td>1.0</td>\n      <td>NaN</td>\n      <td>1.00</td>\n      <td>2.923077</td>\n    </tr>\n    <tr>\n      <th>17</th>\n      <td>Q15_6</td>\n      <td>1.0</td>\n      <td>NaN</td>\n      <td>1.00</td>\n      <td>2.166667</td>\n    </tr>\n    <tr>\n      <th>18</th>\n      <td>Q16_1.1</td>\n      <td>2.0</td>\n      <td>3.333333</td>\n      <td>3.00</td>\n      <td>1.783784</td>\n    </tr>\n    <tr>\n      <th>19</th>\n      <td>Q16_2.1</td>\n      <td>1.0</td>\n      <td>1.666667</td>\n      <td>1.50</td>\n      <td>1.567568</td>\n    </tr>\n    <tr>\n      <th>20</th>\n      <td>Q16_3.1</td>\n      <td>1.0</td>\n      <td>1.666667</td>\n      <td>1.50</td>\n      <td>2.287671</td>\n    </tr>\n    <tr>\n      <th>21</th>\n      <td>Q16_4.1</td>\n      <td>1.0</td>\n      <td>1.333333</td>\n      <td>1.25</td>\n      <td>1.703125</td>\n    </tr>\n    <tr>\n      <th>22</th>\n      <td>Q16_5</td>\n      <td>NaN</td>\n      <td>NaN</td>\n      <td>NaN</td>\n      <td>3.100000</td>\n    </tr>\n    <tr>\n      <th>23</th>\n      <td>Q16_6.1</td>\n      <td>NaN</td>\n      <td>NaN</td>\n      <td>NaN</td>\n      <td>2.555556</td>\n    </tr>\n    <tr>\n      <th>24</th>\n      <td>Q17_1</td>\n      <td>2.0</td>\n      <td>3.000000</td>\n      <td>2.75</td>\n      <td>1.743243</td>\n    </tr>\n    <tr>\n      <th>25</th>\n      <td>Q17_2</td>\n      <td>2.0</td>\n      <td>2.000000</td>\n      <td>2.00</td>\n      <td>1.472973</td>\n    </tr>\n    <tr>\n      <th>26</th>\n      <td>Q17_3</td>\n      <td>1.0</td>\n      <td>1.666667</td>\n      <td>1.50</td>\n      <td>2.232877</td>\n    </tr>\n    <tr>\n      <th>27</th>\n      <td>Q17_4</td>\n      <td>1.0</td>\n      <td>1.333333</td>\n      <td>1.25</td>\n      <td>1.625000</td>\n    </tr>\n    <tr>\n      <th>28</th>\n      <td>Q17_5</td>\n      <td>NaN</td>\n      <td>NaN</td>\n      <td>NaN</td>\n      <td>3.000000</td>\n    </tr>\n    <tr>\n      <th>29</th>\n      <td>Q17_6</td>\n      <td>NaN</td>\n      <td>NaN</td>\n      <td>NaN</td>\n      <td>2.200000</td>\n    </tr>\n    <tr>\n      <th>30</th>\n      <td>Q30_1</td>\n      <td>1.0</td>\n      <td>1.666667</td>\n      <td>1.50</td>\n      <td>1.608108</td>\n    </tr>\n    <tr>\n      <th>31</th>\n      <td>Q30_2</td>\n      <td>1.0</td>\n      <td>1.333333</td>\n      <td>1.25</td>\n      <td>1.500000</td>\n    </tr>\n    <tr>\n      <th>32</th>\n      <td>Q30_3</td>\n      <td>1.0</td>\n      <td>1.666667</td>\n      <td>1.50</td>\n      <td>1.876712</td>\n    </tr>\n    <tr>\n      <th>33</th>\n      <td>Q30_4</td>\n      <td>1.0</td>\n      <td>1.333333</td>\n      <td>1.25</td>\n      <td>1.600000</td>\n    </tr>\n    <tr>\n      <th>34</th>\n      <td>Q30_5</td>\n      <td>NaN</td>\n      <td>NaN</td>\n      <td>NaN</td>\n      <td>3.000000</td>\n    </tr>\n    <tr>\n      <th>35</th>\n      <td>Q30_6</td>\n      <td>NaN</td>\n      <td>NaN</td>\n      <td>NaN</td>\n      <td>2.625000</td>\n    </tr>\n  </tbody>\n</table>\n</div>"
          },
          "metadata": {},
          "execution_count": 24
        }
      ]
    },
    {
      "cell_type": "code",
      "metadata": {
        "id": "ec274b6a"
      },
      "source": [
        "test = pd.DataFrame(statistics)\n",
        "test"
      ],
      "id": "ec274b6a",
      "execution_count": 25,
      "outputs": [
        {
          "output_type": "execute_result",
          "data": {
            "text/plain": [
              "   Question  Your answer  Teammates' average  Team average  Class average\n",
              "0     Q29_1          1.0            1.333333          1.25       1.621622\n",
              "1     Q29_2          2.0            1.333333          1.50       1.791667\n",
              "2     Q29_3          1.0            1.333333          1.25       1.917808\n",
              "3     Q33_1          2.0            1.666667          1.75       1.933333\n",
              "4     Q33_2          2.0            1.666667          1.75       2.386667\n",
              "5     Q33_3          1.0            1.666667          1.50       1.600000\n",
              "6     Q20_1         20.0           19.000000         19.25      27.042342\n",
              "7     Q20_2         20.0           27.000000         25.25      28.310046\n",
              "8     Q20_3         30.0           27.000000         27.75      23.714155\n",
              "9     Q20_4         30.0           27.000000         27.75      27.396825\n",
              "10    Q20_5          NaN                 NaN           NaN      23.833333\n",
              "11    Q20_6          NaN                 NaN           NaN      30.333333\n",
              "12    Q15_1          1.0            2.666667          2.25       1.824324\n",
              "13    Q15_2          1.0            1.666667          1.50       1.513514\n",
              "14    Q15_3          1.0            1.333333          1.25       2.328767\n",
              "15    Q15_4          1.0            1.333333          1.25       1.738462\n",
              "16    Q15_5          1.0                 NaN          1.00       2.923077\n",
              "17    Q15_6          1.0                 NaN          1.00       2.166667\n",
              "18  Q16_1.1          2.0            3.333333          3.00       1.783784\n",
              "19  Q16_2.1          1.0            1.666667          1.50       1.567568\n",
              "20  Q16_3.1          1.0            1.666667          1.50       2.287671\n",
              "21  Q16_4.1          1.0            1.333333          1.25       1.703125\n",
              "22    Q16_5          NaN                 NaN           NaN       3.100000\n",
              "23  Q16_6.1          NaN                 NaN           NaN       2.555556\n",
              "24    Q17_1          2.0            3.000000          2.75       1.743243\n",
              "25    Q17_2          2.0            2.000000          2.00       1.472973\n",
              "26    Q17_3          1.0            1.666667          1.50       2.232877\n",
              "27    Q17_4          1.0            1.333333          1.25       1.625000\n",
              "28    Q17_5          NaN                 NaN           NaN       3.000000\n",
              "29    Q17_6          NaN                 NaN           NaN       2.200000\n",
              "30    Q30_1          1.0            1.666667          1.50       1.608108\n",
              "31    Q30_2          1.0            1.333333          1.25       1.500000\n",
              "32    Q30_3          1.0            1.666667          1.50       1.876712\n",
              "33    Q30_4          1.0            1.333333          1.25       1.600000\n",
              "34    Q30_5          NaN                 NaN           NaN       3.000000\n",
              "35    Q30_6          NaN                 NaN           NaN       2.625000"
            ],
            "text/html": "<div>\n<style scoped>\n    .dataframe tbody tr th:only-of-type {\n        vertical-align: middle;\n    }\n\n    .dataframe tbody tr th {\n        vertical-align: top;\n    }\n\n    .dataframe thead th {\n        text-align: right;\n    }\n</style>\n<table border=\"1\" class=\"dataframe\">\n  <thead>\n    <tr style=\"text-align: right;\">\n      <th></th>\n      <th>Question</th>\n      <th>Your answer</th>\n      <th>Teammates' average</th>\n      <th>Team average</th>\n      <th>Class average</th>\n    </tr>\n  </thead>\n  <tbody>\n    <tr>\n      <th>0</th>\n      <td>Q29_1</td>\n      <td>1.0</td>\n      <td>1.333333</td>\n      <td>1.25</td>\n      <td>1.621622</td>\n    </tr>\n    <tr>\n      <th>1</th>\n      <td>Q29_2</td>\n      <td>2.0</td>\n      <td>1.333333</td>\n      <td>1.50</td>\n      <td>1.791667</td>\n    </tr>\n    <tr>\n      <th>2</th>\n      <td>Q29_3</td>\n      <td>1.0</td>\n      <td>1.333333</td>\n      <td>1.25</td>\n      <td>1.917808</td>\n    </tr>\n    <tr>\n      <th>3</th>\n      <td>Q33_1</td>\n      <td>2.0</td>\n      <td>1.666667</td>\n      <td>1.75</td>\n      <td>1.933333</td>\n    </tr>\n    <tr>\n      <th>4</th>\n      <td>Q33_2</td>\n      <td>2.0</td>\n      <td>1.666667</td>\n      <td>1.75</td>\n      <td>2.386667</td>\n    </tr>\n    <tr>\n      <th>5</th>\n      <td>Q33_3</td>\n      <td>1.0</td>\n      <td>1.666667</td>\n      <td>1.50</td>\n      <td>1.600000</td>\n    </tr>\n    <tr>\n      <th>6</th>\n      <td>Q20_1</td>\n      <td>20.0</td>\n      <td>19.000000</td>\n      <td>19.25</td>\n      <td>27.042342</td>\n    </tr>\n    <tr>\n      <th>7</th>\n      <td>Q20_2</td>\n      <td>20.0</td>\n      <td>27.000000</td>\n      <td>25.25</td>\n      <td>28.310046</td>\n    </tr>\n    <tr>\n      <th>8</th>\n      <td>Q20_3</td>\n      <td>30.0</td>\n      <td>27.000000</td>\n      <td>27.75</td>\n      <td>23.714155</td>\n    </tr>\n    <tr>\n      <th>9</th>\n      <td>Q20_4</td>\n      <td>30.0</td>\n      <td>27.000000</td>\n      <td>27.75</td>\n      <td>27.396825</td>\n    </tr>\n    <tr>\n      <th>10</th>\n      <td>Q20_5</td>\n      <td>NaN</td>\n      <td>NaN</td>\n      <td>NaN</td>\n      <td>23.833333</td>\n    </tr>\n    <tr>\n      <th>11</th>\n      <td>Q20_6</td>\n      <td>NaN</td>\n      <td>NaN</td>\n      <td>NaN</td>\n      <td>30.333333</td>\n    </tr>\n    <tr>\n      <th>12</th>\n      <td>Q15_1</td>\n      <td>1.0</td>\n      <td>2.666667</td>\n      <td>2.25</td>\n      <td>1.824324</td>\n    </tr>\n    <tr>\n      <th>13</th>\n      <td>Q15_2</td>\n      <td>1.0</td>\n      <td>1.666667</td>\n      <td>1.50</td>\n      <td>1.513514</td>\n    </tr>\n    <tr>\n      <th>14</th>\n      <td>Q15_3</td>\n      <td>1.0</td>\n      <td>1.333333</td>\n      <td>1.25</td>\n      <td>2.328767</td>\n    </tr>\n    <tr>\n      <th>15</th>\n      <td>Q15_4</td>\n      <td>1.0</td>\n      <td>1.333333</td>\n      <td>1.25</td>\n      <td>1.738462</td>\n    </tr>\n    <tr>\n      <th>16</th>\n      <td>Q15_5</td>\n      <td>1.0</td>\n      <td>NaN</td>\n      <td>1.00</td>\n      <td>2.923077</td>\n    </tr>\n    <tr>\n      <th>17</th>\n      <td>Q15_6</td>\n      <td>1.0</td>\n      <td>NaN</td>\n      <td>1.00</td>\n      <td>2.166667</td>\n    </tr>\n    <tr>\n      <th>18</th>\n      <td>Q16_1.1</td>\n      <td>2.0</td>\n      <td>3.333333</td>\n      <td>3.00</td>\n      <td>1.783784</td>\n    </tr>\n    <tr>\n      <th>19</th>\n      <td>Q16_2.1</td>\n      <td>1.0</td>\n      <td>1.666667</td>\n      <td>1.50</td>\n      <td>1.567568</td>\n    </tr>\n    <tr>\n      <th>20</th>\n      <td>Q16_3.1</td>\n      <td>1.0</td>\n      <td>1.666667</td>\n      <td>1.50</td>\n      <td>2.287671</td>\n    </tr>\n    <tr>\n      <th>21</th>\n      <td>Q16_4.1</td>\n      <td>1.0</td>\n      <td>1.333333</td>\n      <td>1.25</td>\n      <td>1.703125</td>\n    </tr>\n    <tr>\n      <th>22</th>\n      <td>Q16_5</td>\n      <td>NaN</td>\n      <td>NaN</td>\n      <td>NaN</td>\n      <td>3.100000</td>\n    </tr>\n    <tr>\n      <th>23</th>\n      <td>Q16_6.1</td>\n      <td>NaN</td>\n      <td>NaN</td>\n      <td>NaN</td>\n      <td>2.555556</td>\n    </tr>\n    <tr>\n      <th>24</th>\n      <td>Q17_1</td>\n      <td>2.0</td>\n      <td>3.000000</td>\n      <td>2.75</td>\n      <td>1.743243</td>\n    </tr>\n    <tr>\n      <th>25</th>\n      <td>Q17_2</td>\n      <td>2.0</td>\n      <td>2.000000</td>\n      <td>2.00</td>\n      <td>1.472973</td>\n    </tr>\n    <tr>\n      <th>26</th>\n      <td>Q17_3</td>\n      <td>1.0</td>\n      <td>1.666667</td>\n      <td>1.50</td>\n      <td>2.232877</td>\n    </tr>\n    <tr>\n      <th>27</th>\n      <td>Q17_4</td>\n      <td>1.0</td>\n      <td>1.333333</td>\n      <td>1.25</td>\n      <td>1.625000</td>\n    </tr>\n    <tr>\n      <th>28</th>\n      <td>Q17_5</td>\n      <td>NaN</td>\n      <td>NaN</td>\n      <td>NaN</td>\n      <td>3.000000</td>\n    </tr>\n    <tr>\n      <th>29</th>\n      <td>Q17_6</td>\n      <td>NaN</td>\n      <td>NaN</td>\n      <td>NaN</td>\n      <td>2.200000</td>\n    </tr>\n    <tr>\n      <th>30</th>\n      <td>Q30_1</td>\n      <td>1.0</td>\n      <td>1.666667</td>\n      <td>1.50</td>\n      <td>1.608108</td>\n    </tr>\n    <tr>\n      <th>31</th>\n      <td>Q30_2</td>\n      <td>1.0</td>\n      <td>1.333333</td>\n      <td>1.25</td>\n      <td>1.500000</td>\n    </tr>\n    <tr>\n      <th>32</th>\n      <td>Q30_3</td>\n      <td>1.0</td>\n      <td>1.666667</td>\n      <td>1.50</td>\n      <td>1.876712</td>\n    </tr>\n    <tr>\n      <th>33</th>\n      <td>Q30_4</td>\n      <td>1.0</td>\n      <td>1.333333</td>\n      <td>1.25</td>\n      <td>1.600000</td>\n    </tr>\n    <tr>\n      <th>34</th>\n      <td>Q30_5</td>\n      <td>NaN</td>\n      <td>NaN</td>\n      <td>NaN</td>\n      <td>3.000000</td>\n    </tr>\n    <tr>\n      <th>35</th>\n      <td>Q30_6</td>\n      <td>NaN</td>\n      <td>NaN</td>\n      <td>NaN</td>\n      <td>2.625000</td>\n    </tr>\n  </tbody>\n</table>\n</div>"
          },
          "metadata": {},
          "execution_count": 25
        }
      ]
    },
    {
      "cell_type": "code",
      "execution_count": 26,
      "metadata": {},
      "outputs": [
        {
          "output_type": "stream",
          "name": "stdout",
          "text": [
            "05a89574191eb2bdd69ff3bacfe559629810ca51a817abdb676ba99e8d58d24f\n"
          ]
        }
      ],
      "source": [
        "import hashlib\n",
        "construct_string = 'Team: ' + str(team_number) + ' Group: ' + str(student_number)\n",
        "filename = hashlib.sha256(construct_string.encode() + b'Appending extra chars for security')\n",
        "print(filename.hexdigest())"
      ]
    },
    {
      "cell_type": "code",
      "execution_count": 27,
      "metadata": {},
      "outputs": [
        {
          "output_type": "execute_result",
          "data": {
            "text/plain": [
              "<sha256 HASH object @ 0x11778c190>"
            ]
          },
          "metadata": {},
          "execution_count": 27
        }
      ],
      "source": [
        "filename"
      ]
    },
    {
      "cell_type": "code",
      "execution_count": 28,
      "metadata": {},
      "outputs": [
        {
          "output_type": "stream",
          "name": "stdout",
          "text": [
            "File for student 2 on team 3 is called: 05a89574191eb2bdd69ff3bacfe559629810ca51a817abdb676ba99e8d58d24f.csv\n"
          ]
        }
      ],
      "source": [
        "test.to_csv(filename.hexdigest() + '.csv')\n",
        "print(\"File for student \" + str(student_number) + \" on team \" + str(team_number) + \" is called: \" + filename.hexdigest() + '.csv')"
      ]
    },
    {
      "cell_type": "code",
      "execution_count": 29,
      "metadata": {},
      "outputs": [
        {
          "output_type": "stream",
          "name": "stdout",
          "text": [
            "WARNING: pip is being invoked by an old script wrapper. This will fail in a future version of pip.\n",
            "Please see https://github.com/pypa/pip/issues/5599 for advice on fixing the underlying issue.\n",
            "To avoid this problem you can invoke Python with '-m pip' instead of running pip directly.\n",
            "Defaulting to user installation because normal site-packages is not writeable\n",
            "Requirement already satisfied: nltk in /Users/paulterrell-perica/Library/Python/3.8/lib/python/site-packages (3.6.2)\n",
            "Requirement already satisfied: joblib in /Users/paulterrell-perica/Library/Python/3.8/lib/python/site-packages (from nltk) (1.0.1)\n",
            "Requirement already satisfied: tqdm in /Users/paulterrell-perica/Library/Python/3.8/lib/python/site-packages (from nltk) (4.61.1)\n",
            "Requirement already satisfied: click in /Users/paulterrell-perica/Library/Python/3.8/lib/python/site-packages (from nltk) (8.0.1)\n",
            "Requirement already satisfied: regex in /Users/paulterrell-perica/Library/Python/3.8/lib/python/site-packages (from nltk) (2021.7.1)\n",
            "\u001b[33mWARNING: You are using pip version 21.1.2; however, version 21.1.3 is available.\n",
            "You should consider upgrading via the '/Library/Developer/CommandLineTools/usr/bin/python3 -m pip install --upgrade pip' command.\u001b[0m\n"
          ]
        }
      ],
      "source": [
        "!pip3 install nltk"
      ]
    },
    {
      "cell_type": "code",
      "execution_count": 30,
      "metadata": {},
      "outputs": [],
      "source": [
        "import nltk\n",
        "#nltk.download()"
      ]
    },
    {
      "cell_type": "code",
      "execution_count": 67,
      "metadata": {},
      "outputs": [
        {
          "output_type": "error",
          "ename": "KeyboardInterrupt",
          "evalue": "",
          "traceback": [
            "\u001b[0;31m---------------------------------------------------------------------------\u001b[0m",
            "\u001b[0;31mKeyboardInterrupt\u001b[0m                         Traceback (most recent call last)",
            "\u001b[0;32m<ipython-input-67-d00c38e8785d>\u001b[0m in \u001b[0;36m<module>\u001b[0;34m\u001b[0m\n\u001b[1;32m      1\u001b[0m \u001b[0mbreakpoint\u001b[0m\u001b[0;34m(\u001b[0m\u001b[0;34m)\u001b[0m\u001b[0;34m\u001b[0m\u001b[0;34m\u001b[0m\u001b[0m\n\u001b[0;32m----> 2\u001b[0;31m \u001b[0mtext\u001b[0m \u001b[0;34m=\u001b[0m \u001b[0;34m\"Helped come up with ways to improve idea and presentation Worked on developing iterations of idea and completing each milestone Spent a lot of time working on CAD for project  Went to in person labs and handled/assembled physical printouts of projects\"\u001b[0m\u001b[0;34m\u001b[0m\u001b[0;34m\u001b[0m\u001b[0m\n\u001b[0m\u001b[1;32m      3\u001b[0m \u001b[0;31m# would ideally look like:\u001b[0m\u001b[0;34m\u001b[0m\u001b[0;34m\u001b[0m\u001b[0;34m\u001b[0m\u001b[0m\n\u001b[1;32m      4\u001b[0m \u001b[0;31m# text = pd.concat(categorical_question_responses)\u001b[0m\u001b[0;34m\u001b[0m\u001b[0;34m\u001b[0m\u001b[0;34m\u001b[0m\u001b[0m\n",
            "\u001b[0;32m<ipython-input-67-d00c38e8785d>\u001b[0m in \u001b[0;36m<module>\u001b[0;34m\u001b[0m\n\u001b[1;32m      1\u001b[0m \u001b[0mbreakpoint\u001b[0m\u001b[0;34m(\u001b[0m\u001b[0;34m)\u001b[0m\u001b[0;34m\u001b[0m\u001b[0;34m\u001b[0m\u001b[0m\n\u001b[0;32m----> 2\u001b[0;31m \u001b[0mtext\u001b[0m \u001b[0;34m=\u001b[0m \u001b[0;34m\"Helped come up with ways to improve idea and presentation Worked on developing iterations of idea and completing each milestone Spent a lot of time working on CAD for project  Went to in person labs and handled/assembled physical printouts of projects\"\u001b[0m\u001b[0;34m\u001b[0m\u001b[0;34m\u001b[0m\u001b[0m\n\u001b[0m\u001b[1;32m      3\u001b[0m \u001b[0;31m# would ideally look like:\u001b[0m\u001b[0;34m\u001b[0m\u001b[0;34m\u001b[0m\u001b[0;34m\u001b[0m\u001b[0m\n\u001b[1;32m      4\u001b[0m \u001b[0;31m# text = pd.concat(categorical_question_responses)\u001b[0m\u001b[0;34m\u001b[0m\u001b[0;34m\u001b[0m\u001b[0;34m\u001b[0m\u001b[0m\n",
            "\u001b[0;32m_pydevd_bundle/pydevd_cython.pyx\u001b[0m in \u001b[0;36m_pydevd_bundle.pydevd_cython.SafeCallWrapper.__call__\u001b[0;34m()\u001b[0m\n",
            "\u001b[0;32m_pydevd_bundle/pydevd_cython.pyx\u001b[0m in \u001b[0;36m_pydevd_bundle.pydevd_cython.PyDBFrame.trace_dispatch\u001b[0;34m()\u001b[0m\n",
            "\u001b[0;32m_pydevd_bundle/pydevd_cython.pyx\u001b[0m in \u001b[0;36m_pydevd_bundle.pydevd_cython.PyDBFrame.trace_dispatch\u001b[0;34m()\u001b[0m\n",
            "\u001b[0;32m_pydevd_bundle/pydevd_cython.pyx\u001b[0m in \u001b[0;36m_pydevd_bundle.pydevd_cython.PyDBFrame.trace_dispatch\u001b[0;34m()\u001b[0m\n",
            "\u001b[0;32m_pydevd_bundle/pydevd_cython.pyx\u001b[0m in \u001b[0;36m_pydevd_bundle.pydevd_cython.PyDBFrame.do_wait_suspend\u001b[0;34m()\u001b[0m\n",
            "\u001b[0;32m~/.vscode/extensions/ms-python.python-2021.6.944021595/pythonFiles/lib/python/debugpy/_vendored/pydevd/pydevd.py\u001b[0m in \u001b[0;36mdo_wait_suspend\u001b[0;34m(self, thread, frame, event, arg, exception_type)\u001b[0m\n\u001b[1;32m   1935\u001b[0m \u001b[0;34m\u001b[0m\u001b[0m\n\u001b[1;32m   1936\u001b[0m             \u001b[0;32mwith\u001b[0m \u001b[0mself\u001b[0m\u001b[0;34m.\u001b[0m\u001b[0m_threads_suspended_single_notification\u001b[0m\u001b[0;34m.\u001b[0m\u001b[0mnotify_thread_suspended\u001b[0m\u001b[0;34m(\u001b[0m\u001b[0mthread_id\u001b[0m\u001b[0;34m,\u001b[0m \u001b[0mstop_reason\u001b[0m\u001b[0;34m)\u001b[0m\u001b[0;34m:\u001b[0m\u001b[0;34m\u001b[0m\u001b[0;34m\u001b[0m\u001b[0m\n\u001b[0;32m-> 1937\u001b[0;31m                 \u001b[0mkeep_suspended\u001b[0m \u001b[0;34m=\u001b[0m \u001b[0mself\u001b[0m\u001b[0;34m.\u001b[0m\u001b[0m_do_wait_suspend\u001b[0m\u001b[0;34m(\u001b[0m\u001b[0mthread\u001b[0m\u001b[0;34m,\u001b[0m \u001b[0mframe\u001b[0m\u001b[0;34m,\u001b[0m \u001b[0mevent\u001b[0m\u001b[0;34m,\u001b[0m \u001b[0marg\u001b[0m\u001b[0;34m,\u001b[0m \u001b[0msuspend_type\u001b[0m\u001b[0;34m,\u001b[0m \u001b[0mfrom_this_thread\u001b[0m\u001b[0;34m,\u001b[0m \u001b[0mframes_tracker\u001b[0m\u001b[0;34m)\u001b[0m\u001b[0;34m\u001b[0m\u001b[0;34m\u001b[0m\u001b[0m\n\u001b[0m\u001b[1;32m   1938\u001b[0m \u001b[0;34m\u001b[0m\u001b[0m\n\u001b[1;32m   1939\u001b[0m         \u001b[0mframes_list\u001b[0m \u001b[0;34m=\u001b[0m \u001b[0;32mNone\u001b[0m\u001b[0;34m\u001b[0m\u001b[0;34m\u001b[0m\u001b[0m\n",
            "\u001b[0;32m~/.vscode/extensions/ms-python.python-2021.6.944021595/pythonFiles/lib/python/debugpy/_vendored/pydevd/pydevd.py\u001b[0m in \u001b[0;36m_do_wait_suspend\u001b[0;34m(self, thread, frame, event, arg, suspend_type, from_this_thread, frames_tracker)\u001b[0m\n\u001b[1;32m   1970\u001b[0m \u001b[0;34m\u001b[0m\u001b[0m\n\u001b[1;32m   1971\u001b[0m             \u001b[0mself\u001b[0m\u001b[0;34m.\u001b[0m\u001b[0mprocess_internal_commands\u001b[0m\u001b[0;34m(\u001b[0m\u001b[0;34m)\u001b[0m\u001b[0;34m\u001b[0m\u001b[0;34m\u001b[0m\u001b[0m\n\u001b[0;32m-> 1972\u001b[0;31m             \u001b[0mtime\u001b[0m\u001b[0;34m.\u001b[0m\u001b[0msleep\u001b[0m\u001b[0;34m(\u001b[0m\u001b[0;36m0.01\u001b[0m\u001b[0;34m)\u001b[0m\u001b[0;34m\u001b[0m\u001b[0;34m\u001b[0m\u001b[0m\n\u001b[0m\u001b[1;32m   1973\u001b[0m \u001b[0;34m\u001b[0m\u001b[0m\n\u001b[1;32m   1974\u001b[0m         \u001b[0mself\u001b[0m\u001b[0;34m.\u001b[0m\u001b[0mcancel_async_evaluation\u001b[0m\u001b[0;34m(\u001b[0m\u001b[0mget_current_thread_id\u001b[0m\u001b[0;34m(\u001b[0m\u001b[0mthread\u001b[0m\u001b[0;34m)\u001b[0m\u001b[0;34m,\u001b[0m \u001b[0mstr\u001b[0m\u001b[0;34m(\u001b[0m\u001b[0mid\u001b[0m\u001b[0;34m(\u001b[0m\u001b[0mframe\u001b[0m\u001b[0;34m)\u001b[0m\u001b[0;34m)\u001b[0m\u001b[0;34m)\u001b[0m\u001b[0;34m\u001b[0m\u001b[0;34m\u001b[0m\u001b[0m\n",
            "\u001b[0;31mKeyboardInterrupt\u001b[0m: "
          ]
        }
      ],
      "source": [
        "text = \"Helped come up with ways to improve idea and presentation Worked on developing iterations of idea and completing each milestone\tSpent a lot of time working on CAD for project\tWent to in person labs and handled/assembled physical printouts of projects\"\n",
        "# would ideally look like:\n",
        "# text = pd.concat(categorical_question_responses)"
      ]
    },
    {
      "cell_type": "code",
      "execution_count": 32,
      "metadata": {},
      "outputs": [
        {
          "output_type": "stream",
          "name": "stdout",
          "text": [
            "['Helped', 'come', 'up', 'with', 'ways', 'to', 'improve', 'idea', 'and', 'presentation', 'Worked', 'on', 'developing', 'iterations', 'of', 'idea', 'and', 'completing', 'each', 'milestone', 'Spent', 'a', 'lot', 'of', 'time', 'working', 'on', 'CAD', 'for', 'project', 'Went', 'to', 'in', 'person', 'labs', 'and', 'handled/assembled', 'physical', 'printouts', 'of', 'projects']\n"
          ]
        }
      ],
      "source": [
        "tokens = [t for t in text.split()]\n",
        "print(tokens)"
      ]
    },
    {
      "cell_type": "code",
      "execution_count": 36,
      "metadata": {},
      "outputs": [
        {
          "output_type": "stream",
          "name": "stdout",
          "text": [
            "Helped:1\ncome:1\nways:1\nimprove:1\nidea:2\npresentation:1\nWorked:1\ndeveloping:1\niterations:1\ncompleting:1\nmilestone:1\nSpent:1\nlot:1\ntime:1\nworking:1\nCAD:1\nproject:1\nWent:1\nperson:1\nlabs:1\nhandled/assembled:1\nphysical:1\nprintouts:1\nprojects:1\n"
          ]
        },
        {
          "output_type": "display_data",
          "data": {
            "text/plain": "<Figure size 432x288 with 1 Axes>",
            "image/svg+xml": "<?xml version=\"1.0\" encoding=\"utf-8\" standalone=\"no\"?>\n<!DOCTYPE svg PUBLIC \"-//W3C//DTD SVG 1.1//EN\"\n  \"http://www.w3.org/Graphics/SVG/1.1/DTD/svg11.dtd\">\n<!-- Created with matplotlib (https://matplotlib.org/) -->\n<svg height=\"315.80875pt\" version=\"1.1\" viewBox=\"0 0 385.78125 315.80875\" width=\"385.78125pt\" xmlns=\"http://www.w3.org/2000/svg\" xmlns:xlink=\"http://www.w3.org/1999/xlink\">\n <metadata>\n  <rdf:RDF xmlns:cc=\"http://creativecommons.org/ns#\" xmlns:dc=\"http://purl.org/dc/elements/1.1/\" xmlns:rdf=\"http://www.w3.org/1999/02/22-rdf-syntax-ns#\">\n   <cc:Work>\n    <dc:type rdf:resource=\"http://purl.org/dc/dcmitype/StillImage\"/>\n    <dc:date>2021-07-08T16:16:50.542773</dc:date>\n    <dc:format>image/svg+xml</dc:format>\n    <dc:creator>\n     <cc:Agent>\n      <dc:title>Matplotlib v3.3.4, https://matplotlib.org/</dc:title>\n     </cc:Agent>\n    </dc:creator>\n   </cc:Work>\n  </rdf:RDF>\n </metadata>\n <defs>\n  <style type=\"text/css\">*{stroke-linecap:butt;stroke-linejoin:round;}</style>\n </defs>\n <g id=\"figure_1\">\n  <g id=\"patch_1\">\n   <path d=\"M 0 315.80875 \nL 385.78125 315.80875 \nL 385.78125 0 \nL 0 0 \nz\n\" style=\"fill:none;\"/>\n  </g>\n  <g id=\"axes_1\">\n   <g id=\"patch_2\">\n    <path d=\"M 43.78125 224.64 \nL 378.58125 224.64 \nL 378.58125 7.2 \nL 43.78125 7.2 \nz\n\" style=\"fill:#ffffff;\"/>\n   </g>\n   <g id=\"matplotlib.axis_1\">\n    <g id=\"xtick_1\">\n     <g id=\"line2d_1\">\n      <path clip-path=\"url(#pfb6f8b83f0)\" d=\"M 58.999432 224.64 \nL 58.999432 7.2 \n\" style=\"fill:none;stroke:#c0c0c0;stroke-linecap:square;stroke-width:0.8;\"/>\n     </g>\n     <g id=\"line2d_2\">\n      <defs>\n       <path d=\"M 0 0 \nL 0 3.5 \n\" id=\"m8a14fd556d\" style=\"stroke:#000000;stroke-width:0.8;\"/>\n      </defs>\n      <g>\n       <use style=\"stroke:#000000;stroke-width:0.8;\" x=\"58.999432\" xlink:href=\"#m8a14fd556d\" y=\"224.64\"/>\n      </g>\n     </g>\n     <g id=\"text_1\">\n      <!-- idea -->\n      <g transform=\"translate(61.758807 253.047813)rotate(-90)scale(0.1 -0.1)\">\n       <defs>\n        <path d=\"M 9.421875 54.6875 \nL 18.40625 54.6875 \nL 18.40625 0 \nL 9.421875 0 \nz\nM 9.421875 75.984375 \nL 18.40625 75.984375 \nL 18.40625 64.59375 \nL 9.421875 64.59375 \nz\n\" id=\"DejaVuSans-105\"/>\n        <path d=\"M 45.40625 46.390625 \nL 45.40625 75.984375 \nL 54.390625 75.984375 \nL 54.390625 0 \nL 45.40625 0 \nL 45.40625 8.203125 \nQ 42.578125 3.328125 38.25 0.953125 \nQ 33.9375 -1.421875 27.875 -1.421875 \nQ 17.96875 -1.421875 11.734375 6.484375 \nQ 5.515625 14.40625 5.515625 27.296875 \nQ 5.515625 40.1875 11.734375 48.09375 \nQ 17.96875 56 27.875 56 \nQ 33.9375 56 38.25 53.625 \nQ 42.578125 51.265625 45.40625 46.390625 \nz\nM 14.796875 27.296875 \nQ 14.796875 17.390625 18.875 11.75 \nQ 22.953125 6.109375 30.078125 6.109375 \nQ 37.203125 6.109375 41.296875 11.75 \nQ 45.40625 17.390625 45.40625 27.296875 \nQ 45.40625 37.203125 41.296875 42.84375 \nQ 37.203125 48.484375 30.078125 48.484375 \nQ 22.953125 48.484375 18.875 42.84375 \nQ 14.796875 37.203125 14.796875 27.296875 \nz\n\" id=\"DejaVuSans-100\"/>\n        <path d=\"M 56.203125 29.59375 \nL 56.203125 25.203125 \nL 14.890625 25.203125 \nQ 15.484375 15.921875 20.484375 11.0625 \nQ 25.484375 6.203125 34.421875 6.203125 \nQ 39.59375 6.203125 44.453125 7.46875 \nQ 49.3125 8.734375 54.109375 11.28125 \nL 54.109375 2.78125 \nQ 49.265625 0.734375 44.1875 -0.34375 \nQ 39.109375 -1.421875 33.890625 -1.421875 \nQ 20.796875 -1.421875 13.15625 6.1875 \nQ 5.515625 13.8125 5.515625 26.8125 \nQ 5.515625 40.234375 12.765625 48.109375 \nQ 20.015625 56 32.328125 56 \nQ 43.359375 56 49.78125 48.890625 \nQ 56.203125 41.796875 56.203125 29.59375 \nz\nM 47.21875 32.234375 \nQ 47.125 39.59375 43.09375 43.984375 \nQ 39.0625 48.390625 32.421875 48.390625 \nQ 24.90625 48.390625 20.390625 44.140625 \nQ 15.875 39.890625 15.1875 32.171875 \nz\n\" id=\"DejaVuSans-101\"/>\n        <path d=\"M 34.28125 27.484375 \nQ 23.390625 27.484375 19.1875 25 \nQ 14.984375 22.515625 14.984375 16.5 \nQ 14.984375 11.71875 18.140625 8.90625 \nQ 21.296875 6.109375 26.703125 6.109375 \nQ 34.1875 6.109375 38.703125 11.40625 \nQ 43.21875 16.703125 43.21875 25.484375 \nL 43.21875 27.484375 \nz\nM 52.203125 31.203125 \nL 52.203125 0 \nL 43.21875 0 \nL 43.21875 8.296875 \nQ 40.140625 3.328125 35.546875 0.953125 \nQ 30.953125 -1.421875 24.3125 -1.421875 \nQ 15.921875 -1.421875 10.953125 3.296875 \nQ 6 8.015625 6 15.921875 \nQ 6 25.140625 12.171875 29.828125 \nQ 18.359375 34.515625 30.609375 34.515625 \nL 43.21875 34.515625 \nL 43.21875 35.40625 \nQ 43.21875 41.609375 39.140625 45 \nQ 35.0625 48.390625 27.6875 48.390625 \nQ 23 48.390625 18.546875 47.265625 \nQ 14.109375 46.140625 10.015625 43.890625 \nL 10.015625 52.203125 \nQ 14.9375 54.109375 19.578125 55.046875 \nQ 24.21875 56 28.609375 56 \nQ 40.484375 56 46.34375 49.84375 \nQ 52.203125 43.703125 52.203125 31.203125 \nz\n\" id=\"DejaVuSans-97\"/>\n       </defs>\n       <use xlink:href=\"#DejaVuSans-105\"/>\n       <use x=\"27.783203\" xlink:href=\"#DejaVuSans-100\"/>\n       <use x=\"91.259766\" xlink:href=\"#DejaVuSans-101\"/>\n       <use x=\"152.783203\" xlink:href=\"#DejaVuSans-97\"/>\n      </g>\n     </g>\n    </g>\n    <g id=\"xtick_2\">\n     <g id=\"line2d_3\">\n      <path clip-path=\"url(#pfb6f8b83f0)\" d=\"M 75.018571 224.64 \nL 75.018571 7.2 \n\" style=\"fill:none;stroke:#c0c0c0;stroke-linecap:square;stroke-width:0.8;\"/>\n     </g>\n     <g id=\"line2d_4\">\n      <g>\n       <use style=\"stroke:#000000;stroke-width:0.8;\" x=\"75.018571\" xlink:href=\"#m8a14fd556d\" y=\"224.64\"/>\n      </g>\n     </g>\n     <g id=\"text_2\">\n      <!-- Helped -->\n      <g transform=\"translate(77.777946 266.941563)rotate(-90)scale(0.1 -0.1)\">\n       <defs>\n        <path d=\"M 9.8125 72.90625 \nL 19.671875 72.90625 \nL 19.671875 43.015625 \nL 55.515625 43.015625 \nL 55.515625 72.90625 \nL 65.375 72.90625 \nL 65.375 0 \nL 55.515625 0 \nL 55.515625 34.71875 \nL 19.671875 34.71875 \nL 19.671875 0 \nL 9.8125 0 \nz\n\" id=\"DejaVuSans-72\"/>\n        <path d=\"M 9.421875 75.984375 \nL 18.40625 75.984375 \nL 18.40625 0 \nL 9.421875 0 \nz\n\" id=\"DejaVuSans-108\"/>\n        <path d=\"M 18.109375 8.203125 \nL 18.109375 -20.796875 \nL 9.078125 -20.796875 \nL 9.078125 54.6875 \nL 18.109375 54.6875 \nL 18.109375 46.390625 \nQ 20.953125 51.265625 25.265625 53.625 \nQ 29.59375 56 35.59375 56 \nQ 45.5625 56 51.78125 48.09375 \nQ 58.015625 40.1875 58.015625 27.296875 \nQ 58.015625 14.40625 51.78125 6.484375 \nQ 45.5625 -1.421875 35.59375 -1.421875 \nQ 29.59375 -1.421875 25.265625 0.953125 \nQ 20.953125 3.328125 18.109375 8.203125 \nz\nM 48.6875 27.296875 \nQ 48.6875 37.203125 44.609375 42.84375 \nQ 40.53125 48.484375 33.40625 48.484375 \nQ 26.265625 48.484375 22.1875 42.84375 \nQ 18.109375 37.203125 18.109375 27.296875 \nQ 18.109375 17.390625 22.1875 11.75 \nQ 26.265625 6.109375 33.40625 6.109375 \nQ 40.53125 6.109375 44.609375 11.75 \nQ 48.6875 17.390625 48.6875 27.296875 \nz\n\" id=\"DejaVuSans-112\"/>\n       </defs>\n       <use xlink:href=\"#DejaVuSans-72\"/>\n       <use x=\"75.195312\" xlink:href=\"#DejaVuSans-101\"/>\n       <use x=\"136.71875\" xlink:href=\"#DejaVuSans-108\"/>\n       <use x=\"164.501953\" xlink:href=\"#DejaVuSans-112\"/>\n       <use x=\"227.978516\" xlink:href=\"#DejaVuSans-101\"/>\n       <use x=\"289.501953\" xlink:href=\"#DejaVuSans-100\"/>\n      </g>\n     </g>\n    </g>\n    <g id=\"xtick_3\">\n     <g id=\"line2d_5\">\n      <path clip-path=\"url(#pfb6f8b83f0)\" d=\"M 91.037709 224.64 \nL 91.037709 7.2 \n\" style=\"fill:none;stroke:#c0c0c0;stroke-linecap:square;stroke-width:0.8;\"/>\n     </g>\n     <g id=\"line2d_6\">\n      <g>\n       <use style=\"stroke:#000000;stroke-width:0.8;\" x=\"91.037709\" xlink:href=\"#m8a14fd556d\" y=\"224.64\"/>\n      </g>\n     </g>\n     <g id=\"text_3\">\n      <!-- come -->\n      <g transform=\"translate(93.797084 259.150938)rotate(-90)scale(0.1 -0.1)\">\n       <defs>\n        <path d=\"M 48.78125 52.59375 \nL 48.78125 44.1875 \nQ 44.96875 46.296875 41.140625 47.34375 \nQ 37.3125 48.390625 33.40625 48.390625 \nQ 24.65625 48.390625 19.8125 42.84375 \nQ 14.984375 37.3125 14.984375 27.296875 \nQ 14.984375 17.28125 19.8125 11.734375 \nQ 24.65625 6.203125 33.40625 6.203125 \nQ 37.3125 6.203125 41.140625 7.25 \nQ 44.96875 8.296875 48.78125 10.40625 \nL 48.78125 2.09375 \nQ 45.015625 0.34375 40.984375 -0.53125 \nQ 36.96875 -1.421875 32.421875 -1.421875 \nQ 20.0625 -1.421875 12.78125 6.34375 \nQ 5.515625 14.109375 5.515625 27.296875 \nQ 5.515625 40.671875 12.859375 48.328125 \nQ 20.21875 56 33.015625 56 \nQ 37.15625 56 41.109375 55.140625 \nQ 45.0625 54.296875 48.78125 52.59375 \nz\n\" id=\"DejaVuSans-99\"/>\n        <path d=\"M 30.609375 48.390625 \nQ 23.390625 48.390625 19.1875 42.75 \nQ 14.984375 37.109375 14.984375 27.296875 \nQ 14.984375 17.484375 19.15625 11.84375 \nQ 23.34375 6.203125 30.609375 6.203125 \nQ 37.796875 6.203125 41.984375 11.859375 \nQ 46.1875 17.53125 46.1875 27.296875 \nQ 46.1875 37.015625 41.984375 42.703125 \nQ 37.796875 48.390625 30.609375 48.390625 \nz\nM 30.609375 56 \nQ 42.328125 56 49.015625 48.375 \nQ 55.71875 40.765625 55.71875 27.296875 \nQ 55.71875 13.875 49.015625 6.21875 \nQ 42.328125 -1.421875 30.609375 -1.421875 \nQ 18.84375 -1.421875 12.171875 6.21875 \nQ 5.515625 13.875 5.515625 27.296875 \nQ 5.515625 40.765625 12.171875 48.375 \nQ 18.84375 56 30.609375 56 \nz\n\" id=\"DejaVuSans-111\"/>\n        <path d=\"M 52 44.1875 \nQ 55.375 50.25 60.0625 53.125 \nQ 64.75 56 71.09375 56 \nQ 79.640625 56 84.28125 50.015625 \nQ 88.921875 44.046875 88.921875 33.015625 \nL 88.921875 0 \nL 79.890625 0 \nL 79.890625 32.71875 \nQ 79.890625 40.578125 77.09375 44.375 \nQ 74.3125 48.1875 68.609375 48.1875 \nQ 61.625 48.1875 57.5625 43.546875 \nQ 53.515625 38.921875 53.515625 30.90625 \nL 53.515625 0 \nL 44.484375 0 \nL 44.484375 32.71875 \nQ 44.484375 40.625 41.703125 44.40625 \nQ 38.921875 48.1875 33.109375 48.1875 \nQ 26.21875 48.1875 22.15625 43.53125 \nQ 18.109375 38.875 18.109375 30.90625 \nL 18.109375 0 \nL 9.078125 0 \nL 9.078125 54.6875 \nL 18.109375 54.6875 \nL 18.109375 46.1875 \nQ 21.1875 51.21875 25.484375 53.609375 \nQ 29.78125 56 35.6875 56 \nQ 41.65625 56 45.828125 52.96875 \nQ 50 49.953125 52 44.1875 \nz\n\" id=\"DejaVuSans-109\"/>\n       </defs>\n       <use xlink:href=\"#DejaVuSans-99\"/>\n       <use x=\"54.980469\" xlink:href=\"#DejaVuSans-111\"/>\n       <use x=\"116.162109\" xlink:href=\"#DejaVuSans-109\"/>\n       <use x=\"213.574219\" xlink:href=\"#DejaVuSans-101\"/>\n      </g>\n     </g>\n    </g>\n    <g id=\"xtick_4\">\n     <g id=\"line2d_7\">\n      <path clip-path=\"url(#pfb6f8b83f0)\" d=\"M 107.056848 224.64 \nL 107.056848 7.2 \n\" style=\"fill:none;stroke:#c0c0c0;stroke-linecap:square;stroke-width:0.8;\"/>\n     </g>\n     <g id=\"line2d_8\">\n      <g>\n       <use style=\"stroke:#000000;stroke-width:0.8;\" x=\"107.056848\" xlink:href=\"#m8a14fd556d\" y=\"224.64\"/>\n      </g>\n     </g>\n     <g id=\"text_4\">\n      <!-- ways -->\n      <g transform=\"translate(109.816223 257.074375)rotate(-90)scale(0.1 -0.1)\">\n       <defs>\n        <path d=\"M 4.203125 54.6875 \nL 13.1875 54.6875 \nL 24.421875 12.015625 \nL 35.59375 54.6875 \nL 46.1875 54.6875 \nL 57.421875 12.015625 \nL 68.609375 54.6875 \nL 77.59375 54.6875 \nL 63.28125 0 \nL 52.6875 0 \nL 40.921875 44.828125 \nL 29.109375 0 \nL 18.5 0 \nz\n\" id=\"DejaVuSans-119\"/>\n        <path d=\"M 32.171875 -5.078125 \nQ 28.375 -14.84375 24.75 -17.8125 \nQ 21.140625 -20.796875 15.09375 -20.796875 \nL 7.90625 -20.796875 \nL 7.90625 -13.28125 \nL 13.1875 -13.28125 \nQ 16.890625 -13.28125 18.9375 -11.515625 \nQ 21 -9.765625 23.484375 -3.21875 \nL 25.09375 0.875 \nL 2.984375 54.6875 \nL 12.5 54.6875 \nL 29.59375 11.921875 \nL 46.6875 54.6875 \nL 56.203125 54.6875 \nz\n\" id=\"DejaVuSans-121\"/>\n        <path d=\"M 44.28125 53.078125 \nL 44.28125 44.578125 \nQ 40.484375 46.53125 36.375 47.5 \nQ 32.28125 48.484375 27.875 48.484375 \nQ 21.1875 48.484375 17.84375 46.4375 \nQ 14.5 44.390625 14.5 40.28125 \nQ 14.5 37.15625 16.890625 35.375 \nQ 19.28125 33.59375 26.515625 31.984375 \nL 29.59375 31.296875 \nQ 39.15625 29.25 43.1875 25.515625 \nQ 47.21875 21.78125 47.21875 15.09375 \nQ 47.21875 7.46875 41.1875 3.015625 \nQ 35.15625 -1.421875 24.609375 -1.421875 \nQ 20.21875 -1.421875 15.453125 -0.5625 \nQ 10.6875 0.296875 5.421875 2 \nL 5.421875 11.28125 \nQ 10.40625 8.6875 15.234375 7.390625 \nQ 20.0625 6.109375 24.8125 6.109375 \nQ 31.15625 6.109375 34.5625 8.28125 \nQ 37.984375 10.453125 37.984375 14.40625 \nQ 37.984375 18.0625 35.515625 20.015625 \nQ 33.0625 21.96875 24.703125 23.78125 \nL 21.578125 24.515625 \nQ 13.234375 26.265625 9.515625 29.90625 \nQ 5.8125 33.546875 5.8125 39.890625 \nQ 5.8125 47.609375 11.28125 51.796875 \nQ 16.75 56 26.8125 56 \nQ 31.78125 56 36.171875 55.265625 \nQ 40.578125 54.546875 44.28125 53.078125 \nz\n\" id=\"DejaVuSans-115\"/>\n       </defs>\n       <use xlink:href=\"#DejaVuSans-119\"/>\n       <use x=\"81.787109\" xlink:href=\"#DejaVuSans-97\"/>\n       <use x=\"143.066406\" xlink:href=\"#DejaVuSans-121\"/>\n       <use x=\"202.246094\" xlink:href=\"#DejaVuSans-115\"/>\n      </g>\n     </g>\n    </g>\n    <g id=\"xtick_5\">\n     <g id=\"line2d_9\">\n      <path clip-path=\"url(#pfb6f8b83f0)\" d=\"M 123.075987 224.64 \nL 123.075987 7.2 \n\" style=\"fill:none;stroke:#c0c0c0;stroke-linecap:square;stroke-width:0.8;\"/>\n     </g>\n     <g id=\"line2d_10\">\n      <g>\n       <use style=\"stroke:#000000;stroke-width:0.8;\" x=\"123.075987\" xlink:href=\"#m8a14fd556d\" y=\"224.64\"/>\n      </g>\n     </g>\n     <g id=\"text_5\">\n      <!-- improve -->\n      <g transform=\"translate(125.835362 272.58375)rotate(-90)scale(0.1 -0.1)\">\n       <defs>\n        <path d=\"M 41.109375 46.296875 \nQ 39.59375 47.171875 37.8125 47.578125 \nQ 36.03125 48 33.890625 48 \nQ 26.265625 48 22.1875 43.046875 \nQ 18.109375 38.09375 18.109375 28.8125 \nL 18.109375 0 \nL 9.078125 0 \nL 9.078125 54.6875 \nL 18.109375 54.6875 \nL 18.109375 46.1875 \nQ 20.953125 51.171875 25.484375 53.578125 \nQ 30.03125 56 36.53125 56 \nQ 37.453125 56 38.578125 55.875 \nQ 39.703125 55.765625 41.0625 55.515625 \nz\n\" id=\"DejaVuSans-114\"/>\n        <path d=\"M 2.984375 54.6875 \nL 12.5 54.6875 \nL 29.59375 8.796875 \nL 46.6875 54.6875 \nL 56.203125 54.6875 \nL 35.6875 0 \nL 23.484375 0 \nz\n\" id=\"DejaVuSans-118\"/>\n       </defs>\n       <use xlink:href=\"#DejaVuSans-105\"/>\n       <use x=\"27.783203\" xlink:href=\"#DejaVuSans-109\"/>\n       <use x=\"125.195312\" xlink:href=\"#DejaVuSans-112\"/>\n       <use x=\"188.671875\" xlink:href=\"#DejaVuSans-114\"/>\n       <use x=\"227.535156\" xlink:href=\"#DejaVuSans-111\"/>\n       <use x=\"288.716797\" xlink:href=\"#DejaVuSans-118\"/>\n       <use x=\"347.896484\" xlink:href=\"#DejaVuSans-101\"/>\n      </g>\n     </g>\n    </g>\n    <g id=\"xtick_6\">\n     <g id=\"line2d_11\">\n      <path clip-path=\"url(#pfb6f8b83f0)\" d=\"M 139.095126 224.64 \nL 139.095126 7.2 \n\" style=\"fill:none;stroke:#c0c0c0;stroke-linecap:square;stroke-width:0.8;\"/>\n     </g>\n     <g id=\"line2d_12\">\n      <g>\n       <use style=\"stroke:#000000;stroke-width:0.8;\" x=\"139.095126\" xlink:href=\"#m8a14fd556d\" y=\"224.64\"/>\n      </g>\n     </g>\n     <g id=\"text_6\">\n      <!-- presentation -->\n      <g transform=\"translate(141.854501 294.930625)rotate(-90)scale(0.1 -0.1)\">\n       <defs>\n        <path d=\"M 54.890625 33.015625 \nL 54.890625 0 \nL 45.90625 0 \nL 45.90625 32.71875 \nQ 45.90625 40.484375 42.875 44.328125 \nQ 39.84375 48.1875 33.796875 48.1875 \nQ 26.515625 48.1875 22.3125 43.546875 \nQ 18.109375 38.921875 18.109375 30.90625 \nL 18.109375 0 \nL 9.078125 0 \nL 9.078125 54.6875 \nL 18.109375 54.6875 \nL 18.109375 46.1875 \nQ 21.34375 51.125 25.703125 53.5625 \nQ 30.078125 56 35.796875 56 \nQ 45.21875 56 50.046875 50.171875 \nQ 54.890625 44.34375 54.890625 33.015625 \nz\n\" id=\"DejaVuSans-110\"/>\n        <path d=\"M 18.3125 70.21875 \nL 18.3125 54.6875 \nL 36.8125 54.6875 \nL 36.8125 47.703125 \nL 18.3125 47.703125 \nL 18.3125 18.015625 \nQ 18.3125 11.328125 20.140625 9.421875 \nQ 21.96875 7.515625 27.59375 7.515625 \nL 36.8125 7.515625 \nL 36.8125 0 \nL 27.59375 0 \nQ 17.1875 0 13.234375 3.875 \nQ 9.28125 7.765625 9.28125 18.015625 \nL 9.28125 47.703125 \nL 2.6875 47.703125 \nL 2.6875 54.6875 \nL 9.28125 54.6875 \nL 9.28125 70.21875 \nz\n\" id=\"DejaVuSans-116\"/>\n       </defs>\n       <use xlink:href=\"#DejaVuSans-112\"/>\n       <use x=\"63.476562\" xlink:href=\"#DejaVuSans-114\"/>\n       <use x=\"102.339844\" xlink:href=\"#DejaVuSans-101\"/>\n       <use x=\"163.863281\" xlink:href=\"#DejaVuSans-115\"/>\n       <use x=\"215.962891\" xlink:href=\"#DejaVuSans-101\"/>\n       <use x=\"277.486328\" xlink:href=\"#DejaVuSans-110\"/>\n       <use x=\"340.865234\" xlink:href=\"#DejaVuSans-116\"/>\n       <use x=\"380.074219\" xlink:href=\"#DejaVuSans-97\"/>\n       <use x=\"441.353516\" xlink:href=\"#DejaVuSans-116\"/>\n       <use x=\"480.5625\" xlink:href=\"#DejaVuSans-105\"/>\n       <use x=\"508.345703\" xlink:href=\"#DejaVuSans-111\"/>\n       <use x=\"569.527344\" xlink:href=\"#DejaVuSans-110\"/>\n      </g>\n     </g>\n    </g>\n    <g id=\"xtick_7\">\n     <g id=\"line2d_13\">\n      <path clip-path=\"url(#pfb6f8b83f0)\" d=\"M 155.114264 224.64 \nL 155.114264 7.2 \n\" style=\"fill:none;stroke:#c0c0c0;stroke-linecap:square;stroke-width:0.8;\"/>\n     </g>\n     <g id=\"line2d_14\">\n      <g>\n       <use style=\"stroke:#000000;stroke-width:0.8;\" x=\"155.114264\" xlink:href=\"#m8a14fd556d\" y=\"224.64\"/>\n      </g>\n     </g>\n     <g id=\"text_7\">\n      <!-- Worked -->\n      <g transform=\"translate(157.873639 269.099375)rotate(-90)scale(0.1 -0.1)\">\n       <defs>\n        <path d=\"M 3.328125 72.90625 \nL 13.28125 72.90625 \nL 28.609375 11.28125 \nL 43.890625 72.90625 \nL 54.984375 72.90625 \nL 70.3125 11.28125 \nL 85.59375 72.90625 \nL 95.609375 72.90625 \nL 77.296875 0 \nL 64.890625 0 \nL 49.515625 63.28125 \nL 33.984375 0 \nL 21.578125 0 \nz\n\" id=\"DejaVuSans-87\"/>\n        <path d=\"M 9.078125 75.984375 \nL 18.109375 75.984375 \nL 18.109375 31.109375 \nL 44.921875 54.6875 \nL 56.390625 54.6875 \nL 27.390625 29.109375 \nL 57.625 0 \nL 45.90625 0 \nL 18.109375 26.703125 \nL 18.109375 0 \nL 9.078125 0 \nz\n\" id=\"DejaVuSans-107\"/>\n       </defs>\n       <use xlink:href=\"#DejaVuSans-87\"/>\n       <use x=\"93.001953\" xlink:href=\"#DejaVuSans-111\"/>\n       <use x=\"154.183594\" xlink:href=\"#DejaVuSans-114\"/>\n       <use x=\"195.296875\" xlink:href=\"#DejaVuSans-107\"/>\n       <use x=\"249.582031\" xlink:href=\"#DejaVuSans-101\"/>\n       <use x=\"311.105469\" xlink:href=\"#DejaVuSans-100\"/>\n      </g>\n     </g>\n    </g>\n    <g id=\"xtick_8\">\n     <g id=\"line2d_15\">\n      <path clip-path=\"url(#pfb6f8b83f0)\" d=\"M 171.133403 224.64 \nL 171.133403 7.2 \n\" style=\"fill:none;stroke:#c0c0c0;stroke-linecap:square;stroke-width:0.8;\"/>\n     </g>\n     <g id=\"line2d_16\">\n      <g>\n       <use style=\"stroke:#000000;stroke-width:0.8;\" x=\"171.133403\" xlink:href=\"#m8a14fd556d\" y=\"224.64\"/>\n      </g>\n     </g>\n     <g id=\"text_8\">\n      <!-- developing -->\n      <g transform=\"translate(173.892778 286.922813)rotate(-90)scale(0.1 -0.1)\">\n       <defs>\n        <path d=\"M 45.40625 27.984375 \nQ 45.40625 37.75 41.375 43.109375 \nQ 37.359375 48.484375 30.078125 48.484375 \nQ 22.859375 48.484375 18.828125 43.109375 \nQ 14.796875 37.75 14.796875 27.984375 \nQ 14.796875 18.265625 18.828125 12.890625 \nQ 22.859375 7.515625 30.078125 7.515625 \nQ 37.359375 7.515625 41.375 12.890625 \nQ 45.40625 18.265625 45.40625 27.984375 \nz\nM 54.390625 6.78125 \nQ 54.390625 -7.171875 48.1875 -13.984375 \nQ 42 -20.796875 29.203125 -20.796875 \nQ 24.46875 -20.796875 20.265625 -20.09375 \nQ 16.0625 -19.390625 12.109375 -17.921875 \nL 12.109375 -9.1875 \nQ 16.0625 -11.328125 19.921875 -12.34375 \nQ 23.78125 -13.375 27.78125 -13.375 \nQ 36.625 -13.375 41.015625 -8.765625 \nQ 45.40625 -4.15625 45.40625 5.171875 \nL 45.40625 9.625 \nQ 42.625 4.78125 38.28125 2.390625 \nQ 33.9375 0 27.875 0 \nQ 17.828125 0 11.671875 7.65625 \nQ 5.515625 15.328125 5.515625 27.984375 \nQ 5.515625 40.671875 11.671875 48.328125 \nQ 17.828125 56 27.875 56 \nQ 33.9375 56 38.28125 53.609375 \nQ 42.625 51.21875 45.40625 46.390625 \nL 45.40625 54.6875 \nL 54.390625 54.6875 \nz\n\" id=\"DejaVuSans-103\"/>\n       </defs>\n       <use xlink:href=\"#DejaVuSans-100\"/>\n       <use x=\"63.476562\" xlink:href=\"#DejaVuSans-101\"/>\n       <use x=\"125\" xlink:href=\"#DejaVuSans-118\"/>\n       <use x=\"184.179688\" xlink:href=\"#DejaVuSans-101\"/>\n       <use x=\"245.703125\" xlink:href=\"#DejaVuSans-108\"/>\n       <use x=\"273.486328\" xlink:href=\"#DejaVuSans-111\"/>\n       <use x=\"334.667969\" xlink:href=\"#DejaVuSans-112\"/>\n       <use x=\"398.144531\" xlink:href=\"#DejaVuSans-105\"/>\n       <use x=\"425.927734\" xlink:href=\"#DejaVuSans-110\"/>\n       <use x=\"489.306641\" xlink:href=\"#DejaVuSans-103\"/>\n      </g>\n     </g>\n    </g>\n    <g id=\"xtick_9\">\n     <g id=\"line2d_17\">\n      <path clip-path=\"url(#pfb6f8b83f0)\" d=\"M 187.152542 224.64 \nL 187.152542 7.2 \n\" style=\"fill:none;stroke:#c0c0c0;stroke-linecap:square;stroke-width:0.8;\"/>\n     </g>\n     <g id=\"line2d_18\">\n      <g>\n       <use style=\"stroke:#000000;stroke-width:0.8;\" x=\"187.152542\" xlink:href=\"#m8a14fd556d\" y=\"224.64\"/>\n      </g>\n     </g>\n     <g id=\"text_9\">\n      <!-- iterations -->\n      <g transform=\"translate(189.911917 279.094688)rotate(-90)scale(0.1 -0.1)\">\n       <use xlink:href=\"#DejaVuSans-105\"/>\n       <use x=\"27.783203\" xlink:href=\"#DejaVuSans-116\"/>\n       <use x=\"66.992188\" xlink:href=\"#DejaVuSans-101\"/>\n       <use x=\"128.515625\" xlink:href=\"#DejaVuSans-114\"/>\n       <use x=\"169.628906\" xlink:href=\"#DejaVuSans-97\"/>\n       <use x=\"230.908203\" xlink:href=\"#DejaVuSans-116\"/>\n       <use x=\"270.117188\" xlink:href=\"#DejaVuSans-105\"/>\n       <use x=\"297.900391\" xlink:href=\"#DejaVuSans-111\"/>\n       <use x=\"359.082031\" xlink:href=\"#DejaVuSans-110\"/>\n       <use x=\"422.460938\" xlink:href=\"#DejaVuSans-115\"/>\n      </g>\n     </g>\n    </g>\n    <g id=\"xtick_10\">\n     <g id=\"line2d_19\">\n      <path clip-path=\"url(#pfb6f8b83f0)\" d=\"M 203.171681 224.64 \nL 203.171681 7.2 \n\" style=\"fill:none;stroke:#c0c0c0;stroke-linecap:square;stroke-width:0.8;\"/>\n     </g>\n     <g id=\"line2d_20\">\n      <g>\n       <use style=\"stroke:#000000;stroke-width:0.8;\" x=\"203.171681\" xlink:href=\"#m8a14fd556d\" y=\"224.64\"/>\n      </g>\n     </g>\n     <g id=\"text_10\">\n      <!-- completing -->\n      <g transform=\"translate(205.931056 287.661875)rotate(-90)scale(0.1 -0.1)\">\n       <use xlink:href=\"#DejaVuSans-99\"/>\n       <use x=\"54.980469\" xlink:href=\"#DejaVuSans-111\"/>\n       <use x=\"116.162109\" xlink:href=\"#DejaVuSans-109\"/>\n       <use x=\"213.574219\" xlink:href=\"#DejaVuSans-112\"/>\n       <use x=\"277.050781\" xlink:href=\"#DejaVuSans-108\"/>\n       <use x=\"304.833984\" xlink:href=\"#DejaVuSans-101\"/>\n       <use x=\"366.357422\" xlink:href=\"#DejaVuSans-116\"/>\n       <use x=\"405.566406\" xlink:href=\"#DejaVuSans-105\"/>\n       <use x=\"433.349609\" xlink:href=\"#DejaVuSans-110\"/>\n       <use x=\"496.728516\" xlink:href=\"#DejaVuSans-103\"/>\n      </g>\n     </g>\n    </g>\n    <g id=\"xtick_11\">\n     <g id=\"line2d_21\">\n      <path clip-path=\"url(#pfb6f8b83f0)\" d=\"M 219.190819 224.64 \nL 219.190819 7.2 \n\" style=\"fill:none;stroke:#c0c0c0;stroke-linecap:square;stroke-width:0.8;\"/>\n     </g>\n     <g id=\"line2d_22\">\n      <g>\n       <use style=\"stroke:#000000;stroke-width:0.8;\" x=\"219.190819\" xlink:href=\"#m8a14fd556d\" y=\"224.64\"/>\n      </g>\n     </g>\n     <g id=\"text_11\">\n      <!-- milestone -->\n      <g transform=\"translate(221.950194 280.829063)rotate(-90)scale(0.1 -0.1)\">\n       <use xlink:href=\"#DejaVuSans-109\"/>\n       <use x=\"97.412109\" xlink:href=\"#DejaVuSans-105\"/>\n       <use x=\"125.195312\" xlink:href=\"#DejaVuSans-108\"/>\n       <use x=\"152.978516\" xlink:href=\"#DejaVuSans-101\"/>\n       <use x=\"214.501953\" xlink:href=\"#DejaVuSans-115\"/>\n       <use x=\"266.601562\" xlink:href=\"#DejaVuSans-116\"/>\n       <use x=\"305.810547\" xlink:href=\"#DejaVuSans-111\"/>\n       <use x=\"366.992188\" xlink:href=\"#DejaVuSans-110\"/>\n       <use x=\"430.371094\" xlink:href=\"#DejaVuSans-101\"/>\n      </g>\n     </g>\n    </g>\n    <g id=\"xtick_12\">\n     <g id=\"line2d_23\">\n      <path clip-path=\"url(#pfb6f8b83f0)\" d=\"M 235.209958 224.64 \nL 235.209958 7.2 \n\" style=\"fill:none;stroke:#c0c0c0;stroke-linecap:square;stroke-width:0.8;\"/>\n     </g>\n     <g id=\"line2d_24\">\n      <g>\n       <use style=\"stroke:#000000;stroke-width:0.8;\" x=\"235.209958\" xlink:href=\"#m8a14fd556d\" y=\"224.64\"/>\n      </g>\n     </g>\n     <g id=\"text_12\">\n      <!-- Spent -->\n      <g transform=\"translate(237.969333 260.747813)rotate(-90)scale(0.1 -0.1)\">\n       <defs>\n        <path d=\"M 53.515625 70.515625 \nL 53.515625 60.890625 \nQ 47.90625 63.578125 42.921875 64.890625 \nQ 37.9375 66.21875 33.296875 66.21875 \nQ 25.25 66.21875 20.875 63.09375 \nQ 16.5 59.96875 16.5 54.203125 \nQ 16.5 49.359375 19.40625 46.890625 \nQ 22.3125 44.4375 30.421875 42.921875 \nL 36.375 41.703125 \nQ 47.40625 39.59375 52.65625 34.296875 \nQ 57.90625 29 57.90625 20.125 \nQ 57.90625 9.515625 50.796875 4.046875 \nQ 43.703125 -1.421875 29.984375 -1.421875 \nQ 24.8125 -1.421875 18.96875 -0.25 \nQ 13.140625 0.921875 6.890625 3.21875 \nL 6.890625 13.375 \nQ 12.890625 10.015625 18.65625 8.296875 \nQ 24.421875 6.59375 29.984375 6.59375 \nQ 38.421875 6.59375 43.015625 9.90625 \nQ 47.609375 13.234375 47.609375 19.390625 \nQ 47.609375 24.75 44.3125 27.78125 \nQ 41.015625 30.8125 33.5 32.328125 \nL 27.484375 33.5 \nQ 16.453125 35.6875 11.515625 40.375 \nQ 6.59375 45.0625 6.59375 53.421875 \nQ 6.59375 63.09375 13.40625 68.65625 \nQ 20.21875 74.21875 32.171875 74.21875 \nQ 37.3125 74.21875 42.625 73.28125 \nQ 47.953125 72.359375 53.515625 70.515625 \nz\n\" id=\"DejaVuSans-83\"/>\n       </defs>\n       <use xlink:href=\"#DejaVuSans-83\"/>\n       <use x=\"63.476562\" xlink:href=\"#DejaVuSans-112\"/>\n       <use x=\"126.953125\" xlink:href=\"#DejaVuSans-101\"/>\n       <use x=\"188.476562\" xlink:href=\"#DejaVuSans-110\"/>\n       <use x=\"251.855469\" xlink:href=\"#DejaVuSans-116\"/>\n      </g>\n     </g>\n    </g>\n    <g id=\"xtick_13\">\n     <g id=\"line2d_25\">\n      <path clip-path=\"url(#pfb6f8b83f0)\" d=\"M 251.229097 224.64 \nL 251.229097 7.2 \n\" style=\"fill:none;stroke:#c0c0c0;stroke-linecap:square;stroke-width:0.8;\"/>\n     </g>\n     <g id=\"line2d_26\">\n      <g>\n       <use style=\"stroke:#000000;stroke-width:0.8;\" x=\"251.229097\" xlink:href=\"#m8a14fd556d\" y=\"224.64\"/>\n      </g>\n     </g>\n     <g id=\"text_13\">\n      <!-- lot -->\n      <g transform=\"translate(253.988472 244.457188)rotate(-90)scale(0.1 -0.1)\">\n       <use xlink:href=\"#DejaVuSans-108\"/>\n       <use x=\"27.783203\" xlink:href=\"#DejaVuSans-111\"/>\n       <use x=\"88.964844\" xlink:href=\"#DejaVuSans-116\"/>\n      </g>\n     </g>\n    </g>\n    <g id=\"xtick_14\">\n     <g id=\"line2d_27\">\n      <path clip-path=\"url(#pfb6f8b83f0)\" d=\"M 267.248236 224.64 \nL 267.248236 7.2 \n\" style=\"fill:none;stroke:#c0c0c0;stroke-linecap:square;stroke-width:0.8;\"/>\n     </g>\n     <g id=\"line2d_28\">\n      <g>\n       <use style=\"stroke:#000000;stroke-width:0.8;\" x=\"267.248236\" xlink:href=\"#m8a14fd556d\" y=\"224.64\"/>\n      </g>\n     </g>\n     <g id=\"text_14\">\n      <!-- time -->\n      <g transform=\"translate(270.007611 254.232188)rotate(-90)scale(0.1 -0.1)\">\n       <use xlink:href=\"#DejaVuSans-116\"/>\n       <use x=\"39.208984\" xlink:href=\"#DejaVuSans-105\"/>\n       <use x=\"66.992188\" xlink:href=\"#DejaVuSans-109\"/>\n       <use x=\"164.404297\" xlink:href=\"#DejaVuSans-101\"/>\n      </g>\n     </g>\n    </g>\n    <g id=\"xtick_15\">\n     <g id=\"line2d_29\">\n      <path clip-path=\"url(#pfb6f8b83f0)\" d=\"M 283.267374 224.64 \nL 283.267374 7.2 \n\" style=\"fill:none;stroke:#c0c0c0;stroke-linecap:square;stroke-width:0.8;\"/>\n     </g>\n     <g id=\"line2d_30\">\n      <g>\n       <use style=\"stroke:#000000;stroke-width:0.8;\" x=\"283.267374\" xlink:href=\"#m8a14fd556d\" y=\"224.64\"/>\n      </g>\n     </g>\n     <g id=\"text_15\">\n      <!-- working -->\n      <g transform=\"translate(286.026749 271.3025)rotate(-90)scale(0.1 -0.1)\">\n       <use xlink:href=\"#DejaVuSans-119\"/>\n       <use x=\"81.787109\" xlink:href=\"#DejaVuSans-111\"/>\n       <use x=\"142.96875\" xlink:href=\"#DejaVuSans-114\"/>\n       <use x=\"184.082031\" xlink:href=\"#DejaVuSans-107\"/>\n       <use x=\"241.992188\" xlink:href=\"#DejaVuSans-105\"/>\n       <use x=\"269.775391\" xlink:href=\"#DejaVuSans-110\"/>\n       <use x=\"333.154297\" xlink:href=\"#DejaVuSans-103\"/>\n      </g>\n     </g>\n    </g>\n    <g id=\"xtick_16\">\n     <g id=\"line2d_31\">\n      <path clip-path=\"url(#pfb6f8b83f0)\" d=\"M 299.286513 224.64 \nL 299.286513 7.2 \n\" style=\"fill:none;stroke:#c0c0c0;stroke-linecap:square;stroke-width:0.8;\"/>\n     </g>\n     <g id=\"line2d_32\">\n      <g>\n       <use style=\"stroke:#000000;stroke-width:0.8;\" x=\"299.286513\" xlink:href=\"#m8a14fd556d\" y=\"224.64\"/>\n      </g>\n     </g>\n     <g id=\"text_16\">\n      <!-- CAD -->\n      <g transform=\"translate(302.045888 253.163438)rotate(-90)scale(0.1 -0.1)\">\n       <defs>\n        <path d=\"M 64.40625 67.28125 \nL 64.40625 56.890625 \nQ 59.421875 61.53125 53.78125 63.8125 \nQ 48.140625 66.109375 41.796875 66.109375 \nQ 29.296875 66.109375 22.65625 58.46875 \nQ 16.015625 50.828125 16.015625 36.375 \nQ 16.015625 21.96875 22.65625 14.328125 \nQ 29.296875 6.6875 41.796875 6.6875 \nQ 48.140625 6.6875 53.78125 8.984375 \nQ 59.421875 11.28125 64.40625 15.921875 \nL 64.40625 5.609375 \nQ 59.234375 2.09375 53.4375 0.328125 \nQ 47.65625 -1.421875 41.21875 -1.421875 \nQ 24.65625 -1.421875 15.125 8.703125 \nQ 5.609375 18.84375 5.609375 36.375 \nQ 5.609375 53.953125 15.125 64.078125 \nQ 24.65625 74.21875 41.21875 74.21875 \nQ 47.75 74.21875 53.53125 72.484375 \nQ 59.328125 70.75 64.40625 67.28125 \nz\n\" id=\"DejaVuSans-67\"/>\n        <path d=\"M 34.1875 63.1875 \nL 20.796875 26.90625 \nL 47.609375 26.90625 \nz\nM 28.609375 72.90625 \nL 39.796875 72.90625 \nL 67.578125 0 \nL 57.328125 0 \nL 50.6875 18.703125 \nL 17.828125 18.703125 \nL 11.1875 0 \nL 0.78125 0 \nz\n\" id=\"DejaVuSans-65\"/>\n        <path d=\"M 19.671875 64.796875 \nL 19.671875 8.109375 \nL 31.59375 8.109375 \nQ 46.6875 8.109375 53.6875 14.9375 \nQ 60.6875 21.78125 60.6875 36.53125 \nQ 60.6875 51.171875 53.6875 57.984375 \nQ 46.6875 64.796875 31.59375 64.796875 \nz\nM 9.8125 72.90625 \nL 30.078125 72.90625 \nQ 51.265625 72.90625 61.171875 64.09375 \nQ 71.09375 55.28125 71.09375 36.53125 \nQ 71.09375 17.671875 61.125 8.828125 \nQ 51.171875 0 30.078125 0 \nL 9.8125 0 \nz\n\" id=\"DejaVuSans-68\"/>\n       </defs>\n       <use xlink:href=\"#DejaVuSans-67\"/>\n       <use x=\"69.824219\" xlink:href=\"#DejaVuSans-65\"/>\n       <use x=\"138.232422\" xlink:href=\"#DejaVuSans-68\"/>\n      </g>\n     </g>\n    </g>\n    <g id=\"xtick_17\">\n     <g id=\"line2d_33\">\n      <path clip-path=\"url(#pfb6f8b83f0)\" d=\"M 315.305652 224.64 \nL 315.305652 7.2 \n\" style=\"fill:none;stroke:#c0c0c0;stroke-linecap:square;stroke-width:0.8;\"/>\n     </g>\n     <g id=\"line2d_34\">\n      <g>\n       <use style=\"stroke:#000000;stroke-width:0.8;\" x=\"315.305652\" xlink:href=\"#m8a14fd556d\" y=\"224.64\"/>\n      </g>\n     </g>\n     <g id=\"text_17\">\n      <!-- project -->\n      <g transform=\"translate(318.065027 266.343125)rotate(-90)scale(0.1 -0.1)\">\n       <defs>\n        <path d=\"M 9.421875 54.6875 \nL 18.40625 54.6875 \nL 18.40625 -0.984375 \nQ 18.40625 -11.421875 14.421875 -16.109375 \nQ 10.453125 -20.796875 1.609375 -20.796875 \nL -1.8125 -20.796875 \nL -1.8125 -13.1875 \nL 0.59375 -13.1875 \nQ 5.71875 -13.1875 7.5625 -10.8125 \nQ 9.421875 -8.453125 9.421875 -0.984375 \nz\nM 9.421875 75.984375 \nL 18.40625 75.984375 \nL 18.40625 64.59375 \nL 9.421875 64.59375 \nz\n\" id=\"DejaVuSans-106\"/>\n       </defs>\n       <use xlink:href=\"#DejaVuSans-112\"/>\n       <use x=\"63.476562\" xlink:href=\"#DejaVuSans-114\"/>\n       <use x=\"102.339844\" xlink:href=\"#DejaVuSans-111\"/>\n       <use x=\"163.521484\" xlink:href=\"#DejaVuSans-106\"/>\n       <use x=\"191.304688\" xlink:href=\"#DejaVuSans-101\"/>\n       <use x=\"252.828125\" xlink:href=\"#DejaVuSans-99\"/>\n       <use x=\"307.808594\" xlink:href=\"#DejaVuSans-116\"/>\n      </g>\n     </g>\n    </g>\n    <g id=\"xtick_18\">\n     <g id=\"line2d_35\">\n      <path clip-path=\"url(#pfb6f8b83f0)\" d=\"M 331.324791 224.64 \nL 331.324791 7.2 \n\" style=\"fill:none;stroke:#c0c0c0;stroke-linecap:square;stroke-width:0.8;\"/>\n     </g>\n     <g id=\"line2d_36\">\n      <g>\n       <use style=\"stroke:#000000;stroke-width:0.8;\" x=\"331.324791\" xlink:href=\"#m8a14fd556d\" y=\"224.64\"/>\n      </g>\n     </g>\n     <g id=\"text_18\">\n      <!-- Went -->\n      <g transform=\"translate(334.084166 257.350938)rotate(-90)scale(0.1 -0.1)\">\n       <use xlink:href=\"#DejaVuSans-87\"/>\n       <use x=\"93.001953\" xlink:href=\"#DejaVuSans-101\"/>\n       <use x=\"154.525391\" xlink:href=\"#DejaVuSans-110\"/>\n       <use x=\"217.904297\" xlink:href=\"#DejaVuSans-116\"/>\n      </g>\n     </g>\n    </g>\n    <g id=\"xtick_19\">\n     <g id=\"line2d_37\">\n      <path clip-path=\"url(#pfb6f8b83f0)\" d=\"M 347.343929 224.64 \nL 347.343929 7.2 \n\" style=\"fill:none;stroke:#c0c0c0;stroke-linecap:square;stroke-width:0.8;\"/>\n     </g>\n     <g id=\"line2d_38\">\n      <g>\n       <use style=\"stroke:#000000;stroke-width:0.8;\" x=\"347.343929\" xlink:href=\"#m8a14fd556d\" y=\"224.64\"/>\n      </g>\n     </g>\n     <g id=\"text_19\">\n      <!-- person -->\n      <g transform=\"translate(350.103304 265.918125)rotate(-90)scale(0.1 -0.1)\">\n       <use xlink:href=\"#DejaVuSans-112\"/>\n       <use x=\"63.476562\" xlink:href=\"#DejaVuSans-101\"/>\n       <use x=\"125\" xlink:href=\"#DejaVuSans-114\"/>\n       <use x=\"166.113281\" xlink:href=\"#DejaVuSans-115\"/>\n       <use x=\"218.212891\" xlink:href=\"#DejaVuSans-111\"/>\n       <use x=\"279.394531\" xlink:href=\"#DejaVuSans-110\"/>\n      </g>\n     </g>\n    </g>\n    <g id=\"xtick_20\">\n     <g id=\"line2d_39\">\n      <path clip-path=\"url(#pfb6f8b83f0)\" d=\"M 363.363068 224.64 \nL 363.363068 7.2 \n\" style=\"fill:none;stroke:#c0c0c0;stroke-linecap:square;stroke-width:0.8;\"/>\n     </g>\n     <g id=\"line2d_40\">\n      <g>\n       <use style=\"stroke:#000000;stroke-width:0.8;\" x=\"363.363068\" xlink:href=\"#m8a14fd556d\" y=\"224.64\"/>\n      </g>\n     </g>\n     <g id=\"text_20\">\n      <!-- labs -->\n      <g transform=\"translate(366.122443 252.104063)rotate(-90)scale(0.1 -0.1)\">\n       <defs>\n        <path d=\"M 48.6875 27.296875 \nQ 48.6875 37.203125 44.609375 42.84375 \nQ 40.53125 48.484375 33.40625 48.484375 \nQ 26.265625 48.484375 22.1875 42.84375 \nQ 18.109375 37.203125 18.109375 27.296875 \nQ 18.109375 17.390625 22.1875 11.75 \nQ 26.265625 6.109375 33.40625 6.109375 \nQ 40.53125 6.109375 44.609375 11.75 \nQ 48.6875 17.390625 48.6875 27.296875 \nz\nM 18.109375 46.390625 \nQ 20.953125 51.265625 25.265625 53.625 \nQ 29.59375 56 35.59375 56 \nQ 45.5625 56 51.78125 48.09375 \nQ 58.015625 40.1875 58.015625 27.296875 \nQ 58.015625 14.40625 51.78125 6.484375 \nQ 45.5625 -1.421875 35.59375 -1.421875 \nQ 29.59375 -1.421875 25.265625 0.953125 \nQ 20.953125 3.328125 18.109375 8.203125 \nL 18.109375 0 \nL 9.078125 0 \nL 9.078125 75.984375 \nL 18.109375 75.984375 \nz\n\" id=\"DejaVuSans-98\"/>\n       </defs>\n       <use xlink:href=\"#DejaVuSans-108\"/>\n       <use x=\"27.783203\" xlink:href=\"#DejaVuSans-97\"/>\n       <use x=\"89.0625\" xlink:href=\"#DejaVuSans-98\"/>\n       <use x=\"152.539062\" xlink:href=\"#DejaVuSans-115\"/>\n      </g>\n     </g>\n    </g>\n    <g id=\"text_21\">\n     <!-- Samples -->\n     <g transform=\"translate(189.828125 306.529063)scale(0.1 -0.1)\">\n      <use xlink:href=\"#DejaVuSans-83\"/>\n      <use x=\"63.476562\" xlink:href=\"#DejaVuSans-97\"/>\n      <use x=\"124.755859\" xlink:href=\"#DejaVuSans-109\"/>\n      <use x=\"222.167969\" xlink:href=\"#DejaVuSans-112\"/>\n      <use x=\"285.644531\" xlink:href=\"#DejaVuSans-108\"/>\n      <use x=\"313.427734\" xlink:href=\"#DejaVuSans-101\"/>\n      <use x=\"374.951172\" xlink:href=\"#DejaVuSans-115\"/>\n     </g>\n    </g>\n   </g>\n   <g id=\"matplotlib.axis_2\">\n    <g id=\"ytick_1\">\n     <g id=\"line2d_41\">\n      <path clip-path=\"url(#pfb6f8b83f0)\" d=\"M 43.78125 214.756364 \nL 378.58125 214.756364 \n\" style=\"fill:none;stroke:#c0c0c0;stroke-linecap:square;stroke-width:0.8;\"/>\n     </g>\n     <g id=\"line2d_42\">\n      <defs>\n       <path d=\"M 0 0 \nL -3.5 0 \n\" id=\"m06d81f1ec1\" style=\"stroke:#000000;stroke-width:0.8;\"/>\n      </defs>\n      <g>\n       <use style=\"stroke:#000000;stroke-width:0.8;\" x=\"43.78125\" xlink:href=\"#m06d81f1ec1\" y=\"214.756364\"/>\n      </g>\n     </g>\n     <g id=\"text_22\">\n      <!-- 1.0 -->\n      <g transform=\"translate(20.878125 218.555582)scale(0.1 -0.1)\">\n       <defs>\n        <path d=\"M 12.40625 8.296875 \nL 28.515625 8.296875 \nL 28.515625 63.921875 \nL 10.984375 60.40625 \nL 10.984375 69.390625 \nL 28.421875 72.90625 \nL 38.28125 72.90625 \nL 38.28125 8.296875 \nL 54.390625 8.296875 \nL 54.390625 0 \nL 12.40625 0 \nz\n\" id=\"DejaVuSans-49\"/>\n        <path d=\"M 10.6875 12.40625 \nL 21 12.40625 \nL 21 0 \nL 10.6875 0 \nz\n\" id=\"DejaVuSans-46\"/>\n        <path d=\"M 31.78125 66.40625 \nQ 24.171875 66.40625 20.328125 58.90625 \nQ 16.5 51.421875 16.5 36.375 \nQ 16.5 21.390625 20.328125 13.890625 \nQ 24.171875 6.390625 31.78125 6.390625 \nQ 39.453125 6.390625 43.28125 13.890625 \nQ 47.125 21.390625 47.125 36.375 \nQ 47.125 51.421875 43.28125 58.90625 \nQ 39.453125 66.40625 31.78125 66.40625 \nz\nM 31.78125 74.21875 \nQ 44.046875 74.21875 50.515625 64.515625 \nQ 56.984375 54.828125 56.984375 36.375 \nQ 56.984375 17.96875 50.515625 8.265625 \nQ 44.046875 -1.421875 31.78125 -1.421875 \nQ 19.53125 -1.421875 13.0625 8.265625 \nQ 6.59375 17.96875 6.59375 36.375 \nQ 6.59375 54.828125 13.0625 64.515625 \nQ 19.53125 74.21875 31.78125 74.21875 \nz\n\" id=\"DejaVuSans-48\"/>\n       </defs>\n       <use xlink:href=\"#DejaVuSans-49\"/>\n       <use x=\"63.623047\" xlink:href=\"#DejaVuSans-46\"/>\n       <use x=\"95.410156\" xlink:href=\"#DejaVuSans-48\"/>\n      </g>\n     </g>\n    </g>\n    <g id=\"ytick_2\">\n     <g id=\"line2d_43\">\n      <path clip-path=\"url(#pfb6f8b83f0)\" d=\"M 43.78125 175.221818 \nL 378.58125 175.221818 \n\" style=\"fill:none;stroke:#c0c0c0;stroke-linecap:square;stroke-width:0.8;\"/>\n     </g>\n     <g id=\"line2d_44\">\n      <g>\n       <use style=\"stroke:#000000;stroke-width:0.8;\" x=\"43.78125\" xlink:href=\"#m06d81f1ec1\" y=\"175.221818\"/>\n      </g>\n     </g>\n     <g id=\"text_23\">\n      <!-- 1.2 -->\n      <g transform=\"translate(20.878125 179.021037)scale(0.1 -0.1)\">\n       <defs>\n        <path d=\"M 19.1875 8.296875 \nL 53.609375 8.296875 \nL 53.609375 0 \nL 7.328125 0 \nL 7.328125 8.296875 \nQ 12.9375 14.109375 22.625 23.890625 \nQ 32.328125 33.6875 34.8125 36.53125 \nQ 39.546875 41.84375 41.421875 45.53125 \nQ 43.3125 49.21875 43.3125 52.78125 \nQ 43.3125 58.59375 39.234375 62.25 \nQ 35.15625 65.921875 28.609375 65.921875 \nQ 23.96875 65.921875 18.8125 64.3125 \nQ 13.671875 62.703125 7.8125 59.421875 \nL 7.8125 69.390625 \nQ 13.765625 71.78125 18.9375 73 \nQ 24.125 74.21875 28.421875 74.21875 \nQ 39.75 74.21875 46.484375 68.546875 \nQ 53.21875 62.890625 53.21875 53.421875 \nQ 53.21875 48.921875 51.53125 44.890625 \nQ 49.859375 40.875 45.40625 35.40625 \nQ 44.1875 33.984375 37.640625 27.21875 \nQ 31.109375 20.453125 19.1875 8.296875 \nz\n\" id=\"DejaVuSans-50\"/>\n       </defs>\n       <use xlink:href=\"#DejaVuSans-49\"/>\n       <use x=\"63.623047\" xlink:href=\"#DejaVuSans-46\"/>\n       <use x=\"95.410156\" xlink:href=\"#DejaVuSans-50\"/>\n      </g>\n     </g>\n    </g>\n    <g id=\"ytick_3\">\n     <g id=\"line2d_45\">\n      <path clip-path=\"url(#pfb6f8b83f0)\" d=\"M 43.78125 135.687273 \nL 378.58125 135.687273 \n\" style=\"fill:none;stroke:#c0c0c0;stroke-linecap:square;stroke-width:0.8;\"/>\n     </g>\n     <g id=\"line2d_46\">\n      <g>\n       <use style=\"stroke:#000000;stroke-width:0.8;\" x=\"43.78125\" xlink:href=\"#m06d81f1ec1\" y=\"135.687273\"/>\n      </g>\n     </g>\n     <g id=\"text_24\">\n      <!-- 1.4 -->\n      <g transform=\"translate(20.878125 139.486491)scale(0.1 -0.1)\">\n       <defs>\n        <path d=\"M 37.796875 64.3125 \nL 12.890625 25.390625 \nL 37.796875 25.390625 \nz\nM 35.203125 72.90625 \nL 47.609375 72.90625 \nL 47.609375 25.390625 \nL 58.015625 25.390625 \nL 58.015625 17.1875 \nL 47.609375 17.1875 \nL 47.609375 0 \nL 37.796875 0 \nL 37.796875 17.1875 \nL 4.890625 17.1875 \nL 4.890625 26.703125 \nz\n\" id=\"DejaVuSans-52\"/>\n       </defs>\n       <use xlink:href=\"#DejaVuSans-49\"/>\n       <use x=\"63.623047\" xlink:href=\"#DejaVuSans-46\"/>\n       <use x=\"95.410156\" xlink:href=\"#DejaVuSans-52\"/>\n      </g>\n     </g>\n    </g>\n    <g id=\"ytick_4\">\n     <g id=\"line2d_47\">\n      <path clip-path=\"url(#pfb6f8b83f0)\" d=\"M 43.78125 96.152727 \nL 378.58125 96.152727 \n\" style=\"fill:none;stroke:#c0c0c0;stroke-linecap:square;stroke-width:0.8;\"/>\n     </g>\n     <g id=\"line2d_48\">\n      <g>\n       <use style=\"stroke:#000000;stroke-width:0.8;\" x=\"43.78125\" xlink:href=\"#m06d81f1ec1\" y=\"96.152727\"/>\n      </g>\n     </g>\n     <g id=\"text_25\">\n      <!-- 1.6 -->\n      <g transform=\"translate(20.878125 99.951946)scale(0.1 -0.1)\">\n       <defs>\n        <path d=\"M 33.015625 40.375 \nQ 26.375 40.375 22.484375 35.828125 \nQ 18.609375 31.296875 18.609375 23.390625 \nQ 18.609375 15.53125 22.484375 10.953125 \nQ 26.375 6.390625 33.015625 6.390625 \nQ 39.65625 6.390625 43.53125 10.953125 \nQ 47.40625 15.53125 47.40625 23.390625 \nQ 47.40625 31.296875 43.53125 35.828125 \nQ 39.65625 40.375 33.015625 40.375 \nz\nM 52.59375 71.296875 \nL 52.59375 62.3125 \nQ 48.875 64.0625 45.09375 64.984375 \nQ 41.3125 65.921875 37.59375 65.921875 \nQ 27.828125 65.921875 22.671875 59.328125 \nQ 17.53125 52.734375 16.796875 39.40625 \nQ 19.671875 43.65625 24.015625 45.921875 \nQ 28.375 48.1875 33.59375 48.1875 \nQ 44.578125 48.1875 50.953125 41.515625 \nQ 57.328125 34.859375 57.328125 23.390625 \nQ 57.328125 12.15625 50.6875 5.359375 \nQ 44.046875 -1.421875 33.015625 -1.421875 \nQ 20.359375 -1.421875 13.671875 8.265625 \nQ 6.984375 17.96875 6.984375 36.375 \nQ 6.984375 53.65625 15.1875 63.9375 \nQ 23.390625 74.21875 37.203125 74.21875 \nQ 40.921875 74.21875 44.703125 73.484375 \nQ 48.484375 72.75 52.59375 71.296875 \nz\n\" id=\"DejaVuSans-54\"/>\n       </defs>\n       <use xlink:href=\"#DejaVuSans-49\"/>\n       <use x=\"63.623047\" xlink:href=\"#DejaVuSans-46\"/>\n       <use x=\"95.410156\" xlink:href=\"#DejaVuSans-54\"/>\n      </g>\n     </g>\n    </g>\n    <g id=\"ytick_5\">\n     <g id=\"line2d_49\">\n      <path clip-path=\"url(#pfb6f8b83f0)\" d=\"M 43.78125 56.618182 \nL 378.58125 56.618182 \n\" style=\"fill:none;stroke:#c0c0c0;stroke-linecap:square;stroke-width:0.8;\"/>\n     </g>\n     <g id=\"line2d_50\">\n      <g>\n       <use style=\"stroke:#000000;stroke-width:0.8;\" x=\"43.78125\" xlink:href=\"#m06d81f1ec1\" y=\"56.618182\"/>\n      </g>\n     </g>\n     <g id=\"text_26\">\n      <!-- 1.8 -->\n      <g transform=\"translate(20.878125 60.417401)scale(0.1 -0.1)\">\n       <defs>\n        <path d=\"M 31.78125 34.625 \nQ 24.75 34.625 20.71875 30.859375 \nQ 16.703125 27.09375 16.703125 20.515625 \nQ 16.703125 13.921875 20.71875 10.15625 \nQ 24.75 6.390625 31.78125 6.390625 \nQ 38.8125 6.390625 42.859375 10.171875 \nQ 46.921875 13.96875 46.921875 20.515625 \nQ 46.921875 27.09375 42.890625 30.859375 \nQ 38.875 34.625 31.78125 34.625 \nz\nM 21.921875 38.8125 \nQ 15.578125 40.375 12.03125 44.71875 \nQ 8.5 49.078125 8.5 55.328125 \nQ 8.5 64.0625 14.71875 69.140625 \nQ 20.953125 74.21875 31.78125 74.21875 \nQ 42.671875 74.21875 48.875 69.140625 \nQ 55.078125 64.0625 55.078125 55.328125 \nQ 55.078125 49.078125 51.53125 44.71875 \nQ 48 40.375 41.703125 38.8125 \nQ 48.828125 37.15625 52.796875 32.3125 \nQ 56.78125 27.484375 56.78125 20.515625 \nQ 56.78125 9.90625 50.3125 4.234375 \nQ 43.84375 -1.421875 31.78125 -1.421875 \nQ 19.734375 -1.421875 13.25 4.234375 \nQ 6.78125 9.90625 6.78125 20.515625 \nQ 6.78125 27.484375 10.78125 32.3125 \nQ 14.796875 37.15625 21.921875 38.8125 \nz\nM 18.3125 54.390625 \nQ 18.3125 48.734375 21.84375 45.5625 \nQ 25.390625 42.390625 31.78125 42.390625 \nQ 38.140625 42.390625 41.71875 45.5625 \nQ 45.3125 48.734375 45.3125 54.390625 \nQ 45.3125 60.0625 41.71875 63.234375 \nQ 38.140625 66.40625 31.78125 66.40625 \nQ 25.390625 66.40625 21.84375 63.234375 \nQ 18.3125 60.0625 18.3125 54.390625 \nz\n\" id=\"DejaVuSans-56\"/>\n       </defs>\n       <use xlink:href=\"#DejaVuSans-49\"/>\n       <use x=\"63.623047\" xlink:href=\"#DejaVuSans-46\"/>\n       <use x=\"95.410156\" xlink:href=\"#DejaVuSans-56\"/>\n      </g>\n     </g>\n    </g>\n    <g id=\"ytick_6\">\n     <g id=\"line2d_51\">\n      <path clip-path=\"url(#pfb6f8b83f0)\" d=\"M 43.78125 17.083636 \nL 378.58125 17.083636 \n\" style=\"fill:none;stroke:#c0c0c0;stroke-linecap:square;stroke-width:0.8;\"/>\n     </g>\n     <g id=\"line2d_52\">\n      <g>\n       <use style=\"stroke:#000000;stroke-width:0.8;\" x=\"43.78125\" xlink:href=\"#m06d81f1ec1\" y=\"17.083636\"/>\n      </g>\n     </g>\n     <g id=\"text_27\">\n      <!-- 2.0 -->\n      <g transform=\"translate(20.878125 20.882855)scale(0.1 -0.1)\">\n       <use xlink:href=\"#DejaVuSans-50\"/>\n       <use x=\"63.623047\" xlink:href=\"#DejaVuSans-46\"/>\n       <use x=\"95.410156\" xlink:href=\"#DejaVuSans-48\"/>\n      </g>\n     </g>\n    </g>\n    <g id=\"text_28\">\n     <!-- Counts -->\n     <g transform=\"translate(14.798438 133.373125)rotate(-90)scale(0.1 -0.1)\">\n      <defs>\n       <path d=\"M 8.5 21.578125 \nL 8.5 54.6875 \nL 17.484375 54.6875 \nL 17.484375 21.921875 \nQ 17.484375 14.15625 20.5 10.265625 \nQ 23.53125 6.390625 29.59375 6.390625 \nQ 36.859375 6.390625 41.078125 11.03125 \nQ 45.3125 15.671875 45.3125 23.6875 \nL 45.3125 54.6875 \nL 54.296875 54.6875 \nL 54.296875 0 \nL 45.3125 0 \nL 45.3125 8.40625 \nQ 42.046875 3.421875 37.71875 1 \nQ 33.40625 -1.421875 27.6875 -1.421875 \nQ 18.265625 -1.421875 13.375 4.4375 \nQ 8.5 10.296875 8.5 21.578125 \nz\nM 31.109375 56 \nz\n\" id=\"DejaVuSans-117\"/>\n      </defs>\n      <use xlink:href=\"#DejaVuSans-67\"/>\n      <use x=\"69.824219\" xlink:href=\"#DejaVuSans-111\"/>\n      <use x=\"131.005859\" xlink:href=\"#DejaVuSans-117\"/>\n      <use x=\"194.384766\" xlink:href=\"#DejaVuSans-110\"/>\n      <use x=\"257.763672\" xlink:href=\"#DejaVuSans-116\"/>\n      <use x=\"296.972656\" xlink:href=\"#DejaVuSans-115\"/>\n     </g>\n    </g>\n   </g>\n   <g id=\"line2d_53\">\n    <path clip-path=\"url(#pfb6f8b83f0)\" d=\"M 58.999432 17.083636 \nL 75.018571 214.756364 \nL 91.037709 214.756364 \nL 107.056848 214.756364 \nL 123.075987 214.756364 \nL 139.095126 214.756364 \nL 155.114264 214.756364 \nL 171.133403 214.756364 \nL 187.152542 214.756364 \nL 203.171681 214.756364 \nL 219.190819 214.756364 \nL 235.209958 214.756364 \nL 251.229097 214.756364 \nL 267.248236 214.756364 \nL 283.267374 214.756364 \nL 299.286513 214.756364 \nL 315.305652 214.756364 \nL 331.324791 214.756364 \nL 347.343929 214.756364 \nL 363.363068 214.756364 \n\" style=\"fill:none;stroke:#1f77b4;stroke-linecap:square;stroke-width:2;\"/>\n   </g>\n   <g id=\"patch_3\">\n    <path d=\"M 43.78125 224.64 \nL 43.78125 7.2 \n\" style=\"fill:none;stroke:#000000;stroke-linecap:square;stroke-linejoin:miter;stroke-width:0.8;\"/>\n   </g>\n   <g id=\"patch_4\">\n    <path d=\"M 378.58125 224.64 \nL 378.58125 7.2 \n\" style=\"fill:none;stroke:#000000;stroke-linecap:square;stroke-linejoin:miter;stroke-width:0.8;\"/>\n   </g>\n   <g id=\"patch_5\">\n    <path d=\"M 43.78125 224.64 \nL 378.58125 224.64 \n\" style=\"fill:none;stroke:#000000;stroke-linecap:square;stroke-linejoin:miter;stroke-width:0.8;\"/>\n   </g>\n   <g id=\"patch_6\">\n    <path d=\"M 43.78125 7.2 \nL 378.58125 7.2 \n\" style=\"fill:none;stroke:#000000;stroke-linecap:square;stroke-linejoin:miter;stroke-width:0.8;\"/>\n   </g>\n  </g>\n </g>\n <defs>\n  <clipPath id=\"pfb6f8b83f0\">\n   <rect height=\"217.44\" width=\"334.8\" x=\"43.78125\" y=\"7.2\"/>\n  </clipPath>\n </defs>\n</svg>\n",
            "image/png": "[encoded data removed]"
          },
          "metadata": {
            "needs_background": "light"
          }
        },
        {
          "output_type": "execute_result",
          "data": {
            "text/plain": [
              "<Figure size 432x288 with 1 Axes>"
            ],
            "image/svg+xml": "<?xml version=\"1.0\" encoding=\"utf-8\" standalone=\"no\"?>\n<!DOCTYPE svg PUBLIC \"-//W3C//DTD SVG 1.1//EN\"\n  \"http://www.w3.org/Graphics/SVG/1.1/DTD/svg11.dtd\">\n<!-- Created with matplotlib (https://matplotlib.org/) -->\n<svg height=\"315.80875pt\" version=\"1.1\" viewBox=\"0 0 385.78125 315.80875\" width=\"385.78125pt\" xmlns=\"http://www.w3.org/2000/svg\" xmlns:xlink=\"http://www.w3.org/1999/xlink\">\n <metadata>\n  <rdf:RDF xmlns:cc=\"http://creativecommons.org/ns#\" xmlns:dc=\"http://purl.org/dc/elements/1.1/\" xmlns:rdf=\"http://www.w3.org/1999/02/22-rdf-syntax-ns#\">\n   <cc:Work>\n    <dc:type rdf:resource=\"http://purl.org/dc/dcmitype/StillImage\"/>\n    <dc:date>2021-07-08T16:16:50.986578</dc:date>\n    <dc:format>image/svg+xml</dc:format>\n    <dc:creator>\n     <cc:Agent>\n      <dc:title>Matplotlib v3.3.4, https://matplotlib.org/</dc:title>\n     </cc:Agent>\n    </dc:creator>\n   </cc:Work>\n  </rdf:RDF>\n </metadata>\n <defs>\n  <style type=\"text/css\">*{stroke-linecap:butt;stroke-linejoin:round;}</style>\n </defs>\n <g id=\"figure_1\">\n  <g id=\"patch_1\">\n   <path d=\"M 0 315.80875 \nL 385.78125 315.80875 \nL 385.78125 0 \nL 0 0 \nz\n\" style=\"fill:none;\"/>\n  </g>\n  <g id=\"axes_1\">\n   <g id=\"patch_2\">\n    <path d=\"M 43.78125 224.64 \nL 378.58125 224.64 \nL 378.58125 7.2 \nL 43.78125 7.2 \nz\n\" style=\"fill:#ffffff;\"/>\n   </g>\n   <g id=\"matplotlib.axis_1\">\n    <g id=\"xtick_1\">\n     <g id=\"line2d_1\">\n      <path clip-path=\"url(#pb3652bfa9f)\" d=\"M 58.999432 224.64 \nL 58.999432 7.2 \n\" style=\"fill:none;stroke:#c0c0c0;stroke-linecap:square;stroke-width:0.8;\"/>\n     </g>\n     <g id=\"line2d_2\">\n      <defs>\n       <path d=\"M 0 0 \nL 0 3.5 \n\" id=\"m9d3fa887b4\" style=\"stroke:#000000;stroke-width:0.8;\"/>\n      </defs>\n      <g>\n       <use style=\"stroke:#000000;stroke-width:0.8;\" x=\"58.999432\" xlink:href=\"#m9d3fa887b4\" y=\"224.64\"/>\n      </g>\n     </g>\n     <g id=\"text_1\">\n      <!-- idea -->\n      <g transform=\"translate(61.758807 253.047813)rotate(-90)scale(0.1 -0.1)\">\n       <defs>\n        <path d=\"M 9.421875 54.6875 \nL 18.40625 54.6875 \nL 18.40625 0 \nL 9.421875 0 \nz\nM 9.421875 75.984375 \nL 18.40625 75.984375 \nL 18.40625 64.59375 \nL 9.421875 64.59375 \nz\n\" id=\"DejaVuSans-105\"/>\n        <path d=\"M 45.40625 46.390625 \nL 45.40625 75.984375 \nL 54.390625 75.984375 \nL 54.390625 0 \nL 45.40625 0 \nL 45.40625 8.203125 \nQ 42.578125 3.328125 38.25 0.953125 \nQ 33.9375 -1.421875 27.875 -1.421875 \nQ 17.96875 -1.421875 11.734375 6.484375 \nQ 5.515625 14.40625 5.515625 27.296875 \nQ 5.515625 40.1875 11.734375 48.09375 \nQ 17.96875 56 27.875 56 \nQ 33.9375 56 38.25 53.625 \nQ 42.578125 51.265625 45.40625 46.390625 \nz\nM 14.796875 27.296875 \nQ 14.796875 17.390625 18.875 11.75 \nQ 22.953125 6.109375 30.078125 6.109375 \nQ 37.203125 6.109375 41.296875 11.75 \nQ 45.40625 17.390625 45.40625 27.296875 \nQ 45.40625 37.203125 41.296875 42.84375 \nQ 37.203125 48.484375 30.078125 48.484375 \nQ 22.953125 48.484375 18.875 42.84375 \nQ 14.796875 37.203125 14.796875 27.296875 \nz\n\" id=\"DejaVuSans-100\"/>\n        <path d=\"M 56.203125 29.59375 \nL 56.203125 25.203125 \nL 14.890625 25.203125 \nQ 15.484375 15.921875 20.484375 11.0625 \nQ 25.484375 6.203125 34.421875 6.203125 \nQ 39.59375 6.203125 44.453125 7.46875 \nQ 49.3125 8.734375 54.109375 11.28125 \nL 54.109375 2.78125 \nQ 49.265625 0.734375 44.1875 -0.34375 \nQ 39.109375 -1.421875 33.890625 -1.421875 \nQ 20.796875 -1.421875 13.15625 6.1875 \nQ 5.515625 13.8125 5.515625 26.8125 \nQ 5.515625 40.234375 12.765625 48.109375 \nQ 20.015625 56 32.328125 56 \nQ 43.359375 56 49.78125 48.890625 \nQ 56.203125 41.796875 56.203125 29.59375 \nz\nM 47.21875 32.234375 \nQ 47.125 39.59375 43.09375 43.984375 \nQ 39.0625 48.390625 32.421875 48.390625 \nQ 24.90625 48.390625 20.390625 44.140625 \nQ 15.875 39.890625 15.1875 32.171875 \nz\n\" id=\"DejaVuSans-101\"/>\n        <path d=\"M 34.28125 27.484375 \nQ 23.390625 27.484375 19.1875 25 \nQ 14.984375 22.515625 14.984375 16.5 \nQ 14.984375 11.71875 18.140625 8.90625 \nQ 21.296875 6.109375 26.703125 6.109375 \nQ 34.1875 6.109375 38.703125 11.40625 \nQ 43.21875 16.703125 43.21875 25.484375 \nL 43.21875 27.484375 \nz\nM 52.203125 31.203125 \nL 52.203125 0 \nL 43.21875 0 \nL 43.21875 8.296875 \nQ 40.140625 3.328125 35.546875 0.953125 \nQ 30.953125 -1.421875 24.3125 -1.421875 \nQ 15.921875 -1.421875 10.953125 3.296875 \nQ 6 8.015625 6 15.921875 \nQ 6 25.140625 12.171875 29.828125 \nQ 18.359375 34.515625 30.609375 34.515625 \nL 43.21875 34.515625 \nL 43.21875 35.40625 \nQ 43.21875 41.609375 39.140625 45 \nQ 35.0625 48.390625 27.6875 48.390625 \nQ 23 48.390625 18.546875 47.265625 \nQ 14.109375 46.140625 10.015625 43.890625 \nL 10.015625 52.203125 \nQ 14.9375 54.109375 19.578125 55.046875 \nQ 24.21875 56 28.609375 56 \nQ 40.484375 56 46.34375 49.84375 \nQ 52.203125 43.703125 52.203125 31.203125 \nz\n\" id=\"DejaVuSans-97\"/>\n       </defs>\n       <use xlink:href=\"#DejaVuSans-105\"/>\n       <use x=\"27.783203\" xlink:href=\"#DejaVuSans-100\"/>\n       <use x=\"91.259766\" xlink:href=\"#DejaVuSans-101\"/>\n       <use x=\"152.783203\" xlink:href=\"#DejaVuSans-97\"/>\n      </g>\n     </g>\n    </g>\n    <g id=\"xtick_2\">\n     <g id=\"line2d_3\">\n      <path clip-path=\"url(#pb3652bfa9f)\" d=\"M 75.018571 224.64 \nL 75.018571 7.2 \n\" style=\"fill:none;stroke:#c0c0c0;stroke-linecap:square;stroke-width:0.8;\"/>\n     </g>\n     <g id=\"line2d_4\">\n      <g>\n       <use style=\"stroke:#000000;stroke-width:0.8;\" x=\"75.018571\" xlink:href=\"#m9d3fa887b4\" y=\"224.64\"/>\n      </g>\n     </g>\n     <g id=\"text_2\">\n      <!-- Helped -->\n      <g transform=\"translate(77.777946 266.941563)rotate(-90)scale(0.1 -0.1)\">\n       <defs>\n        <path d=\"M 9.8125 72.90625 \nL 19.671875 72.90625 \nL 19.671875 43.015625 \nL 55.515625 43.015625 \nL 55.515625 72.90625 \nL 65.375 72.90625 \nL 65.375 0 \nL 55.515625 0 \nL 55.515625 34.71875 \nL 19.671875 34.71875 \nL 19.671875 0 \nL 9.8125 0 \nz\n\" id=\"DejaVuSans-72\"/>\n        <path d=\"M 9.421875 75.984375 \nL 18.40625 75.984375 \nL 18.40625 0 \nL 9.421875 0 \nz\n\" id=\"DejaVuSans-108\"/>\n        <path d=\"M 18.109375 8.203125 \nL 18.109375 -20.796875 \nL 9.078125 -20.796875 \nL 9.078125 54.6875 \nL 18.109375 54.6875 \nL 18.109375 46.390625 \nQ 20.953125 51.265625 25.265625 53.625 \nQ 29.59375 56 35.59375 56 \nQ 45.5625 56 51.78125 48.09375 \nQ 58.015625 40.1875 58.015625 27.296875 \nQ 58.015625 14.40625 51.78125 6.484375 \nQ 45.5625 -1.421875 35.59375 -1.421875 \nQ 29.59375 -1.421875 25.265625 0.953125 \nQ 20.953125 3.328125 18.109375 8.203125 \nz\nM 48.6875 27.296875 \nQ 48.6875 37.203125 44.609375 42.84375 \nQ 40.53125 48.484375 33.40625 48.484375 \nQ 26.265625 48.484375 22.1875 42.84375 \nQ 18.109375 37.203125 18.109375 27.296875 \nQ 18.109375 17.390625 22.1875 11.75 \nQ 26.265625 6.109375 33.40625 6.109375 \nQ 40.53125 6.109375 44.609375 11.75 \nQ 48.6875 17.390625 48.6875 27.296875 \nz\n\" id=\"DejaVuSans-112\"/>\n       </defs>\n       <use xlink:href=\"#DejaVuSans-72\"/>\n       <use x=\"75.195312\" xlink:href=\"#DejaVuSans-101\"/>\n       <use x=\"136.71875\" xlink:href=\"#DejaVuSans-108\"/>\n       <use x=\"164.501953\" xlink:href=\"#DejaVuSans-112\"/>\n       <use x=\"227.978516\" xlink:href=\"#DejaVuSans-101\"/>\n       <use x=\"289.501953\" xlink:href=\"#DejaVuSans-100\"/>\n      </g>\n     </g>\n    </g>\n    <g id=\"xtick_3\">\n     <g id=\"line2d_5\">\n      <path clip-path=\"url(#pb3652bfa9f)\" d=\"M 91.037709 224.64 \nL 91.037709 7.2 \n\" style=\"fill:none;stroke:#c0c0c0;stroke-linecap:square;stroke-width:0.8;\"/>\n     </g>\n     <g id=\"line2d_6\">\n      <g>\n       <use style=\"stroke:#000000;stroke-width:0.8;\" x=\"91.037709\" xlink:href=\"#m9d3fa887b4\" y=\"224.64\"/>\n      </g>\n     </g>\n     <g id=\"text_3\">\n      <!-- come -->\n      <g transform=\"translate(93.797084 259.150938)rotate(-90)scale(0.1 -0.1)\">\n       <defs>\n        <path d=\"M 48.78125 52.59375 \nL 48.78125 44.1875 \nQ 44.96875 46.296875 41.140625 47.34375 \nQ 37.3125 48.390625 33.40625 48.390625 \nQ 24.65625 48.390625 19.8125 42.84375 \nQ 14.984375 37.3125 14.984375 27.296875 \nQ 14.984375 17.28125 19.8125 11.734375 \nQ 24.65625 6.203125 33.40625 6.203125 \nQ 37.3125 6.203125 41.140625 7.25 \nQ 44.96875 8.296875 48.78125 10.40625 \nL 48.78125 2.09375 \nQ 45.015625 0.34375 40.984375 -0.53125 \nQ 36.96875 -1.421875 32.421875 -1.421875 \nQ 20.0625 -1.421875 12.78125 6.34375 \nQ 5.515625 14.109375 5.515625 27.296875 \nQ 5.515625 40.671875 12.859375 48.328125 \nQ 20.21875 56 33.015625 56 \nQ 37.15625 56 41.109375 55.140625 \nQ 45.0625 54.296875 48.78125 52.59375 \nz\n\" id=\"DejaVuSans-99\"/>\n        <path d=\"M 30.609375 48.390625 \nQ 23.390625 48.390625 19.1875 42.75 \nQ 14.984375 37.109375 14.984375 27.296875 \nQ 14.984375 17.484375 19.15625 11.84375 \nQ 23.34375 6.203125 30.609375 6.203125 \nQ 37.796875 6.203125 41.984375 11.859375 \nQ 46.1875 17.53125 46.1875 27.296875 \nQ 46.1875 37.015625 41.984375 42.703125 \nQ 37.796875 48.390625 30.609375 48.390625 \nz\nM 30.609375 56 \nQ 42.328125 56 49.015625 48.375 \nQ 55.71875 40.765625 55.71875 27.296875 \nQ 55.71875 13.875 49.015625 6.21875 \nQ 42.328125 -1.421875 30.609375 -1.421875 \nQ 18.84375 -1.421875 12.171875 6.21875 \nQ 5.515625 13.875 5.515625 27.296875 \nQ 5.515625 40.765625 12.171875 48.375 \nQ 18.84375 56 30.609375 56 \nz\n\" id=\"DejaVuSans-111\"/>\n        <path d=\"M 52 44.1875 \nQ 55.375 50.25 60.0625 53.125 \nQ 64.75 56 71.09375 56 \nQ 79.640625 56 84.28125 50.015625 \nQ 88.921875 44.046875 88.921875 33.015625 \nL 88.921875 0 \nL 79.890625 0 \nL 79.890625 32.71875 \nQ 79.890625 40.578125 77.09375 44.375 \nQ 74.3125 48.1875 68.609375 48.1875 \nQ 61.625 48.1875 57.5625 43.546875 \nQ 53.515625 38.921875 53.515625 30.90625 \nL 53.515625 0 \nL 44.484375 0 \nL 44.484375 32.71875 \nQ 44.484375 40.625 41.703125 44.40625 \nQ 38.921875 48.1875 33.109375 48.1875 \nQ 26.21875 48.1875 22.15625 43.53125 \nQ 18.109375 38.875 18.109375 30.90625 \nL 18.109375 0 \nL 9.078125 0 \nL 9.078125 54.6875 \nL 18.109375 54.6875 \nL 18.109375 46.1875 \nQ 21.1875 51.21875 25.484375 53.609375 \nQ 29.78125 56 35.6875 56 \nQ 41.65625 56 45.828125 52.96875 \nQ 50 49.953125 52 44.1875 \nz\n\" id=\"DejaVuSans-109\"/>\n       </defs>\n       <use xlink:href=\"#DejaVuSans-99\"/>\n       <use x=\"54.980469\" xlink:href=\"#DejaVuSans-111\"/>\n       <use x=\"116.162109\" xlink:href=\"#DejaVuSans-109\"/>\n       <use x=\"213.574219\" xlink:href=\"#DejaVuSans-101\"/>\n      </g>\n     </g>\n    </g>\n    <g id=\"xtick_4\">\n     <g id=\"line2d_7\">\n      <path clip-path=\"url(#pb3652bfa9f)\" d=\"M 107.056848 224.64 \nL 107.056848 7.2 \n\" style=\"fill:none;stroke:#c0c0c0;stroke-linecap:square;stroke-width:0.8;\"/>\n     </g>\n     <g id=\"line2d_8\">\n      <g>\n       <use style=\"stroke:#000000;stroke-width:0.8;\" x=\"107.056848\" xlink:href=\"#m9d3fa887b4\" y=\"224.64\"/>\n      </g>\n     </g>\n     <g id=\"text_4\">\n      <!-- ways -->\n      <g transform=\"translate(109.816223 257.074375)rotate(-90)scale(0.1 -0.1)\">\n       <defs>\n        <path d=\"M 4.203125 54.6875 \nL 13.1875 54.6875 \nL 24.421875 12.015625 \nL 35.59375 54.6875 \nL 46.1875 54.6875 \nL 57.421875 12.015625 \nL 68.609375 54.6875 \nL 77.59375 54.6875 \nL 63.28125 0 \nL 52.6875 0 \nL 40.921875 44.828125 \nL 29.109375 0 \nL 18.5 0 \nz\n\" id=\"DejaVuSans-119\"/>\n        <path d=\"M 32.171875 -5.078125 \nQ 28.375 -14.84375 24.75 -17.8125 \nQ 21.140625 -20.796875 15.09375 -20.796875 \nL 7.90625 -20.796875 \nL 7.90625 -13.28125 \nL 13.1875 -13.28125 \nQ 16.890625 -13.28125 18.9375 -11.515625 \nQ 21 -9.765625 23.484375 -3.21875 \nL 25.09375 0.875 \nL 2.984375 54.6875 \nL 12.5 54.6875 \nL 29.59375 11.921875 \nL 46.6875 54.6875 \nL 56.203125 54.6875 \nz\n\" id=\"DejaVuSans-121\"/>\n        <path d=\"M 44.28125 53.078125 \nL 44.28125 44.578125 \nQ 40.484375 46.53125 36.375 47.5 \nQ 32.28125 48.484375 27.875 48.484375 \nQ 21.1875 48.484375 17.84375 46.4375 \nQ 14.5 44.390625 14.5 40.28125 \nQ 14.5 37.15625 16.890625 35.375 \nQ 19.28125 33.59375 26.515625 31.984375 \nL 29.59375 31.296875 \nQ 39.15625 29.25 43.1875 25.515625 \nQ 47.21875 21.78125 47.21875 15.09375 \nQ 47.21875 7.46875 41.1875 3.015625 \nQ 35.15625 -1.421875 24.609375 -1.421875 \nQ 20.21875 -1.421875 15.453125 -0.5625 \nQ 10.6875 0.296875 5.421875 2 \nL 5.421875 11.28125 \nQ 10.40625 8.6875 15.234375 7.390625 \nQ 20.0625 6.109375 24.8125 6.109375 \nQ 31.15625 6.109375 34.5625 8.28125 \nQ 37.984375 10.453125 37.984375 14.40625 \nQ 37.984375 18.0625 35.515625 20.015625 \nQ 33.0625 21.96875 24.703125 23.78125 \nL 21.578125 24.515625 \nQ 13.234375 26.265625 9.515625 29.90625 \nQ 5.8125 33.546875 5.8125 39.890625 \nQ 5.8125 47.609375 11.28125 51.796875 \nQ 16.75 56 26.8125 56 \nQ 31.78125 56 36.171875 55.265625 \nQ 40.578125 54.546875 44.28125 53.078125 \nz\n\" id=\"DejaVuSans-115\"/>\n       </defs>\n       <use xlink:href=\"#DejaVuSans-119\"/>\n       <use x=\"81.787109\" xlink:href=\"#DejaVuSans-97\"/>\n       <use x=\"143.066406\" xlink:href=\"#DejaVuSans-121\"/>\n       <use x=\"202.246094\" xlink:href=\"#DejaVuSans-115\"/>\n      </g>\n     </g>\n    </g>\n    <g id=\"xtick_5\">\n     <g id=\"line2d_9\">\n      <path clip-path=\"url(#pb3652bfa9f)\" d=\"M 123.075987 224.64 \nL 123.075987 7.2 \n\" style=\"fill:none;stroke:#c0c0c0;stroke-linecap:square;stroke-width:0.8;\"/>\n     </g>\n     <g id=\"line2d_10\">\n      <g>\n       <use style=\"stroke:#000000;stroke-width:0.8;\" x=\"123.075987\" xlink:href=\"#m9d3fa887b4\" y=\"224.64\"/>\n      </g>\n     </g>\n     <g id=\"text_5\">\n      <!-- improve -->\n      <g transform=\"translate(125.835362 272.58375)rotate(-90)scale(0.1 -0.1)\">\n       <defs>\n        <path d=\"M 41.109375 46.296875 \nQ 39.59375 47.171875 37.8125 47.578125 \nQ 36.03125 48 33.890625 48 \nQ 26.265625 48 22.1875 43.046875 \nQ 18.109375 38.09375 18.109375 28.8125 \nL 18.109375 0 \nL 9.078125 0 \nL 9.078125 54.6875 \nL 18.109375 54.6875 \nL 18.109375 46.1875 \nQ 20.953125 51.171875 25.484375 53.578125 \nQ 30.03125 56 36.53125 56 \nQ 37.453125 56 38.578125 55.875 \nQ 39.703125 55.765625 41.0625 55.515625 \nz\n\" id=\"DejaVuSans-114\"/>\n        <path d=\"M 2.984375 54.6875 \nL 12.5 54.6875 \nL 29.59375 8.796875 \nL 46.6875 54.6875 \nL 56.203125 54.6875 \nL 35.6875 0 \nL 23.484375 0 \nz\n\" id=\"DejaVuSans-118\"/>\n       </defs>\n       <use xlink:href=\"#DejaVuSans-105\"/>\n       <use x=\"27.783203\" xlink:href=\"#DejaVuSans-109\"/>\n       <use x=\"125.195312\" xlink:href=\"#DejaVuSans-112\"/>\n       <use x=\"188.671875\" xlink:href=\"#DejaVuSans-114\"/>\n       <use x=\"227.535156\" xlink:href=\"#DejaVuSans-111\"/>\n       <use x=\"288.716797\" xlink:href=\"#DejaVuSans-118\"/>\n       <use x=\"347.896484\" xlink:href=\"#DejaVuSans-101\"/>\n      </g>\n     </g>\n    </g>\n    <g id=\"xtick_6\">\n     <g id=\"line2d_11\">\n      <path clip-path=\"url(#pb3652bfa9f)\" d=\"M 139.095126 224.64 \nL 139.095126 7.2 \n\" style=\"fill:none;stroke:#c0c0c0;stroke-linecap:square;stroke-width:0.8;\"/>\n     </g>\n     <g id=\"line2d_12\">\n      <g>\n       <use style=\"stroke:#000000;stroke-width:0.8;\" x=\"139.095126\" xlink:href=\"#m9d3fa887b4\" y=\"224.64\"/>\n      </g>\n     </g>\n     <g id=\"text_6\">\n      <!-- presentation -->\n      <g transform=\"translate(141.854501 294.930625)rotate(-90)scale(0.1 -0.1)\">\n       <defs>\n        <path d=\"M 54.890625 33.015625 \nL 54.890625 0 \nL 45.90625 0 \nL 45.90625 32.71875 \nQ 45.90625 40.484375 42.875 44.328125 \nQ 39.84375 48.1875 33.796875 48.1875 \nQ 26.515625 48.1875 22.3125 43.546875 \nQ 18.109375 38.921875 18.109375 30.90625 \nL 18.109375 0 \nL 9.078125 0 \nL 9.078125 54.6875 \nL 18.109375 54.6875 \nL 18.109375 46.1875 \nQ 21.34375 51.125 25.703125 53.5625 \nQ 30.078125 56 35.796875 56 \nQ 45.21875 56 50.046875 50.171875 \nQ 54.890625 44.34375 54.890625 33.015625 \nz\n\" id=\"DejaVuSans-110\"/>\n        <path d=\"M 18.3125 70.21875 \nL 18.3125 54.6875 \nL 36.8125 54.6875 \nL 36.8125 47.703125 \nL 18.3125 47.703125 \nL 18.3125 18.015625 \nQ 18.3125 11.328125 20.140625 9.421875 \nQ 21.96875 7.515625 27.59375 7.515625 \nL 36.8125 7.515625 \nL 36.8125 0 \nL 27.59375 0 \nQ 17.1875 0 13.234375 3.875 \nQ 9.28125 7.765625 9.28125 18.015625 \nL 9.28125 47.703125 \nL 2.6875 47.703125 \nL 2.6875 54.6875 \nL 9.28125 54.6875 \nL 9.28125 70.21875 \nz\n\" id=\"DejaVuSans-116\"/>\n       </defs>\n       <use xlink:href=\"#DejaVuSans-112\"/>\n       <use x=\"63.476562\" xlink:href=\"#DejaVuSans-114\"/>\n       <use x=\"102.339844\" xlink:href=\"#DejaVuSans-101\"/>\n       <use x=\"163.863281\" xlink:href=\"#DejaVuSans-115\"/>\n       <use x=\"215.962891\" xlink:href=\"#DejaVuSans-101\"/>\n       <use x=\"277.486328\" xlink:href=\"#DejaVuSans-110\"/>\n       <use x=\"340.865234\" xlink:href=\"#DejaVuSans-116\"/>\n       <use x=\"380.074219\" xlink:href=\"#DejaVuSans-97\"/>\n       <use x=\"441.353516\" xlink:href=\"#DejaVuSans-116\"/>\n       <use x=\"480.5625\" xlink:href=\"#DejaVuSans-105\"/>\n       <use x=\"508.345703\" xlink:href=\"#DejaVuSans-111\"/>\n       <use x=\"569.527344\" xlink:href=\"#DejaVuSans-110\"/>\n      </g>\n     </g>\n    </g>\n    <g id=\"xtick_7\">\n     <g id=\"line2d_13\">\n      <path clip-path=\"url(#pb3652bfa9f)\" d=\"M 155.114264 224.64 \nL 155.114264 7.2 \n\" style=\"fill:none;stroke:#c0c0c0;stroke-linecap:square;stroke-width:0.8;\"/>\n     </g>\n     <g id=\"line2d_14\">\n      <g>\n       <use style=\"stroke:#000000;stroke-width:0.8;\" x=\"155.114264\" xlink:href=\"#m9d3fa887b4\" y=\"224.64\"/>\n      </g>\n     </g>\n     <g id=\"text_7\">\n      <!-- Worked -->\n      <g transform=\"translate(157.873639 269.099375)rotate(-90)scale(0.1 -0.1)\">\n       <defs>\n        <path d=\"M 3.328125 72.90625 \nL 13.28125 72.90625 \nL 28.609375 11.28125 \nL 43.890625 72.90625 \nL 54.984375 72.90625 \nL 70.3125 11.28125 \nL 85.59375 72.90625 \nL 95.609375 72.90625 \nL 77.296875 0 \nL 64.890625 0 \nL 49.515625 63.28125 \nL 33.984375 0 \nL 21.578125 0 \nz\n\" id=\"DejaVuSans-87\"/>\n        <path d=\"M 9.078125 75.984375 \nL 18.109375 75.984375 \nL 18.109375 31.109375 \nL 44.921875 54.6875 \nL 56.390625 54.6875 \nL 27.390625 29.109375 \nL 57.625 0 \nL 45.90625 0 \nL 18.109375 26.703125 \nL 18.109375 0 \nL 9.078125 0 \nz\n\" id=\"DejaVuSans-107\"/>\n       </defs>\n       <use xlink:href=\"#DejaVuSans-87\"/>\n       <use x=\"93.001953\" xlink:href=\"#DejaVuSans-111\"/>\n       <use x=\"154.183594\" xlink:href=\"#DejaVuSans-114\"/>\n       <use x=\"195.296875\" xlink:href=\"#DejaVuSans-107\"/>\n       <use x=\"249.582031\" xlink:href=\"#DejaVuSans-101\"/>\n       <use x=\"311.105469\" xlink:href=\"#DejaVuSans-100\"/>\n      </g>\n     </g>\n    </g>\n    <g id=\"xtick_8\">\n     <g id=\"line2d_15\">\n      <path clip-path=\"url(#pb3652bfa9f)\" d=\"M 171.133403 224.64 \nL 171.133403 7.2 \n\" style=\"fill:none;stroke:#c0c0c0;stroke-linecap:square;stroke-width:0.8;\"/>\n     </g>\n     <g id=\"line2d_16\">\n      <g>\n       <use style=\"stroke:#000000;stroke-width:0.8;\" x=\"171.133403\" xlink:href=\"#m9d3fa887b4\" y=\"224.64\"/>\n      </g>\n     </g>\n     <g id=\"text_8\">\n      <!-- developing -->\n      <g transform=\"translate(173.892778 286.922813)rotate(-90)scale(0.1 -0.1)\">\n       <defs>\n        <path d=\"M 45.40625 27.984375 \nQ 45.40625 37.75 41.375 43.109375 \nQ 37.359375 48.484375 30.078125 48.484375 \nQ 22.859375 48.484375 18.828125 43.109375 \nQ 14.796875 37.75 14.796875 27.984375 \nQ 14.796875 18.265625 18.828125 12.890625 \nQ 22.859375 7.515625 30.078125 7.515625 \nQ 37.359375 7.515625 41.375 12.890625 \nQ 45.40625 18.265625 45.40625 27.984375 \nz\nM 54.390625 6.78125 \nQ 54.390625 -7.171875 48.1875 -13.984375 \nQ 42 -20.796875 29.203125 -20.796875 \nQ 24.46875 -20.796875 20.265625 -20.09375 \nQ 16.0625 -19.390625 12.109375 -17.921875 \nL 12.109375 -9.1875 \nQ 16.0625 -11.328125 19.921875 -12.34375 \nQ 23.78125 -13.375 27.78125 -13.375 \nQ 36.625 -13.375 41.015625 -8.765625 \nQ 45.40625 -4.15625 45.40625 5.171875 \nL 45.40625 9.625 \nQ 42.625 4.78125 38.28125 2.390625 \nQ 33.9375 0 27.875 0 \nQ 17.828125 0 11.671875 7.65625 \nQ 5.515625 15.328125 5.515625 27.984375 \nQ 5.515625 40.671875 11.671875 48.328125 \nQ 17.828125 56 27.875 56 \nQ 33.9375 56 38.28125 53.609375 \nQ 42.625 51.21875 45.40625 46.390625 \nL 45.40625 54.6875 \nL 54.390625 54.6875 \nz\n\" id=\"DejaVuSans-103\"/>\n       </defs>\n       <use xlink:href=\"#DejaVuSans-100\"/>\n       <use x=\"63.476562\" xlink:href=\"#DejaVuSans-101\"/>\n       <use x=\"125\" xlink:href=\"#DejaVuSans-118\"/>\n       <use x=\"184.179688\" xlink:href=\"#DejaVuSans-101\"/>\n       <use x=\"245.703125\" xlink:href=\"#DejaVuSans-108\"/>\n       <use x=\"273.486328\" xlink:href=\"#DejaVuSans-111\"/>\n       <use x=\"334.667969\" xlink:href=\"#DejaVuSans-112\"/>\n       <use x=\"398.144531\" xlink:href=\"#DejaVuSans-105\"/>\n       <use x=\"425.927734\" xlink:href=\"#DejaVuSans-110\"/>\n       <use x=\"489.306641\" xlink:href=\"#DejaVuSans-103\"/>\n      </g>\n     </g>\n    </g>\n    <g id=\"xtick_9\">\n     <g id=\"line2d_17\">\n      <path clip-path=\"url(#pb3652bfa9f)\" d=\"M 187.152542 224.64 \nL 187.152542 7.2 \n\" style=\"fill:none;stroke:#c0c0c0;stroke-linecap:square;stroke-width:0.8;\"/>\n     </g>\n     <g id=\"line2d_18\">\n      <g>\n       <use style=\"stroke:#000000;stroke-width:0.8;\" x=\"187.152542\" xlink:href=\"#m9d3fa887b4\" y=\"224.64\"/>\n      </g>\n     </g>\n     <g id=\"text_9\">\n      <!-- iterations -->\n      <g transform=\"translate(189.911917 279.094688)rotate(-90)scale(0.1 -0.1)\">\n       <use xlink:href=\"#DejaVuSans-105\"/>\n       <use x=\"27.783203\" xlink:href=\"#DejaVuSans-116\"/>\n       <use x=\"66.992188\" xlink:href=\"#DejaVuSans-101\"/>\n       <use x=\"128.515625\" xlink:href=\"#DejaVuSans-114\"/>\n       <use x=\"169.628906\" xlink:href=\"#DejaVuSans-97\"/>\n       <use x=\"230.908203\" xlink:href=\"#DejaVuSans-116\"/>\n       <use x=\"270.117188\" xlink:href=\"#DejaVuSans-105\"/>\n       <use x=\"297.900391\" xlink:href=\"#DejaVuSans-111\"/>\n       <use x=\"359.082031\" xlink:href=\"#DejaVuSans-110\"/>\n       <use x=\"422.460938\" xlink:href=\"#DejaVuSans-115\"/>\n      </g>\n     </g>\n    </g>\n    <g id=\"xtick_10\">\n     <g id=\"line2d_19\">\n      <path clip-path=\"url(#pb3652bfa9f)\" d=\"M 203.171681 224.64 \nL 203.171681 7.2 \n\" style=\"fill:none;stroke:#c0c0c0;stroke-linecap:square;stroke-width:0.8;\"/>\n     </g>\n     <g id=\"line2d_20\">\n      <g>\n       <use style=\"stroke:#000000;stroke-width:0.8;\" x=\"203.171681\" xlink:href=\"#m9d3fa887b4\" y=\"224.64\"/>\n      </g>\n     </g>\n     <g id=\"text_10\">\n      <!-- completing -->\n      <g transform=\"translate(205.931056 287.661875)rotate(-90)scale(0.1 -0.1)\">\n       <use xlink:href=\"#DejaVuSans-99\"/>\n       <use x=\"54.980469\" xlink:href=\"#DejaVuSans-111\"/>\n       <use x=\"116.162109\" xlink:href=\"#DejaVuSans-109\"/>\n       <use x=\"213.574219\" xlink:href=\"#DejaVuSans-112\"/>\n       <use x=\"277.050781\" xlink:href=\"#DejaVuSans-108\"/>\n       <use x=\"304.833984\" xlink:href=\"#DejaVuSans-101\"/>\n       <use x=\"366.357422\" xlink:href=\"#DejaVuSans-116\"/>\n       <use x=\"405.566406\" xlink:href=\"#DejaVuSans-105\"/>\n       <use x=\"433.349609\" xlink:href=\"#DejaVuSans-110\"/>\n       <use x=\"496.728516\" xlink:href=\"#DejaVuSans-103\"/>\n      </g>\n     </g>\n    </g>\n    <g id=\"xtick_11\">\n     <g id=\"line2d_21\">\n      <path clip-path=\"url(#pb3652bfa9f)\" d=\"M 219.190819 224.64 \nL 219.190819 7.2 \n\" style=\"fill:none;stroke:#c0c0c0;stroke-linecap:square;stroke-width:0.8;\"/>\n     </g>\n     <g id=\"line2d_22\">\n      <g>\n       <use style=\"stroke:#000000;stroke-width:0.8;\" x=\"219.190819\" xlink:href=\"#m9d3fa887b4\" y=\"224.64\"/>\n      </g>\n     </g>\n     <g id=\"text_11\">\n      <!-- milestone -->\n      <g transform=\"translate(221.950194 280.829063)rotate(-90)scale(0.1 -0.1)\">\n       <use xlink:href=\"#DejaVuSans-109\"/>\n       <use x=\"97.412109\" xlink:href=\"#DejaVuSans-105\"/>\n       <use x=\"125.195312\" xlink:href=\"#DejaVuSans-108\"/>\n       <use x=\"152.978516\" xlink:href=\"#DejaVuSans-101\"/>\n       <use x=\"214.501953\" xlink:href=\"#DejaVuSans-115\"/>\n       <use x=\"266.601562\" xlink:href=\"#DejaVuSans-116\"/>\n       <use x=\"305.810547\" xlink:href=\"#DejaVuSans-111\"/>\n       <use x=\"366.992188\" xlink:href=\"#DejaVuSans-110\"/>\n       <use x=\"430.371094\" xlink:href=\"#DejaVuSans-101\"/>\n      </g>\n     </g>\n    </g>\n    <g id=\"xtick_12\">\n     <g id=\"line2d_23\">\n      <path clip-path=\"url(#pb3652bfa9f)\" d=\"M 235.209958 224.64 \nL 235.209958 7.2 \n\" style=\"fill:none;stroke:#c0c0c0;stroke-linecap:square;stroke-width:0.8;\"/>\n     </g>\n     <g id=\"line2d_24\">\n      <g>\n       <use style=\"stroke:#000000;stroke-width:0.8;\" x=\"235.209958\" xlink:href=\"#m9d3fa887b4\" y=\"224.64\"/>\n      </g>\n     </g>\n     <g id=\"text_12\">\n      <!-- Spent -->\n      <g transform=\"translate(237.969333 260.747813)rotate(-90)scale(0.1 -0.1)\">\n       <defs>\n        <path d=\"M 53.515625 70.515625 \nL 53.515625 60.890625 \nQ 47.90625 63.578125 42.921875 64.890625 \nQ 37.9375 66.21875 33.296875 66.21875 \nQ 25.25 66.21875 20.875 63.09375 \nQ 16.5 59.96875 16.5 54.203125 \nQ 16.5 49.359375 19.40625 46.890625 \nQ 22.3125 44.4375 30.421875 42.921875 \nL 36.375 41.703125 \nQ 47.40625 39.59375 52.65625 34.296875 \nQ 57.90625 29 57.90625 20.125 \nQ 57.90625 9.515625 50.796875 4.046875 \nQ 43.703125 -1.421875 29.984375 -1.421875 \nQ 24.8125 -1.421875 18.96875 -0.25 \nQ 13.140625 0.921875 6.890625 3.21875 \nL 6.890625 13.375 \nQ 12.890625 10.015625 18.65625 8.296875 \nQ 24.421875 6.59375 29.984375 6.59375 \nQ 38.421875 6.59375 43.015625 9.90625 \nQ 47.609375 13.234375 47.609375 19.390625 \nQ 47.609375 24.75 44.3125 27.78125 \nQ 41.015625 30.8125 33.5 32.328125 \nL 27.484375 33.5 \nQ 16.453125 35.6875 11.515625 40.375 \nQ 6.59375 45.0625 6.59375 53.421875 \nQ 6.59375 63.09375 13.40625 68.65625 \nQ 20.21875 74.21875 32.171875 74.21875 \nQ 37.3125 74.21875 42.625 73.28125 \nQ 47.953125 72.359375 53.515625 70.515625 \nz\n\" id=\"DejaVuSans-83\"/>\n       </defs>\n       <use xlink:href=\"#DejaVuSans-83\"/>\n       <use x=\"63.476562\" xlink:href=\"#DejaVuSans-112\"/>\n       <use x=\"126.953125\" xlink:href=\"#DejaVuSans-101\"/>\n       <use x=\"188.476562\" xlink:href=\"#DejaVuSans-110\"/>\n       <use x=\"251.855469\" xlink:href=\"#DejaVuSans-116\"/>\n      </g>\n     </g>\n    </g>\n    <g id=\"xtick_13\">\n     <g id=\"line2d_25\">\n      <path clip-path=\"url(#pb3652bfa9f)\" d=\"M 251.229097 224.64 \nL 251.229097 7.2 \n\" style=\"fill:none;stroke:#c0c0c0;stroke-linecap:square;stroke-width:0.8;\"/>\n     </g>\n     <g id=\"line2d_26\">\n      <g>\n       <use style=\"stroke:#000000;stroke-width:0.8;\" x=\"251.229097\" xlink:href=\"#m9d3fa887b4\" y=\"224.64\"/>\n      </g>\n     </g>\n     <g id=\"text_13\">\n      <!-- lot -->\n      <g transform=\"translate(253.988472 244.457188)rotate(-90)scale(0.1 -0.1)\">\n       <use xlink:href=\"#DejaVuSans-108\"/>\n       <use x=\"27.783203\" xlink:href=\"#DejaVuSans-111\"/>\n       <use x=\"88.964844\" xlink:href=\"#DejaVuSans-116\"/>\n      </g>\n     </g>\n    </g>\n    <g id=\"xtick_14\">\n     <g id=\"line2d_27\">\n      <path clip-path=\"url(#pb3652bfa9f)\" d=\"M 267.248236 224.64 \nL 267.248236 7.2 \n\" style=\"fill:none;stroke:#c0c0c0;stroke-linecap:square;stroke-width:0.8;\"/>\n     </g>\n     <g id=\"line2d_28\">\n      <g>\n       <use style=\"stroke:#000000;stroke-width:0.8;\" x=\"267.248236\" xlink:href=\"#m9d3fa887b4\" y=\"224.64\"/>\n      </g>\n     </g>\n     <g id=\"text_14\">\n      <!-- time -->\n      <g transform=\"translate(270.007611 254.232188)rotate(-90)scale(0.1 -0.1)\">\n       <use xlink:href=\"#DejaVuSans-116\"/>\n       <use x=\"39.208984\" xlink:href=\"#DejaVuSans-105\"/>\n       <use x=\"66.992188\" xlink:href=\"#DejaVuSans-109\"/>\n       <use x=\"164.404297\" xlink:href=\"#DejaVuSans-101\"/>\n      </g>\n     </g>\n    </g>\n    <g id=\"xtick_15\">\n     <g id=\"line2d_29\">\n      <path clip-path=\"url(#pb3652bfa9f)\" d=\"M 283.267374 224.64 \nL 283.267374 7.2 \n\" style=\"fill:none;stroke:#c0c0c0;stroke-linecap:square;stroke-width:0.8;\"/>\n     </g>\n     <g id=\"line2d_30\">\n      <g>\n       <use style=\"stroke:#000000;stroke-width:0.8;\" x=\"283.267374\" xlink:href=\"#m9d3fa887b4\" y=\"224.64\"/>\n      </g>\n     </g>\n     <g id=\"text_15\">\n      <!-- working -->\n      <g transform=\"translate(286.026749 271.3025)rotate(-90)scale(0.1 -0.1)\">\n       <use xlink:href=\"#DejaVuSans-119\"/>\n       <use x=\"81.787109\" xlink:href=\"#DejaVuSans-111\"/>\n       <use x=\"142.96875\" xlink:href=\"#DejaVuSans-114\"/>\n       <use x=\"184.082031\" xlink:href=\"#DejaVuSans-107\"/>\n       <use x=\"241.992188\" xlink:href=\"#DejaVuSans-105\"/>\n       <use x=\"269.775391\" xlink:href=\"#DejaVuSans-110\"/>\n       <use x=\"333.154297\" xlink:href=\"#DejaVuSans-103\"/>\n      </g>\n     </g>\n    </g>\n    <g id=\"xtick_16\">\n     <g id=\"line2d_31\">\n      <path clip-path=\"url(#pb3652bfa9f)\" d=\"M 299.286513 224.64 \nL 299.286513 7.2 \n\" style=\"fill:none;stroke:#c0c0c0;stroke-linecap:square;stroke-width:0.8;\"/>\n     </g>\n     <g id=\"line2d_32\">\n      <g>\n       <use style=\"stroke:#000000;stroke-width:0.8;\" x=\"299.286513\" xlink:href=\"#m9d3fa887b4\" y=\"224.64\"/>\n      </g>\n     </g>\n     <g id=\"text_16\">\n      <!-- CAD -->\n      <g transform=\"translate(302.045888 253.163438)rotate(-90)scale(0.1 -0.1)\">\n       <defs>\n        <path d=\"M 64.40625 67.28125 \nL 64.40625 56.890625 \nQ 59.421875 61.53125 53.78125 63.8125 \nQ 48.140625 66.109375 41.796875 66.109375 \nQ 29.296875 66.109375 22.65625 58.46875 \nQ 16.015625 50.828125 16.015625 36.375 \nQ 16.015625 21.96875 22.65625 14.328125 \nQ 29.296875 6.6875 41.796875 6.6875 \nQ 48.140625 6.6875 53.78125 8.984375 \nQ 59.421875 11.28125 64.40625 15.921875 \nL 64.40625 5.609375 \nQ 59.234375 2.09375 53.4375 0.328125 \nQ 47.65625 -1.421875 41.21875 -1.421875 \nQ 24.65625 -1.421875 15.125 8.703125 \nQ 5.609375 18.84375 5.609375 36.375 \nQ 5.609375 53.953125 15.125 64.078125 \nQ 24.65625 74.21875 41.21875 74.21875 \nQ 47.75 74.21875 53.53125 72.484375 \nQ 59.328125 70.75 64.40625 67.28125 \nz\n\" id=\"DejaVuSans-67\"/>\n        <path d=\"M 34.1875 63.1875 \nL 20.796875 26.90625 \nL 47.609375 26.90625 \nz\nM 28.609375 72.90625 \nL 39.796875 72.90625 \nL 67.578125 0 \nL 57.328125 0 \nL 50.6875 18.703125 \nL 17.828125 18.703125 \nL 11.1875 0 \nL 0.78125 0 \nz\n\" id=\"DejaVuSans-65\"/>\n        <path d=\"M 19.671875 64.796875 \nL 19.671875 8.109375 \nL 31.59375 8.109375 \nQ 46.6875 8.109375 53.6875 14.9375 \nQ 60.6875 21.78125 60.6875 36.53125 \nQ 60.6875 51.171875 53.6875 57.984375 \nQ 46.6875 64.796875 31.59375 64.796875 \nz\nM 9.8125 72.90625 \nL 30.078125 72.90625 \nQ 51.265625 72.90625 61.171875 64.09375 \nQ 71.09375 55.28125 71.09375 36.53125 \nQ 71.09375 17.671875 61.125 8.828125 \nQ 51.171875 0 30.078125 0 \nL 9.8125 0 \nz\n\" id=\"DejaVuSans-68\"/>\n       </defs>\n       <use xlink:href=\"#DejaVuSans-67\"/>\n       <use x=\"69.824219\" xlink:href=\"#DejaVuSans-65\"/>\n       <use x=\"138.232422\" xlink:href=\"#DejaVuSans-68\"/>\n      </g>\n     </g>\n    </g>\n    <g id=\"xtick_17\">\n     <g id=\"line2d_33\">\n      <path clip-path=\"url(#pb3652bfa9f)\" d=\"M 315.305652 224.64 \nL 315.305652 7.2 \n\" style=\"fill:none;stroke:#c0c0c0;stroke-linecap:square;stroke-width:0.8;\"/>\n     </g>\n     <g id=\"line2d_34\">\n      <g>\n       <use style=\"stroke:#000000;stroke-width:0.8;\" x=\"315.305652\" xlink:href=\"#m9d3fa887b4\" y=\"224.64\"/>\n      </g>\n     </g>\n     <g id=\"text_17\">\n      <!-- project -->\n      <g transform=\"translate(318.065027 266.343125)rotate(-90)scale(0.1 -0.1)\">\n       <defs>\n        <path d=\"M 9.421875 54.6875 \nL 18.40625 54.6875 \nL 18.40625 -0.984375 \nQ 18.40625 -11.421875 14.421875 -16.109375 \nQ 10.453125 -20.796875 1.609375 -20.796875 \nL -1.8125 -20.796875 \nL -1.8125 -13.1875 \nL 0.59375 -13.1875 \nQ 5.71875 -13.1875 7.5625 -10.8125 \nQ 9.421875 -8.453125 9.421875 -0.984375 \nz\nM 9.421875 75.984375 \nL 18.40625 75.984375 \nL 18.40625 64.59375 \nL 9.421875 64.59375 \nz\n\" id=\"DejaVuSans-106\"/>\n       </defs>\n       <use xlink:href=\"#DejaVuSans-112\"/>\n       <use x=\"63.476562\" xlink:href=\"#DejaVuSans-114\"/>\n       <use x=\"102.339844\" xlink:href=\"#DejaVuSans-111\"/>\n       <use x=\"163.521484\" xlink:href=\"#DejaVuSans-106\"/>\n       <use x=\"191.304688\" xlink:href=\"#DejaVuSans-101\"/>\n       <use x=\"252.828125\" xlink:href=\"#DejaVuSans-99\"/>\n       <use x=\"307.808594\" xlink:href=\"#DejaVuSans-116\"/>\n      </g>\n     </g>\n    </g>\n    <g id=\"xtick_18\">\n     <g id=\"line2d_35\">\n      <path clip-path=\"url(#pb3652bfa9f)\" d=\"M 331.324791 224.64 \nL 331.324791 7.2 \n\" style=\"fill:none;stroke:#c0c0c0;stroke-linecap:square;stroke-width:0.8;\"/>\n     </g>\n     <g id=\"line2d_36\">\n      <g>\n       <use style=\"stroke:#000000;stroke-width:0.8;\" x=\"331.324791\" xlink:href=\"#m9d3fa887b4\" y=\"224.64\"/>\n      </g>\n     </g>\n     <g id=\"text_18\">\n      <!-- Went -->\n      <g transform=\"translate(334.084166 257.350938)rotate(-90)scale(0.1 -0.1)\">\n       <use xlink:href=\"#DejaVuSans-87\"/>\n       <use x=\"93.001953\" xlink:href=\"#DejaVuSans-101\"/>\n       <use x=\"154.525391\" xlink:href=\"#DejaVuSans-110\"/>\n       <use x=\"217.904297\" xlink:href=\"#DejaVuSans-116\"/>\n      </g>\n     </g>\n    </g>\n    <g id=\"xtick_19\">\n     <g id=\"line2d_37\">\n      <path clip-path=\"url(#pb3652bfa9f)\" d=\"M 347.343929 224.64 \nL 347.343929 7.2 \n\" style=\"fill:none;stroke:#c0c0c0;stroke-linecap:square;stroke-width:0.8;\"/>\n     </g>\n     <g id=\"line2d_38\">\n      <g>\n       <use style=\"stroke:#000000;stroke-width:0.8;\" x=\"347.343929\" xlink:href=\"#m9d3fa887b4\" y=\"224.64\"/>\n      </g>\n     </g>\n     <g id=\"text_19\">\n      <!-- person -->\n      <g transform=\"translate(350.103304 265.918125)rotate(-90)scale(0.1 -0.1)\">\n       <use xlink:href=\"#DejaVuSans-112\"/>\n       <use x=\"63.476562\" xlink:href=\"#DejaVuSans-101\"/>\n       <use x=\"125\" xlink:href=\"#DejaVuSans-114\"/>\n       <use x=\"166.113281\" xlink:href=\"#DejaVuSans-115\"/>\n       <use x=\"218.212891\" xlink:href=\"#DejaVuSans-111\"/>\n       <use x=\"279.394531\" xlink:href=\"#DejaVuSans-110\"/>\n      </g>\n     </g>\n    </g>\n    <g id=\"xtick_20\">\n     <g id=\"line2d_39\">\n      <path clip-path=\"url(#pb3652bfa9f)\" d=\"M 363.363068 224.64 \nL 363.363068 7.2 \n\" style=\"fill:none;stroke:#c0c0c0;stroke-linecap:square;stroke-width:0.8;\"/>\n     </g>\n     <g id=\"line2d_40\">\n      <g>\n       <use style=\"stroke:#000000;stroke-width:0.8;\" x=\"363.363068\" xlink:href=\"#m9d3fa887b4\" y=\"224.64\"/>\n      </g>\n     </g>\n     <g id=\"text_20\">\n      <!-- labs -->\n      <g transform=\"translate(366.122443 252.104063)rotate(-90)scale(0.1 -0.1)\">\n       <defs>\n        <path d=\"M 48.6875 27.296875 \nQ 48.6875 37.203125 44.609375 42.84375 \nQ 40.53125 48.484375 33.40625 48.484375 \nQ 26.265625 48.484375 22.1875 42.84375 \nQ 18.109375 37.203125 18.109375 27.296875 \nQ 18.109375 17.390625 22.1875 11.75 \nQ 26.265625 6.109375 33.40625 6.109375 \nQ 40.53125 6.109375 44.609375 11.75 \nQ 48.6875 17.390625 48.6875 27.296875 \nz\nM 18.109375 46.390625 \nQ 20.953125 51.265625 25.265625 53.625 \nQ 29.59375 56 35.59375 56 \nQ 45.5625 56 51.78125 48.09375 \nQ 58.015625 40.1875 58.015625 27.296875 \nQ 58.015625 14.40625 51.78125 6.484375 \nQ 45.5625 -1.421875 35.59375 -1.421875 \nQ 29.59375 -1.421875 25.265625 0.953125 \nQ 20.953125 3.328125 18.109375 8.203125 \nL 18.109375 0 \nL 9.078125 0 \nL 9.078125 75.984375 \nL 18.109375 75.984375 \nz\n\" id=\"DejaVuSans-98\"/>\n       </defs>\n       <use xlink:href=\"#DejaVuSans-108\"/>\n       <use x=\"27.783203\" xlink:href=\"#DejaVuSans-97\"/>\n       <use x=\"89.0625\" xlink:href=\"#DejaVuSans-98\"/>\n       <use x=\"152.539062\" xlink:href=\"#DejaVuSans-115\"/>\n      </g>\n     </g>\n    </g>\n    <g id=\"text_21\">\n     <!-- Samples -->\n     <g transform=\"translate(189.828125 306.529063)scale(0.1 -0.1)\">\n      <use xlink:href=\"#DejaVuSans-83\"/>\n      <use x=\"63.476562\" xlink:href=\"#DejaVuSans-97\"/>\n      <use x=\"124.755859\" xlink:href=\"#DejaVuSans-109\"/>\n      <use x=\"222.167969\" xlink:href=\"#DejaVuSans-112\"/>\n      <use x=\"285.644531\" xlink:href=\"#DejaVuSans-108\"/>\n      <use x=\"313.427734\" xlink:href=\"#DejaVuSans-101\"/>\n      <use x=\"374.951172\" xlink:href=\"#DejaVuSans-115\"/>\n     </g>\n    </g>\n   </g>\n   <g id=\"matplotlib.axis_2\">\n    <g id=\"ytick_1\">\n     <g id=\"line2d_41\">\n      <path clip-path=\"url(#pb3652bfa9f)\" d=\"M 43.78125 214.756364 \nL 378.58125 214.756364 \n\" style=\"fill:none;stroke:#c0c0c0;stroke-linecap:square;stroke-width:0.8;\"/>\n     </g>\n     <g id=\"line2d_42\">\n      <defs>\n       <path d=\"M 0 0 \nL -3.5 0 \n\" id=\"m04ac2be79e\" style=\"stroke:#000000;stroke-width:0.8;\"/>\n      </defs>\n      <g>\n       <use style=\"stroke:#000000;stroke-width:0.8;\" x=\"43.78125\" xlink:href=\"#m04ac2be79e\" y=\"214.756364\"/>\n      </g>\n     </g>\n     <g id=\"text_22\">\n      <!-- 1.0 -->\n      <g transform=\"translate(20.878125 218.555582)scale(0.1 -0.1)\">\n       <defs>\n        <path d=\"M 12.40625 8.296875 \nL 28.515625 8.296875 \nL 28.515625 63.921875 \nL 10.984375 60.40625 \nL 10.984375 69.390625 \nL 28.421875 72.90625 \nL 38.28125 72.90625 \nL 38.28125 8.296875 \nL 54.390625 8.296875 \nL 54.390625 0 \nL 12.40625 0 \nz\n\" id=\"DejaVuSans-49\"/>\n        <path d=\"M 10.6875 12.40625 \nL 21 12.40625 \nL 21 0 \nL 10.6875 0 \nz\n\" id=\"DejaVuSans-46\"/>\n        <path d=\"M 31.78125 66.40625 \nQ 24.171875 66.40625 20.328125 58.90625 \nQ 16.5 51.421875 16.5 36.375 \nQ 16.5 21.390625 20.328125 13.890625 \nQ 24.171875 6.390625 31.78125 6.390625 \nQ 39.453125 6.390625 43.28125 13.890625 \nQ 47.125 21.390625 47.125 36.375 \nQ 47.125 51.421875 43.28125 58.90625 \nQ 39.453125 66.40625 31.78125 66.40625 \nz\nM 31.78125 74.21875 \nQ 44.046875 74.21875 50.515625 64.515625 \nQ 56.984375 54.828125 56.984375 36.375 \nQ 56.984375 17.96875 50.515625 8.265625 \nQ 44.046875 -1.421875 31.78125 -1.421875 \nQ 19.53125 -1.421875 13.0625 8.265625 \nQ 6.59375 17.96875 6.59375 36.375 \nQ 6.59375 54.828125 13.0625 64.515625 \nQ 19.53125 74.21875 31.78125 74.21875 \nz\n\" id=\"DejaVuSans-48\"/>\n       </defs>\n       <use xlink:href=\"#DejaVuSans-49\"/>\n       <use x=\"63.623047\" xlink:href=\"#DejaVuSans-46\"/>\n       <use x=\"95.410156\" xlink:href=\"#DejaVuSans-48\"/>\n      </g>\n     </g>\n    </g>\n    <g id=\"ytick_2\">\n     <g id=\"line2d_43\">\n      <path clip-path=\"url(#pb3652bfa9f)\" d=\"M 43.78125 175.221818 \nL 378.58125 175.221818 \n\" style=\"fill:none;stroke:#c0c0c0;stroke-linecap:square;stroke-width:0.8;\"/>\n     </g>\n     <g id=\"line2d_44\">\n      <g>\n       <use style=\"stroke:#000000;stroke-width:0.8;\" x=\"43.78125\" xlink:href=\"#m04ac2be79e\" y=\"175.221818\"/>\n      </g>\n     </g>\n     <g id=\"text_23\">\n      <!-- 1.2 -->\n      <g transform=\"translate(20.878125 179.021037)scale(0.1 -0.1)\">\n       <defs>\n        <path d=\"M 19.1875 8.296875 \nL 53.609375 8.296875 \nL 53.609375 0 \nL 7.328125 0 \nL 7.328125 8.296875 \nQ 12.9375 14.109375 22.625 23.890625 \nQ 32.328125 33.6875 34.8125 36.53125 \nQ 39.546875 41.84375 41.421875 45.53125 \nQ 43.3125 49.21875 43.3125 52.78125 \nQ 43.3125 58.59375 39.234375 62.25 \nQ 35.15625 65.921875 28.609375 65.921875 \nQ 23.96875 65.921875 18.8125 64.3125 \nQ 13.671875 62.703125 7.8125 59.421875 \nL 7.8125 69.390625 \nQ 13.765625 71.78125 18.9375 73 \nQ 24.125 74.21875 28.421875 74.21875 \nQ 39.75 74.21875 46.484375 68.546875 \nQ 53.21875 62.890625 53.21875 53.421875 \nQ 53.21875 48.921875 51.53125 44.890625 \nQ 49.859375 40.875 45.40625 35.40625 \nQ 44.1875 33.984375 37.640625 27.21875 \nQ 31.109375 20.453125 19.1875 8.296875 \nz\n\" id=\"DejaVuSans-50\"/>\n       </defs>\n       <use xlink:href=\"#DejaVuSans-49\"/>\n       <use x=\"63.623047\" xlink:href=\"#DejaVuSans-46\"/>\n       <use x=\"95.410156\" xlink:href=\"#DejaVuSans-50\"/>\n      </g>\n     </g>\n    </g>\n    <g id=\"ytick_3\">\n     <g id=\"line2d_45\">\n      <path clip-path=\"url(#pb3652bfa9f)\" d=\"M 43.78125 135.687273 \nL 378.58125 135.687273 \n\" style=\"fill:none;stroke:#c0c0c0;stroke-linecap:square;stroke-width:0.8;\"/>\n     </g>\n     <g id=\"line2d_46\">\n      <g>\n       <use style=\"stroke:#000000;stroke-width:0.8;\" x=\"43.78125\" xlink:href=\"#m04ac2be79e\" y=\"135.687273\"/>\n      </g>\n     </g>\n     <g id=\"text_24\">\n      <!-- 1.4 -->\n      <g transform=\"translate(20.878125 139.486491)scale(0.1 -0.1)\">\n       <defs>\n        <path d=\"M 37.796875 64.3125 \nL 12.890625 25.390625 \nL 37.796875 25.390625 \nz\nM 35.203125 72.90625 \nL 47.609375 72.90625 \nL 47.609375 25.390625 \nL 58.015625 25.390625 \nL 58.015625 17.1875 \nL 47.609375 17.1875 \nL 47.609375 0 \nL 37.796875 0 \nL 37.796875 17.1875 \nL 4.890625 17.1875 \nL 4.890625 26.703125 \nz\n\" id=\"DejaVuSans-52\"/>\n       </defs>\n       <use xlink:href=\"#DejaVuSans-49\"/>\n       <use x=\"63.623047\" xlink:href=\"#DejaVuSans-46\"/>\n       <use x=\"95.410156\" xlink:href=\"#DejaVuSans-52\"/>\n      </g>\n     </g>\n    </g>\n    <g id=\"ytick_4\">\n     <g id=\"line2d_47\">\n      <path clip-path=\"url(#pb3652bfa9f)\" d=\"M 43.78125 96.152727 \nL 378.58125 96.152727 \n\" style=\"fill:none;stroke:#c0c0c0;stroke-linecap:square;stroke-width:0.8;\"/>\n     </g>\n     <g id=\"line2d_48\">\n      <g>\n       <use style=\"stroke:#000000;stroke-width:0.8;\" x=\"43.78125\" xlink:href=\"#m04ac2be79e\" y=\"96.152727\"/>\n      </g>\n     </g>\n     <g id=\"text_25\">\n      <!-- 1.6 -->\n      <g transform=\"translate(20.878125 99.951946)scale(0.1 -0.1)\">\n       <defs>\n        <path d=\"M 33.015625 40.375 \nQ 26.375 40.375 22.484375 35.828125 \nQ 18.609375 31.296875 18.609375 23.390625 \nQ 18.609375 15.53125 22.484375 10.953125 \nQ 26.375 6.390625 33.015625 6.390625 \nQ 39.65625 6.390625 43.53125 10.953125 \nQ 47.40625 15.53125 47.40625 23.390625 \nQ 47.40625 31.296875 43.53125 35.828125 \nQ 39.65625 40.375 33.015625 40.375 \nz\nM 52.59375 71.296875 \nL 52.59375 62.3125 \nQ 48.875 64.0625 45.09375 64.984375 \nQ 41.3125 65.921875 37.59375 65.921875 \nQ 27.828125 65.921875 22.671875 59.328125 \nQ 17.53125 52.734375 16.796875 39.40625 \nQ 19.671875 43.65625 24.015625 45.921875 \nQ 28.375 48.1875 33.59375 48.1875 \nQ 44.578125 48.1875 50.953125 41.515625 \nQ 57.328125 34.859375 57.328125 23.390625 \nQ 57.328125 12.15625 50.6875 5.359375 \nQ 44.046875 -1.421875 33.015625 -1.421875 \nQ 20.359375 -1.421875 13.671875 8.265625 \nQ 6.984375 17.96875 6.984375 36.375 \nQ 6.984375 53.65625 15.1875 63.9375 \nQ 23.390625 74.21875 37.203125 74.21875 \nQ 40.921875 74.21875 44.703125 73.484375 \nQ 48.484375 72.75 52.59375 71.296875 \nz\n\" id=\"DejaVuSans-54\"/>\n       </defs>\n       <use xlink:href=\"#DejaVuSans-49\"/>\n       <use x=\"63.623047\" xlink:href=\"#DejaVuSans-46\"/>\n       <use x=\"95.410156\" xlink:href=\"#DejaVuSans-54\"/>\n      </g>\n     </g>\n    </g>\n    <g id=\"ytick_5\">\n     <g id=\"line2d_49\">\n      <path clip-path=\"url(#pb3652bfa9f)\" d=\"M 43.78125 56.618182 \nL 378.58125 56.618182 \n\" style=\"fill:none;stroke:#c0c0c0;stroke-linecap:square;stroke-width:0.8;\"/>\n     </g>\n     <g id=\"line2d_50\">\n      <g>\n       <use style=\"stroke:#000000;stroke-width:0.8;\" x=\"43.78125\" xlink:href=\"#m04ac2be79e\" y=\"56.618182\"/>\n      </g>\n     </g>\n     <g id=\"text_26\">\n      <!-- 1.8 -->\n      <g transform=\"translate(20.878125 60.417401)scale(0.1 -0.1)\">\n       <defs>\n        <path d=\"M 31.78125 34.625 \nQ 24.75 34.625 20.71875 30.859375 \nQ 16.703125 27.09375 16.703125 20.515625 \nQ 16.703125 13.921875 20.71875 10.15625 \nQ 24.75 6.390625 31.78125 6.390625 \nQ 38.8125 6.390625 42.859375 10.171875 \nQ 46.921875 13.96875 46.921875 20.515625 \nQ 46.921875 27.09375 42.890625 30.859375 \nQ 38.875 34.625 31.78125 34.625 \nz\nM 21.921875 38.8125 \nQ 15.578125 40.375 12.03125 44.71875 \nQ 8.5 49.078125 8.5 55.328125 \nQ 8.5 64.0625 14.71875 69.140625 \nQ 20.953125 74.21875 31.78125 74.21875 \nQ 42.671875 74.21875 48.875 69.140625 \nQ 55.078125 64.0625 55.078125 55.328125 \nQ 55.078125 49.078125 51.53125 44.71875 \nQ 48 40.375 41.703125 38.8125 \nQ 48.828125 37.15625 52.796875 32.3125 \nQ 56.78125 27.484375 56.78125 20.515625 \nQ 56.78125 9.90625 50.3125 4.234375 \nQ 43.84375 -1.421875 31.78125 -1.421875 \nQ 19.734375 -1.421875 13.25 4.234375 \nQ 6.78125 9.90625 6.78125 20.515625 \nQ 6.78125 27.484375 10.78125 32.3125 \nQ 14.796875 37.15625 21.921875 38.8125 \nz\nM 18.3125 54.390625 \nQ 18.3125 48.734375 21.84375 45.5625 \nQ 25.390625 42.390625 31.78125 42.390625 \nQ 38.140625 42.390625 41.71875 45.5625 \nQ 45.3125 48.734375 45.3125 54.390625 \nQ 45.3125 60.0625 41.71875 63.234375 \nQ 38.140625 66.40625 31.78125 66.40625 \nQ 25.390625 66.40625 21.84375 63.234375 \nQ 18.3125 60.0625 18.3125 54.390625 \nz\n\" id=\"DejaVuSans-56\"/>\n       </defs>\n       <use xlink:href=\"#DejaVuSans-49\"/>\n       <use x=\"63.623047\" xlink:href=\"#DejaVuSans-46\"/>\n       <use x=\"95.410156\" xlink:href=\"#DejaVuSans-56\"/>\n      </g>\n     </g>\n    </g>\n    <g id=\"ytick_6\">\n     <g id=\"line2d_51\">\n      <path clip-path=\"url(#pb3652bfa9f)\" d=\"M 43.78125 17.083636 \nL 378.58125 17.083636 \n\" style=\"fill:none;stroke:#c0c0c0;stroke-linecap:square;stroke-width:0.8;\"/>\n     </g>\n     <g id=\"line2d_52\">\n      <g>\n       <use style=\"stroke:#000000;stroke-width:0.8;\" x=\"43.78125\" xlink:href=\"#m04ac2be79e\" y=\"17.083636\"/>\n      </g>\n     </g>\n     <g id=\"text_27\">\n      <!-- 2.0 -->\n      <g transform=\"translate(20.878125 20.882855)scale(0.1 -0.1)\">\n       <use xlink:href=\"#DejaVuSans-50\"/>\n       <use x=\"63.623047\" xlink:href=\"#DejaVuSans-46\"/>\n       <use x=\"95.410156\" xlink:href=\"#DejaVuSans-48\"/>\n      </g>\n     </g>\n    </g>\n    <g id=\"text_28\">\n     <!-- Counts -->\n     <g transform=\"translate(14.798438 133.373125)rotate(-90)scale(0.1 -0.1)\">\n      <defs>\n       <path d=\"M 8.5 21.578125 \nL 8.5 54.6875 \nL 17.484375 54.6875 \nL 17.484375 21.921875 \nQ 17.484375 14.15625 20.5 10.265625 \nQ 23.53125 6.390625 29.59375 6.390625 \nQ 36.859375 6.390625 41.078125 11.03125 \nQ 45.3125 15.671875 45.3125 23.6875 \nL 45.3125 54.6875 \nL 54.296875 54.6875 \nL 54.296875 0 \nL 45.3125 0 \nL 45.3125 8.40625 \nQ 42.046875 3.421875 37.71875 1 \nQ 33.40625 -1.421875 27.6875 -1.421875 \nQ 18.265625 -1.421875 13.375 4.4375 \nQ 8.5 10.296875 8.5 21.578125 \nz\nM 31.109375 56 \nz\n\" id=\"DejaVuSans-117\"/>\n      </defs>\n      <use xlink:href=\"#DejaVuSans-67\"/>\n      <use x=\"69.824219\" xlink:href=\"#DejaVuSans-111\"/>\n      <use x=\"131.005859\" xlink:href=\"#DejaVuSans-117\"/>\n      <use x=\"194.384766\" xlink:href=\"#DejaVuSans-110\"/>\n      <use x=\"257.763672\" xlink:href=\"#DejaVuSans-116\"/>\n      <use x=\"296.972656\" xlink:href=\"#DejaVuSans-115\"/>\n     </g>\n    </g>\n   </g>\n   <g id=\"line2d_53\">\n    <path clip-path=\"url(#pb3652bfa9f)\" d=\"M 58.999432 17.083636 \nL 75.018571 214.756364 \nL 91.037709 214.756364 \nL 107.056848 214.756364 \nL 123.075987 214.756364 \nL 139.095126 214.756364 \nL 155.114264 214.756364 \nL 171.133403 214.756364 \nL 187.152542 214.756364 \nL 203.171681 214.756364 \nL 219.190819 214.756364 \nL 235.209958 214.756364 \nL 251.229097 214.756364 \nL 267.248236 214.756364 \nL 283.267374 214.756364 \nL 299.286513 214.756364 \nL 315.305652 214.756364 \nL 331.324791 214.756364 \nL 347.343929 214.756364 \nL 363.363068 214.756364 \n\" style=\"fill:none;stroke:#1f77b4;stroke-linecap:square;stroke-width:2;\"/>\n   </g>\n   <g id=\"patch_3\">\n    <path d=\"M 43.78125 224.64 \nL 43.78125 7.2 \n\" style=\"fill:none;stroke:#000000;stroke-linecap:square;stroke-linejoin:miter;stroke-width:0.8;\"/>\n   </g>\n   <g id=\"patch_4\">\n    <path d=\"M 378.58125 224.64 \nL 378.58125 7.2 \n\" style=\"fill:none;stroke:#000000;stroke-linecap:square;stroke-linejoin:miter;stroke-width:0.8;\"/>\n   </g>\n   <g id=\"patch_5\">\n    <path d=\"M 43.78125 224.64 \nL 378.58125 224.64 \n\" style=\"fill:none;stroke:#000000;stroke-linecap:square;stroke-linejoin:miter;stroke-width:0.8;\"/>\n   </g>\n   <g id=\"patch_6\">\n    <path d=\"M 43.78125 7.2 \nL 378.58125 7.2 \n\" style=\"fill:none;stroke:#000000;stroke-linecap:square;stroke-linejoin:miter;stroke-width:0.8;\"/>\n   </g>\n  </g>\n </g>\n <defs>\n  <clipPath id=\"pb3652bfa9f\">\n   <rect height=\"217.44\" width=\"334.8\" x=\"43.78125\" y=\"7.2\"/>\n  </clipPath>\n </defs>\n</svg>\n",
            "image/png": "[encoded data removed]"
          },
          "metadata": {},
          "execution_count": 36
        }
      ],
      "source": [
        "from nltk.corpus import stopwords\n",
        "sr= stopwords.words('english')\n",
        "clean_tokens = tokens[:]\n",
        "for token in tokens:\n",
        "    if token in stopwords.words('english'):\n",
        "        \n",
        "        clean_tokens.remove(token)\n",
        "freq = nltk.FreqDist(clean_tokens)\n",
        "for key,val in freq.items():\n",
        "    print(str(key) + ':' + str(val))\n",
        "freq.plot(20, cumulative=False).figure"
      ]
    },
    {
      "cell_type": "code",
      "execution_count": 56,
      "metadata": {},
      "outputs": [
        {
          "output_type": "execute_result",
          "data": {
            "text/plain": [
              "[('Helped', 'VBD'),\n",
              " ('come', 'VB'),\n",
              " ('up', 'RP'),\n",
              " ('with', 'IN'),\n",
              " ('ways', 'NNS'),\n",
              " ('to', 'TO'),\n",
              " ('improve', 'VB'),\n",
              " ('idea', 'NN'),\n",
              " ('and', 'CC'),\n",
              " ('presentation', 'NN'),\n",
              " ('Worked', 'VBN'),\n",
              " ('on', 'IN'),\n",
              " ('developing', 'VBG'),\n",
              " ('iterations', 'NNS'),\n",
              " ('of', 'IN'),\n",
              " ('idea', 'NN'),\n",
              " ('and', 'CC'),\n",
              " ('completing', 'VBG'),\n",
              " ('each', 'DT'),\n",
              " ('milestone', 'NN'),\n",
              " ('Spent', 'VBD'),\n",
              " ('a', 'DT'),\n",
              " ('lot', 'NN'),\n",
              " ('of', 'IN'),\n",
              " ('time', 'NN'),\n",
              " ('working', 'VBG'),\n",
              " ('on', 'IN'),\n",
              " ('CAD', 'NNP'),\n",
              " ('for', 'IN'),\n",
              " ('project', 'NN'),\n",
              " ('Went', 'NNP'),\n",
              " ('to', 'TO'),\n",
              " ('in', 'IN'),\n",
              " ('person', 'NN'),\n",
              " ('labs', 'NNS'),\n",
              " ('and', 'CC'),\n",
              " ('handled/assembled', 'VBD'),\n",
              " ('physical', 'JJ'),\n",
              " ('printouts', 'NNS'),\n",
              " ('of', 'IN'),\n",
              " ('projects', 'NNS')]"
            ]
          },
          "metadata": {},
          "execution_count": 56
        }
      ],
      "source": [
        "from nltk import pos_tag\n",
        "from nltk.tokenize import word_tokenize\n",
        "# tag parts of speech\n",
        "sentence = word_tokenize(text)\n",
        "pos_tag(sentence)"
      ]
    },
    {
      "cell_type": "code",
      "execution_count": 66,
      "metadata": {},
      "outputs": [],
      "source": [
        "verbs = []\n",
        "adjectives = []\n",
        "for i in pos_tag(sentence):\n",
        "    if 'VB' in i[1]:\n",
        "        verbs.append(i)\n",
        "    elif 'JJ' in i[1]:\n",
        "        adjectives.append(i)"
      ]
    },
    {
      "cell_type": "code",
      "execution_count": 64,
      "metadata": {},
      "outputs": [
        {
          "output_type": "execute_result",
          "data": {
            "text/plain": [
              "[('Helped', 'VBD'),\n",
              " ('come', 'VB'),\n",
              " ('improve', 'VB'),\n",
              " ('Worked', 'VBN'),\n",
              " ('developing', 'VBG'),\n",
              " ('completing', 'VBG'),\n",
              " ('Spent', 'VBD'),\n",
              " ('working', 'VBG'),\n",
              " ('handled/assembled', 'VBD')]"
            ]
          },
          "metadata": {},
          "execution_count": 64
        }
      ],
      "source": [
        "verbs"
      ]
    },
    {
      "cell_type": "code",
      "execution_count": 65,
      "metadata": {},
      "outputs": [
        {
          "output_type": "execute_result",
          "data": {
            "text/plain": [
              "[('physical', 'JJ')]"
            ]
          },
          "metadata": {},
          "execution_count": 65
        }
      ],
      "source": [
        "adjectives"
      ]
    },
    {
      "cell_type": "code",
      "execution_count": null,
      "metadata": {},
      "outputs": [],
      "source": []
    }
  ]
}