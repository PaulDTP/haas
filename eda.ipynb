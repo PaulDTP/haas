{
 "metadata": {
  "language_info": {
   "codemirror_mode": {
    "name": "ipython",
    "version": 3
   },
   "file_extension": ".py",
   "mimetype": "text/x-python",
   "name": "python",
   "nbconvert_exporter": "python",
   "pygments_lexer": "ipython3",
   "version": "3.8.2"
  },
  "orig_nbformat": 4,
  "kernelspec": {
   "name": "python3",
   "display_name": "Python 3.8.2 64-bit"
  },
  "interpreter": {
   "hash": "31f2aee4e71d21fbe5cf8b01ff0e069b9275f58929596ceb00d14d90e3e16cd6"
  }
 },
 "nbformat": 4,
 "nbformat_minor": 2,
 "cells": [
  {
   "cell_type": "code",
   "execution_count": 20,
   "metadata": {},
   "outputs": [],
   "source": [
    "import pandas as pd\n",
    "import openpyxl"
   ]
  },
  {
   "cell_type": "code",
   "execution_count": 21,
   "metadata": {},
   "outputs": [
    {
     "output_type": "execute_result",
     "data": {
      "text/plain": [
       "          0   \n",
       "..                                                ...                    ...   \n",
       "72                                        5/5/21 8:27                      0   \n",
       "73                                       5/5/21 22:28                      0   \n",
       "74                                       5/7/21 21:44                      0   \n",
       "75                                       5/6/21 16:48                      0   \n",
       "76                                       5/6/21 23:55                      0   \n",
       "\n",
       "                   IPAddress                 Progress  \\\n",
       "0                 IP Address                 Progress   \n",
       "1   {\"ImportId\":\"ipAddress\"}  {\"ImportId\":\"progress\"}   \n",
       "2             165.227.11.194                      100   \n",
       "3             192.31.105.188                      100   \n",
       "4             174.50.134.214                      100   \n",
       "..                       ...                      ...   \n",
       "72            196.190.52.186                      100   \n",
       "73             136.152.143.2                      100   \n",
       "74              58.120.81.57                      100   \n",
       "75               76.95.93.69                      100   \n",
       "76             137.25.32.190                      100   \n",
       "\n",
       "      Duration (in seconds)                 Finished  \\\n",
       "0     Duration (in seconds)                 Finished   \n",
       "1   {\"ImportId\":\"duration\"}  {\"ImportId\":\"finished\"}   \n",
       "2                      1126                        1   \n",
       "3                       938                        1   \n",
       "4                      3072                        1   \n",
       "..                      ...                      ...   \n",
       "72                     1028                        1   \n",
       "73                      342                        1   \n",
       "74                   188002                        1   \n",
       "75                      299                        1   \n",
       "76                      176                        1   \n",
       "\n",
       "                                         RecordedDate  \\\n",
       "0                                       Recorded Date   \n",
       "1   {\"ImportId\":\"recordedDate\",\"timeZone\":\"America...   \n",
       "2                                        5/6/21 11:51   \n",
       "3                                        5/6/21 21:22   \n",
       "4                                        5/7/21 22:14   \n",
       "..                                                ...   \n",
       "72                                        5/5/21 8:27   \n",
       "73                                       5/5/21 22:28   \n",
       "74                                       5/7/21 21:45   \n",
       "75                                       5/6/21 16:48   \n",
       "76                                       5/6/21 23:55   \n",
       "\n",
       "                  ResponseId Student Name  ...  \\\n",
       "0                Response ID  StudentName  ...   \n",
       "1   {\"ImportId\":\"_recordId\"}          NaN  ...   \n",
       "2          R_ZlwqGK7oRXFuk2B            F  ...   \n",
       "3          R_3EBj9T7Yvk5B9p8            I  ...   \n",
       "4          R_3kzGFidBS7a7uMY           BP  ...   \n",
       "..                       ...          ...  ...   \n",
       "72         R_2QrrksrmMx96cHQ           AC  ...   \n",
       "73         R_1eEvSPjO8lrr4qL            D  ...   \n",
       "74         R_1LcsPArzQiMPFtv            X  ...   \n",
       "75         R_3NwhKneVbRULZdP           BO  ...   \n",
       "76         R_CZVS5VAsYw4TRtf           AH  ...   \n",
       "\n",
       "                                                Q17_3  \\\n",
       "0   Contributes expertise and effort in team activ...   \n",
       "1                              {\"ImportId\":\"QID95_3\"}   \n",
       "2                                                   2   \n",
       "3                                                   1   \n",
       "4                                                   1   \n",
       "..                                                ...   \n",
       "72                                                  3   \n",
       "73                                                  1   \n",
       "74                                                  2   \n",
       "75                                                  2   \n",
       "76                                                  2   \n",
       "\n",
       "                                                Q17_4  \\\n",
       "0   Contributes expertise and effort in team activ...   \n",
       "1                              {\"ImportId\":\"QID95_4\"}   \n",
       "2                                                   2   \n",
       "3                                                   1   \n",
       "4                                                   1   \n",
       "..                                                ...   \n",
       "72                                                  3   \n",
       "73                                                  1   \n",
       "74                                                  1   \n",
       "75                                                  2   \n",
       "76                                                  2   \n",
       "\n",
       "                                                Q17_5  \\\n",
       "0   Contributes expertise and effort in team activ...   \n",
       "1                              {\"ImportId\":\"QID95_5\"}   \n",
       "2                                                 NaN   \n",
       "3                                                 NaN   \n",
       "4                                                 NaN   \n",
       "..                                                ...   \n",
       "72                                                  4   \n",
       "73                                                NaN   \n",
       "74                                                  2   \n",
       "75                                                  2   \n",
       "76                                                NaN   \n",
       "\n",
       "                                                Q17_6  \\\n",
       "0   Contributes expertise and effort in team activ...   \n",
       "1                              {\"ImportId\":\"QID95_6\"}   \n",
       "2                                                 NaN   \n",
       "3                                                 NaN   \n",
       "4                                                 NaN   \n",
       "..                                                ...   \n",
       "72                                                  3   \n",
       "73                                                NaN   \n",
       "74                                                  1   \n",
       "75                                                  2   \n",
       "76                                                NaN   \n",
       "\n",
       "                                                Q30_1  \\\n",
       "0   Respects and values other team members to brin...   \n",
       "1                             {\"ImportId\":\"QID108_1\"}   \n",
       "2                                                   1   \n",
       "3                                                   1   \n",
       "4                                                   1   \n",
       "..                                                ...   \n",
       "72                                                  1   \n",
       "73                                                  1   \n",
       "74                                                  1   \n",
       "75                                                  2   \n",
       "76                                                  2   \n",
       "\n",
       "                                                Q30_2  \\\n",
       "0   Respects and values other team members to brin...   \n",
       "1                             {\"ImportId\":\"QID108_2\"}   \n",
       "2                                                   2   \n",
       "3                                                   1   \n",
       "4                                                   1   \n",
       "..                                                ...   \n",
       "72                                                  1   \n",
       "73                                                  1   \n",
       "74                                                  1   \n",
       "75                                                  2   \n",
       "76                                                  2   \n",
       "\n",
       "                                                Q30_3  \\\n",
       "0   Respects and values other team members to brin...   \n",
       "1                             {\"ImportId\":\"QID108_3\"}   \n",
       "2                                                   2   \n",
       "3                                                   1   \n",
       "4                                                   1   \n",
       "..                                                ...   \n",
       "72                                                  1   \n",
       "73                                                  1   \n",
       "74                                                  1   \n",
       "75                                                  2   \n",
       "76                                                  2   \n",
       "\n",
       "                                                Q30_4  \\\n",
       "0   Respects and values other team members to brin...   \n",
       "1                             {\"ImportId\":\"QID108_4\"}   \n",
       "2                                                   2   \n",
       "3                                                   1   \n",
       "4                                                   1   \n",
       "..                                                ...   \n",
       "72                                                  1   \n",
       "73                                                  1   \n",
       "74                                                  1   \n",
       "75                                                  2   \n",
       "76                                                  2   \n",
       "\n",
       "                                                Q30_5  \\\n",
       "0   Respects and values other team members to brin...   \n",
       "1                             {\"ImportId\":\"QID108_5\"}   \n",
       "2                                                 NaN   \n",
       "3                                                 NaN   \n",
       "4                                                 NaN   \n",
       "..                                                ...   \n",
       "72                                                  4   \n",
       "73                                                NaN   \n",
       "74                                                  1   \n",
       "75                                                  2   \n",
       "76                                                NaN   \n",
       "\n",
       "                                                Q30_6  \n",
       "0   Respects and values other team members to brin...  \n",
       "1                             {\"ImportId\":\"QID108_6\"}  \n",
       "2                                                 NaN  \n",
       "3                                                 NaN  \n",
       "4                                                 NaN  \n",
       "..                                                ...  \n",
       "72                                                  1  \n",
       "73                                                NaN  \n",
       "74                                                  1  \n",
       "75                                                  2  \n",
       "76                                                NaN  \n",
       "\n",
       "[77 rows x 69 columns]"
      ],
      "text/html": "<div>\n<style scoped>\n    .dataframe tbody tr th:only-of-type {\n        vertical-align: middle;\n    }\n\n    .dataframe tbody tr th {\n        vertical-align: top;\n    }\n\n    .dataframe thead th {\n        text-align: right;\n    }\n</style>\n<table border=\"1\" class=\"dataframe\">\n  <thead>\n    <tr style=\"text-align: right;\">\n      <th></th>\n      <th>StartDate</th>\n      <th>EndDate</th>\n      <th>Status</th>\n      <th>IPAddress</th>\n      <th>Progress</th>\n      <th>Duration (in seconds)</th>\n      <th>Finished</th>\n      <th>RecordedDate</th>\n      <th>ResponseId</th>\n      <th>Student Name</th>\n      <th>...</th>\n      <th>Q17_3</th>\n      <th>Q17_4</th>\n      <th>Q17_5</th>\n      <th>Q17_6</th>\n      <th>Q30_1</th>\n      <th>Q30_2</th>\n      <th>Q30_3</th>\n      <th>Q30_4</th>\n      <th>Q30_5</th>\n      <th>Q30_6</th>\n    </tr>\n  </thead>\n  <tbody>\n    <tr>\n      <th>0</th>\n      <td>Start Date</td>\n      <td>End Date</td>\n      <td>Response Type</td>\n      <td>IP Address</td>\n      <td>Progress</td>\n      <td>Duration (in seconds)</td>\n      <td>Finished</td>\n      <td>Recorded Date</td>\n      <td>Response ID</td>\n      <td>StudentName</td>\n      <td>...</td>\n      <td>Contributes expertise and effort in team activ...</td>\n      <td>Contributes expertise and effort in team activ...</td>\n      <td>Contributes expertise and effort in team activ...</td>\n      <td>Contributes expertise and effort in team activ...</td>\n      <td>Respects and values other team members to brin...</td>\n      <td>Respects and values other team members to brin...</td>\n      <td>Respects and values other team members to brin...</td>\n      <td>Respects and values other team members to brin...</td>\n      <td>Respects and values other team members to brin...</td>\n      <td>Respects and values other team members to brin...</td>\n    </tr>\n    <tr>\n      <th>1</th>\n      <td>{\"ImportId\":\"startDate\",\"timeZone\":\"America/Lo...</td>\n      <td>{\"ImportId\":\"endDate\",\"timeZone\":\"America/Los_...</td>\n      <td>{\"ImportId\":\"status\"}</td>\n      <td>{\"ImportId\":\"ipAddress\"}</td>\n      <td>{\"ImportId\":\"progress\"}</td>\n      <td>{\"ImportId\":\"duration\"}</td>\n      <td>{\"ImportId\":\"finished\"}</td>\n      <td>{\"ImportId\":\"recordedDate\",\"timeZone\":\"America...</td>\n      <td>{\"ImportId\":\"_recordId\"}</td>\n      <td>NaN</td>\n      <td>...</td>\n      <td>{\"ImportId\":\"QID95_3\"}</td>\n      <td>{\"ImportId\":\"QID95_4\"}</td>\n      <td>{\"ImportId\":\"QID95_5\"}</td>\n      <td>{\"ImportId\":\"QID95_6\"}</td>\n      <td>{\"ImportId\":\"QID108_1\"}</td>\n      <td>{\"ImportId\":\"QID108_2\"}</td>\n      <td>{\"ImportId\":\"QID108_3\"}</td>\n      <td>{\"ImportId\":\"QID108_4\"}</td>\n      <td>{\"ImportId\":\"QID108_5\"}</td>\n      <td>{\"ImportId\":\"QID108_6\"}</td>\n    </tr>\n    <tr>\n      <th>2</th>\n      <td>5/6/21 11:32</td>\n      <td>5/6/21 11:51</td>\n      <td>0</td>\n      <td>165.227.11.194</td>\n      <td>100</td>\n      <td>1126</td>\n      <td>1</td>\n      <td>5/6/21 11:51</td>\n      <td>R_ZlwqGK7oRXFuk2B</td>\n      <td>F</td>\n      <td>...</td>\n      <td>2</td>\n      <td>2</td>\n      <td>NaN</td>\n      <td>NaN</td>\n      <td>1</td>\n      <td>2</td>\n      <td>2</td>\n      <td>2</td>\n      <td>NaN</td>\n      <td>NaN</td>\n    </tr>\n    <tr>\n      <th>3</th>\n      <td>5/6/21 21:06</td>\n      <td>5/6/21 21:22</td>\n      <td>0</td>\n      <td>192.31.105.188</td>\n      <td>100</td>\n      <td>938</td>\n      <td>1</td>\n      <td>5/6/21 21:22</td>\n      <td>R_3EBj9T7Yvk5B9p8</td>\n      <td>I</td>\n      <td>...</td>\n      <td>1</td>\n      <td>1</td>\n      <td>NaN</td>\n      <td>NaN</td>\n      <td>1</td>\n      <td>1</td>\n      <td>1</td>\n      <td>1</td>\n      <td>NaN</td>\n      <td>NaN</td>\n    </tr>\n    <tr>\n      <th>4</th>\n      <td>5/7/21 21:23</td>\n      <td>5/7/21 22:14</td>\n      <td>0</td>\n      <td>174.50.134.214</td>\n      <td>100</td>\n      <td>3072</td>\n      <td>1</td>\n      <td>5/7/21 22:14</td>\n      <td>R_3kzGFidBS7a7uMY</td>\n      <td>BP</td>\n      <td>...</td>\n      <td>1</td>\n      <td>1</td>\n      <td>NaN</td>\n      <td>NaN</td>\n      <td>1</td>\n      <td>1</td>\n      <td>1</td>\n      <td>1</td>\n      <td>NaN</td>\n      <td>NaN</td>\n    </tr>\n    <tr>\n      <th>...</th>\n      <td>...</td>\n      <td>...</td>\n      <td>...</td>\n      <td>...</td>\n      <td>...</td>\n      <td>...</td>\n      <td>...</td>\n      <td>...</td>\n      <td>...</td>\n      <td>...</td>\n      <td>...</td>\n      <td>...</td>\n      <td>...</td>\n      <td>...</td>\n      <td>...</td>\n      <td>...</td>\n      <td>...</td>\n      <td>...</td>\n      <td>...</td>\n      <td>...</td>\n      <td>...</td>\n    </tr>\n    <tr>\n      <th>72</th>\n      <td>5/5/21 8:10</td>\n      <td>5/5/21 8:27</td>\n      <td>0</td>\n      <td>196.190.52.186</td>\n      <td>100</td>\n      <td>1028</td>\n      <td>1</td>\n      <td>5/5/21 8:27</td>\n      <td>R_2QrrksrmMx96cHQ</td>\n      <td>AC</td>\n      <td>...</td>\n      <td>3</td>\n      <td>3</td>\n      <td>4</td>\n      <td>3</td>\n      <td>1</td>\n      <td>1</td>\n      <td>1</td>\n      <td>1</td>\n      <td>4</td>\n      <td>1</td>\n    </tr>\n    <tr>\n      <th>73</th>\n      <td>5/5/21 22:23</td>\n      <td>5/5/21 22:28</td>\n      <td>0</td>\n      <td>136.152.143.2</td>\n      <td>100</td>\n      <td>342</td>\n      <td>1</td>\n      <td>5/5/21 22:28</td>\n      <td>R_1eEvSPjO8lrr4qL</td>\n      <td>D</td>\n      <td>...</td>\n      <td>1</td>\n      <td>1</td>\n      <td>NaN</td>\n      <td>NaN</td>\n      <td>1</td>\n      <td>1</td>\n      <td>1</td>\n      <td>1</td>\n      <td>NaN</td>\n      <td>NaN</td>\n    </tr>\n    <tr>\n      <th>74</th>\n      <td>5/5/21 17:31</td>\n      <td>5/7/21 21:44</td>\n      <td>0</td>\n      <td>58.120.81.57</td>\n      <td>100</td>\n      <td>188002</td>\n      <td>1</td>\n      <td>5/7/21 21:45</td>\n      <td>R_1LcsPArzQiMPFtv</td>\n      <td>X</td>\n      <td>...</td>\n      <td>2</td>\n      <td>1</td>\n      <td>2</td>\n      <td>1</td>\n      <td>1</td>\n      <td>1</td>\n      <td>1</td>\n      <td>1</td>\n      <td>1</td>\n      <td>1</td>\n    </tr>\n    <tr>\n      <th>75</th>\n      <td>5/6/21 16:43</td>\n      <td>5/6/21 16:48</td>\n      <td>0</td>\n      <td>76.95.93.69</td>\n      <td>100</td>\n      <td>299</td>\n      <td>1</td>\n      <td>5/6/21 16:48</td>\n      <td>R_3NwhKneVbRULZdP</td>\n      <td>BO</td>\n      <td>...</td>\n      <td>2</td>\n      <td>2</td>\n      <td>2</td>\n      <td>2</td>\n      <td>2</td>\n      <td>2</td>\n      <td>2</td>\n      <td>2</td>\n      <td>2</td>\n      <td>2</td>\n    </tr>\n    <tr>\n      <th>76</th>\n      <td>5/6/21 23:52</td>\n      <td>5/6/21 23:55</td>\n      <td>0</td>\n      <td>137.25.32.190</td>\n      <td>100</td>\n      <td>176</td>\n      <td>1</td>\n      <td>5/6/21 23:55</td>\n      <td>R_CZVS5VAsYw4TRtf</td>\n      <td>AH</td>\n      <td>...</td>\n      <td>2</td>\n      <td>2</td>\n      <td>NaN</td>\n      <td>NaN</td>\n      <td>2</td>\n      <td>2</td>\n      <td>2</td>\n      <td>2</td>\n      <td>NaN</td>\n      <td>NaN</td>\n    </tr>\n  </tbody>\n</table>\n<p>77 rows × 69 columns</p>\n</div>"
     },
     "metadata": {},
     "execution_count": 21
    }
   ],
   "source": [
    "data = pd.read_csv('Share EOS Spring 2021 ANALYSIS.xlsx - RAW DATA.csv')\n",
    "data"
   ]
  },
  {
   "cell_type": "code",
   "execution_count": 22,
   "metadata": {},
   "outputs": [
    {
     "output_type": "execute_result",
     "data": {
      "text/plain": [
       "100                        75\n",
       "Progress                    1\n",
       "{\"ImportId\":\"progress\"}     1\n",
       "Name: Progress, dtype: int64"
      ]
     },
     "metadata": {},
     "execution_count": 22
    }
   ],
   "source": [
    "data['Progress'].value_counts()"
   ]
  },
  {
   "cell_type": "code",
   "execution_count": 23,
   "metadata": {},
   "outputs": [
    {
     "output_type": "execute_result",
     "data": {
      "text/plain": [
       "    LastName  FirstName  Email Student Name  TeamNumber  TeammateNumber  \\\n",
       "0        NaN        NaN    NaN            A           1               1   \n",
       "1        NaN        NaN    NaN            B           1               2   \n",
       "2        NaN        NaN    NaN            C           1               3   \n",
       "3        NaN        NaN    NaN            D           1               4   \n",
       "4        NaN        NaN    NaN            E           2               1   \n",
       "..       ...        ...    ...          ...         ...             ...   \n",
       "77       NaN        NaN    NaN           BZ          21               4   \n",
       "78       NaN        NaN    NaN           CA          22               1   \n",
       "79       NaN        NaN    NaN           CB          22               2   \n",
       "80       NaN        NaN    NaN           CD          22               3   \n",
       "81       NaN        NaN    NaN           CC          22               4   \n",
       "\n",
       "    Teammate1  Teammate2  Teammate3  Teammate4  Teammate5  Teammate6  \n",
       "0         NaN        NaN        NaN        NaN        NaN        NaN  \n",
       "1         NaN        NaN        NaN        NaN        NaN        NaN  \n",
       "2         NaN        NaN        NaN        NaN        NaN        NaN  \n",
       "3         NaN        NaN        NaN        NaN        NaN        NaN  \n",
       "4         NaN        NaN        NaN        NaN        NaN        NaN  \n",
       "..        ...        ...        ...        ...        ...        ...  \n",
       "77        NaN        NaN        NaN        NaN        NaN        NaN  \n",
       "78        NaN        NaN        NaN        NaN        NaN        NaN  \n",
       "79        NaN        NaN        NaN        NaN        NaN        NaN  \n",
       "80        NaN        NaN        NaN        NaN        NaN        NaN  \n",
       "81        NaN        NaN        NaN        NaN        NaN        NaN  \n",
       "\n",
       "[82 rows x 12 columns]"
      ],
      "text/html": "<div>\n<style scoped>\n    .dataframe tbody tr th:only-of-type {\n        vertical-align: middle;\n    }\n\n    .dataframe tbody tr th {\n        vertical-align: top;\n    }\n\n    .dataframe thead th {\n        text-align: right;\n    }\n</style>\n<table border=\"1\" class=\"dataframe\">\n  <thead>\n    <tr style=\"text-align: right;\">\n      <th></th>\n      <th>LastName</th>\n      <th>FirstName</th>\n      <th>Email</th>\n      <th>Student Name</th>\n      <th>TeamNumber</th>\n      <th>TeammateNumber</th>\n      <th>Teammate1</th>\n      <th>Teammate2</th>\n      <th>Teammate3</th>\n      <th>Teammate4</th>\n      <th>Teammate5</th>\n      <th>Teammate6</th>\n    </tr>\n  </thead>\n  <tbody>\n    <tr>\n      <th>0</th>\n      <td>NaN</td>\n      <td>NaN</td>\n      <td>NaN</td>\n      <td>A</td>\n      <td>1</td>\n      <td>1</td>\n      <td>NaN</td>\n      <td>NaN</td>\n      <td>NaN</td>\n      <td>NaN</td>\n      <td>NaN</td>\n      <td>NaN</td>\n    </tr>\n    <tr>\n      <th>1</th>\n      <td>NaN</td>\n      <td>NaN</td>\n      <td>NaN</td>\n      <td>B</td>\n      <td>1</td>\n      <td>2</td>\n      <td>NaN</td>\n      <td>NaN</td>\n      <td>NaN</td>\n      <td>NaN</td>\n      <td>NaN</td>\n      <td>NaN</td>\n    </tr>\n    <tr>\n      <th>2</th>\n      <td>NaN</td>\n      <td>NaN</td>\n      <td>NaN</td>\n      <td>C</td>\n      <td>1</td>\n      <td>3</td>\n      <td>NaN</td>\n      <td>NaN</td>\n      <td>NaN</td>\n      <td>NaN</td>\n      <td>NaN</td>\n      <td>NaN</td>\n    </tr>\n    <tr>\n      <th>3</th>\n      <td>NaN</td>\n      <td>NaN</td>\n      <td>NaN</td>\n      <td>D</td>\n      <td>1</td>\n      <td>4</td>\n      <td>NaN</td>\n      <td>NaN</td>\n      <td>NaN</td>\n      <td>NaN</td>\n      <td>NaN</td>\n      <td>NaN</td>\n    </tr>\n    <tr>\n      <th>4</th>\n      <td>NaN</td>\n      <td>NaN</td>\n      <td>NaN</td>\n      <td>E</td>\n      <td>2</td>\n      <td>1</td>\n      <td>NaN</td>\n      <td>NaN</td>\n      <td>NaN</td>\n      <td>NaN</td>\n      <td>NaN</td>\n      <td>NaN</td>\n    </tr>\n    <tr>\n      <th>...</th>\n      <td>...</td>\n      <td>...</td>\n      <td>...</td>\n      <td>...</td>\n      <td>...</td>\n      <td>...</td>\n      <td>...</td>\n      <td>...</td>\n      <td>...</td>\n      <td>...</td>\n      <td>...</td>\n      <td>...</td>\n    </tr>\n    <tr>\n      <th>77</th>\n      <td>NaN</td>\n      <td>NaN</td>\n      <td>NaN</td>\n      <td>BZ</td>\n      <td>21</td>\n      <td>4</td>\n      <td>NaN</td>\n      <td>NaN</td>\n      <td>NaN</td>\n      <td>NaN</td>\n      <td>NaN</td>\n      <td>NaN</td>\n    </tr>\n    <tr>\n      <th>78</th>\n      <td>NaN</td>\n      <td>NaN</td>\n      <td>NaN</td>\n      <td>CA</td>\n      <td>22</td>\n      <td>1</td>\n      <td>NaN</td>\n      <td>NaN</td>\n      <td>NaN</td>\n      <td>NaN</td>\n      <td>NaN</td>\n      <td>NaN</td>\n    </tr>\n    <tr>\n      <th>79</th>\n      <td>NaN</td>\n      <td>NaN</td>\n      <td>NaN</td>\n      <td>CB</td>\n      <td>22</td>\n      <td>2</td>\n      <td>NaN</td>\n      <td>NaN</td>\n      <td>NaN</td>\n      <td>NaN</td>\n      <td>NaN</td>\n      <td>NaN</td>\n    </tr>\n    <tr>\n      <th>80</th>\n      <td>NaN</td>\n      <td>NaN</td>\n      <td>NaN</td>\n      <td>CD</td>\n      <td>22</td>\n      <td>3</td>\n      <td>NaN</td>\n      <td>NaN</td>\n      <td>NaN</td>\n      <td>NaN</td>\n      <td>NaN</td>\n      <td>NaN</td>\n    </tr>\n    <tr>\n      <th>81</th>\n      <td>NaN</td>\n      <td>NaN</td>\n      <td>NaN</td>\n      <td>CC</td>\n      <td>22</td>\n      <td>4</td>\n      <td>NaN</td>\n      <td>NaN</td>\n      <td>NaN</td>\n      <td>NaN</td>\n      <td>NaN</td>\n      <td>NaN</td>\n    </tr>\n  </tbody>\n</table>\n<p>82 rows × 12 columns</p>\n</div>"
     },
     "metadata": {},
     "execution_count": 23
    }
   ],
   "source": [
    "roster = pd.read_csv('roster.csv')\n",
    "roster"
   ]
  },
  {
   "cell_type": "code",
   "execution_count": 24,
   "metadata": {},
   "outputs": [
    {
     "output_type": "execute_result",
     "data": {
      "text/plain": [
       "LastName           True\n",
       "FirstName          True\n",
       "Email              True\n",
       "Student Name      False\n",
       "TeamNumber        False\n",
       "TeammateNumber    False\n",
       "Teammate1          True\n",
       "Teammate2          True\n",
       "Teammate3          True\n",
       "Teammate4          True\n",
       "Teammate5          True\n",
       "Teammate6          True\n",
       "dtype: bool"
      ]
     },
     "metadata": {},
     "execution_count": 24
    }
   ],
   "source": [
    "roster.isna().all()"
   ]
  },
  {
   "source": [
    "Next steps:  \n",
    "    *Join survey and roster datasets on “student_name” column.  \n",
    "    *Truncate data based on teams.  \n",
    "    *Calculate team averages.  \n",
    "    *Remove the textual data, store in an additional csv. (with the joined columns)\n"
   ],
   "cell_type": "markdown",
   "metadata": {}
  },
  {
   "cell_type": "code",
   "execution_count": 25,
   "metadata": {},
   "outputs": [
    {
     "output_type": "execute_result",
     "data": {
      "text/plain": [
       "   Student Name  Q29_1  Q29_2  Q29_3  Q33_1  Q33_2  Q33_3  Q20_1  Q20_2  \\\n",
       "0             A    1.0    1.0    1.0    1.0    1.0    1.0   25.0   25.0   \n",
       "1            AA    2.0    2.0    2.0    3.0    4.0    3.0   16.0   20.0   \n",
       "2            AB    4.0    6.0    6.0    5.0    5.0    5.0   16.0   23.0   \n",
       "3            AC    2.0    3.0    3.0    2.0    3.0    1.0   17.0   20.0   \n",
       "4            AD    1.0    1.0    1.0    1.0    1.0    1.0   25.0   25.0   \n",
       "..          ...    ...    ...    ...    ...    ...    ...    ...    ...   \n",
       "70            V    1.0    2.0    2.0    2.0    2.0    2.0   25.0   25.0   \n",
       "71            W    2.0    3.0    3.0    1.0    6.0    1.0   35.0   20.0   \n",
       "72            X    2.0    2.0    2.0    2.0    2.0    2.0   95.0  100.0   \n",
       "73            Y    2.0    2.0    7.0    7.0    7.0    1.0   10.0   40.0   \n",
       "74            Z    1.0    1.0    1.0    1.0    1.0    1.0   17.0   18.0   \n",
       "\n",
       "    Q20_3  ...  Q17_3  Q17_4  Q17_5  Q17_6  Q30_1  Q30_2  Q30_3  Q30_4  Q30_5  \\\n",
       "0    25.0  ...    1.0    1.0    NaN    NaN    1.0    1.0    1.0    1.0    NaN   \n",
       "1    16.0  ...    3.0    2.0    3.0    2.0    2.0    2.0    2.0    2.0    2.0   \n",
       "2    14.0  ...    4.0    4.0    3.0    3.0    4.0    4.0    4.0    4.0    4.0   \n",
       "3    16.0  ...    3.0    3.0    4.0    3.0    1.0    1.0    1.0    1.0    4.0   \n",
       "4    25.0  ...    1.0    1.0    NaN    NaN    1.0    1.0    1.0    1.0    NaN   \n",
       "..    ...  ...    ...    ...    ...    ...    ...    ...    ...    ...    ...   \n",
       "70   25.0  ...    2.0    1.0    NaN    NaN    2.0    2.0    2.0    2.0    NaN   \n",
       "71    5.0  ...    7.0    1.0    NaN    NaN    1.0    1.0    1.0    1.0    NaN   \n",
       "72   90.0  ...    2.0    1.0    2.0    1.0    1.0    1.0    1.0    1.0    1.0   \n",
       "73    5.0  ...    7.0    4.0    5.0    3.0    7.0    3.0    7.0    7.0    7.0   \n",
       "74   17.0  ...    1.0    1.0    4.0    1.0    1.0    1.0    1.0    1.0    3.0   \n",
       "\n",
       "    Q30_6  \n",
       "0     NaN  \n",
       "1     2.0  \n",
       "2     3.0  \n",
       "3     1.0  \n",
       "4     NaN  \n",
       "..    ...  \n",
       "70    NaN  \n",
       "71    NaN  \n",
       "72    1.0  \n",
       "73    7.0  \n",
       "74    1.0  \n",
       "\n",
       "[75 rows x 37 columns]"
      ],
      "text/html": "<div>\n<style scoped>\n    .dataframe tbody tr th:only-of-type {\n        vertical-align: middle;\n    }\n\n    .dataframe tbody tr th {\n        vertical-align: top;\n    }\n\n    .dataframe thead th {\n        text-align: right;\n    }\n</style>\n<table border=\"1\" class=\"dataframe\">\n  <thead>\n    <tr style=\"text-align: right;\">\n      <th></th>\n      <th>Student Name</th>\n      <th>Q29_1</th>\n      <th>Q29_2</th>\n      <th>Q29_3</th>\n      <th>Q33_1</th>\n      <th>Q33_2</th>\n      <th>Q33_3</th>\n      <th>Q20_1</th>\n      <th>Q20_2</th>\n      <th>Q20_3</th>\n      <th>...</th>\n      <th>Q17_3</th>\n      <th>Q17_4</th>\n      <th>Q17_5</th>\n      <th>Q17_6</th>\n      <th>Q30_1</th>\n      <th>Q30_2</th>\n      <th>Q30_3</th>\n      <th>Q30_4</th>\n      <th>Q30_5</th>\n      <th>Q30_6</th>\n    </tr>\n  </thead>\n  <tbody>\n    <tr>\n      <th>0</th>\n      <td>A</td>\n      <td>1.0</td>\n      <td>1.0</td>\n      <td>1.0</td>\n      <td>1.0</td>\n      <td>1.0</td>\n      <td>1.0</td>\n      <td>25.0</td>\n      <td>25.0</td>\n      <td>25.0</td>\n      <td>...</td>\n      <td>1.0</td>\n      <td>1.0</td>\n      <td>NaN</td>\n      <td>NaN</td>\n      <td>1.0</td>\n      <td>1.0</td>\n      <td>1.0</td>\n      <td>1.0</td>\n      <td>NaN</td>\n      <td>NaN</td>\n    </tr>\n    <tr>\n      <th>1</th>\n      <td>AA</td>\n      <td>2.0</td>\n      <td>2.0</td>\n      <td>2.0</td>\n      <td>3.0</td>\n      <td>4.0</td>\n      <td>3.0</td>\n      <td>16.0</td>\n      <td>20.0</td>\n      <td>16.0</td>\n      <td>...</td>\n      <td>3.0</td>\n      <td>2.0</td>\n      <td>3.0</td>\n      <td>2.0</td>\n      <td>2.0</td>\n      <td>2.0</td>\n      <td>2.0</td>\n      <td>2.0</td>\n      <td>2.0</td>\n      <td>2.0</td>\n    </tr>\n    <tr>\n      <th>2</th>\n      <td>AB</td>\n      <td>4.0</td>\n      <td>6.0</td>\n      <td>6.0</td>\n      <td>5.0</td>\n      <td>5.0</td>\n      <td>5.0</td>\n      <td>16.0</td>\n      <td>23.0</td>\n      <td>14.0</td>\n      <td>...</td>\n      <td>4.0</td>\n      <td>4.0</td>\n      <td>3.0</td>\n      <td>3.0</td>\n      <td>4.0</td>\n      <td>4.0</td>\n      <td>4.0</td>\n      <td>4.0</td>\n      <td>4.0</td>\n      <td>3.0</td>\n    </tr>\n    <tr>\n      <th>3</th>\n      <td>AC</td>\n      <td>2.0</td>\n      <td>3.0</td>\n      <td>3.0</td>\n      <td>2.0</td>\n      <td>3.0</td>\n      <td>1.0</td>\n      <td>17.0</td>\n      <td>20.0</td>\n      <td>16.0</td>\n      <td>...</td>\n      <td>3.0</td>\n      <td>3.0</td>\n      <td>4.0</td>\n      <td>3.0</td>\n      <td>1.0</td>\n      <td>1.0</td>\n      <td>1.0</td>\n      <td>1.0</td>\n      <td>4.0</td>\n      <td>1.0</td>\n    </tr>\n    <tr>\n      <th>4</th>\n      <td>AD</td>\n      <td>1.0</td>\n      <td>1.0</td>\n      <td>1.0</td>\n      <td>1.0</td>\n      <td>1.0</td>\n      <td>1.0</td>\n      <td>25.0</td>\n      <td>25.0</td>\n      <td>25.0</td>\n      <td>...</td>\n      <td>1.0</td>\n      <td>1.0</td>\n      <td>NaN</td>\n      <td>NaN</td>\n      <td>1.0</td>\n      <td>1.0</td>\n      <td>1.0</td>\n      <td>1.0</td>\n      <td>NaN</td>\n      <td>NaN</td>\n    </tr>\n    <tr>\n      <th>...</th>\n      <td>...</td>\n      <td>...</td>\n      <td>...</td>\n      <td>...</td>\n      <td>...</td>\n      <td>...</td>\n      <td>...</td>\n      <td>...</td>\n      <td>...</td>\n      <td>...</td>\n      <td>...</td>\n      <td>...</td>\n      <td>...</td>\n      <td>...</td>\n      <td>...</td>\n      <td>...</td>\n      <td>...</td>\n      <td>...</td>\n      <td>...</td>\n      <td>...</td>\n      <td>...</td>\n    </tr>\n    <tr>\n      <th>70</th>\n      <td>V</td>\n      <td>1.0</td>\n      <td>2.0</td>\n      <td>2.0</td>\n      <td>2.0</td>\n      <td>2.0</td>\n      <td>2.0</td>\n      <td>25.0</td>\n      <td>25.0</td>\n      <td>25.0</td>\n      <td>...</td>\n      <td>2.0</td>\n      <td>1.0</td>\n      <td>NaN</td>\n      <td>NaN</td>\n      <td>2.0</td>\n      <td>2.0</td>\n      <td>2.0</td>\n      <td>2.0</td>\n      <td>NaN</td>\n      <td>NaN</td>\n    </tr>\n    <tr>\n      <th>71</th>\n      <td>W</td>\n      <td>2.0</td>\n      <td>3.0</td>\n      <td>3.0</td>\n      <td>1.0</td>\n      <td>6.0</td>\n      <td>1.0</td>\n      <td>35.0</td>\n      <td>20.0</td>\n      <td>5.0</td>\n      <td>...</td>\n      <td>7.0</td>\n      <td>1.0</td>\n      <td>NaN</td>\n      <td>NaN</td>\n      <td>1.0</td>\n      <td>1.0</td>\n      <td>1.0</td>\n      <td>1.0</td>\n      <td>NaN</td>\n      <td>NaN</td>\n    </tr>\n    <tr>\n      <th>72</th>\n      <td>X</td>\n      <td>2.0</td>\n      <td>2.0</td>\n      <td>2.0</td>\n      <td>2.0</td>\n      <td>2.0</td>\n      <td>2.0</td>\n      <td>95.0</td>\n      <td>100.0</td>\n      <td>90.0</td>\n      <td>...</td>\n      <td>2.0</td>\n      <td>1.0</td>\n      <td>2.0</td>\n      <td>1.0</td>\n      <td>1.0</td>\n      <td>1.0</td>\n      <td>1.0</td>\n      <td>1.0</td>\n      <td>1.0</td>\n      <td>1.0</td>\n    </tr>\n    <tr>\n      <th>73</th>\n      <td>Y</td>\n      <td>2.0</td>\n      <td>2.0</td>\n      <td>7.0</td>\n      <td>7.0</td>\n      <td>7.0</td>\n      <td>1.0</td>\n      <td>10.0</td>\n      <td>40.0</td>\n      <td>5.0</td>\n      <td>...</td>\n      <td>7.0</td>\n      <td>4.0</td>\n      <td>5.0</td>\n      <td>3.0</td>\n      <td>7.0</td>\n      <td>3.0</td>\n      <td>7.0</td>\n      <td>7.0</td>\n      <td>7.0</td>\n      <td>7.0</td>\n    </tr>\n    <tr>\n      <th>74</th>\n      <td>Z</td>\n      <td>1.0</td>\n      <td>1.0</td>\n      <td>1.0</td>\n      <td>1.0</td>\n      <td>1.0</td>\n      <td>1.0</td>\n      <td>17.0</td>\n      <td>18.0</td>\n      <td>17.0</td>\n      <td>...</td>\n      <td>1.0</td>\n      <td>1.0</td>\n      <td>4.0</td>\n      <td>1.0</td>\n      <td>1.0</td>\n      <td>1.0</td>\n      <td>1.0</td>\n      <td>1.0</td>\n      <td>3.0</td>\n      <td>1.0</td>\n    </tr>\n  </tbody>\n</table>\n<p>75 rows × 37 columns</p>\n</div>"
     },
     "metadata": {},
     "execution_count": 25
    }
   ],
   "source": [
    "cleaned = pd.read_csv('Assessment_Numerical_Cleaned.csv')\n",
    "cleaned"
   ]
  },
  {
   "cell_type": "code",
   "execution_count": 37,
   "metadata": {},
   "outputs": [
    {
     "output_type": "execute_result",
     "data": {
      "text/plain": [
       "Index(['Student Name', 'Q29_1', 'Q29_2', 'Q29_3', 'Q33_1', 'Q33_2', 'Q33_3',\n",
       "       'Q20_1', 'Q20_2', 'Q20_3', 'Q20_4', 'Q20_5', 'Q20_6', 'Q15_1', 'Q15_2',\n",
       "       'Q15_3', 'Q15_4', 'Q15_5', 'Q15_6', 'Q16_1.1', 'Q16_2.1', 'Q16_3.1',\n",
       "       'Q16_4.1', 'Q16_5', 'Q16_6.1', 'Q17_1', 'Q17_2', 'Q17_3', 'Q17_4',\n",
       "       'Q17_5', 'Q17_6', 'Q30_1', 'Q30_2', 'Q30_3', 'Q30_4', 'Q30_5', 'Q30_6'],\n",
       "      dtype='object')"
      ]
     },
     "metadata": {},
     "execution_count": 37
    }
   ],
   "source": [
    "cleaned.columns"
   ]
  },
  {
   "cell_type": "code",
   "execution_count": 30,
   "metadata": {},
   "outputs": [
    {
     "output_type": "execute_result",
     "data": {
      "text/plain": [
       "   Student Name  TeamNumber  TeammateNumber     StartDate       EndDate  \\\n",
       "0             A           1               1  5/6/21 11:27  5/7/21 21:31   \n",
       "1             B           1               2  5/5/21 13:22  5/7/21 19:25   \n",
       "2             C           1               3  5/7/21 14:37  5/7/21 15:04   \n",
       "3             D           1               4  5/5/21 22:23  5/5/21 22:28   \n",
       "4             E           2               1  5/5/21 10:04  5/5/21 10:18   \n",
       "..          ...         ...             ...           ...           ...   \n",
       "70           BX          21               2  5/5/21 12:24  5/5/21 12:41   \n",
       "71           BZ          21               4  5/5/21 10:38  5/5/21 11:22   \n",
       "72           CA          22               1  5/6/21 10:47  5/6/21 10:53   \n",
       "73           CD          22               3  5/5/21 18:32  5/5/21 18:48   \n",
       "74           CC          22               4  5/5/21 10:22  5/5/21 10:43   \n",
       "\n",
       "   Status       IPAddress Progress Duration (in seconds) Finished  ... Q17_3  \\\n",
       "0       0   98.248.146.50      100                122647        1  ...     1   \n",
       "1       0  35.129.104.235      100                194529        1  ...     1   \n",
       "2       0   172.58.95.104      100                  1650        1  ...     1   \n",
       "3       0   136.152.143.2      100                   342        1  ...     1   \n",
       "4       0    68.96.86.135      100                   845        1  ...     1   \n",
       "..    ...             ...      ...                   ...      ...  ...   ...   \n",
       "70      0    73.202.74.66      100                  1053        1  ...     4   \n",
       "71      0  184.23.167.254      100                  2639        1  ...     6   \n",
       "72      0   71.202.90.180      100                   330        1  ...     2   \n",
       "73      0  135.180.217.46      100                   950        1  ...     2   \n",
       "74      0  174.87.192.252      100                  1258        1  ...     2   \n",
       "\n",
       "   Q17_4 Q17_5 Q17_6 Q30_1 Q30_2 Q30_3 Q30_4 Q30_5 Q30_6  \n",
       "0      1   NaN   NaN     1     1     1     1   NaN   NaN  \n",
       "1      1   NaN   NaN     1     1     1     1   NaN   NaN  \n",
       "2      1   NaN   NaN     1     1     1     1   NaN   NaN  \n",
       "3      1   NaN   NaN     1     1     1     1   NaN   NaN  \n",
       "4      1   NaN   NaN     1     1     1     1   NaN   NaN  \n",
       "..   ...   ...   ...   ...   ...   ...   ...   ...   ...  \n",
       "70     2   NaN   NaN     2     1     4     1   NaN   NaN  \n",
       "71     1   NaN   NaN     1     1     6     1   NaN   NaN  \n",
       "72     2   NaN   NaN     2     2     2     2   NaN   NaN  \n",
       "73     2   NaN   NaN     1     1     1     2     2   NaN  \n",
       "74     2   NaN   NaN     2     2     3     2   NaN   NaN  \n",
       "\n",
       "[75 rows x 71 columns]"
      ],
      "text/html": "<div>\n<style scoped>\n    .dataframe tbody tr th:only-of-type {\n        vertical-align: middle;\n    }\n\n    .dataframe tbody tr th {\n        vertical-align: top;\n    }\n\n    .dataframe thead th {\n        text-align: right;\n    }\n</style>\n<table border=\"1\" class=\"dataframe\">\n  <thead>\n    <tr style=\"text-align: right;\">\n      <th></th>\n      <th>Student Name</th>\n      <th>TeamNumber</th>\n      <th>TeammateNumber</th>\n      <th>StartDate</th>\n      <th>EndDate</th>\n      <th>Status</th>\n      <th>IPAddress</th>\n      <th>Progress</th>\n      <th>Duration (in seconds)</th>\n      <th>Finished</th>\n      <th>...</th>\n      <th>Q17_3</th>\n      <th>Q17_4</th>\n      <th>Q17_5</th>\n      <th>Q17_6</th>\n      <th>Q30_1</th>\n      <th>Q30_2</th>\n      <th>Q30_3</th>\n      <th>Q30_4</th>\n      <th>Q30_5</th>\n      <th>Q30_6</th>\n    </tr>\n  </thead>\n  <tbody>\n    <tr>\n      <th>0</th>\n      <td>A</td>\n      <td>1</td>\n      <td>1</td>\n      <td>5/6/21 11:27</td>\n      <td>5/7/21 21:31</td>\n      <td>0</td>\n      <td>98.248.146.50</td>\n      <td>100</td>\n      <td>122647</td>\n      <td>1</td>\n      <td>...</td>\n      <td>1</td>\n      <td>1</td>\n      <td>NaN</td>\n      <td>NaN</td>\n      <td>1</td>\n      <td>1</td>\n      <td>1</td>\n      <td>1</td>\n      <td>NaN</td>\n      <td>NaN</td>\n    </tr>\n    <tr>\n      <th>1</th>\n      <td>B</td>\n      <td>1</td>\n      <td>2</td>\n      <td>5/5/21 13:22</td>\n      <td>5/7/21 19:25</td>\n      <td>0</td>\n      <td>35.129.104.235</td>\n      <td>100</td>\n      <td>194529</td>\n      <td>1</td>\n      <td>...</td>\n      <td>1</td>\n      <td>1</td>\n      <td>NaN</td>\n      <td>NaN</td>\n      <td>1</td>\n      <td>1</td>\n      <td>1</td>\n      <td>1</td>\n      <td>NaN</td>\n      <td>NaN</td>\n    </tr>\n    <tr>\n      <th>2</th>\n      <td>C</td>\n      <td>1</td>\n      <td>3</td>\n      <td>5/7/21 14:37</td>\n      <td>5/7/21 15:04</td>\n      <td>0</td>\n      <td>172.58.95.104</td>\n      <td>100</td>\n      <td>1650</td>\n      <td>1</td>\n      <td>...</td>\n      <td>1</td>\n      <td>1</td>\n      <td>NaN</td>\n      <td>NaN</td>\n      <td>1</td>\n      <td>1</td>\n      <td>1</td>\n      <td>1</td>\n      <td>NaN</td>\n      <td>NaN</td>\n    </tr>\n    <tr>\n      <th>3</th>\n      <td>D</td>\n      <td>1</td>\n      <td>4</td>\n      <td>5/5/21 22:23</td>\n      <td>5/5/21 22:28</td>\n      <td>0</td>\n      <td>136.152.143.2</td>\n      <td>100</td>\n      <td>342</td>\n      <td>1</td>\n      <td>...</td>\n      <td>1</td>\n      <td>1</td>\n      <td>NaN</td>\n      <td>NaN</td>\n      <td>1</td>\n      <td>1</td>\n      <td>1</td>\n      <td>1</td>\n      <td>NaN</td>\n      <td>NaN</td>\n    </tr>\n    <tr>\n      <th>4</th>\n      <td>E</td>\n      <td>2</td>\n      <td>1</td>\n      <td>5/5/21 10:04</td>\n      <td>5/5/21 10:18</td>\n      <td>0</td>\n      <td>68.96.86.135</td>\n      <td>100</td>\n      <td>845</td>\n      <td>1</td>\n      <td>...</td>\n      <td>1</td>\n      <td>1</td>\n      <td>NaN</td>\n      <td>NaN</td>\n      <td>1</td>\n      <td>1</td>\n      <td>1</td>\n      <td>1</td>\n      <td>NaN</td>\n      <td>NaN</td>\n    </tr>\n    <tr>\n      <th>...</th>\n      <td>...</td>\n      <td>...</td>\n      <td>...</td>\n      <td>...</td>\n      <td>...</td>\n      <td>...</td>\n      <td>...</td>\n      <td>...</td>\n      <td>...</td>\n      <td>...</td>\n      <td>...</td>\n      <td>...</td>\n      <td>...</td>\n      <td>...</td>\n      <td>...</td>\n      <td>...</td>\n      <td>...</td>\n      <td>...</td>\n      <td>...</td>\n      <td>...</td>\n      <td>...</td>\n    </tr>\n    <tr>\n      <th>70</th>\n      <td>BX</td>\n      <td>21</td>\n      <td>2</td>\n      <td>5/5/21 12:24</td>\n      <td>5/5/21 12:41</td>\n      <td>0</td>\n      <td>73.202.74.66</td>\n      <td>100</td>\n      <td>1053</td>\n      <td>1</td>\n      <td>...</td>\n      <td>4</td>\n      <td>2</td>\n      <td>NaN</td>\n      <td>NaN</td>\n      <td>2</td>\n      <td>1</td>\n      <td>4</td>\n      <td>1</td>\n      <td>NaN</td>\n      <td>NaN</td>\n    </tr>\n    <tr>\n      <th>71</th>\n      <td>BZ</td>\n      <td>21</td>\n      <td>4</td>\n      <td>5/5/21 10:38</td>\n      <td>5/5/21 11:22</td>\n      <td>0</td>\n      <td>184.23.167.254</td>\n      <td>100</td>\n      <td>2639</td>\n      <td>1</td>\n      <td>...</td>\n      <td>6</td>\n      <td>1</td>\n      <td>NaN</td>\n      <td>NaN</td>\n      <td>1</td>\n      <td>1</td>\n      <td>6</td>\n      <td>1</td>\n      <td>NaN</td>\n      <td>NaN</td>\n    </tr>\n    <tr>\n      <th>72</th>\n      <td>CA</td>\n      <td>22</td>\n      <td>1</td>\n      <td>5/6/21 10:47</td>\n      <td>5/6/21 10:53</td>\n      <td>0</td>\n      <td>71.202.90.180</td>\n      <td>100</td>\n      <td>330</td>\n      <td>1</td>\n      <td>...</td>\n      <td>2</td>\n      <td>2</td>\n      <td>NaN</td>\n      <td>NaN</td>\n      <td>2</td>\n      <td>2</td>\n      <td>2</td>\n      <td>2</td>\n      <td>NaN</td>\n      <td>NaN</td>\n    </tr>\n    <tr>\n      <th>73</th>\n      <td>CD</td>\n      <td>22</td>\n      <td>3</td>\n      <td>5/5/21 18:32</td>\n      <td>5/5/21 18:48</td>\n      <td>0</td>\n      <td>135.180.217.46</td>\n      <td>100</td>\n      <td>950</td>\n      <td>1</td>\n      <td>...</td>\n      <td>2</td>\n      <td>2</td>\n      <td>NaN</td>\n      <td>NaN</td>\n      <td>1</td>\n      <td>1</td>\n      <td>1</td>\n      <td>2</td>\n      <td>2</td>\n      <td>NaN</td>\n    </tr>\n    <tr>\n      <th>74</th>\n      <td>CC</td>\n      <td>22</td>\n      <td>4</td>\n      <td>5/5/21 10:22</td>\n      <td>5/5/21 10:43</td>\n      <td>0</td>\n      <td>174.87.192.252</td>\n      <td>100</td>\n      <td>1258</td>\n      <td>1</td>\n      <td>...</td>\n      <td>2</td>\n      <td>2</td>\n      <td>NaN</td>\n      <td>NaN</td>\n      <td>2</td>\n      <td>2</td>\n      <td>3</td>\n      <td>2</td>\n      <td>NaN</td>\n      <td>NaN</td>\n    </tr>\n  </tbody>\n</table>\n<p>75 rows × 71 columns</p>\n</div>"
     },
     "metadata": {},
     "execution_count": 30
    }
   ],
   "source": [
    "full_data = roster.iloc[:,3:6].merge(data)\n",
    "full_data"
   ]
  },
  {
   "cell_type": "code",
   "execution_count": 36,
   "metadata": {},
   "outputs": [],
   "source": [
    "full_data.to_excel('full_join.xlsx')"
   ]
  },
  {
   "cell_type": "code",
   "execution_count": null,
   "metadata": {},
   "outputs": [],
   "source": []
  }
 ]
}