{
 "metadata": {
  "language_info": {
   "codemirror_mode": {
    "name": "ipython",
    "version": 3
   },
   "file_extension": ".py",
   "mimetype": "text/x-python",
   "name": "python",
   "nbconvert_exporter": "python",
   "pygments_lexer": "ipython3",
   "version": "3.8.2"
  },
  "orig_nbformat": 4,
  "kernelspec": {
   "name": "python3",
   "display_name": "Python 3.8.2 64-bit"
  },
  "interpreter": {
   "hash": "31f2aee4e71d21fbe5cf8b01ff0e069b9275f58929596ceb00d14d90e3e16cd6"
  }
 },
 "nbformat": 4,
 "nbformat_minor": 2,
 "cells": [
  {
   "cell_type": "code",
   "execution_count": 2,
   "metadata": {},
   "outputs": [],
   "source": [
    "import pandas as pd\n",
    "import openpyxl"
   ]
  },
  {
   "cell_type": "code",
   "execution_count": 3,
   "metadata": {},
   "outputs": [
    {
     "output_type": "execute_result",
     "data": {
      "text/plain": [
       "          0   \n",
       "..                                                ...                    ...   \n",
       "72                                        5/5/21 8:27                      0   \n",
       "73                                       5/5/21 22:28                      0   \n",
       "74                                       5/7/21 21:44                      0   \n",
       "75                                       5/6/21 16:48                      0   \n",
       "76                                       5/6/21 23:55                      0   \n",
       "\n",
       "                   IPAddress                 Progress  \\\n",
       "0                 IP Address                 Progress   \n",
       "1   {\"ImportId\":\"ipAddress\"}  {\"ImportId\":\"progress\"}   \n",
       "2             165.227.11.194                      100   \n",
       "3             192.31.105.188                      100   \n",
       "4             174.50.134.214                      100   \n",
       "..                       ...                      ...   \n",
       "72            196.190.52.186                      100   \n",
       "73             136.152.143.2                      100   \n",
       "74              58.120.81.57                      100   \n",
       "75               76.95.93.69                      100   \n",
       "76             137.25.32.190                      100   \n",
       "\n",
       "      Duration (in seconds)                 Finished  \\\n",
       "0     Duration (in seconds)                 Finished   \n",
       "1   {\"ImportId\":\"duration\"}  {\"ImportId\":\"finished\"}   \n",
       "2                      1126                        1   \n",
       "3                       938                        1   \n",
       "4                      3072                        1   \n",
       "..                      ...                      ...   \n",
       "72                     1028                        1   \n",
       "73                      342                        1   \n",
       "74                   188002                        1   \n",
       "75                      299                        1   \n",
       "76                      176                        1   \n",
       "\n",
       "                                         RecordedDate  \\\n",
       "0                                       Recorded Date   \n",
       "1   {\"ImportId\":\"recordedDate\",\"timeZone\":\"America...   \n",
       "2                                        5/6/21 11:51   \n",
       "3                                        5/6/21 21:22   \n",
       "4                                        5/7/21 22:14   \n",
       "..                                                ...   \n",
       "72                                        5/5/21 8:27   \n",
       "73                                       5/5/21 22:28   \n",
       "74                                       5/7/21 21:45   \n",
       "75                                       5/6/21 16:48   \n",
       "76                                       5/6/21 23:55   \n",
       "\n",
       "                  ResponseId Student Name  ...  \\\n",
       "0                Response ID  StudentName  ...   \n",
       "1   {\"ImportId\":\"_recordId\"}          NaN  ...   \n",
       "2          R_ZlwqGK7oRXFuk2B            F  ...   \n",
       "3          R_3EBj9T7Yvk5B9p8            I  ...   \n",
       "4          R_3kzGFidBS7a7uMY           BP  ...   \n",
       "..                       ...          ...  ...   \n",
       "72         R_2QrrksrmMx96cHQ           AC  ...   \n",
       "73         R_1eEvSPjO8lrr4qL            D  ...   \n",
       "74         R_1LcsPArzQiMPFtv            X  ...   \n",
       "75         R_3NwhKneVbRULZdP           BO  ...   \n",
       "76         R_CZVS5VAsYw4TRtf           AH  ...   \n",
       "\n",
       "                                                Q17_3  \\\n",
       "0   Contributes expertise and effort in team activ...   \n",
       "1                              {\"ImportId\":\"QID95_3\"}   \n",
       "2                                                   2   \n",
       "3                                                   1   \n",
       "4                                                   1   \n",
       "..                                                ...   \n",
       "72                                                  3   \n",
       "73                                                  1   \n",
       "74                                                  2   \n",
       "75                                                  2   \n",
       "76                                                  2   \n",
       "\n",
       "                                                Q17_4  \\\n",
       "0   Contributes expertise and effort in team activ...   \n",
       "1                              {\"ImportId\":\"QID95_4\"}   \n",
       "2                                                   2   \n",
       "3                                                   1   \n",
       "4                                                   1   \n",
       "..                                                ...   \n",
       "72                                                  3   \n",
       "73                                                  1   \n",
       "74                                                  1   \n",
       "75                                                  2   \n",
       "76                                                  2   \n",
       "\n",
       "                                                Q17_5  \\\n",
       "0   Contributes expertise and effort in team activ...   \n",
       "1                              {\"ImportId\":\"QID95_5\"}   \n",
       "2                                                 NaN   \n",
       "3                                                 NaN   \n",
       "4                                                 NaN   \n",
       "..                                                ...   \n",
       "72                                                  4   \n",
       "73                                                NaN   \n",
       "74                                                  2   \n",
       "75                                                  2   \n",
       "76                                                NaN   \n",
       "\n",
       "                                                Q17_6  \\\n",
       "0   Contributes expertise and effort in team activ...   \n",
       "1                              {\"ImportId\":\"QID95_6\"}   \n",
       "2                                                 NaN   \n",
       "3                                                 NaN   \n",
       "4                                                 NaN   \n",
       "..                                                ...   \n",
       "72                                                  3   \n",
       "73                                                NaN   \n",
       "74                                                  1   \n",
       "75                                                  2   \n",
       "76                                                NaN   \n",
       "\n",
       "                                                Q30_1  \\\n",
       "0   Respects and values other team members to brin...   \n",
       "1                             {\"ImportId\":\"QID108_1\"}   \n",
       "2                                                   1   \n",
       "3                                                   1   \n",
       "4                                                   1   \n",
       "..                                                ...   \n",
       "72                                                  1   \n",
       "73                                                  1   \n",
       "74                                                  1   \n",
       "75                                                  2   \n",
       "76                                                  2   \n",
       "\n",
       "                                                Q30_2  \\\n",
       "0   Respects and values other team members to brin...   \n",
       "1                             {\"ImportId\":\"QID108_2\"}   \n",
       "2                                                   2   \n",
       "3                                                   1   \n",
       "4                                                   1   \n",
       "..                                                ...   \n",
       "72                                                  1   \n",
       "73                                                  1   \n",
       "74                                                  1   \n",
       "75                                                  2   \n",
       "76                                                  2   \n",
       "\n",
       "                                                Q30_3  \\\n",
       "0   Respects and values other team members to brin...   \n",
       "1                             {\"ImportId\":\"QID108_3\"}   \n",
       "2                                                   2   \n",
       "3                                                   1   \n",
       "4                                                   1   \n",
       "..                                                ...   \n",
       "72                                                  1   \n",
       "73                                                  1   \n",
       "74                                                  1   \n",
       "75                                                  2   \n",
       "76                                                  2   \n",
       "\n",
       "                                                Q30_4  \\\n",
       "0   Respects and values other team members to brin...   \n",
       "1                             {\"ImportId\":\"QID108_4\"}   \n",
       "2                                                   2   \n",
       "3                                                   1   \n",
       "4                                                   1   \n",
       "..                                                ...   \n",
       "72                                                  1   \n",
       "73                                                  1   \n",
       "74                                                  1   \n",
       "75                                                  2   \n",
       "76                                                  2   \n",
       "\n",
       "                                                Q30_5  \\\n",
       "0   Respects and values other team members to brin...   \n",
       "1                             {\"ImportId\":\"QID108_5\"}   \n",
       "2                                                 NaN   \n",
       "3                                                 NaN   \n",
       "4                                                 NaN   \n",
       "..                                                ...   \n",
       "72                                                  4   \n",
       "73                                                NaN   \n",
       "74                                                  1   \n",
       "75                                                  2   \n",
       "76                                                NaN   \n",
       "\n",
       "                                                Q30_6  \n",
       "0   Respects and values other team members to brin...  \n",
       "1                             {\"ImportId\":\"QID108_6\"}  \n",
       "2                                                 NaN  \n",
       "3                                                 NaN  \n",
       "4                                                 NaN  \n",
       "..                                                ...  \n",
       "72                                                  1  \n",
       "73                                                NaN  \n",
       "74                                                  1  \n",
       "75                                                  2  \n",
       "76                                                NaN  \n",
       "\n",
       "[77 rows x 69 columns]"
      ],
      "text/html": "<div>\n<style scoped>\n    .dataframe tbody tr th:only-of-type {\n        vertical-align: middle;\n    }\n\n    .dataframe tbody tr th {\n        vertical-align: top;\n    }\n\n    .dataframe thead th {\n        text-align: right;\n    }\n</style>\n<table border=\"1\" class=\"dataframe\">\n  <thead>\n    <tr style=\"text-align: right;\">\n      <th></th>\n      <th>StartDate</th>\n      <th>EndDate</th>\n      <th>Status</th>\n      <th>IPAddress</th>\n      <th>Progress</th>\n      <th>Duration (in seconds)</th>\n      <th>Finished</th>\n      <th>RecordedDate</th>\n      <th>ResponseId</th>\n      <th>Student Name</th>\n      <th>...</th>\n      <th>Q17_3</th>\n      <th>Q17_4</th>\n      <th>Q17_5</th>\n      <th>Q17_6</th>\n      <th>Q30_1</th>\n      <th>Q30_2</th>\n      <th>Q30_3</th>\n      <th>Q30_4</th>\n      <th>Q30_5</th>\n      <th>Q30_6</th>\n    </tr>\n  </thead>\n  <tbody>\n    <tr>\n      <th>0</th>\n      <td>Start Date</td>\n      <td>End Date</td>\n      <td>Response Type</td>\n      <td>IP Address</td>\n      <td>Progress</td>\n      <td>Duration (in seconds)</td>\n      <td>Finished</td>\n      <td>Recorded Date</td>\n      <td>Response ID</td>\n      <td>StudentName</td>\n      <td>...</td>\n      <td>Contributes expertise and effort in team activ...</td>\n      <td>Contributes expertise and effort in team activ...</td>\n      <td>Contributes expertise and effort in team activ...</td>\n      <td>Contributes expertise and effort in team activ...</td>\n      <td>Respects and values other team members to brin...</td>\n      <td>Respects and values other team members to brin...</td>\n      <td>Respects and values other team members to brin...</td>\n      <td>Respects and values other team members to brin...</td>\n      <td>Respects and values other team members to brin...</td>\n      <td>Respects and values other team members to brin...</td>\n    </tr>\n    <tr>\n      <th>1</th>\n      <td>{\"ImportId\":\"startDate\",\"timeZone\":\"America/Lo...</td>\n      <td>{\"ImportId\":\"endDate\",\"timeZone\":\"America/Los_...</td>\n      <td>{\"ImportId\":\"status\"}</td>\n      <td>{\"ImportId\":\"ipAddress\"}</td>\n      <td>{\"ImportId\":\"progress\"}</td>\n      <td>{\"ImportId\":\"duration\"}</td>\n      <td>{\"ImportId\":\"finished\"}</td>\n      <td>{\"ImportId\":\"recordedDate\",\"timeZone\":\"America...</td>\n      <td>{\"ImportId\":\"_recordId\"}</td>\n      <td>NaN</td>\n      <td>...</td>\n      <td>{\"ImportId\":\"QID95_3\"}</td>\n      <td>{\"ImportId\":\"QID95_4\"}</td>\n      <td>{\"ImportId\":\"QID95_5\"}</td>\n      <td>{\"ImportId\":\"QID95_6\"}</td>\n      <td>{\"ImportId\":\"QID108_1\"}</td>\n      <td>{\"ImportId\":\"QID108_2\"}</td>\n      <td>{\"ImportId\":\"QID108_3\"}</td>\n      <td>{\"ImportId\":\"QID108_4\"}</td>\n      <td>{\"ImportId\":\"QID108_5\"}</td>\n      <td>{\"ImportId\":\"QID108_6\"}</td>\n    </tr>\n    <tr>\n      <th>2</th>\n      <td>5/6/21 11:32</td>\n      <td>5/6/21 11:51</td>\n      <td>0</td>\n      <td>165.227.11.194</td>\n      <td>100</td>\n      <td>1126</td>\n      <td>1</td>\n      <td>5/6/21 11:51</td>\n      <td>R_ZlwqGK7oRXFuk2B</td>\n      <td>F</td>\n      <td>...</td>\n      <td>2</td>\n      <td>2</td>\n      <td>NaN</td>\n      <td>NaN</td>\n      <td>1</td>\n      <td>2</td>\n      <td>2</td>\n      <td>2</td>\n      <td>NaN</td>\n      <td>NaN</td>\n    </tr>\n    <tr>\n      <th>3</th>\n      <td>5/6/21 21:06</td>\n      <td>5/6/21 21:22</td>\n      <td>0</td>\n      <td>192.31.105.188</td>\n      <td>100</td>\n      <td>938</td>\n      <td>1</td>\n      <td>5/6/21 21:22</td>\n      <td>R_3EBj9T7Yvk5B9p8</td>\n      <td>I</td>\n      <td>...</td>\n      <td>1</td>\n      <td>1</td>\n      <td>NaN</td>\n      <td>NaN</td>\n      <td>1</td>\n      <td>1</td>\n      <td>1</td>\n      <td>1</td>\n      <td>NaN</td>\n      <td>NaN</td>\n    </tr>\n    <tr>\n      <th>4</th>\n      <td>5/7/21 21:23</td>\n      <td>5/7/21 22:14</td>\n      <td>0</td>\n      <td>174.50.134.214</td>\n      <td>100</td>\n      <td>3072</td>\n      <td>1</td>\n      <td>5/7/21 22:14</td>\n      <td>R_3kzGFidBS7a7uMY</td>\n      <td>BP</td>\n      <td>...</td>\n      <td>1</td>\n      <td>1</td>\n      <td>NaN</td>\n      <td>NaN</td>\n      <td>1</td>\n      <td>1</td>\n      <td>1</td>\n      <td>1</td>\n      <td>NaN</td>\n      <td>NaN</td>\n    </tr>\n    <tr>\n      <th>...</th>\n      <td>...</td>\n      <td>...</td>\n      <td>...</td>\n      <td>...</td>\n      <td>...</td>\n      <td>...</td>\n      <td>...</td>\n      <td>...</td>\n      <td>...</td>\n      <td>...</td>\n      <td>...</td>\n      <td>...</td>\n      <td>...</td>\n      <td>...</td>\n      <td>...</td>\n      <td>...</td>\n      <td>...</td>\n      <td>...</td>\n      <td>...</td>\n      <td>...</td>\n      <td>...</td>\n    </tr>\n    <tr>\n      <th>72</th>\n      <td>5/5/21 8:10</td>\n      <td>5/5/21 8:27</td>\n      <td>0</td>\n      <td>196.190.52.186</td>\n      <td>100</td>\n      <td>1028</td>\n      <td>1</td>\n      <td>5/5/21 8:27</td>\n      <td>R_2QrrksrmMx96cHQ</td>\n      <td>AC</td>\n      <td>...</td>\n      <td>3</td>\n      <td>3</td>\n      <td>4</td>\n      <td>3</td>\n      <td>1</td>\n      <td>1</td>\n      <td>1</td>\n      <td>1</td>\n      <td>4</td>\n      <td>1</td>\n    </tr>\n    <tr>\n      <th>73</th>\n      <td>5/5/21 22:23</td>\n      <td>5/5/21 22:28</td>\n      <td>0</td>\n      <td>136.152.143.2</td>\n      <td>100</td>\n      <td>342</td>\n      <td>1</td>\n      <td>5/5/21 22:28</td>\n      <td>R_1eEvSPjO8lrr4qL</td>\n      <td>D</td>\n      <td>...</td>\n      <td>1</td>\n      <td>1</td>\n      <td>NaN</td>\n      <td>NaN</td>\n      <td>1</td>\n      <td>1</td>\n      <td>1</td>\n      <td>1</td>\n      <td>NaN</td>\n      <td>NaN</td>\n    </tr>\n    <tr>\n      <th>74</th>\n      <td>5/5/21 17:31</td>\n      <td>5/7/21 21:44</td>\n      <td>0</td>\n      <td>58.120.81.57</td>\n      <td>100</td>\n      <td>188002</td>\n      <td>1</td>\n      <td>5/7/21 21:45</td>\n      <td>R_1LcsPArzQiMPFtv</td>\n      <td>X</td>\n      <td>...</td>\n      <td>2</td>\n      <td>1</td>\n      <td>2</td>\n      <td>1</td>\n      <td>1</td>\n      <td>1</td>\n      <td>1</td>\n      <td>1</td>\n      <td>1</td>\n      <td>1</td>\n    </tr>\n    <tr>\n      <th>75</th>\n      <td>5/6/21 16:43</td>\n      <td>5/6/21 16:48</td>\n      <td>0</td>\n      <td>76.95.93.69</td>\n      <td>100</td>\n      <td>299</td>\n      <td>1</td>\n      <td>5/6/21 16:48</td>\n      <td>R_3NwhKneVbRULZdP</td>\n      <td>BO</td>\n      <td>...</td>\n      <td>2</td>\n      <td>2</td>\n      <td>2</td>\n      <td>2</td>\n      <td>2</td>\n      <td>2</td>\n      <td>2</td>\n      <td>2</td>\n      <td>2</td>\n      <td>2</td>\n    </tr>\n    <tr>\n      <th>76</th>\n      <td>5/6/21 23:52</td>\n      <td>5/6/21 23:55</td>\n      <td>0</td>\n      <td>137.25.32.190</td>\n      <td>100</td>\n      <td>176</td>\n      <td>1</td>\n      <td>5/6/21 23:55</td>\n      <td>R_CZVS5VAsYw4TRtf</td>\n      <td>AH</td>\n      <td>...</td>\n      <td>2</td>\n      <td>2</td>\n      <td>NaN</td>\n      <td>NaN</td>\n      <td>2</td>\n      <td>2</td>\n      <td>2</td>\n      <td>2</td>\n      <td>NaN</td>\n      <td>NaN</td>\n    </tr>\n  </tbody>\n</table>\n<p>77 rows × 69 columns</p>\n</div>"
     },
     "metadata": {},
     "execution_count": 3
    }
   ],
   "source": [
    "data = pd.read_csv('Share EOS Spring 2021 ANALYSIS.xlsx - RAW DATA.csv')\n",
    "data"
   ]
  },
  {
   "cell_type": "code",
   "execution_count": 5,
   "metadata": {},
   "outputs": [
    {
     "output_type": "execute_result",
     "data": {
      "text/plain": [
       "    LastName  FirstName  Email Student Name  TeamNumber  TeammateNumber  \\\n",
       "0        NaN        NaN    NaN            A           1               1   \n",
       "1        NaN        NaN    NaN            B           1               2   \n",
       "2        NaN        NaN    NaN            C           1               3   \n",
       "3        NaN        NaN    NaN            D           1               4   \n",
       "4        NaN        NaN    NaN            E           2               1   \n",
       "..       ...        ...    ...          ...         ...             ...   \n",
       "77       NaN        NaN    NaN           BZ          21               4   \n",
       "78       NaN        NaN    NaN           CA          22               1   \n",
       "79       NaN        NaN    NaN           CB          22               2   \n",
       "80       NaN        NaN    NaN           CD          22               3   \n",
       "81       NaN        NaN    NaN           CC          22               4   \n",
       "\n",
       "    Teammate1  Teammate2  Teammate3  Teammate4  Teammate5  Teammate6  \n",
       "0         NaN        NaN        NaN        NaN        NaN        NaN  \n",
       "1         NaN        NaN        NaN        NaN        NaN        NaN  \n",
       "2         NaN        NaN        NaN        NaN        NaN        NaN  \n",
       "3         NaN        NaN        NaN        NaN        NaN        NaN  \n",
       "4         NaN        NaN        NaN        NaN        NaN        NaN  \n",
       "..        ...        ...        ...        ...        ...        ...  \n",
       "77        NaN        NaN        NaN        NaN        NaN        NaN  \n",
       "78        NaN        NaN        NaN        NaN        NaN        NaN  \n",
       "79        NaN        NaN        NaN        NaN        NaN        NaN  \n",
       "80        NaN        NaN        NaN        NaN        NaN        NaN  \n",
       "81        NaN        NaN        NaN        NaN        NaN        NaN  \n",
       "\n",
       "[82 rows x 12 columns]"
      ],
      "text/html": "<div>\n<style scoped>\n    .dataframe tbody tr th:only-of-type {\n        vertical-align: middle;\n    }\n\n    .dataframe tbody tr th {\n        vertical-align: top;\n    }\n\n    .dataframe thead th {\n        text-align: right;\n    }\n</style>\n<table border=\"1\" class=\"dataframe\">\n  <thead>\n    <tr style=\"text-align: right;\">\n      <th></th>\n      <th>LastName</th>\n      <th>FirstName</th>\n      <th>Email</th>\n      <th>Student Name</th>\n      <th>TeamNumber</th>\n      <th>TeammateNumber</th>\n      <th>Teammate1</th>\n      <th>Teammate2</th>\n      <th>Teammate3</th>\n      <th>Teammate4</th>\n      <th>Teammate5</th>\n      <th>Teammate6</th>\n    </tr>\n  </thead>\n  <tbody>\n    <tr>\n      <th>0</th>\n      <td>NaN</td>\n      <td>NaN</td>\n      <td>NaN</td>\n      <td>A</td>\n      <td>1</td>\n      <td>1</td>\n      <td>NaN</td>\n      <td>NaN</td>\n      <td>NaN</td>\n      <td>NaN</td>\n      <td>NaN</td>\n      <td>NaN</td>\n    </tr>\n    <tr>\n      <th>1</th>\n      <td>NaN</td>\n      <td>NaN</td>\n      <td>NaN</td>\n      <td>B</td>\n      <td>1</td>\n      <td>2</td>\n      <td>NaN</td>\n      <td>NaN</td>\n      <td>NaN</td>\n      <td>NaN</td>\n      <td>NaN</td>\n      <td>NaN</td>\n    </tr>\n    <tr>\n      <th>2</th>\n      <td>NaN</td>\n      <td>NaN</td>\n      <td>NaN</td>\n      <td>C</td>\n      <td>1</td>\n      <td>3</td>\n      <td>NaN</td>\n      <td>NaN</td>\n      <td>NaN</td>\n      <td>NaN</td>\n      <td>NaN</td>\n      <td>NaN</td>\n    </tr>\n    <tr>\n      <th>3</th>\n      <td>NaN</td>\n      <td>NaN</td>\n      <td>NaN</td>\n      <td>D</td>\n      <td>1</td>\n      <td>4</td>\n      <td>NaN</td>\n      <td>NaN</td>\n      <td>NaN</td>\n      <td>NaN</td>\n      <td>NaN</td>\n      <td>NaN</td>\n    </tr>\n    <tr>\n      <th>4</th>\n      <td>NaN</td>\n      <td>NaN</td>\n      <td>NaN</td>\n      <td>E</td>\n      <td>2</td>\n      <td>1</td>\n      <td>NaN</td>\n      <td>NaN</td>\n      <td>NaN</td>\n      <td>NaN</td>\n      <td>NaN</td>\n      <td>NaN</td>\n    </tr>\n    <tr>\n      <th>...</th>\n      <td>...</td>\n      <td>...</td>\n      <td>...</td>\n      <td>...</td>\n      <td>...</td>\n      <td>...</td>\n      <td>...</td>\n      <td>...</td>\n      <td>...</td>\n      <td>...</td>\n      <td>...</td>\n      <td>...</td>\n    </tr>\n    <tr>\n      <th>77</th>\n      <td>NaN</td>\n      <td>NaN</td>\n      <td>NaN</td>\n      <td>BZ</td>\n      <td>21</td>\n      <td>4</td>\n      <td>NaN</td>\n      <td>NaN</td>\n      <td>NaN</td>\n      <td>NaN</td>\n      <td>NaN</td>\n      <td>NaN</td>\n    </tr>\n    <tr>\n      <th>78</th>\n      <td>NaN</td>\n      <td>NaN</td>\n      <td>NaN</td>\n      <td>CA</td>\n      <td>22</td>\n      <td>1</td>\n      <td>NaN</td>\n      <td>NaN</td>\n      <td>NaN</td>\n      <td>NaN</td>\n      <td>NaN</td>\n      <td>NaN</td>\n    </tr>\n    <tr>\n      <th>79</th>\n      <td>NaN</td>\n      <td>NaN</td>\n      <td>NaN</td>\n      <td>CB</td>\n      <td>22</td>\n      <td>2</td>\n      <td>NaN</td>\n      <td>NaN</td>\n      <td>NaN</td>\n      <td>NaN</td>\n      <td>NaN</td>\n      <td>NaN</td>\n    </tr>\n    <tr>\n      <th>80</th>\n      <td>NaN</td>\n      <td>NaN</td>\n      <td>NaN</td>\n      <td>CD</td>\n      <td>22</td>\n      <td>3</td>\n      <td>NaN</td>\n      <td>NaN</td>\n      <td>NaN</td>\n      <td>NaN</td>\n      <td>NaN</td>\n      <td>NaN</td>\n    </tr>\n    <tr>\n      <th>81</th>\n      <td>NaN</td>\n      <td>NaN</td>\n      <td>NaN</td>\n      <td>CC</td>\n      <td>22</td>\n      <td>4</td>\n      <td>NaN</td>\n      <td>NaN</td>\n      <td>NaN</td>\n      <td>NaN</td>\n      <td>NaN</td>\n      <td>NaN</td>\n    </tr>\n  </tbody>\n</table>\n<p>82 rows × 12 columns</p>\n</div>"
     },
     "metadata": {},
     "execution_count": 5
    }
   ],
   "source": [
    "roster = pd.read_csv('roster.csv')\n",
    "roster"
   ]
  },
  {
   "cell_type": "code",
   "execution_count": 6,
   "metadata": {},
   "outputs": [
    {
     "output_type": "execute_result",
     "data": {
      "text/plain": [
       "   Student Name  TeamNumber\n",
       "0             A           1\n",
       "1             B           1\n",
       "2             C           1\n",
       "3             D           1\n",
       "4             E           2\n",
       "..          ...         ...\n",
       "77           BZ          21\n",
       "78           CA          22\n",
       "79           CB          22\n",
       "80           CD          22\n",
       "81           CC          22\n",
       "\n",
       "[82 rows x 2 columns]"
      ],
      "text/html": "<div>\n<style scoped>\n    .dataframe tbody tr th:only-of-type {\n        vertical-align: middle;\n    }\n\n    .dataframe tbody tr th {\n        vertical-align: top;\n    }\n\n    .dataframe thead th {\n        text-align: right;\n    }\n</style>\n<table border=\"1\" class=\"dataframe\">\n  <thead>\n    <tr style=\"text-align: right;\">\n      <th></th>\n      <th>Student Name</th>\n      <th>TeamNumber</th>\n    </tr>\n  </thead>\n  <tbody>\n    <tr>\n      <th>0</th>\n      <td>A</td>\n      <td>1</td>\n    </tr>\n    <tr>\n      <th>1</th>\n      <td>B</td>\n      <td>1</td>\n    </tr>\n    <tr>\n      <th>2</th>\n      <td>C</td>\n      <td>1</td>\n    </tr>\n    <tr>\n      <th>3</th>\n      <td>D</td>\n      <td>1</td>\n    </tr>\n    <tr>\n      <th>4</th>\n      <td>E</td>\n      <td>2</td>\n    </tr>\n    <tr>\n      <th>...</th>\n      <td>...</td>\n      <td>...</td>\n    </tr>\n    <tr>\n      <th>77</th>\n      <td>BZ</td>\n      <td>21</td>\n    </tr>\n    <tr>\n      <th>78</th>\n      <td>CA</td>\n      <td>22</td>\n    </tr>\n    <tr>\n      <th>79</th>\n      <td>CB</td>\n      <td>22</td>\n    </tr>\n    <tr>\n      <th>80</th>\n      <td>CD</td>\n      <td>22</td>\n    </tr>\n    <tr>\n      <th>81</th>\n      <td>CC</td>\n      <td>22</td>\n    </tr>\n  </tbody>\n</table>\n<p>82 rows × 2 columns</p>\n</div>"
     },
     "metadata": {},
     "execution_count": 6
    }
   ],
   "source": [
    "roster.iloc[:,3:5]"
   ]
  },
  {
   "cell_type": "code",
   "execution_count": 7,
   "metadata": {},
   "outputs": [
    {
     "output_type": "execute_result",
     "data": {
      "text/plain": [
       "LastName           True\n",
       "FirstName          True\n",
       "Email              True\n",
       "Student Name      False\n",
       "TeamNumber        False\n",
       "TeammateNumber    False\n",
       "Teammate1          True\n",
       "Teammate2          True\n",
       "Teammate3          True\n",
       "Teammate4          True\n",
       "Teammate5          True\n",
       "Teammate6          True\n",
       "dtype: bool"
      ]
     },
     "metadata": {},
     "execution_count": 7
    }
   ],
   "source": [
    "roster.isna().all()"
   ]
  },
  {
   "source": [
    "Next steps:  \n",
    "    *Join survey and roster datasets on “student_name” column.  \n",
    "    *Truncate data based on teams.  \n",
    "    *Calculate team averages.  \n",
    "    *Remove the textual data, store in an additional csv. (with the joined columns)\n"
   ],
   "cell_type": "markdown",
   "metadata": {}
  },
  {
   "cell_type": "code",
   "execution_count": 8,
   "metadata": {},
   "outputs": [
    {
     "output_type": "execute_result",
     "data": {
      "text/plain": [
       "   Student Name  Q29_1  Q29_2  Q29_3  Q33_1  Q33_2  Q33_3  Q20_1  Q20_2  \\\n",
       "0             A    1.0    1.0    1.0    1.0    1.0    1.0   25.0   25.0   \n",
       "1            AA    2.0    2.0    2.0    3.0    4.0    3.0   16.0   20.0   \n",
       "2            AB    4.0    6.0    6.0    5.0    5.0    5.0   16.0   23.0   \n",
       "3            AC    2.0    3.0    3.0    2.0    3.0    1.0   17.0   20.0   \n",
       "4            AD    1.0    1.0    1.0    1.0    1.0    1.0   25.0   25.0   \n",
       "..          ...    ...    ...    ...    ...    ...    ...    ...    ...   \n",
       "70            V    1.0    2.0    2.0    2.0    2.0    2.0   25.0   25.0   \n",
       "71            W    2.0    3.0    3.0    1.0    6.0    1.0   35.0   20.0   \n",
       "72            X    2.0    2.0    2.0    2.0    2.0    2.0   95.0  100.0   \n",
       "73            Y    2.0    2.0    7.0    7.0    7.0    1.0   10.0   40.0   \n",
       "74            Z    1.0    1.0    1.0    1.0    1.0    1.0   17.0   18.0   \n",
       "\n",
       "    Q20_3  ...  Q17_3  Q17_4  Q17_5  Q17_6  Q30_1  Q30_2  Q30_3  Q30_4  Q30_5  \\\n",
       "0    25.0  ...    1.0    1.0    NaN    NaN    1.0    1.0    1.0    1.0    NaN   \n",
       "1    16.0  ...    3.0    2.0    3.0    2.0    2.0    2.0    2.0    2.0    2.0   \n",
       "2    14.0  ...    4.0    4.0    3.0    3.0    4.0    4.0    4.0    4.0    4.0   \n",
       "3    16.0  ...    3.0    3.0    4.0    3.0    1.0    1.0    1.0    1.0    4.0   \n",
       "4    25.0  ...    1.0    1.0    NaN    NaN    1.0    1.0    1.0    1.0    NaN   \n",
       "..    ...  ...    ...    ...    ...    ...    ...    ...    ...    ...    ...   \n",
       "70   25.0  ...    2.0    1.0    NaN    NaN    2.0    2.0    2.0    2.0    NaN   \n",
       "71    5.0  ...    7.0    1.0    NaN    NaN    1.0    1.0    1.0    1.0    NaN   \n",
       "72   90.0  ...    2.0    1.0    2.0    1.0    1.0    1.0    1.0    1.0    1.0   \n",
       "73    5.0  ...    7.0    4.0    5.0    3.0    7.0    3.0    7.0    7.0    7.0   \n",
       "74   17.0  ...    1.0    1.0    4.0    1.0    1.0    1.0    1.0    1.0    3.0   \n",
       "\n",
       "    Q30_6  \n",
       "0     NaN  \n",
       "1     2.0  \n",
       "2     3.0  \n",
       "3     1.0  \n",
       "4     NaN  \n",
       "..    ...  \n",
       "70    NaN  \n",
       "71    NaN  \n",
       "72    1.0  \n",
       "73    7.0  \n",
       "74    1.0  \n",
       "\n",
       "[75 rows x 37 columns]"
      ],
      "text/html": "<div>\n<style scoped>\n    .dataframe tbody tr th:only-of-type {\n        vertical-align: middle;\n    }\n\n    .dataframe tbody tr th {\n        vertical-align: top;\n    }\n\n    .dataframe thead th {\n        text-align: right;\n    }\n</style>\n<table border=\"1\" class=\"dataframe\">\n  <thead>\n    <tr style=\"text-align: right;\">\n      <th></th>\n      <th>Student Name</th>\n      <th>Q29_1</th>\n      <th>Q29_2</th>\n      <th>Q29_3</th>\n      <th>Q33_1</th>\n      <th>Q33_2</th>\n      <th>Q33_3</th>\n      <th>Q20_1</th>\n      <th>Q20_2</th>\n      <th>Q20_3</th>\n      <th>...</th>\n      <th>Q17_3</th>\n      <th>Q17_4</th>\n      <th>Q17_5</th>\n      <th>Q17_6</th>\n      <th>Q30_1</th>\n      <th>Q30_2</th>\n      <th>Q30_3</th>\n      <th>Q30_4</th>\n      <th>Q30_5</th>\n      <th>Q30_6</th>\n    </tr>\n  </thead>\n  <tbody>\n    <tr>\n      <th>0</th>\n      <td>A</td>\n      <td>1.0</td>\n      <td>1.0</td>\n      <td>1.0</td>\n      <td>1.0</td>\n      <td>1.0</td>\n      <td>1.0</td>\n      <td>25.0</td>\n      <td>25.0</td>\n      <td>25.0</td>\n      <td>...</td>\n      <td>1.0</td>\n      <td>1.0</td>\n      <td>NaN</td>\n      <td>NaN</td>\n      <td>1.0</td>\n      <td>1.0</td>\n      <td>1.0</td>\n      <td>1.0</td>\n      <td>NaN</td>\n      <td>NaN</td>\n    </tr>\n    <tr>\n      <th>1</th>\n      <td>AA</td>\n      <td>2.0</td>\n      <td>2.0</td>\n      <td>2.0</td>\n      <td>3.0</td>\n      <td>4.0</td>\n      <td>3.0</td>\n      <td>16.0</td>\n      <td>20.0</td>\n      <td>16.0</td>\n      <td>...</td>\n      <td>3.0</td>\n      <td>2.0</td>\n      <td>3.0</td>\n      <td>2.0</td>\n      <td>2.0</td>\n      <td>2.0</td>\n      <td>2.0</td>\n      <td>2.0</td>\n      <td>2.0</td>\n      <td>2.0</td>\n    </tr>\n    <tr>\n      <th>2</th>\n      <td>AB</td>\n      <td>4.0</td>\n      <td>6.0</td>\n      <td>6.0</td>\n      <td>5.0</td>\n      <td>5.0</td>\n      <td>5.0</td>\n      <td>16.0</td>\n      <td>23.0</td>\n      <td>14.0</td>\n      <td>...</td>\n      <td>4.0</td>\n      <td>4.0</td>\n      <td>3.0</td>\n      <td>3.0</td>\n      <td>4.0</td>\n      <td>4.0</td>\n      <td>4.0</td>\n      <td>4.0</td>\n      <td>4.0</td>\n      <td>3.0</td>\n    </tr>\n    <tr>\n      <th>3</th>\n      <td>AC</td>\n      <td>2.0</td>\n      <td>3.0</td>\n      <td>3.0</td>\n      <td>2.0</td>\n      <td>3.0</td>\n      <td>1.0</td>\n      <td>17.0</td>\n      <td>20.0</td>\n      <td>16.0</td>\n      <td>...</td>\n      <td>3.0</td>\n      <td>3.0</td>\n      <td>4.0</td>\n      <td>3.0</td>\n      <td>1.0</td>\n      <td>1.0</td>\n      <td>1.0</td>\n      <td>1.0</td>\n      <td>4.0</td>\n      <td>1.0</td>\n    </tr>\n    <tr>\n      <th>4</th>\n      <td>AD</td>\n      <td>1.0</td>\n      <td>1.0</td>\n      <td>1.0</td>\n      <td>1.0</td>\n      <td>1.0</td>\n      <td>1.0</td>\n      <td>25.0</td>\n      <td>25.0</td>\n      <td>25.0</td>\n      <td>...</td>\n      <td>1.0</td>\n      <td>1.0</td>\n      <td>NaN</td>\n      <td>NaN</td>\n      <td>1.0</td>\n      <td>1.0</td>\n      <td>1.0</td>\n      <td>1.0</td>\n      <td>NaN</td>\n      <td>NaN</td>\n    </tr>\n    <tr>\n      <th>...</th>\n      <td>...</td>\n      <td>...</td>\n      <td>...</td>\n      <td>...</td>\n      <td>...</td>\n      <td>...</td>\n      <td>...</td>\n      <td>...</td>\n      <td>...</td>\n      <td>...</td>\n      <td>...</td>\n      <td>...</td>\n      <td>...</td>\n      <td>...</td>\n      <td>...</td>\n      <td>...</td>\n      <td>...</td>\n      <td>...</td>\n      <td>...</td>\n      <td>...</td>\n      <td>...</td>\n    </tr>\n    <tr>\n      <th>70</th>\n      <td>V</td>\n      <td>1.0</td>\n      <td>2.0</td>\n      <td>2.0</td>\n      <td>2.0</td>\n      <td>2.0</td>\n      <td>2.0</td>\n      <td>25.0</td>\n      <td>25.0</td>\n      <td>25.0</td>\n      <td>...</td>\n      <td>2.0</td>\n      <td>1.0</td>\n      <td>NaN</td>\n      <td>NaN</td>\n      <td>2.0</td>\n      <td>2.0</td>\n      <td>2.0</td>\n      <td>2.0</td>\n      <td>NaN</td>\n      <td>NaN</td>\n    </tr>\n    <tr>\n      <th>71</th>\n      <td>W</td>\n      <td>2.0</td>\n      <td>3.0</td>\n      <td>3.0</td>\n      <td>1.0</td>\n      <td>6.0</td>\n      <td>1.0</td>\n      <td>35.0</td>\n      <td>20.0</td>\n      <td>5.0</td>\n      <td>...</td>\n      <td>7.0</td>\n      <td>1.0</td>\n      <td>NaN</td>\n      <td>NaN</td>\n      <td>1.0</td>\n      <td>1.0</td>\n      <td>1.0</td>\n      <td>1.0</td>\n      <td>NaN</td>\n      <td>NaN</td>\n    </tr>\n    <tr>\n      <th>72</th>\n      <td>X</td>\n      <td>2.0</td>\n      <td>2.0</td>\n      <td>2.0</td>\n      <td>2.0</td>\n      <td>2.0</td>\n      <td>2.0</td>\n      <td>95.0</td>\n      <td>100.0</td>\n      <td>90.0</td>\n      <td>...</td>\n      <td>2.0</td>\n      <td>1.0</td>\n      <td>2.0</td>\n      <td>1.0</td>\n      <td>1.0</td>\n      <td>1.0</td>\n      <td>1.0</td>\n      <td>1.0</td>\n      <td>1.0</td>\n      <td>1.0</td>\n    </tr>\n    <tr>\n      <th>73</th>\n      <td>Y</td>\n      <td>2.0</td>\n      <td>2.0</td>\n      <td>7.0</td>\n      <td>7.0</td>\n      <td>7.0</td>\n      <td>1.0</td>\n      <td>10.0</td>\n      <td>40.0</td>\n      <td>5.0</td>\n      <td>...</td>\n      <td>7.0</td>\n      <td>4.0</td>\n      <td>5.0</td>\n      <td>3.0</td>\n      <td>7.0</td>\n      <td>3.0</td>\n      <td>7.0</td>\n      <td>7.0</td>\n      <td>7.0</td>\n      <td>7.0</td>\n    </tr>\n    <tr>\n      <th>74</th>\n      <td>Z</td>\n      <td>1.0</td>\n      <td>1.0</td>\n      <td>1.0</td>\n      <td>1.0</td>\n      <td>1.0</td>\n      <td>1.0</td>\n      <td>17.0</td>\n      <td>18.0</td>\n      <td>17.0</td>\n      <td>...</td>\n      <td>1.0</td>\n      <td>1.0</td>\n      <td>4.0</td>\n      <td>1.0</td>\n      <td>1.0</td>\n      <td>1.0</td>\n      <td>1.0</td>\n      <td>1.0</td>\n      <td>3.0</td>\n      <td>1.0</td>\n    </tr>\n  </tbody>\n</table>\n<p>75 rows × 37 columns</p>\n</div>"
     },
     "metadata": {},
     "execution_count": 8
    }
   ],
   "source": [
    "cleaned = pd.read_csv('Assessment_Numerical_Cleaned.csv')\n",
    "cleaned"
   ]
  },
  {
   "cell_type": "code",
   "execution_count": 27,
   "metadata": {},
   "outputs": [],
   "source": [
    "roster.iloc[:,3:6].merge(cleaned).to_csv('numerical_joined.csv')"
   ]
  },
  {
   "cell_type": "code",
   "execution_count": 9,
   "metadata": {},
   "outputs": [
    {
     "output_type": "execute_result",
     "data": {
      "text/plain": [
       "    Q29_1  Q29_2  Q29_3  Q33_1  Q33_2  Q33_3  Q20_1  Q20_2  Q20_3  Q20_4  ...  \\\n",
       "0     1.0    1.0    1.0    1.0    1.0    1.0   25.0   25.0   25.0   25.0  ...   \n",
       "1     2.0    2.0    2.0    3.0    4.0    3.0   16.0   20.0   16.0   16.0  ...   \n",
       "2     4.0    6.0    6.0    5.0    5.0    5.0   16.0   23.0   14.0   15.0  ...   \n",
       "3     2.0    3.0    3.0    2.0    3.0    1.0   17.0   20.0   16.0   17.0  ...   \n",
       "4     1.0    1.0    1.0    1.0    1.0    1.0   25.0   25.0   25.0   25.0  ...   \n",
       "..    ...    ...    ...    ...    ...    ...    ...    ...    ...    ...  ...   \n",
       "70    1.0    2.0    2.0    2.0    2.0    2.0   25.0   25.0   25.0   25.0  ...   \n",
       "71    2.0    3.0    3.0    1.0    6.0    1.0   35.0   20.0    5.0   40.0  ...   \n",
       "72    2.0    2.0    2.0    2.0    2.0    2.0   95.0  100.0   90.0   95.0  ...   \n",
       "73    2.0    2.0    7.0    7.0    7.0    1.0   10.0   40.0    5.0   15.0  ...   \n",
       "74    1.0    1.0    1.0    1.0    1.0    1.0   17.0   18.0   17.0   17.0  ...   \n",
       "\n",
       "    Q17_3  Q17_4  Q17_5  Q17_6  Q30_1  Q30_2  Q30_3  Q30_4  Q30_5  Q30_6  \n",
       "0     1.0    1.0    NaN    NaN    1.0    1.0    1.0    1.0    NaN    NaN  \n",
       "1     3.0    2.0    3.0    2.0    2.0    2.0    2.0    2.0    2.0    2.0  \n",
       "2     4.0    4.0    3.0    3.0    4.0    4.0    4.0    4.0    4.0    3.0  \n",
       "3     3.0    3.0    4.0    3.0    1.0    1.0    1.0    1.0    4.0    1.0  \n",
       "4     1.0    1.0    NaN    NaN    1.0    1.0    1.0    1.0    NaN    NaN  \n",
       "..    ...    ...    ...    ...    ...    ...    ...    ...    ...    ...  \n",
       "70    2.0    1.0    NaN    NaN    2.0    2.0    2.0    2.0    NaN    NaN  \n",
       "71    7.0    1.0    NaN    NaN    1.0    1.0    1.0    1.0    NaN    NaN  \n",
       "72    2.0    1.0    2.0    1.0    1.0    1.0    1.0    1.0    1.0    1.0  \n",
       "73    7.0    4.0    5.0    3.0    7.0    3.0    7.0    7.0    7.0    7.0  \n",
       "74    1.0    1.0    4.0    1.0    1.0    1.0    1.0    1.0    3.0    1.0  \n",
       "\n",
       "[75 rows x 36 columns]"
      ],
      "text/html": "<div>\n<style scoped>\n    .dataframe tbody tr th:only-of-type {\n        vertical-align: middle;\n    }\n\n    .dataframe tbody tr th {\n        vertical-align: top;\n    }\n\n    .dataframe thead th {\n        text-align: right;\n    }\n</style>\n<table border=\"1\" class=\"dataframe\">\n  <thead>\n    <tr style=\"text-align: right;\">\n      <th></th>\n      <th>Q29_1</th>\n      <th>Q29_2</th>\n      <th>Q29_3</th>\n      <th>Q33_1</th>\n      <th>Q33_2</th>\n      <th>Q33_3</th>\n      <th>Q20_1</th>\n      <th>Q20_2</th>\n      <th>Q20_3</th>\n      <th>Q20_4</th>\n      <th>...</th>\n      <th>Q17_3</th>\n      <th>Q17_4</th>\n      <th>Q17_5</th>\n      <th>Q17_6</th>\n      <th>Q30_1</th>\n      <th>Q30_2</th>\n      <th>Q30_3</th>\n      <th>Q30_4</th>\n      <th>Q30_5</th>\n      <th>Q30_6</th>\n    </tr>\n  </thead>\n  <tbody>\n    <tr>\n      <th>0</th>\n      <td>1.0</td>\n      <td>1.0</td>\n      <td>1.0</td>\n      <td>1.0</td>\n      <td>1.0</td>\n      <td>1.0</td>\n      <td>25.0</td>\n      <td>25.0</td>\n      <td>25.0</td>\n      <td>25.0</td>\n      <td>...</td>\n      <td>1.0</td>\n      <td>1.0</td>\n      <td>NaN</td>\n      <td>NaN</td>\n      <td>1.0</td>\n      <td>1.0</td>\n      <td>1.0</td>\n      <td>1.0</td>\n      <td>NaN</td>\n      <td>NaN</td>\n    </tr>\n    <tr>\n      <th>1</th>\n      <td>2.0</td>\n      <td>2.0</td>\n      <td>2.0</td>\n      <td>3.0</td>\n      <td>4.0</td>\n      <td>3.0</td>\n      <td>16.0</td>\n      <td>20.0</td>\n      <td>16.0</td>\n      <td>16.0</td>\n      <td>...</td>\n      <td>3.0</td>\n      <td>2.0</td>\n      <td>3.0</td>\n      <td>2.0</td>\n      <td>2.0</td>\n      <td>2.0</td>\n      <td>2.0</td>\n      <td>2.0</td>\n      <td>2.0</td>\n      <td>2.0</td>\n    </tr>\n    <tr>\n      <th>2</th>\n      <td>4.0</td>\n      <td>6.0</td>\n      <td>6.0</td>\n      <td>5.0</td>\n      <td>5.0</td>\n      <td>5.0</td>\n      <td>16.0</td>\n      <td>23.0</td>\n      <td>14.0</td>\n      <td>15.0</td>\n      <td>...</td>\n      <td>4.0</td>\n      <td>4.0</td>\n      <td>3.0</td>\n      <td>3.0</td>\n      <td>4.0</td>\n      <td>4.0</td>\n      <td>4.0</td>\n      <td>4.0</td>\n      <td>4.0</td>\n      <td>3.0</td>\n    </tr>\n    <tr>\n      <th>3</th>\n      <td>2.0</td>\n      <td>3.0</td>\n      <td>3.0</td>\n      <td>2.0</td>\n      <td>3.0</td>\n      <td>1.0</td>\n      <td>17.0</td>\n      <td>20.0</td>\n      <td>16.0</td>\n      <td>17.0</td>\n      <td>...</td>\n      <td>3.0</td>\n      <td>3.0</td>\n      <td>4.0</td>\n      <td>3.0</td>\n      <td>1.0</td>\n      <td>1.0</td>\n      <td>1.0</td>\n      <td>1.0</td>\n      <td>4.0</td>\n      <td>1.0</td>\n    </tr>\n    <tr>\n      <th>4</th>\n      <td>1.0</td>\n      <td>1.0</td>\n      <td>1.0</td>\n      <td>1.0</td>\n      <td>1.0</td>\n      <td>1.0</td>\n      <td>25.0</td>\n      <td>25.0</td>\n      <td>25.0</td>\n      <td>25.0</td>\n      <td>...</td>\n      <td>1.0</td>\n      <td>1.0</td>\n      <td>NaN</td>\n      <td>NaN</td>\n      <td>1.0</td>\n      <td>1.0</td>\n      <td>1.0</td>\n      <td>1.0</td>\n      <td>NaN</td>\n      <td>NaN</td>\n    </tr>\n    <tr>\n      <th>...</th>\n      <td>...</td>\n      <td>...</td>\n      <td>...</td>\n      <td>...</td>\n      <td>...</td>\n      <td>...</td>\n      <td>...</td>\n      <td>...</td>\n      <td>...</td>\n      <td>...</td>\n      <td>...</td>\n      <td>...</td>\n      <td>...</td>\n      <td>...</td>\n      <td>...</td>\n      <td>...</td>\n      <td>...</td>\n      <td>...</td>\n      <td>...</td>\n      <td>...</td>\n      <td>...</td>\n    </tr>\n    <tr>\n      <th>70</th>\n      <td>1.0</td>\n      <td>2.0</td>\n      <td>2.0</td>\n      <td>2.0</td>\n      <td>2.0</td>\n      <td>2.0</td>\n      <td>25.0</td>\n      <td>25.0</td>\n      <td>25.0</td>\n      <td>25.0</td>\n      <td>...</td>\n      <td>2.0</td>\n      <td>1.0</td>\n      <td>NaN</td>\n      <td>NaN</td>\n      <td>2.0</td>\n      <td>2.0</td>\n      <td>2.0</td>\n      <td>2.0</td>\n      <td>NaN</td>\n      <td>NaN</td>\n    </tr>\n    <tr>\n      <th>71</th>\n      <td>2.0</td>\n      <td>3.0</td>\n      <td>3.0</td>\n      <td>1.0</td>\n      <td>6.0</td>\n      <td>1.0</td>\n      <td>35.0</td>\n      <td>20.0</td>\n      <td>5.0</td>\n      <td>40.0</td>\n      <td>...</td>\n      <td>7.0</td>\n      <td>1.0</td>\n      <td>NaN</td>\n      <td>NaN</td>\n      <td>1.0</td>\n      <td>1.0</td>\n      <td>1.0</td>\n      <td>1.0</td>\n      <td>NaN</td>\n      <td>NaN</td>\n    </tr>\n    <tr>\n      <th>72</th>\n      <td>2.0</td>\n      <td>2.0</td>\n      <td>2.0</td>\n      <td>2.0</td>\n      <td>2.0</td>\n      <td>2.0</td>\n      <td>95.0</td>\n      <td>100.0</td>\n      <td>90.0</td>\n      <td>95.0</td>\n      <td>...</td>\n      <td>2.0</td>\n      <td>1.0</td>\n      <td>2.0</td>\n      <td>1.0</td>\n      <td>1.0</td>\n      <td>1.0</td>\n      <td>1.0</td>\n      <td>1.0</td>\n      <td>1.0</td>\n      <td>1.0</td>\n    </tr>\n    <tr>\n      <th>73</th>\n      <td>2.0</td>\n      <td>2.0</td>\n      <td>7.0</td>\n      <td>7.0</td>\n      <td>7.0</td>\n      <td>1.0</td>\n      <td>10.0</td>\n      <td>40.0</td>\n      <td>5.0</td>\n      <td>15.0</td>\n      <td>...</td>\n      <td>7.0</td>\n      <td>4.0</td>\n      <td>5.0</td>\n      <td>3.0</td>\n      <td>7.0</td>\n      <td>3.0</td>\n      <td>7.0</td>\n      <td>7.0</td>\n      <td>7.0</td>\n      <td>7.0</td>\n    </tr>\n    <tr>\n      <th>74</th>\n      <td>1.0</td>\n      <td>1.0</td>\n      <td>1.0</td>\n      <td>1.0</td>\n      <td>1.0</td>\n      <td>1.0</td>\n      <td>17.0</td>\n      <td>18.0</td>\n      <td>17.0</td>\n      <td>17.0</td>\n      <td>...</td>\n      <td>1.0</td>\n      <td>1.0</td>\n      <td>4.0</td>\n      <td>1.0</td>\n      <td>1.0</td>\n      <td>1.0</td>\n      <td>1.0</td>\n      <td>1.0</td>\n      <td>3.0</td>\n      <td>1.0</td>\n    </tr>\n  </tbody>\n</table>\n<p>75 rows × 36 columns</p>\n</div>"
     },
     "metadata": {},
     "execution_count": 9
    }
   ],
   "source": [
    "cleaned.drop('Student Name', axis = 1)"
   ]
  },
  {
   "cell_type": "code",
   "execution_count": 10,
   "metadata": {},
   "outputs": [
    {
     "output_type": "execute_result",
     "data": {
      "text/plain": [
       "Index(['Student Name', 'Q29_1', 'Q29_2', 'Q29_3', 'Q33_1', 'Q33_2', 'Q33_3',\n",
       "       'Q20_1', 'Q20_2', 'Q20_3', 'Q20_4', 'Q20_5', 'Q20_6', 'Q15_1', 'Q15_2',\n",
       "       'Q15_3', 'Q15_4', 'Q15_5', 'Q15_6', 'Q16_1.1', 'Q16_2.1', 'Q16_3.1',\n",
       "       'Q16_4.1', 'Q16_5', 'Q16_6.1', 'Q17_1', 'Q17_2', 'Q17_3', 'Q17_4',\n",
       "       'Q17_5', 'Q17_6', 'Q30_1', 'Q30_2', 'Q30_3', 'Q30_4', 'Q30_5', 'Q30_6'],\n",
       "      dtype='object')"
      ]
     },
     "metadata": {},
     "execution_count": 10
    }
   ],
   "source": [
    "cleaned.columns"
   ]
  },
  {
   "cell_type": "code",
   "execution_count": 11,
   "metadata": {},
   "outputs": [
    {
     "output_type": "execute_result",
     "data": {
      "text/plain": [
       "   Student Name  TeamNumber  TeammateNumber     StartDate       EndDate  \\\n",
       "0             A           1               1  5/6/21 11:27  5/7/21 21:31   \n",
       "1             B           1               2  5/5/21 13:22  5/7/21 19:25   \n",
       "2             C           1               3  5/7/21 14:37  5/7/21 15:04   \n",
       "3             D           1               4  5/5/21 22:23  5/5/21 22:28   \n",
       "4             E           2               1  5/5/21 10:04  5/5/21 10:18   \n",
       "..          ...         ...             ...           ...           ...   \n",
       "70           BX          21               2  5/5/21 12:24  5/5/21 12:41   \n",
       "71           BZ          21               4  5/5/21 10:38  5/5/21 11:22   \n",
       "72           CA          22               1  5/6/21 10:47  5/6/21 10:53   \n",
       "73           CD          22               3  5/5/21 18:32  5/5/21 18:48   \n",
       "74           CC          22               4  5/5/21 10:22  5/5/21 10:43   \n",
       "\n",
       "   Status       IPAddress Progress Duration (in seconds) Finished  ... Q17_3  \\\n",
       "0       0   98.248.146.50      100                122647        1  ...     1   \n",
       "1       0  35.129.104.235      100                194529        1  ...     1   \n",
       "2       0   172.58.95.104      100                  1650        1  ...     1   \n",
       "3       0   136.152.143.2      100                   342        1  ...     1   \n",
       "4       0    68.96.86.135      100                   845        1  ...     1   \n",
       "..    ...             ...      ...                   ...      ...  ...   ...   \n",
       "70      0    73.202.74.66      100                  1053        1  ...     4   \n",
       "71      0  184.23.167.254      100                  2639        1  ...     6   \n",
       "72      0   71.202.90.180      100                   330        1  ...     2   \n",
       "73      0  135.180.217.46      100                   950        1  ...     2   \n",
       "74      0  174.87.192.252      100                  1258        1  ...     2   \n",
       "\n",
       "   Q17_4 Q17_5 Q17_6 Q30_1 Q30_2 Q30_3 Q30_4 Q30_5 Q30_6  \n",
       "0      1   NaN   NaN     1     1     1     1   NaN   NaN  \n",
       "1      1   NaN   NaN     1     1     1     1   NaN   NaN  \n",
       "2      1   NaN   NaN     1     1     1     1   NaN   NaN  \n",
       "3      1   NaN   NaN     1     1     1     1   NaN   NaN  \n",
       "4      1   NaN   NaN     1     1     1     1   NaN   NaN  \n",
       "..   ...   ...   ...   ...   ...   ...   ...   ...   ...  \n",
       "70     2   NaN   NaN     2     1     4     1   NaN   NaN  \n",
       "71     1   NaN   NaN     1     1     6     1   NaN   NaN  \n",
       "72     2   NaN   NaN     2     2     2     2   NaN   NaN  \n",
       "73     2   NaN   NaN     1     1     1     2     2   NaN  \n",
       "74     2   NaN   NaN     2     2     3     2   NaN   NaN  \n",
       "\n",
       "[75 rows x 71 columns]"
      ],
      "text/html": "<div>\n<style scoped>\n    .dataframe tbody tr th:only-of-type {\n        vertical-align: middle;\n    }\n\n    .dataframe tbody tr th {\n        vertical-align: top;\n    }\n\n    .dataframe thead th {\n        text-align: right;\n    }\n</style>\n<table border=\"1\" class=\"dataframe\">\n  <thead>\n    <tr style=\"text-align: right;\">\n      <th></th>\n      <th>Student Name</th>\n      <th>TeamNumber</th>\n      <th>TeammateNumber</th>\n      <th>StartDate</th>\n      <th>EndDate</th>\n      <th>Status</th>\n      <th>IPAddress</th>\n      <th>Progress</th>\n      <th>Duration (in seconds)</th>\n      <th>Finished</th>\n      <th>...</th>\n      <th>Q17_3</th>\n      <th>Q17_4</th>\n      <th>Q17_5</th>\n      <th>Q17_6</th>\n      <th>Q30_1</th>\n      <th>Q30_2</th>\n      <th>Q30_3</th>\n      <th>Q30_4</th>\n      <th>Q30_5</th>\n      <th>Q30_6</th>\n    </tr>\n  </thead>\n  <tbody>\n    <tr>\n      <th>0</th>\n      <td>A</td>\n      <td>1</td>\n      <td>1</td>\n      <td>5/6/21 11:27</td>\n      <td>5/7/21 21:31</td>\n      <td>0</td>\n      <td>98.248.146.50</td>\n      <td>100</td>\n      <td>122647</td>\n      <td>1</td>\n      <td>...</td>\n      <td>1</td>\n      <td>1</td>\n      <td>NaN</td>\n      <td>NaN</td>\n      <td>1</td>\n      <td>1</td>\n      <td>1</td>\n      <td>1</td>\n      <td>NaN</td>\n      <td>NaN</td>\n    </tr>\n    <tr>\n      <th>1</th>\n      <td>B</td>\n      <td>1</td>\n      <td>2</td>\n      <td>5/5/21 13:22</td>\n      <td>5/7/21 19:25</td>\n      <td>0</td>\n      <td>35.129.104.235</td>\n      <td>100</td>\n      <td>194529</td>\n      <td>1</td>\n      <td>...</td>\n      <td>1</td>\n      <td>1</td>\n      <td>NaN</td>\n      <td>NaN</td>\n      <td>1</td>\n      <td>1</td>\n      <td>1</td>\n      <td>1</td>\n      <td>NaN</td>\n      <td>NaN</td>\n    </tr>\n    <tr>\n      <th>2</th>\n      <td>C</td>\n      <td>1</td>\n      <td>3</td>\n      <td>5/7/21 14:37</td>\n      <td>5/7/21 15:04</td>\n      <td>0</td>\n      <td>172.58.95.104</td>\n      <td>100</td>\n      <td>1650</td>\n      <td>1</td>\n      <td>...</td>\n      <td>1</td>\n      <td>1</td>\n      <td>NaN</td>\n      <td>NaN</td>\n      <td>1</td>\n      <td>1</td>\n      <td>1</td>\n      <td>1</td>\n      <td>NaN</td>\n      <td>NaN</td>\n    </tr>\n    <tr>\n      <th>3</th>\n      <td>D</td>\n      <td>1</td>\n      <td>4</td>\n      <td>5/5/21 22:23</td>\n      <td>5/5/21 22:28</td>\n      <td>0</td>\n      <td>136.152.143.2</td>\n      <td>100</td>\n      <td>342</td>\n      <td>1</td>\n      <td>...</td>\n      <td>1</td>\n      <td>1</td>\n      <td>NaN</td>\n      <td>NaN</td>\n      <td>1</td>\n      <td>1</td>\n      <td>1</td>\n      <td>1</td>\n      <td>NaN</td>\n      <td>NaN</td>\n    </tr>\n    <tr>\n      <th>4</th>\n      <td>E</td>\n      <td>2</td>\n      <td>1</td>\n      <td>5/5/21 10:04</td>\n      <td>5/5/21 10:18</td>\n      <td>0</td>\n      <td>68.96.86.135</td>\n      <td>100</td>\n      <td>845</td>\n      <td>1</td>\n      <td>...</td>\n      <td>1</td>\n      <td>1</td>\n      <td>NaN</td>\n      <td>NaN</td>\n      <td>1</td>\n      <td>1</td>\n      <td>1</td>\n      <td>1</td>\n      <td>NaN</td>\n      <td>NaN</td>\n    </tr>\n    <tr>\n      <th>...</th>\n      <td>...</td>\n      <td>...</td>\n      <td>...</td>\n      <td>...</td>\n      <td>...</td>\n      <td>...</td>\n      <td>...</td>\n      <td>...</td>\n      <td>...</td>\n      <td>...</td>\n      <td>...</td>\n      <td>...</td>\n      <td>...</td>\n      <td>...</td>\n      <td>...</td>\n      <td>...</td>\n      <td>...</td>\n      <td>...</td>\n      <td>...</td>\n      <td>...</td>\n      <td>...</td>\n    </tr>\n    <tr>\n      <th>70</th>\n      <td>BX</td>\n      <td>21</td>\n      <td>2</td>\n      <td>5/5/21 12:24</td>\n      <td>5/5/21 12:41</td>\n      <td>0</td>\n      <td>73.202.74.66</td>\n      <td>100</td>\n      <td>1053</td>\n      <td>1</td>\n      <td>...</td>\n      <td>4</td>\n      <td>2</td>\n      <td>NaN</td>\n      <td>NaN</td>\n      <td>2</td>\n      <td>1</td>\n      <td>4</td>\n      <td>1</td>\n      <td>NaN</td>\n      <td>NaN</td>\n    </tr>\n    <tr>\n      <th>71</th>\n      <td>BZ</td>\n      <td>21</td>\n      <td>4</td>\n      <td>5/5/21 10:38</td>\n      <td>5/5/21 11:22</td>\n      <td>0</td>\n      <td>184.23.167.254</td>\n      <td>100</td>\n      <td>2639</td>\n      <td>1</td>\n      <td>...</td>\n      <td>6</td>\n      <td>1</td>\n      <td>NaN</td>\n      <td>NaN</td>\n      <td>1</td>\n      <td>1</td>\n      <td>6</td>\n      <td>1</td>\n      <td>NaN</td>\n      <td>NaN</td>\n    </tr>\n    <tr>\n      <th>72</th>\n      <td>CA</td>\n      <td>22</td>\n      <td>1</td>\n      <td>5/6/21 10:47</td>\n      <td>5/6/21 10:53</td>\n      <td>0</td>\n      <td>71.202.90.180</td>\n      <td>100</td>\n      <td>330</td>\n      <td>1</td>\n      <td>...</td>\n      <td>2</td>\n      <td>2</td>\n      <td>NaN</td>\n      <td>NaN</td>\n      <td>2</td>\n      <td>2</td>\n      <td>2</td>\n      <td>2</td>\n      <td>NaN</td>\n      <td>NaN</td>\n    </tr>\n    <tr>\n      <th>73</th>\n      <td>CD</td>\n      <td>22</td>\n      <td>3</td>\n      <td>5/5/21 18:32</td>\n      <td>5/5/21 18:48</td>\n      <td>0</td>\n      <td>135.180.217.46</td>\n      <td>100</td>\n      <td>950</td>\n      <td>1</td>\n      <td>...</td>\n      <td>2</td>\n      <td>2</td>\n      <td>NaN</td>\n      <td>NaN</td>\n      <td>1</td>\n      <td>1</td>\n      <td>1</td>\n      <td>2</td>\n      <td>2</td>\n      <td>NaN</td>\n    </tr>\n    <tr>\n      <th>74</th>\n      <td>CC</td>\n      <td>22</td>\n      <td>4</td>\n      <td>5/5/21 10:22</td>\n      <td>5/5/21 10:43</td>\n      <td>0</td>\n      <td>174.87.192.252</td>\n      <td>100</td>\n      <td>1258</td>\n      <td>1</td>\n      <td>...</td>\n      <td>2</td>\n      <td>2</td>\n      <td>NaN</td>\n      <td>NaN</td>\n      <td>2</td>\n      <td>2</td>\n      <td>3</td>\n      <td>2</td>\n      <td>NaN</td>\n      <td>NaN</td>\n    </tr>\n  </tbody>\n</table>\n<p>75 rows × 71 columns</p>\n</div>"
     },
     "metadata": {},
     "execution_count": 11
    }
   ],
   "source": [
    "full_data = roster.iloc[:,3:6].merge(data)\n",
    "full_data"
   ]
  },
  {
   "cell_type": "code",
   "execution_count": 31,
   "metadata": {},
   "outputs": [],
   "source": [
    "full_data.drop(cleaned.drop('Student Name', axis = 1).columns.difference(full_data), axis=1).to_csv('textual_join.csv')"
   ]
  },
  {
   "cell_type": "code",
   "execution_count": 23,
   "metadata": {},
   "outputs": [],
   "source": [
    "full_data.to_csv('textual_join.csv')"
   ]
  },
  {
   "cell_type": "code",
   "execution_count": 18,
   "metadata": {},
   "outputs": [
    {
     "output_type": "execute_result",
     "data": {
      "text/plain": [
       "   Student Name  TeamNumber  TeammateNumber  Q29_1  Q29_2  Q29_3  Q33_1  \\\n",
       "0             A           1               1    1.0    1.0    1.0    1.0   \n",
       "1             B           1               2    1.0    1.0    1.0    1.0   \n",
       "2             C           1               3    3.0    3.0    3.0    3.0   \n",
       "3             D           1               4    1.0    1.0    1.0    1.0   \n",
       "4             E           2               1    1.0    1.0    1.0    1.0   \n",
       "..          ...         ...             ...    ...    ...    ...    ...   \n",
       "70           BX          21               2    1.0    1.0    1.0    1.0   \n",
       "71           BZ          21               4    1.0    1.0    1.0    1.0   \n",
       "72           CA          22               1    2.0    2.0    2.0    3.0   \n",
       "73           CD          22               3    2.0    2.0    2.0    2.0   \n",
       "74           CC          22               4    2.0    3.0    3.0    2.0   \n",
       "\n",
       "    Q33_2  Q33_3  Q20_1  ...  Q17_3  Q17_4  Q17_5  Q17_6  Q30_1  Q30_2  Q30_3  \\\n",
       "0     1.0    1.0   25.0  ...    1.0    1.0    NaN    NaN    1.0    1.0    1.0   \n",
       "1     1.0    1.0   25.0  ...    1.0    1.0    NaN    NaN    1.0    1.0    1.0   \n",
       "2     3.0    1.0   25.0  ...    1.0    1.0    NaN    NaN    1.0    1.0    1.0   \n",
       "3     1.0    1.0   25.0  ...    1.0    1.0    NaN    NaN    1.0    1.0    1.0   \n",
       "4     3.0    1.0   23.0  ...    1.0    1.0    NaN    NaN    1.0    1.0    1.0   \n",
       "..    ...    ...    ...  ...    ...    ...    ...    ...    ...    ...    ...   \n",
       "70    2.0    1.0   34.0  ...    4.0    2.0    NaN    NaN    2.0    1.0    4.0   \n",
       "71    2.0    1.0   40.0  ...    6.0    1.0    NaN    NaN    1.0    1.0    6.0   \n",
       "72    3.0    2.0   25.0  ...    2.0    2.0    NaN    NaN    2.0    2.0    2.0   \n",
       "73    2.0    2.0   25.0  ...    2.0    2.0    NaN    NaN    1.0    1.0    1.0   \n",
       "74    2.0    2.0   30.0  ...    2.0    2.0    NaN    NaN    2.0    2.0    3.0   \n",
       "\n",
       "    Q30_4  Q30_5  Q30_6  \n",
       "0     1.0    NaN    NaN  \n",
       "1     1.0    NaN    NaN  \n",
       "2     1.0    NaN    NaN  \n",
       "3     1.0    NaN    NaN  \n",
       "4     1.0    NaN    NaN  \n",
       "..    ...    ...    ...  \n",
       "70    1.0    NaN    NaN  \n",
       "71    1.0    NaN    NaN  \n",
       "72    2.0    NaN    NaN  \n",
       "73    2.0    2.0    NaN  \n",
       "74    2.0    NaN    NaN  \n",
       "\n",
       "[75 rows x 39 columns]"
      ],
      "text/html": "<div>\n<style scoped>\n    .dataframe tbody tr th:only-of-type {\n        vertical-align: middle;\n    }\n\n    .dataframe tbody tr th {\n        vertical-align: top;\n    }\n\n    .dataframe thead th {\n        text-align: right;\n    }\n</style>\n<table border=\"1\" class=\"dataframe\">\n  <thead>\n    <tr style=\"text-align: right;\">\n      <th></th>\n      <th>Student Name</th>\n      <th>TeamNumber</th>\n      <th>TeammateNumber</th>\n      <th>Q29_1</th>\n      <th>Q29_2</th>\n      <th>Q29_3</th>\n      <th>Q33_1</th>\n      <th>Q33_2</th>\n      <th>Q33_3</th>\n      <th>Q20_1</th>\n      <th>...</th>\n      <th>Q17_3</th>\n      <th>Q17_4</th>\n      <th>Q17_5</th>\n      <th>Q17_6</th>\n      <th>Q30_1</th>\n      <th>Q30_2</th>\n      <th>Q30_3</th>\n      <th>Q30_4</th>\n      <th>Q30_5</th>\n      <th>Q30_6</th>\n    </tr>\n  </thead>\n  <tbody>\n    <tr>\n      <th>0</th>\n      <td>A</td>\n      <td>1</td>\n      <td>1</td>\n      <td>1.0</td>\n      <td>1.0</td>\n      <td>1.0</td>\n      <td>1.0</td>\n      <td>1.0</td>\n      <td>1.0</td>\n      <td>25.0</td>\n      <td>...</td>\n      <td>1.0</td>\n      <td>1.0</td>\n      <td>NaN</td>\n      <td>NaN</td>\n      <td>1.0</td>\n      <td>1.0</td>\n      <td>1.0</td>\n      <td>1.0</td>\n      <td>NaN</td>\n      <td>NaN</td>\n    </tr>\n    <tr>\n      <th>1</th>\n      <td>B</td>\n      <td>1</td>\n      <td>2</td>\n      <td>1.0</td>\n      <td>1.0</td>\n      <td>1.0</td>\n      <td>1.0</td>\n      <td>1.0</td>\n      <td>1.0</td>\n      <td>25.0</td>\n      <td>...</td>\n      <td>1.0</td>\n      <td>1.0</td>\n      <td>NaN</td>\n      <td>NaN</td>\n      <td>1.0</td>\n      <td>1.0</td>\n      <td>1.0</td>\n      <td>1.0</td>\n      <td>NaN</td>\n      <td>NaN</td>\n    </tr>\n    <tr>\n      <th>2</th>\n      <td>C</td>\n      <td>1</td>\n      <td>3</td>\n      <td>3.0</td>\n      <td>3.0</td>\n      <td>3.0</td>\n      <td>3.0</td>\n      <td>3.0</td>\n      <td>1.0</td>\n      <td>25.0</td>\n      <td>...</td>\n      <td>1.0</td>\n      <td>1.0</td>\n      <td>NaN</td>\n      <td>NaN</td>\n      <td>1.0</td>\n      <td>1.0</td>\n      <td>1.0</td>\n      <td>1.0</td>\n      <td>NaN</td>\n      <td>NaN</td>\n    </tr>\n    <tr>\n      <th>3</th>\n      <td>D</td>\n      <td>1</td>\n      <td>4</td>\n      <td>1.0</td>\n      <td>1.0</td>\n      <td>1.0</td>\n      <td>1.0</td>\n      <td>1.0</td>\n      <td>1.0</td>\n      <td>25.0</td>\n      <td>...</td>\n      <td>1.0</td>\n      <td>1.0</td>\n      <td>NaN</td>\n      <td>NaN</td>\n      <td>1.0</td>\n      <td>1.0</td>\n      <td>1.0</td>\n      <td>1.0</td>\n      <td>NaN</td>\n      <td>NaN</td>\n    </tr>\n    <tr>\n      <th>4</th>\n      <td>E</td>\n      <td>2</td>\n      <td>1</td>\n      <td>1.0</td>\n      <td>1.0</td>\n      <td>1.0</td>\n      <td>1.0</td>\n      <td>3.0</td>\n      <td>1.0</td>\n      <td>23.0</td>\n      <td>...</td>\n      <td>1.0</td>\n      <td>1.0</td>\n      <td>NaN</td>\n      <td>NaN</td>\n      <td>1.0</td>\n      <td>1.0</td>\n      <td>1.0</td>\n      <td>1.0</td>\n      <td>NaN</td>\n      <td>NaN</td>\n    </tr>\n    <tr>\n      <th>...</th>\n      <td>...</td>\n      <td>...</td>\n      <td>...</td>\n      <td>...</td>\n      <td>...</td>\n      <td>...</td>\n      <td>...</td>\n      <td>...</td>\n      <td>...</td>\n      <td>...</td>\n      <td>...</td>\n      <td>...</td>\n      <td>...</td>\n      <td>...</td>\n      <td>...</td>\n      <td>...</td>\n      <td>...</td>\n      <td>...</td>\n      <td>...</td>\n      <td>...</td>\n      <td>...</td>\n    </tr>\n    <tr>\n      <th>70</th>\n      <td>BX</td>\n      <td>21</td>\n      <td>2</td>\n      <td>1.0</td>\n      <td>1.0</td>\n      <td>1.0</td>\n      <td>1.0</td>\n      <td>2.0</td>\n      <td>1.0</td>\n      <td>34.0</td>\n      <td>...</td>\n      <td>4.0</td>\n      <td>2.0</td>\n      <td>NaN</td>\n      <td>NaN</td>\n      <td>2.0</td>\n      <td>1.0</td>\n      <td>4.0</td>\n      <td>1.0</td>\n      <td>NaN</td>\n      <td>NaN</td>\n    </tr>\n    <tr>\n      <th>71</th>\n      <td>BZ</td>\n      <td>21</td>\n      <td>4</td>\n      <td>1.0</td>\n      <td>1.0</td>\n      <td>1.0</td>\n      <td>1.0</td>\n      <td>2.0</td>\n      <td>1.0</td>\n      <td>40.0</td>\n      <td>...</td>\n      <td>6.0</td>\n      <td>1.0</td>\n      <td>NaN</td>\n      <td>NaN</td>\n      <td>1.0</td>\n      <td>1.0</td>\n      <td>6.0</td>\n      <td>1.0</td>\n      <td>NaN</td>\n      <td>NaN</td>\n    </tr>\n    <tr>\n      <th>72</th>\n      <td>CA</td>\n      <td>22</td>\n      <td>1</td>\n      <td>2.0</td>\n      <td>2.0</td>\n      <td>2.0</td>\n      <td>3.0</td>\n      <td>3.0</td>\n      <td>2.0</td>\n      <td>25.0</td>\n      <td>...</td>\n      <td>2.0</td>\n      <td>2.0</td>\n      <td>NaN</td>\n      <td>NaN</td>\n      <td>2.0</td>\n      <td>2.0</td>\n      <td>2.0</td>\n      <td>2.0</td>\n      <td>NaN</td>\n      <td>NaN</td>\n    </tr>\n    <tr>\n      <th>73</th>\n      <td>CD</td>\n      <td>22</td>\n      <td>3</td>\n      <td>2.0</td>\n      <td>2.0</td>\n      <td>2.0</td>\n      <td>2.0</td>\n      <td>2.0</td>\n      <td>2.0</td>\n      <td>25.0</td>\n      <td>...</td>\n      <td>2.0</td>\n      <td>2.0</td>\n      <td>NaN</td>\n      <td>NaN</td>\n      <td>1.0</td>\n      <td>1.0</td>\n      <td>1.0</td>\n      <td>2.0</td>\n      <td>2.0</td>\n      <td>NaN</td>\n    </tr>\n    <tr>\n      <th>74</th>\n      <td>CC</td>\n      <td>22</td>\n      <td>4</td>\n      <td>2.0</td>\n      <td>3.0</td>\n      <td>3.0</td>\n      <td>2.0</td>\n      <td>2.0</td>\n      <td>2.0</td>\n      <td>30.0</td>\n      <td>...</td>\n      <td>2.0</td>\n      <td>2.0</td>\n      <td>NaN</td>\n      <td>NaN</td>\n      <td>2.0</td>\n      <td>2.0</td>\n      <td>3.0</td>\n      <td>2.0</td>\n      <td>NaN</td>\n      <td>NaN</td>\n    </tr>\n  </tbody>\n</table>\n<p>75 rows × 39 columns</p>\n</div>"
     },
     "metadata": {},
     "execution_count": 18
    }
   ],
   "source": [
    "numerical = roster.iloc[:,3:6].merge(cleaned)\n",
    "numerical"
   ]
  },
  {
   "cell_type": "code",
   "execution_count": 22,
   "metadata": {},
   "outputs": [
    {
     "output_type": "execute_result",
     "data": {
      "text/plain": [
       "            TeammateNumber     Q29_1     Q29_2     Q29_3     Q33_1     Q33_2  \\\n",
       "TeamNumber                                                                     \n",
       "1                 2.500000  1.500000  1.500000  1.500000  1.500000  1.500000   \n",
       "2                 2.500000  1.250000  1.000000  1.250000  1.750000  2.750000   \n",
       "3                 2.500000  1.250000  1.500000  1.250000  1.750000  1.750000   \n",
       "4                 2.500000  1.500000  1.500000  1.250000  2.000000  2.000000   \n",
       "5                 2.000000  1.000000  1.000000  1.000000  1.000000  1.666667   \n",
       "6                 2.500000  2.000000  2.750000  2.500000  2.250000  5.500000   \n",
       "7                 3.500000  2.166667  2.666667  3.500000  3.333333  3.666667   \n",
       "8                 2.500000  1.000000  1.000000  1.000000  1.000000  1.000000   \n",
       "9                 2.500000  1.666667  1.666667  1.666667  1.750000  2.250000   \n",
       "10                3.000000  1.666667  2.666667  2.333333  1.000000  1.666667   \n",
       "11                2.500000  1.500000  1.000000  1.000000  1.250000  1.250000   \n",
       "13                3.000000  2.666667  2.666667  2.333333  2.666667  2.333333   \n",
       "14                2.666667  1.000000  1.000000  1.000000  1.333333  1.333333   \n",
       "15                2.500000  3.500000  3.000000  4.500000  4.000000  4.000000   \n",
       "16                2.500000  1.750000  2.250000  4.250000  4.000000  3.750000   \n",
       "17                2.333333  1.666667  1.666667  2.000000  1.666667  2.666667   \n",
       "18                2.666667  1.666667  2.000000  1.666667  2.000000  2.000000   \n",
       "19                2.500000  1.500000  1.750000  1.250000  1.250000  2.500000   \n",
       "20                2.000000  1.333333  1.500000  1.500000  1.333333  1.333333   \n",
       "21                2.333333  1.000000  1.000000  1.000000  1.000000  2.000000   \n",
       "22                2.666667  2.000000  2.333333  2.333333  2.333333  2.333333   \n",
       "\n",
       "               Q33_3      Q20_1      Q20_2      Q20_3  ...     Q17_3  \\\n",
       "TeamNumber                                             ...             \n",
       "1           1.000000  25.000000  25.000000  25.000000  ...  1.000000   \n",
       "2           1.500000  23.000000  27.500000  24.750000  ...  1.250000   \n",
       "3           1.500000  19.250000  25.250000  27.750000  ...  1.500000   \n",
       "4           1.500000  24.125000  25.250000  23.375000  ...  1.750000   \n",
       "5           1.000000  34.333333  33.666667  32.000000  ...  1.000000   \n",
       "6           1.750000  31.000000  23.250000  10.750000  ...  5.750000   \n",
       "7           2.166667  28.500000  36.833333  26.333333  ...  3.333333   \n",
       "8           1.000000  25.000000  25.000000  25.000000  ...  1.000000   \n",
       "9           1.750000  26.000000  25.750000  21.500000  ...  2.000000   \n",
       "10          1.333333  24.333333  26.000000  25.333333  ...  1.666667   \n",
       "11          1.000000  24.500000  24.500000  22.000000  ...  1.000000   \n",
       "13          2.333333  30.000000  22.666667  24.666667  ...  1.333333   \n",
       "14          1.000000  31.777777  31.777777  36.444443  ...  1.000000   \n",
       "15          2.000000  25.000000  52.500000  22.500000  ...  3.000000   \n",
       "16          2.500000  28.750000  30.000000  18.750000  ...  4.250000   \n",
       "17          2.000000  30.000000  35.000000   0.000000  ...  5.500000   \n",
       "18          1.666667  27.500000  25.000000  32.500000  ...  2.000000   \n",
       "19          2.000000  19.250000  20.750000  28.750000  ...  1.250000   \n",
       "20          1.333333  28.766667  35.433333  35.766667  ...  1.333333   \n",
       "21          1.000000  41.333333  27.666667   3.333333  ...  4.666667   \n",
       "22          2.000000  26.666667  23.333333  26.666667  ...  2.000000   \n",
       "\n",
       "               Q17_4  Q17_5     Q17_6     Q30_1     Q30_2     Q30_3     Q30_4  \\\n",
       "TeamNumber                                                                      \n",
       "1           1.000000    NaN       NaN  1.000000  1.000000  1.000000  1.000000   \n",
       "2           1.250000    NaN       NaN  1.000000  1.250000  1.250000  1.250000   \n",
       "3           1.250000    NaN       NaN  1.500000  1.250000  1.500000  1.250000   \n",
       "4           1.000000    NaN       NaN  1.250000  1.250000  1.250000  1.500000   \n",
       "5                NaN    NaN       NaN  1.000000  1.000000  1.000000  1.000000   \n",
       "6           1.000000    NaN       NaN  1.750000  1.750000  2.500000  1.500000   \n",
       "7           2.500000    3.5  2.166667  2.666667  2.000000  2.666667  2.666667   \n",
       "8           1.000000    NaN       NaN  1.000000  1.000000  1.000000  1.000000   \n",
       "9           1.500000    NaN       NaN  1.250000  1.250000  1.250000  1.250000   \n",
       "10          1.666667    2.0  2.000000  1.666667  2.000000  1.666667  2.000000   \n",
       "11          1.000000    NaN       NaN  1.000000  1.000000  1.000000  1.000000   \n",
       "13          2.333333    1.0  1.000000  1.333333  1.333333  1.333333  1.333333   \n",
       "14          4.000000    4.0  4.000000  1.000000  1.000000  1.000000  4.000000   \n",
       "15               NaN    NaN       NaN  3.000000  2.500000  3.000000       NaN   \n",
       "16          3.250000    NaN       NaN  3.750000  3.250000  3.250000  2.750000   \n",
       "17          1.333333    NaN       NaN  1.666667  1.333333  5.500000  1.333333   \n",
       "18          2.000000    2.0  2.000000  2.000000  2.000000  2.000000  2.000000   \n",
       "19          1.250000    NaN       NaN  1.250000  1.250000  1.250000  1.250000   \n",
       "20               NaN    NaN       NaN  1.333333  1.333333  1.333333       NaN   \n",
       "21          1.666667    NaN       NaN  1.666667  1.333333  4.666667  1.333333   \n",
       "22          2.000000    NaN       NaN  1.666667  1.666667  2.000000  2.000000   \n",
       "\n",
       "            Q30_5  Q30_6  \n",
       "TeamNumber                \n",
       "1             NaN    NaN  \n",
       "2             NaN    NaN  \n",
       "3             NaN    NaN  \n",
       "4             NaN    NaN  \n",
       "5             1.0    NaN  \n",
       "6             NaN    NaN  \n",
       "7             3.5    2.5  \n",
       "8             NaN    NaN  \n",
       "9             NaN    NaN  \n",
       "10            NaN    NaN  \n",
       "11            NaN    NaN  \n",
       "13            NaN    NaN  \n",
       "14            4.0    4.0  \n",
       "15            NaN    NaN  \n",
       "16            NaN    NaN  \n",
       "17            NaN    NaN  \n",
       "18            2.0    2.0  \n",
       "19            NaN    NaN  \n",
       "20            NaN    NaN  \n",
       "21            NaN    NaN  \n",
       "22            2.0    NaN  \n",
       "\n",
       "[21 rows x 37 columns]"
      ],
      "text/html": "<div>\n<style scoped>\n    .dataframe tbody tr th:only-of-type {\n        vertical-align: middle;\n    }\n\n    .dataframe tbody tr th {\n        vertical-align: top;\n    }\n\n    .dataframe thead th {\n        text-align: right;\n    }\n</style>\n<table border=\"1\" class=\"dataframe\">\n  <thead>\n    <tr style=\"text-align: right;\">\n      <th></th>\n      <th>TeammateNumber</th>\n      <th>Q29_1</th>\n      <th>Q29_2</th>\n      <th>Q29_3</th>\n      <th>Q33_1</th>\n      <th>Q33_2</th>\n      <th>Q33_3</th>\n      <th>Q20_1</th>\n      <th>Q20_2</th>\n      <th>Q20_3</th>\n      <th>...</th>\n      <th>Q17_3</th>\n      <th>Q17_4</th>\n      <th>Q17_5</th>\n      <th>Q17_6</th>\n      <th>Q30_1</th>\n      <th>Q30_2</th>\n      <th>Q30_3</th>\n      <th>Q30_4</th>\n      <th>Q30_5</th>\n      <th>Q30_6</th>\n    </tr>\n    <tr>\n      <th>TeamNumber</th>\n      <th></th>\n      <th></th>\n      <th></th>\n      <th></th>\n      <th></th>\n      <th></th>\n      <th></th>\n      <th></th>\n      <th></th>\n      <th></th>\n      <th></th>\n      <th></th>\n      <th></th>\n      <th></th>\n      <th></th>\n      <th></th>\n      <th></th>\n      <th></th>\n      <th></th>\n      <th></th>\n      <th></th>\n    </tr>\n  </thead>\n  <tbody>\n    <tr>\n      <th>1</th>\n      <td>2.500000</td>\n      <td>1.500000</td>\n      <td>1.500000</td>\n      <td>1.500000</td>\n      <td>1.500000</td>\n      <td>1.500000</td>\n      <td>1.000000</td>\n      <td>25.000000</td>\n      <td>25.000000</td>\n      <td>25.000000</td>\n      <td>...</td>\n      <td>1.000000</td>\n      <td>1.000000</td>\n      <td>NaN</td>\n      <td>NaN</td>\n      <td>1.000000</td>\n      <td>1.000000</td>\n      <td>1.000000</td>\n      <td>1.000000</td>\n      <td>NaN</td>\n      <td>NaN</td>\n    </tr>\n    <tr>\n      <th>2</th>\n      <td>2.500000</td>\n      <td>1.250000</td>\n      <td>1.000000</td>\n      <td>1.250000</td>\n      <td>1.750000</td>\n      <td>2.750000</td>\n      <td>1.500000</td>\n      <td>23.000000</td>\n      <td>27.500000</td>\n      <td>24.750000</td>\n      <td>...</td>\n      <td>1.250000</td>\n      <td>1.250000</td>\n      <td>NaN</td>\n      <td>NaN</td>\n      <td>1.000000</td>\n      <td>1.250000</td>\n      <td>1.250000</td>\n      <td>1.250000</td>\n      <td>NaN</td>\n      <td>NaN</td>\n    </tr>\n    <tr>\n      <th>3</th>\n      <td>2.500000</td>\n      <td>1.250000</td>\n      <td>1.500000</td>\n      <td>1.250000</td>\n      <td>1.750000</td>\n      <td>1.750000</td>\n      <td>1.500000</td>\n      <td>19.250000</td>\n      <td>25.250000</td>\n      <td>27.750000</td>\n      <td>...</td>\n      <td>1.500000</td>\n      <td>1.250000</td>\n      <td>NaN</td>\n      <td>NaN</td>\n      <td>1.500000</td>\n      <td>1.250000</td>\n      <td>1.500000</td>\n      <td>1.250000</td>\n      <td>NaN</td>\n      <td>NaN</td>\n    </tr>\n    <tr>\n      <th>4</th>\n      <td>2.500000</td>\n      <td>1.500000</td>\n      <td>1.500000</td>\n      <td>1.250000</td>\n      <td>2.000000</td>\n      <td>2.000000</td>\n      <td>1.500000</td>\n      <td>24.125000</td>\n      <td>25.250000</td>\n      <td>23.375000</td>\n      <td>...</td>\n      <td>1.750000</td>\n      <td>1.000000</td>\n      <td>NaN</td>\n      <td>NaN</td>\n      <td>1.250000</td>\n      <td>1.250000</td>\n      <td>1.250000</td>\n      <td>1.500000</td>\n      <td>NaN</td>\n      <td>NaN</td>\n    </tr>\n    <tr>\n      <th>5</th>\n      <td>2.000000</td>\n      <td>1.000000</td>\n      <td>1.000000</td>\n      <td>1.000000</td>\n      <td>1.000000</td>\n      <td>1.666667</td>\n      <td>1.000000</td>\n      <td>34.333333</td>\n      <td>33.666667</td>\n      <td>32.000000</td>\n      <td>...</td>\n      <td>1.000000</td>\n      <td>NaN</td>\n      <td>NaN</td>\n      <td>NaN</td>\n      <td>1.000000</td>\n      <td>1.000000</td>\n      <td>1.000000</td>\n      <td>1.000000</td>\n      <td>1.0</td>\n      <td>NaN</td>\n    </tr>\n    <tr>\n      <th>6</th>\n      <td>2.500000</td>\n      <td>2.000000</td>\n      <td>2.750000</td>\n      <td>2.500000</td>\n      <td>2.250000</td>\n      <td>5.500000</td>\n      <td>1.750000</td>\n      <td>31.000000</td>\n      <td>23.250000</td>\n      <td>10.750000</td>\n      <td>...</td>\n      <td>5.750000</td>\n      <td>1.000000</td>\n      <td>NaN</td>\n      <td>NaN</td>\n      <td>1.750000</td>\n      <td>1.750000</td>\n      <td>2.500000</td>\n      <td>1.500000</td>\n      <td>NaN</td>\n      <td>NaN</td>\n    </tr>\n    <tr>\n      <th>7</th>\n      <td>3.500000</td>\n      <td>2.166667</td>\n      <td>2.666667</td>\n      <td>3.500000</td>\n      <td>3.333333</td>\n      <td>3.666667</td>\n      <td>2.166667</td>\n      <td>28.500000</td>\n      <td>36.833333</td>\n      <td>26.333333</td>\n      <td>...</td>\n      <td>3.333333</td>\n      <td>2.500000</td>\n      <td>3.5</td>\n      <td>2.166667</td>\n      <td>2.666667</td>\n      <td>2.000000</td>\n      <td>2.666667</td>\n      <td>2.666667</td>\n      <td>3.5</td>\n      <td>2.5</td>\n    </tr>\n    <tr>\n      <th>8</th>\n      <td>2.500000</td>\n      <td>1.000000</td>\n      <td>1.000000</td>\n      <td>1.000000</td>\n      <td>1.000000</td>\n      <td>1.000000</td>\n      <td>1.000000</td>\n      <td>25.000000</td>\n      <td>25.000000</td>\n      <td>25.000000</td>\n      <td>...</td>\n      <td>1.000000</td>\n      <td>1.000000</td>\n      <td>NaN</td>\n      <td>NaN</td>\n      <td>1.000000</td>\n      <td>1.000000</td>\n      <td>1.000000</td>\n      <td>1.000000</td>\n      <td>NaN</td>\n      <td>NaN</td>\n    </tr>\n    <tr>\n      <th>9</th>\n      <td>2.500000</td>\n      <td>1.666667</td>\n      <td>1.666667</td>\n      <td>1.666667</td>\n      <td>1.750000</td>\n      <td>2.250000</td>\n      <td>1.750000</td>\n      <td>26.000000</td>\n      <td>25.750000</td>\n      <td>21.500000</td>\n      <td>...</td>\n      <td>2.000000</td>\n      <td>1.500000</td>\n      <td>NaN</td>\n      <td>NaN</td>\n      <td>1.250000</td>\n      <td>1.250000</td>\n      <td>1.250000</td>\n      <td>1.250000</td>\n      <td>NaN</td>\n      <td>NaN</td>\n    </tr>\n    <tr>\n      <th>10</th>\n      <td>3.000000</td>\n      <td>1.666667</td>\n      <td>2.666667</td>\n      <td>2.333333</td>\n      <td>1.000000</td>\n      <td>1.666667</td>\n      <td>1.333333</td>\n      <td>24.333333</td>\n      <td>26.000000</td>\n      <td>25.333333</td>\n      <td>...</td>\n      <td>1.666667</td>\n      <td>1.666667</td>\n      <td>2.0</td>\n      <td>2.000000</td>\n      <td>1.666667</td>\n      <td>2.000000</td>\n      <td>1.666667</td>\n      <td>2.000000</td>\n      <td>NaN</td>\n      <td>NaN</td>\n    </tr>\n    <tr>\n      <th>11</th>\n      <td>2.500000</td>\n      <td>1.500000</td>\n      <td>1.000000</td>\n      <td>1.000000</td>\n      <td>1.250000</td>\n      <td>1.250000</td>\n      <td>1.000000</td>\n      <td>24.500000</td>\n      <td>24.500000</td>\n      <td>22.000000</td>\n      <td>...</td>\n      <td>1.000000</td>\n      <td>1.000000</td>\n      <td>NaN</td>\n      <td>NaN</td>\n      <td>1.000000</td>\n      <td>1.000000</td>\n      <td>1.000000</td>\n      <td>1.000000</td>\n      <td>NaN</td>\n      <td>NaN</td>\n    </tr>\n    <tr>\n      <th>13</th>\n      <td>3.000000</td>\n      <td>2.666667</td>\n      <td>2.666667</td>\n      <td>2.333333</td>\n      <td>2.666667</td>\n      <td>2.333333</td>\n      <td>2.333333</td>\n      <td>30.000000</td>\n      <td>22.666667</td>\n      <td>24.666667</td>\n      <td>...</td>\n      <td>1.333333</td>\n      <td>2.333333</td>\n      <td>1.0</td>\n      <td>1.000000</td>\n      <td>1.333333</td>\n      <td>1.333333</td>\n      <td>1.333333</td>\n      <td>1.333333</td>\n      <td>NaN</td>\n      <td>NaN</td>\n    </tr>\n    <tr>\n      <th>14</th>\n      <td>2.666667</td>\n      <td>1.000000</td>\n      <td>1.000000</td>\n      <td>1.000000</td>\n      <td>1.333333</td>\n      <td>1.333333</td>\n      <td>1.000000</td>\n      <td>31.777777</td>\n      <td>31.777777</td>\n      <td>36.444443</td>\n      <td>...</td>\n      <td>1.000000</td>\n      <td>4.000000</td>\n      <td>4.0</td>\n      <td>4.000000</td>\n      <td>1.000000</td>\n      <td>1.000000</td>\n      <td>1.000000</td>\n      <td>4.000000</td>\n      <td>4.0</td>\n      <td>4.0</td>\n    </tr>\n    <tr>\n      <th>15</th>\n      <td>2.500000</td>\n      <td>3.500000</td>\n      <td>3.000000</td>\n      <td>4.500000</td>\n      <td>4.000000</td>\n      <td>4.000000</td>\n      <td>2.000000</td>\n      <td>25.000000</td>\n      <td>52.500000</td>\n      <td>22.500000</td>\n      <td>...</td>\n      <td>3.000000</td>\n      <td>NaN</td>\n      <td>NaN</td>\n      <td>NaN</td>\n      <td>3.000000</td>\n      <td>2.500000</td>\n      <td>3.000000</td>\n      <td>NaN</td>\n      <td>NaN</td>\n      <td>NaN</td>\n    </tr>\n    <tr>\n      <th>16</th>\n      <td>2.500000</td>\n      <td>1.750000</td>\n      <td>2.250000</td>\n      <td>4.250000</td>\n      <td>4.000000</td>\n      <td>3.750000</td>\n      <td>2.500000</td>\n      <td>28.750000</td>\n      <td>30.000000</td>\n      <td>18.750000</td>\n      <td>...</td>\n      <td>4.250000</td>\n      <td>3.250000</td>\n      <td>NaN</td>\n      <td>NaN</td>\n      <td>3.750000</td>\n      <td>3.250000</td>\n      <td>3.250000</td>\n      <td>2.750000</td>\n      <td>NaN</td>\n      <td>NaN</td>\n    </tr>\n    <tr>\n      <th>17</th>\n      <td>2.333333</td>\n      <td>1.666667</td>\n      <td>1.666667</td>\n      <td>2.000000</td>\n      <td>1.666667</td>\n      <td>2.666667</td>\n      <td>2.000000</td>\n      <td>30.000000</td>\n      <td>35.000000</td>\n      <td>0.000000</td>\n      <td>...</td>\n      <td>5.500000</td>\n      <td>1.333333</td>\n      <td>NaN</td>\n      <td>NaN</td>\n      <td>1.666667</td>\n      <td>1.333333</td>\n      <td>5.500000</td>\n      <td>1.333333</td>\n      <td>NaN</td>\n      <td>NaN</td>\n    </tr>\n    <tr>\n      <th>18</th>\n      <td>2.666667</td>\n      <td>1.666667</td>\n      <td>2.000000</td>\n      <td>1.666667</td>\n      <td>2.000000</td>\n      <td>2.000000</td>\n      <td>1.666667</td>\n      <td>27.500000</td>\n      <td>25.000000</td>\n      <td>32.500000</td>\n      <td>...</td>\n      <td>2.000000</td>\n      <td>2.000000</td>\n      <td>2.0</td>\n      <td>2.000000</td>\n      <td>2.000000</td>\n      <td>2.000000</td>\n      <td>2.000000</td>\n      <td>2.000000</td>\n      <td>2.0</td>\n      <td>2.0</td>\n    </tr>\n    <tr>\n      <th>19</th>\n      <td>2.500000</td>\n      <td>1.500000</td>\n      <td>1.750000</td>\n      <td>1.250000</td>\n      <td>1.250000</td>\n      <td>2.500000</td>\n      <td>2.000000</td>\n      <td>19.250000</td>\n      <td>20.750000</td>\n      <td>28.750000</td>\n      <td>...</td>\n      <td>1.250000</td>\n      <td>1.250000</td>\n      <td>NaN</td>\n      <td>NaN</td>\n      <td>1.250000</td>\n      <td>1.250000</td>\n      <td>1.250000</td>\n      <td>1.250000</td>\n      <td>NaN</td>\n      <td>NaN</td>\n    </tr>\n    <tr>\n      <th>20</th>\n      <td>2.000000</td>\n      <td>1.333333</td>\n      <td>1.500000</td>\n      <td>1.500000</td>\n      <td>1.333333</td>\n      <td>1.333333</td>\n      <td>1.333333</td>\n      <td>28.766667</td>\n      <td>35.433333</td>\n      <td>35.766667</td>\n      <td>...</td>\n      <td>1.333333</td>\n      <td>NaN</td>\n      <td>NaN</td>\n      <td>NaN</td>\n      <td>1.333333</td>\n      <td>1.333333</td>\n      <td>1.333333</td>\n      <td>NaN</td>\n      <td>NaN</td>\n      <td>NaN</td>\n    </tr>\n    <tr>\n      <th>21</th>\n      <td>2.333333</td>\n      <td>1.000000</td>\n      <td>1.000000</td>\n      <td>1.000000</td>\n      <td>1.000000</td>\n      <td>2.000000</td>\n      <td>1.000000</td>\n      <td>41.333333</td>\n      <td>27.666667</td>\n      <td>3.333333</td>\n      <td>...</td>\n      <td>4.666667</td>\n      <td>1.666667</td>\n      <td>NaN</td>\n      <td>NaN</td>\n      <td>1.666667</td>\n      <td>1.333333</td>\n      <td>4.666667</td>\n      <td>1.333333</td>\n      <td>NaN</td>\n      <td>NaN</td>\n    </tr>\n    <tr>\n      <th>22</th>\n      <td>2.666667</td>\n      <td>2.000000</td>\n      <td>2.333333</td>\n      <td>2.333333</td>\n      <td>2.333333</td>\n      <td>2.333333</td>\n      <td>2.000000</td>\n      <td>26.666667</td>\n      <td>23.333333</td>\n      <td>26.666667</td>\n      <td>...</td>\n      <td>2.000000</td>\n      <td>2.000000</td>\n      <td>NaN</td>\n      <td>NaN</td>\n      <td>1.666667</td>\n      <td>1.666667</td>\n      <td>2.000000</td>\n      <td>2.000000</td>\n      <td>2.0</td>\n      <td>NaN</td>\n    </tr>\n  </tbody>\n</table>\n<p>21 rows × 37 columns</p>\n</div>"
     },
     "metadata": {},
     "execution_count": 22
    }
   ],
   "source": [
    "numerical.groupby('TeamNumber').mean()"
   ]
  }
 ]
}